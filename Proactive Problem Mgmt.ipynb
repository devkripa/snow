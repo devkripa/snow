{
 "cells": [
  {
   "cell_type": "code",
   "execution_count": 38,
   "metadata": {},
   "outputs": [],
   "source": [
    "import numpy as np\n",
    "import matplotlib.pyplot as plt\n",
    "import pandas as pd\n",
    "# import os\n",
    "# import codecs"
   ]
  },
  {
   "cell_type": "code",
   "execution_count": 39,
   "metadata": {},
   "outputs": [],
   "source": [
    "target_url = (\"/Users/devkrroy/Dev/Projects/snow/data/export3.xlsx\")\n",
    "# target_url = (\"C:/Dev/Projects/snow/data/export3.xlsx\")"
   ]
  },
  {
   "cell_type": "code",
   "execution_count": 77,
   "metadata": {},
   "outputs": [],
   "source": [
    "df = pd.read_excel(target_url)"
   ]
  },
  {
   "cell_type": "code",
   "execution_count": 78,
   "metadata": {},
   "outputs": [
    {
     "name": "stdout",
     "output_type": "stream",
     "text": [
      "<class 'pandas.core.frame.DataFrame'>\n",
      "RangeIndex: 95373 entries, 0 to 95372\n",
      "Data columns (total 28 columns):\n",
      "Number                95373 non-null object\n",
      "Assignment_group      95373 non-null object\n",
      "Priority              95373 non-null object\n",
      "State                 95373 non-null object\n",
      "Category              93947 non-null object\n",
      "Subcategory           61328 non-null object\n",
      "Severity              95373 non-null object\n",
      "Closure_CI            94492 non-null object\n",
      "Location              95079 non-null object\n",
      "Close_code            94559 non-null object\n",
      "Configuration_item    95373 non-null object\n",
      "Child_Incidents       95373 non-null int64\n",
      "Contact_type          95373 non-null object\n",
      "Duration              95373 non-null int64\n",
      "Impact                95373 non-null object\n",
      "Short_description     95373 non-null object\n",
      "Created               95373 non-null datetime64[ns]\n",
      "dates                 95373 non-null datetime64[ns]\n",
      "date                  95373 non-null datetime64[ns]\n",
      "day                   95373 non-null object\n",
      "month                 95373 non-null object\n",
      "dom                   95373 non-null int64\n",
      "week                  95373 non-null int64\n",
      "week2                 95373 non-null int64\n",
      "cluster               95373 non-null int64\n",
      "cluster1              95373 non-null int64\n",
      "cluster_name1         95373 non-null object\n",
      "cluster_name          95373 non-null object\n",
      "dtypes: datetime64[ns](3), int64(7), object(18)\n",
      "memory usage: 20.4+ MB\n",
      "['Number' 'Assignment_group' 'Priority' 'State' 'Category' 'Subcategory'\n",
      " 'Severity' 'Closure_CI' 'Location' 'Close_code' 'Configuration_item'\n",
      " 'Child_Incidents' 'Contact_type' 'Duration' 'Impact' 'Short_description'\n",
      " 'Created' 'dates' 'date' 'day' 'month' 'dom' 'week' 'week2' 'cluster'\n",
      " 'cluster1' 'cluster_name1' 'cluster_name']\n"
     ]
    }
   ],
   "source": [
    "df.info()\n",
    "print(df.columns.values)"
   ]
  },
  {
   "cell_type": "code",
   "execution_count": 79,
   "metadata": {},
   "outputs": [
    {
     "data": {
      "text/html": [
       "<div>\n",
       "<style scoped>\n",
       "    .dataframe tbody tr th:only-of-type {\n",
       "        vertical-align: middle;\n",
       "    }\n",
       "\n",
       "    .dataframe tbody tr th {\n",
       "        vertical-align: top;\n",
       "    }\n",
       "\n",
       "    .dataframe thead th {\n",
       "        text-align: right;\n",
       "    }\n",
       "</style>\n",
       "<table border=\"1\" class=\"dataframe\">\n",
       "  <thead>\n",
       "    <tr style=\"text-align: right;\">\n",
       "      <th></th>\n",
       "      <th>Number</th>\n",
       "      <th>Assignment_group</th>\n",
       "      <th>Priority</th>\n",
       "      <th>State</th>\n",
       "      <th>Category</th>\n",
       "      <th>Subcategory</th>\n",
       "      <th>Severity</th>\n",
       "      <th>Closure_CI</th>\n",
       "      <th>Location</th>\n",
       "      <th>Close_code</th>\n",
       "      <th>...</th>\n",
       "      <th>date</th>\n",
       "      <th>day</th>\n",
       "      <th>month</th>\n",
       "      <th>dom</th>\n",
       "      <th>week</th>\n",
       "      <th>week2</th>\n",
       "      <th>cluster</th>\n",
       "      <th>cluster1</th>\n",
       "      <th>cluster_name1</th>\n",
       "      <th>cluster_name</th>\n",
       "    </tr>\n",
       "  </thead>\n",
       "  <tbody>\n",
       "    <tr>\n",
       "      <th>0</th>\n",
       "      <td>INC0406604</td>\n",
       "      <td>DHE-Command Center</td>\n",
       "      <td>4 - Low</td>\n",
       "      <td>Closed</td>\n",
       "      <td>Server</td>\n",
       "      <td>Windows</td>\n",
       "      <td>3 - Low</td>\n",
       "      <td>phx-vapp-689</td>\n",
       "      <td>Corporate Office - Phoenix 1</td>\n",
       "      <td>Resolved by Event</td>\n",
       "      <td>...</td>\n",
       "      <td>2018-09-01</td>\n",
       "      <td>Saturday</td>\n",
       "      <td>September</td>\n",
       "      <td>1</td>\n",
       "      <td>1</td>\n",
       "      <td>1</td>\n",
       "      <td>1</td>\n",
       "      <td>16</td>\n",
       "      <td>volume space</td>\n",
       "      <td>threshold set disk</td>\n",
       "    </tr>\n",
       "    <tr>\n",
       "      <th>1</th>\n",
       "      <td>INC0406605</td>\n",
       "      <td>DH-Enterprise IT Service Cntr</td>\n",
       "      <td>4 - Low</td>\n",
       "      <td>Closed</td>\n",
       "      <td>Security</td>\n",
       "      <td>NaN</td>\n",
       "      <td>3 - Low</td>\n",
       "      <td>Network Account Lock</td>\n",
       "      <td>St Mary's Medical Center San Francisco (SMMC-SF)</td>\n",
       "      <td>Account Unlock</td>\n",
       "      <td>...</td>\n",
       "      <td>2018-09-01</td>\n",
       "      <td>Saturday</td>\n",
       "      <td>September</td>\n",
       "      <td>1</td>\n",
       "      <td>1</td>\n",
       "      <td>1</td>\n",
       "      <td>48</td>\n",
       "      <td>47</td>\n",
       "      <td>login</td>\n",
       "      <td>login</td>\n",
       "    </tr>\n",
       "    <tr>\n",
       "      <th>2</th>\n",
       "      <td>INC0406606</td>\n",
       "      <td>DHE-RCM-AppOp-Applications</td>\n",
       "      <td>3 - Moderate</td>\n",
       "      <td>Closed</td>\n",
       "      <td>Application</td>\n",
       "      <td>Revenue Cycle</td>\n",
       "      <td>3 - Low</td>\n",
       "      <td>Soarian DM</td>\n",
       "      <td>Corporate Office - Phoenix 1</td>\n",
       "      <td>Resolved by Event</td>\n",
       "      <td>...</td>\n",
       "      <td>2018-09-01</td>\n",
       "      <td>Saturday</td>\n",
       "      <td>September</td>\n",
       "      <td>1</td>\n",
       "      <td>1</td>\n",
       "      <td>1</td>\n",
       "      <td>44</td>\n",
       "      <td>7</td>\n",
       "      <td>login</td>\n",
       "      <td>cerner</td>\n",
       "    </tr>\n",
       "    <tr>\n",
       "      <th>3</th>\n",
       "      <td>INC0406607</td>\n",
       "      <td>DH-Enterprise IT Service Cntr</td>\n",
       "      <td>4 - Low</td>\n",
       "      <td>Closed</td>\n",
       "      <td>Security</td>\n",
       "      <td>NaN</td>\n",
       "      <td>3 - Low</td>\n",
       "      <td>Network Account Issue</td>\n",
       "      <td>Bruceville Terrace</td>\n",
       "      <td>Password Reset</td>\n",
       "      <td>...</td>\n",
       "      <td>2018-09-01</td>\n",
       "      <td>Saturday</td>\n",
       "      <td>September</td>\n",
       "      <td>1</td>\n",
       "      <td>1</td>\n",
       "      <td>1</td>\n",
       "      <td>4</td>\n",
       "      <td>4</td>\n",
       "      <td>login</td>\n",
       "      <td>login</td>\n",
       "    </tr>\n",
       "    <tr>\n",
       "      <th>4</th>\n",
       "      <td>INC0406608</td>\n",
       "      <td>DH-Enterprise IT Service Cntr</td>\n",
       "      <td>4 - Low</td>\n",
       "      <td>Closed</td>\n",
       "      <td>Application</td>\n",
       "      <td>Clinical</td>\n",
       "      <td>3 - Low</td>\n",
       "      <td>Clairvia</td>\n",
       "      <td>St Mary's Medical Center San Francisco (SMMC-SF)</td>\n",
       "      <td>Password Reset</td>\n",
       "      <td>...</td>\n",
       "      <td>2018-09-01</td>\n",
       "      <td>Saturday</td>\n",
       "      <td>September</td>\n",
       "      <td>1</td>\n",
       "      <td>1</td>\n",
       "      <td>1</td>\n",
       "      <td>18</td>\n",
       "      <td>36</td>\n",
       "      <td>login</td>\n",
       "      <td>login</td>\n",
       "    </tr>\n",
       "  </tbody>\n",
       "</table>\n",
       "<p>5 rows × 28 columns</p>\n",
       "</div>"
      ],
      "text/plain": [
       "       Number               Assignment_group      Priority   State  \\\n",
       "0  INC0406604             DHE-Command Center       4 - Low  Closed   \n",
       "1  INC0406605  DH-Enterprise IT Service Cntr       4 - Low  Closed   \n",
       "2  INC0406606     DHE-RCM-AppOp-Applications  3 - Moderate  Closed   \n",
       "3  INC0406607  DH-Enterprise IT Service Cntr       4 - Low  Closed   \n",
       "4  INC0406608  DH-Enterprise IT Service Cntr       4 - Low  Closed   \n",
       "\n",
       "      Category    Subcategory Severity             Closure_CI  \\\n",
       "0       Server        Windows  3 - Low           phx-vapp-689   \n",
       "1     Security            NaN  3 - Low   Network Account Lock   \n",
       "2  Application  Revenue Cycle  3 - Low             Soarian DM   \n",
       "3     Security            NaN  3 - Low  Network Account Issue   \n",
       "4  Application       Clinical  3 - Low               Clairvia   \n",
       "\n",
       "                                           Location         Close_code  \\\n",
       "0                      Corporate Office - Phoenix 1  Resolved by Event   \n",
       "1  St Mary's Medical Center San Francisco (SMMC-SF)     Account Unlock   \n",
       "2                      Corporate Office - Phoenix 1  Resolved by Event   \n",
       "3                                Bruceville Terrace     Password Reset   \n",
       "4  St Mary's Medical Center San Francisco (SMMC-SF)     Password Reset   \n",
       "\n",
       "          ...               date       day      month  dom week week2 cluster  \\\n",
       "0         ...         2018-09-01  Saturday  September    1    1     1       1   \n",
       "1         ...         2018-09-01  Saturday  September    1    1     1      48   \n",
       "2         ...         2018-09-01  Saturday  September    1    1     1      44   \n",
       "3         ...         2018-09-01  Saturday  September    1    1     1       4   \n",
       "4         ...         2018-09-01  Saturday  September    1    1     1      18   \n",
       "\n",
       "  cluster1 cluster_name1        cluster_name  \n",
       "0       16  volume space  threshold set disk  \n",
       "1       47         login               login  \n",
       "2        7         login              cerner  \n",
       "3        4         login               login  \n",
       "4       36         login               login  \n",
       "\n",
       "[5 rows x 28 columns]"
      ]
     },
     "execution_count": 79,
     "metadata": {},
     "output_type": "execute_result"
    }
   ],
   "source": [
    "df.head()"
   ]
  },
  {
   "cell_type": "code",
   "execution_count": 80,
   "metadata": {},
   "outputs": [
    {
     "data": {
      "text/plain": [
       "<matplotlib.axes._subplots.AxesSubplot at 0x1302001d0>"
      ]
     },
     "execution_count": 80,
     "metadata": {},
     "output_type": "execute_result"
    },
    {
     "data": {
      "image/png": "[encoded data removed]",
      "text/plain": [
       "<Figure size 432x288 with 1 Axes>"
      ]
     },
     "metadata": {
      "needs_background": "light"
     },
     "output_type": "display_data"
    }
   ],
   "source": [
    "# plot few charts to understand the data\n",
    "\n",
    "# Category by count - this should help understand \"Number of Clusters\" we should have\n",
    "\n",
    "top_categories_df = df['Category'].value_counts()[:20]\n",
    "top_categories_df.plot.bar(x = 'Category', y = 'Counts')\n"
   ]
  },
  {
   "cell_type": "code",
   "execution_count": 81,
   "metadata": {},
   "outputs": [
    {
     "data": {
      "text/plain": [
       "<matplotlib.axes._subplots.AxesSubplot at 0x139c1a588>"
      ]
     },
     "execution_count": 81,
     "metadata": {},
     "output_type": "execute_result"
    },
    {
     "data": {
      "image/png": "[encoded data removed]",
      "text/plain": [
       "<Figure size 432x288 with 1 Axes>"
      ]
     },
     "metadata": {
      "needs_background": "light"
     },
     "output_type": "display_data"
    }
   ],
   "source": [
    "# Close_code by count \n",
    "\n",
    "top_close_code_df = df['Close_code'].value_counts()[:20]\n",
    "top_close_code_df.plot.bar(x = 'Close_code', y = 'Counts')"
   ]
  },
  {
   "cell_type": "code",
   "execution_count": 82,
   "metadata": {},
   "outputs": [],
   "source": [
    "# based on the 2 charts above we will go with 30 - 50 clusters of data"
   ]
  },
  {
   "cell_type": "code",
   "execution_count": 83,
   "metadata": {},
   "outputs": [],
   "source": [
    "# identify the cols needed\n",
    "cols = ['Number', 'Assignment_group', 'Priority', 'State', 'Category',\n",
    "       'Subcategory', 'Severity', 'Closure_CI', 'Location', 'Close_code',\n",
    "       'Configuration_item', 'Child_Incidents', 'Contact_type',\n",
    "       'Duration', 'Impact', 'Short_description', 'Created']\n",
    "df = df[cols]"
   ]
  },
  {
   "cell_type": "code",
   "execution_count": 84,
   "metadata": {},
   "outputs": [
    {
     "name": "stdout",
     "output_type": "stream",
     "text": [
      "Shape of the modified dataframe  (95373, 17)\n"
     ]
    }
   ],
   "source": [
    "# use less rows for analysis, remove later\n",
    "# df = df.head(10000)\n",
    "print('Shape of the modified dataframe ', df.shape)"
   ]
  },
  {
   "cell_type": "code",
   "execution_count": 85,
   "metadata": {},
   "outputs": [
    {
     "data": {
      "text/html": [
       "<div>\n",
       "<style scoped>\n",
       "    .dataframe tbody tr th:only-of-type {\n",
       "        vertical-align: middle;\n",
       "    }\n",
       "\n",
       "    .dataframe tbody tr th {\n",
       "        vertical-align: top;\n",
       "    }\n",
       "\n",
       "    .dataframe thead th {\n",
       "        text-align: right;\n",
       "    }\n",
       "</style>\n",
       "<table border=\"1\" class=\"dataframe\">\n",
       "  <thead>\n",
       "    <tr style=\"text-align: right;\">\n",
       "      <th></th>\n",
       "      <th>Number</th>\n",
       "      <th>Assignment_group</th>\n",
       "      <th>Priority</th>\n",
       "      <th>State</th>\n",
       "      <th>Category</th>\n",
       "      <th>Subcategory</th>\n",
       "      <th>Severity</th>\n",
       "      <th>Closure_CI</th>\n",
       "      <th>Location</th>\n",
       "      <th>Close_code</th>\n",
       "      <th>Configuration_item</th>\n",
       "      <th>Child_Incidents</th>\n",
       "      <th>Contact_type</th>\n",
       "      <th>Duration</th>\n",
       "      <th>Impact</th>\n",
       "      <th>Short_description</th>\n",
       "      <th>Created</th>\n",
       "    </tr>\n",
       "  </thead>\n",
       "  <tbody>\n",
       "    <tr>\n",
       "      <th>78573</th>\n",
       "      <td>INC0502480</td>\n",
       "      <td>DH-SC-EUS NLA NrthrdgRoscoe</td>\n",
       "      <td>4 - Low</td>\n",
       "      <td>Closed</td>\n",
       "      <td>Security</td>\n",
       "      <td>NaN</td>\n",
       "      <td>3 - Low</td>\n",
       "      <td>McAfee AV, ASW or EPO</td>\n",
       "      <td>Corporate Office - Phoenix GAT</td>\n",
       "      <td>Security</td>\n",
       "      <td>McAfee AV, ASW or EPO</td>\n",
       "      <td>0</td>\n",
       "      <td>Phone</td>\n",
       "      <td>98375</td>\n",
       "      <td>No Impact</td>\n",
       "      <td>\"Notification Text: AMCORE out of Date &lt;Workstation&gt;</td>\n",
       "      <td>2018-10-22 13:34:52</td>\n",
       "    </tr>\n",
       "    <tr>\n",
       "      <th>90835</th>\n",
       "      <td>INC0515090</td>\n",
       "      <td>DH-SW-EUS StRoseSanMartin</td>\n",
       "      <td>4 - Low</td>\n",
       "      <td>Closed</td>\n",
       "      <td>Security</td>\n",
       "      <td>NaN</td>\n",
       "      <td>3 - Low</td>\n",
       "      <td>McAfee Agent</td>\n",
       "      <td>Corporate Office - Phoenix GAT</td>\n",
       "      <td>Application</td>\n",
       "      <td>McAfee AV, ASW or EPO</td>\n",
       "      <td>0</td>\n",
       "      <td>Phone</td>\n",
       "      <td>680806</td>\n",
       "      <td>No Impact</td>\n",
       "      <td>\"Notification Text: AMCORE out of Date &lt;Workstation&gt;</td>\n",
       "      <td>2018-10-29 13:55:41</td>\n",
       "    </tr>\n",
       "    <tr>\n",
       "      <th>90786</th>\n",
       "      <td>INC0515038</td>\n",
       "      <td>DH-SC-EUS Marian</td>\n",
       "      <td>4 - Low</td>\n",
       "      <td>Closed</td>\n",
       "      <td>Security</td>\n",
       "      <td>NaN</td>\n",
       "      <td>3 - Low</td>\n",
       "      <td>McAfee Agent</td>\n",
       "      <td>Corporate Office - Phoenix GAT</td>\n",
       "      <td>Middleware</td>\n",
       "      <td>McAfee AV, ASW or EPO</td>\n",
       "      <td>0</td>\n",
       "      <td>Phone</td>\n",
       "      <td>69495</td>\n",
       "      <td>No Impact</td>\n",
       "      <td>\"Notification Text: AMCORE out of Date &lt;Workstation&gt;</td>\n",
       "      <td>2018-10-29 13:34:39</td>\n",
       "    </tr>\n",
       "    <tr>\n",
       "      <th>80023</th>\n",
       "      <td>INC0503977</td>\n",
       "      <td>DH-ClinApps HIM</td>\n",
       "      <td>4 - Low</td>\n",
       "      <td>Closed</td>\n",
       "      <td>Application</td>\n",
       "      <td>NaN</td>\n",
       "      <td>3 - Low</td>\n",
       "      <td>Cerner CPDI Kofax</td>\n",
       "      <td>Woodland Healthcare Davis</td>\n",
       "      <td>Application</td>\n",
       "      <td>Cerner Millennium Provider Doc 2015.01.19</td>\n",
       "      <td>0</td>\n",
       "      <td>Self-service</td>\n",
       "      <td>6784</td>\n",
       "      <td>Down for One IT Customer</td>\n",
       "      <td>Cerner CDI Work Queue Monitor - Not Receiving Faxes</td>\n",
       "      <td>2018-10-23 09:19:22</td>\n",
       "    </tr>\n",
       "    <tr>\n",
       "      <th>80137</th>\n",
       "      <td>INC0504096</td>\n",
       "      <td>DH-ClinApps HIM</td>\n",
       "      <td>4 - Low</td>\n",
       "      <td>Closed</td>\n",
       "      <td>Application</td>\n",
       "      <td>NaN</td>\n",
       "      <td>3 - Low</td>\n",
       "      <td>Cerner CPDI Kofax</td>\n",
       "      <td>Dignity Health Medical Group - Stockton</td>\n",
       "      <td>Application</td>\n",
       "      <td>Cerner Millennium HIM 2015.01.19</td>\n",
       "      <td>0</td>\n",
       "      <td>Self-service</td>\n",
       "      <td>4816</td>\n",
       "      <td>Down for One IT Customer</td>\n",
       "      <td>Cerner CDI Work Queue Monitor - Not Receiving Faxes</td>\n",
       "      <td>2018-10-23 09:51:46</td>\n",
       "    </tr>\n",
       "  </tbody>\n",
       "</table>\n",
       "</div>"
      ],
      "text/plain": [
       "           Number             Assignment_group Priority   State     Category  \\\n",
       "78573  INC0502480  DH-SC-EUS NLA NrthrdgRoscoe  4 - Low  Closed     Security   \n",
       "90835  INC0515090    DH-SW-EUS StRoseSanMartin  4 - Low  Closed     Security   \n",
       "90786  INC0515038             DH-SC-EUS Marian  4 - Low  Closed     Security   \n",
       "80023  INC0503977              DH-ClinApps HIM  4 - Low  Closed  Application   \n",
       "80137  INC0504096              DH-ClinApps HIM  4 - Low  Closed  Application   \n",
       "\n",
       "      Subcategory Severity             Closure_CI  \\\n",
       "78573         NaN  3 - Low  McAfee AV, ASW or EPO   \n",
       "90835         NaN  3 - Low           McAfee Agent   \n",
       "90786         NaN  3 - Low           McAfee Agent   \n",
       "80023         NaN  3 - Low      Cerner CPDI Kofax   \n",
       "80137         NaN  3 - Low      Cerner CPDI Kofax   \n",
       "\n",
       "                                      Location   Close_code  \\\n",
       "78573           Corporate Office - Phoenix GAT     Security   \n",
       "90835           Corporate Office - Phoenix GAT  Application   \n",
       "90786           Corporate Office - Phoenix GAT   Middleware   \n",
       "80023                Woodland Healthcare Davis  Application   \n",
       "80137  Dignity Health Medical Group - Stockton  Application   \n",
       "\n",
       "                              Configuration_item  Child_Incidents  \\\n",
       "78573                      McAfee AV, ASW or EPO                0   \n",
       "90835                      McAfee AV, ASW or EPO                0   \n",
       "90786                      McAfee AV, ASW or EPO                0   \n",
       "80023  Cerner Millennium Provider Doc 2015.01.19                0   \n",
       "80137           Cerner Millennium HIM 2015.01.19                0   \n",
       "\n",
       "       Contact_type  Duration                    Impact  \\\n",
       "78573         Phone     98375                 No Impact   \n",
       "90835         Phone    680806                 No Impact   \n",
       "90786         Phone     69495                 No Impact   \n",
       "80023  Self-service      6784  Down for One IT Customer   \n",
       "80137  Self-service      4816  Down for One IT Customer   \n",
       "\n",
       "                                           Short_description  \\\n",
       "78573   \"Notification Text: AMCORE out of Date <Workstation>   \n",
       "90835   \"Notification Text: AMCORE out of Date <Workstation>   \n",
       "90786   \"Notification Text: AMCORE out of Date <Workstation>   \n",
       "80023   Cerner CDI Work Queue Monitor - Not Receiving Faxes    \n",
       "80137   Cerner CDI Work Queue Monitor - Not Receiving Faxes    \n",
       "\n",
       "                  Created  \n",
       "78573 2018-10-22 13:34:52  \n",
       "90835 2018-10-29 13:55:41  \n",
       "90786 2018-10-29 13:34:39  \n",
       "80023 2018-10-23 09:19:22  \n",
       "80137 2018-10-23 09:51:46  "
      ]
     },
     "execution_count": 85,
     "metadata": {},
     "output_type": "execute_result"
    }
   ],
   "source": [
    "# check for duplicate data\n",
    "df[df['Short_description'].duplicated(keep = False)].sort_values('Short_description').head(5)"
   ]
  },
  {
   "cell_type": "code",
   "execution_count": 86,
   "metadata": {},
   "outputs": [
    {
     "name": "stdout",
     "output_type": "stream",
     "text": [
      "Shape of the modified dataframe  (61556, 17)\n"
     ]
    }
   ],
   "source": [
    "# remove duplicates, we will still retain 1 row for analysis\n",
    "df = df.drop_duplicates('Short_description')\n",
    "print('Shape of the modified dataframe ', df.shape)"
   ]
  },
  {
   "cell_type": "code",
   "execution_count": 87,
   "metadata": {},
   "outputs": [
    {
     "data": {
      "text/plain": [
       "Application          15482\n",
       "End User Services    14859\n",
       "Security             11327\n",
       "Network               6114\n",
       "Server                5805\n",
       "HelpDesk              2779\n",
       "Telecom               1267\n",
       "EAI Interface         1186\n",
       "Human Resources       1022\n",
       "EAI Component          294\n",
       "Storage                117\n",
       "Facility                99\n",
       "Database                 2\n",
       "Name: Category, dtype: int64"
      ]
     },
     "execution_count": 87,
     "metadata": {},
     "output_type": "execute_result"
    }
   ],
   "source": [
    "#Filter out some categories with instances < 50 for now , remove this filter in future\n",
    "# df = df.groupby(\"Category\").filter(lambda x: len(x) > 50)\n",
    "# df = df.reset_index(drop = True)\n",
    "df.Category.value_counts()"
   ]
  },
  {
   "cell_type": "code",
   "execution_count": 88,
   "metadata": {},
   "outputs": [],
   "source": [
    "# nltk text preprocessing\n",
    "import re\n",
    "import nltk\n",
    "from nltk.corpus import stopwords, wordnet\n",
    "from nltk.stem import WordNetLemmatizer\n",
    "from nltk.tokenize import word_tokenize\n",
    "\n",
    "import contractions\n",
    "\n",
    "# from nltk.tag import pos_tag\n",
    "\n",
    "stop = stopwords.words('english')\n",
    "lemmer = WordNetLemmatizer()\n",
    "\n",
    "# extend stop words\n",
    "# words like issue, problem, resolve, fix - do not add more sense to the description and are common\n",
    "new_stopwords = ['chw','edu','phx','vapp', 'issue', 'issues', 'problem', 'problems', \n",
    "                 'resolve', 'resolved', 'fix', 'fixed', 'st', 'johns', 'regional', 'medical', 'center',\n",
    "                'sjrmc', 'joseph', 'hospital', 'sjhmc', 'mercy', 'general', 'san juan', 'msjmc',\n",
    "                'mgh', ]\n",
    "stop.extend(new_stopwords)\n",
    "\n",
    "# add punctuations to the stop words\n",
    "punc = ['.', ',', '\"', \"'\", '?', '!', ':', ';', '(', ')', '[', ']', '{', '}',\"%\"]\n",
    "stop.extend(punc)\n",
    "\n",
    "# remove 'not' from the stop words - not defines the issue\n",
    "# stop.remove('not')\n",
    "        \n",
    "# to be tried - apply text collocations\n",
    "\n",
    "def pre_process(text):\n",
    "        \n",
    "    # try to capture the IPs    \n",
    "    ip_pattern = re.compile(r'((-?)([A-Za-z0-9]{1,}[-.]{1,1}){2,6}([A-Za-z0-9]*))')  \n",
    "    ip = text.apply(lambda x: ' '.join(word for word in re.split('[\\': (),]', x) if ip_pattern.match(word)))\n",
    "    \n",
    "    text = text.apply(lambda x: ' '.join(word.lower() for word in x.split()))  # lower case\n",
    "       \n",
    "    text = text.apply(lambda x: ' '.join(contractions.fix(word) for word in x.split()))  # replace contractions\n",
    "    \n",
    "    # 'not able' is a common way to report issue, replace 'not able' with 'unable'\n",
    "    # also not gets removed as part of stop words\n",
    "    text = text.str.replace('not able', 'unable')\n",
    "    text = text.str.replace('user id', 'user')\n",
    "    text = text.str.replace('username', 'user')\n",
    "    text = text.str.replace('st johns regional medical center', 'sjrmc')\n",
    "    text = text.str.replace('st joseph hospital medical center', 'sjhmc')\n",
    "    text = text.str.replace('mercy general hospital', 'mgh')\n",
    "    text = text.str.replace('mercy san juan hospital', 'msjmc')\n",
    "    text = text.str.replace('mercy hospital bakersfield', 'mhb')\n",
    "    text = text.str.replace('mercy medical center redding', 'mmcr')\n",
    "    text = text.str.replace('workstation on wheels', 'wow')\n",
    "    \n",
    "        \n",
    "    # there are lot of places in the description where II (2 caps I) has been used as separator\n",
    "    # this gets converted to small letter (ii) with high occurance, drop these letters\n",
    "    text = text.str.replace(' ii ', ' ')  # replace with spaces\n",
    "    \n",
    "    # '/' or '\\' are usually entered to separate words, word tokenize doesn't tokenize on these\n",
    "    # replace them with spaces\n",
    "    text = text.str.replace('[\\/-]', ' ')  # replace with spaces\n",
    "    \n",
    "    # \"'d\": changes to \" would\", 'disk changes to wouldisk - unwanted contraction\n",
    "    # replace wouldisk with disk\n",
    "    text = text.str.replace('wouldisk', 'disk')  # replace with disk    \n",
    "    \n",
    "    # consider complete words that contain alpha\n",
    "    alpha = re.compile(r'([A-Za-z/\\-]*$)')\n",
    "    text = text.apply(lambda x: ' '.join(word for word in word_tokenize(x) if alpha.match(word)))\n",
    "    \n",
    "#     text = text.str.replace('[^A-Za-z ]', ' ')  # remove non words\n",
    "    \n",
    "    text = text.apply(lambda x: ' '.join([word for word in word_tokenize(x) if len(word) > 1 ]))  #length >1\n",
    "    \n",
    "    text = text.apply(lambda x: ' '.join([word for word in word_tokenize(x) if word not in set(stop)]))   #stop\n",
    "    text = text.apply(lambda x: ' '.join([lemmer.lemmatize(word, pos = 'v') for word in word_tokenize(x)]))       #lemma\n",
    "\n",
    "    return (text, ip)\n",
    "    \n",
    "normalized = pre_process(df['Short_description'])"
   ]
  },
  {
   "cell_type": "code",
   "execution_count": 89,
   "metadata": {},
   "outputs": [],
   "source": [
    "pd.options.display.max_colwidth = 100"
   ]
  },
  {
   "cell_type": "code",
   "execution_count": 90,
   "metadata": {},
   "outputs": [
    {
     "name": "stdout",
     "output_type": "stream",
     "text": [
      "0              utilization threshold set disk file system percent full\n",
      "1                                       account lock unable login user\n",
      "2                                                                     \n",
      "3                                               network password reset\n",
      "4                clairvia unable login password reset hduv do jmoyrong\n",
      "5                       network account lock unable login user jyongco\n",
      "6                          error message appear open clpdayend qrgxmsg\n",
      "7                           wow display leave monitor upside device id\n",
      "8                                        cpu utilization threshold set\n",
      "9                                            receive clpdayend qclxerr\n",
      "10                                       cpu utilization threshold set\n",
      "11                                       cpu utilization threshold set\n",
      "12           medseries tier host ipaddress listen port charge multiple\n",
      "13                                          master dsc syslog critical\n",
      "14                                                 dsc syslog critical\n",
      "15                                        app process process call run\n",
      "16                                        app process process call run\n",
      "17                                                 meditech alert high\n",
      "18    volume space nearly full warn event nas volume space nearly full\n",
      "19                                                 dsc syslog critical\n",
      "Name: Short_description, dtype: object\n"
     ]
    }
   ],
   "source": [
    "print(normalized[0][:20])"
   ]
  },
  {
   "cell_type": "code",
   "execution_count": 91,
   "metadata": {
    "scrolled": true
   },
   "outputs": [
    {
     "name": "stdout",
     "output_type": "stream",
     "text": [
      "0                phx-vapp-689.chw.edu\n",
      "1                                    \n",
      "2                        PHX-VAPP-408\n",
      "3                                    \n",
      "4                                    \n",
      "5                                    \n",
      "6                                    \n",
      "7                       10.203.212.24\n",
      "8                phx-vapp-842.chw.edu\n",
      "9                                    \n",
      "10               phx-vapp-237.chw.edu\n",
      "11               phx-vapp-238.chw.edu\n",
      "12                      -10.248.84.17\n",
      "13    CHW-as1-2central-dsc 10.1.5.100\n",
      "14     CHW-as2-2central-dsc 10.1.5.10\n",
      "15                phx-app-040.chw.edu\n",
      "16                phx-app-034.chw.edu\n",
      "17                                   \n",
      "18                    phxdc23c-nas-07\n",
      "19         CHW-as1-2west-dsc 10.1.5.6\n",
      "Name: Short_description, dtype: object\n"
     ]
    }
   ],
   "source": [
    "print(normalized[1][:20])"
   ]
  },
  {
   "cell_type": "code",
   "execution_count": 92,
   "metadata": {},
   "outputs": [
    {
     "name": "stdout",
     "output_type": "stream",
     "text": [
      "453\n"
     ]
    }
   ],
   "source": [
    "print(normalized[0].apply(lambda x: x == '').sum())"
   ]
  },
  {
   "cell_type": "code",
   "execution_count": 93,
   "metadata": {},
   "outputs": [],
   "source": [
    "# there are 459 cells with no terms, this isn't significant in total of 95373, lets live with it for now"
   ]
  },
  {
   "cell_type": "code",
   "execution_count": 94,
   "metadata": {},
   "outputs": [
    {
     "data": {
      "text/plain": [
       "0                 [utilization, threshold, set, disk, file, system, percent, full]\n",
       "1                                             [account, lock, unable, login, user]\n",
       "2                                                                               []\n",
       "3                                                       [network, password, reset]\n",
       "4                   [clairvia, unable, login, password, reset, hduv, do, jmoyrong]\n",
       "5                           [network, account, lock, unable, login, user, jyongco]\n",
       "6                               [error, message, appear, open, clpdayend, qrgxmsg]\n",
       "7                               [wow, display, leave, monitor, upside, device, id]\n",
       "8                                               [cpu, utilization, threshold, set]\n",
       "9                                                    [receive, clpdayend, qclxerr]\n",
       "10                                              [cpu, utilization, threshold, set]\n",
       "11                                              [cpu, utilization, threshold, set]\n",
       "12              [medseries, tier, host, ipaddress, listen, port, charge, multiple]\n",
       "13                                                 [master, dsc, syslog, critical]\n",
       "14                                                         [dsc, syslog, critical]\n",
       "15                                              [app, process, process, call, run]\n",
       "16                                              [app, process, process, call, run]\n",
       "17                                                         [meditech, alert, high]\n",
       "18    [volume, space, nearly, full, warn, event, nas, volume, space, nearly, full]\n",
       "19                                                         [dsc, syslog, critical]\n",
       "Name: Short_description, dtype: object"
      ]
     },
     "execution_count": 94,
     "metadata": {},
     "output_type": "execute_result"
    }
   ],
   "source": [
    "# test results using word_tokenize\n",
    "from nltk.tokenize import word_tokenize\n",
    "\n",
    "normalized[0][:20].apply(word_tokenize)"
   ]
  },
  {
   "cell_type": "code",
   "execution_count": 95,
   "metadata": {},
   "outputs": [],
   "source": [
    "# add the processed text and extracted ips to dataframe\n",
    "df['Terms'] = normalized[0]\n",
    "df['IPs'] = normalized[1]"
   ]
  },
  {
   "cell_type": "code",
   "execution_count": 96,
   "metadata": {},
   "outputs": [],
   "source": [
    "# drop the rows where 'Terms' column is spaces\n",
    "df = df[df['Terms'] != '']"
   ]
  },
  {
   "cell_type": "code",
   "execution_count": 97,
   "metadata": {},
   "outputs": [],
   "source": [
    "# this cell is just for testing regex\n",
    "# import re\n",
    "\n",
    "# print(re.split('[:\\' ]', '\\'phx-vapp-689.chw.edu\\': Utilization is \\'85.2\\'. Threshold is set to \\'Disk/File System/{C}/percent full >= 85\\''))\n",
    "\n",
    "# ip_pattern = re.compile(r'((-?)([A-Za-z0-9]{1,}[-.]{1,1}){2,6}([A-Za-z0-9]*))') \n",
    "\n",
    "# print(ip_pattern.match('phx-vapp-238.chw.edu'))\n",
    "# print(ip_pattern.match('CPU Utilization is '))\n",
    "# print(ip_pattern.match('85.2'))\n",
    "# print(ip_pattern.match('10.250.243.2'))\n",
    "# print(ip_pattern.match('-10.248.84.17'))\n",
    "# print(ip_pattern.match('192.168.2.85)'))\n",
    "# print(ip_pattern.match('10.1.5.100'))\n",
    "\n",
    "\n",
    "# test = pd.DataFrame({'strings': ['...', 'a(b$c']})\n",
    "# test.strings.str.replace('[^a-zA-Z ]', ' ')\n",
    "\n",
    "# print('This is a test in spite.'.split())\n",
    "# print(lemmer.lemmatize('acknowledgement', pos='v'))\n",
    "\n",
    "# alpha = re.compile(r'([A-Za-z/\\-]*$)')\n",
    "\n",
    "# dk = pd.DataFrame({'sentences': ['This is a very MS4 ABCD901 \\'abc.xyz.109.01\\' good site. I will recommend it to others.', \n",
    "#                                  'Can you please give me a call at 9983938428. have issues with the listings.', \n",
    "#                                  'WOW / Workstation on Wheels || WOW / Workstation on Wheels Issue',\n",
    "#                                  '\\'phx-vapp-689.chw.edu\\': Utilization is \\'85.2\\'. Threshold is set to \\'Disk/File System/{C}/percent full >= 85',\n",
    "#                                  'Clairvia/not able to login//password reset hduv done jmoyrong/issue resolved',\n",
    "#                                  'God is Great/I won a lottery.',\n",
    "#                                  'CIM_2_BAYDSC19_MSFCHGX:MSF19CHGX:MedSeries 4:TIER-2 P05:DESTINATION_REALTIME:No host at ipAddress -10.248.84.17, listening on port -21529. :Charges - Multiple t',\n",
    "#                                  'Account Lock ||  Not able to login || user id-adeperalta001',\n",
    "#                                  'good work! keep it up, couldn\\'t able to login, couldn\\'t connect']})\n",
    "\n",
    "# dk['tokenized_sents']  = dk['sentences'].apply(lambda x: ' '.join(word for word in re.split('[\\': (),]', x) if ip_pattern.match(word)))\n",
    "\n",
    "\n",
    "\n",
    "# dk['tokenized_sents'] = dk['sentences'].apply(lambda x: ' '.join(word.lower() for word in x.split()))  # lower case\n",
    "# dk['tokenized_sents'] = dk['tokenized_sents'].apply(lambda x: ' '.join(contractions.fix(word) for word in x.split()))  # replace contractions\n",
    "\n",
    "# dk['tokenized_sents'] = dk['tokenized_sents'].str.replace('not able', 'unable')\n",
    "# dk['tokenized_sents'] = dk['tokenized_sents'].str.replace('[\\/-]', ' ')  # replace them with spaces\n",
    "\n",
    "# dk['tokenized_sents'] = dk['tokenized_sents'].apply(lambda x: ' '.join(word for word in word_tokenize(x) if alpha.match(word)))\n",
    "# dk['tokenized_sents'] = dk['tokenized_sents'].apply(lambda x: ' '.join([lemmer.lemmatize(word, pos='v') for word in word_tokenize(x)]))       #lemma\n",
    "# dk['tokenized_sents'] = dk['tokenized_sents'].apply(lambda x: ' '.join([word for word in word_tokenize(x) if word not in set(stop)]))   #stop\n",
    "\n",
    "# print(dk['tokenized_sents'])"
   ]
  },
  {
   "cell_type": "code",
   "execution_count": 98,
   "metadata": {},
   "outputs": [
    {
     "data": {
      "text/plain": [
       "\"\\ndef tokenize_only(text):\\n    # tokenize by  word \\n    tokens = [word.lower() for word in nltk.word_tokenize(text) ]\\n    filtered_tokens = []\\n    # filter out any tokens not containing letters (e.g., numeric tokens, raw punctuation)\\n    for token in tokens:\\n        if re.search('[a-zA-Z]', token):\\n            filtered_tokens.append(token)\\n    return filtered_tokens\\n\""
      ]
     },
     "execution_count": 98,
     "metadata": {},
     "output_type": "execute_result"
    }
   ],
   "source": [
    "# define a tokenizer which returns the set of tokens in the text that it is passed\n",
    "\"\"\"\n",
    "def tokenize_only(text):\n",
    "    # tokenize by  word \n",
    "    tokens = [word.lower() for word in nltk.word_tokenize(text) ]\n",
    "    filtered_tokens = []\n",
    "    # filter out any tokens not containing letters (e.g., numeric tokens, raw punctuation)\n",
    "    for token in tokens:\n",
    "        if re.search('[a-zA-Z]', token):\n",
    "            filtered_tokens.append(token)\n",
    "    return filtered_tokens\n",
    "\"\"\"    "
   ]
  },
  {
   "cell_type": "code",
   "execution_count": 99,
   "metadata": {},
   "outputs": [
    {
     "data": {
      "text/plain": [
       "0              utilization threshold set disk file system percent full\n",
       "1                                       account lock unable login user\n",
       "3                                               network password reset\n",
       "4                clairvia unable login password reset hduv do jmoyrong\n",
       "5                       network account lock unable login user jyongco\n",
       "6                          error message appear open clpdayend qrgxmsg\n",
       "7                           wow display leave monitor upside device id\n",
       "8                                        cpu utilization threshold set\n",
       "9                                            receive clpdayend qclxerr\n",
       "10                                       cpu utilization threshold set\n",
       "11                                       cpu utilization threshold set\n",
       "12           medseries tier host ipaddress listen port charge multiple\n",
       "13                                          master dsc syslog critical\n",
       "14                                                 dsc syslog critical\n",
       "15                                        app process process call run\n",
       "16                                        app process process call run\n",
       "17                                                 meditech alert high\n",
       "18    volume space nearly full warn event nas volume space nearly full\n",
       "19                                                 dsc syslog critical\n",
       "20                                   app cpu utilization threshold set\n",
       "Name: Terms, dtype: object"
      ]
     },
     "execution_count": 99,
     "metadata": {},
     "output_type": "execute_result"
    }
   ],
   "source": [
    "# view the terms column just before feature extraction\n",
    "df['Terms'][0:20]"
   ]
  },
  {
   "cell_type": "code",
   "execution_count": 100,
   "metadata": {},
   "outputs": [
    {
     "name": "stderr",
     "output_type": "stream",
     "text": [
      "/Library/Frameworks/Python.framework/Versions/3.7/lib/python3.7/site-packages/sklearn/feature_extraction/text.py:300: UserWarning: Your stop_words may be inconsistent with your preprocessing. Tokenizing the stop words generated tokens [\"'d\", \"'ll\", \"'re\", \"'s\", \"'ve\", '``', 'could', 'might', 'must', \"n't\", 'need', 'sha', 'wo', 'would'] not in stop_words.\n",
      "  'stop_words.' % sorted(inconsistent))\n"
     ]
    },
    {
     "name": "stdout",
     "output_type": "stream",
     "text": [
      "CPU times: user 6.7 s, sys: 12 ms, total: 6.72 s\n",
      "Wall time: 6.71 s\n",
      "(61103, 5000)\n"
     ]
    }
   ],
   "source": [
    "from sklearn import feature_extraction\n",
    "from sklearn.feature_extraction.text import TfidfVectorizer\n",
    "\n",
    "# tfidf_vectorizer = TfidfVectorizer(max_features=10000, max_df=0.8, min_df=0.0005,                                  \n",
    "#                                   use_idf=True, tokenizer=word_tokenize, ngram_range=(1,3))\n",
    "\n",
    "vectorizer = TfidfVectorizer(max_features = 5000,                                  \n",
    "                                  use_idf = True, tokenizer = word_tokenize, stop_words = stop, ngram_range = (1,1))\n",
    "\n",
    "%time X = vectorizer.fit_transform(df['Terms'].values)\n",
    "\n",
    "print(X.shape)"
   ]
  },
  {
   "cell_type": "code",
   "execution_count": 101,
   "metadata": {},
   "outputs": [],
   "source": [
    "features = vectorizer.get_feature_names()\n",
    "freq = sum(X).toarray()[0]\n",
    "df_features = pd.DataFrame(freq, index = features, columns = ['frequency'])\n",
    "\n",
    "# sort the terms in descending order of frequency\n",
    "df_features.sort_values(by = ['frequency'], inplace = True, ascending = False)"
   ]
  },
  {
   "cell_type": "code",
   "execution_count": 102,
   "metadata": {},
   "outputs": [
    {
     "name": "stdout",
     "output_type": "stream",
     "text": [
      "               frequency\n",
      "user         3505.756325\n",
      "unable       3497.266605\n",
      "login        3222.885170\n",
      "network      2781.368476\n",
      "account      2566.143416\n",
      "id           1828.005611\n",
      "password     1764.509203\n",
      "reset        1491.678718\n",
      "need         1336.985842\n",
      "lock         1323.847055\n",
      "device       1113.418961\n",
      "dev          1059.358861\n",
      "status        971.464661\n",
      "mdf           966.776428\n",
      "cerner        948.892802\n",
      "printer       934.862394\n",
      "error         918.601921\n",
      "job           883.681519\n",
      "main          858.470997\n",
      "access        857.809281\n",
      "set           819.029158\n",
      "able          784.946744\n",
      "work          768.073353\n",
      "threshold     765.326679\n",
      "file          762.192973\n",
      "utilization   758.661513\n",
      "unlock        753.896434\n",
      "computer      748.870424\n",
      "hduv          730.774407\n",
      "desktop       720.154659\n",
      "smart         702.979859\n",
      "system        694.590361\n",
      "duo           688.738384\n",
      "xl            661.514505\n",
      "rt            659.481828\n",
      "full          623.065514\n",
      "complete      621.326742\n",
      "disk          604.839643\n",
      "launch        591.139560\n",
      "print         588.606929\n",
      "percent       581.376331\n",
      "active        581.208019\n",
      "exit          567.135748\n",
      "encryption    503.316015\n",
      "phone         500.419374\n",
      "link          473.521185\n",
      "port          469.125751\n",
      "call          460.886136\n",
      "sjhmc         460.291203\n",
      "miss          454.657611\n"
     ]
    }
   ],
   "source": [
    "# print the top 50 occurances - help decide the possible clusters\n",
    "print(df_features[0:50])"
   ]
  },
  {
   "cell_type": "code",
   "execution_count": 103,
   "metadata": {},
   "outputs": [
    {
     "name": "stdout",
     "output_type": "stream",
     "text": [
      "               frequency\n",
      "vis             0.739950\n",
      "vadim           0.738858\n",
      "taskscheduler   0.734558\n",
      "omt             0.733873\n",
      "transcriptio    0.727780\n",
      "temporarily     0.725249\n",
      "teleradiology   0.722217\n",
      "institution     0.717826\n",
      "stfrancis       0.717826\n",
      "huggins         0.717821\n",
      "intent          0.706421\n",
      "warm            0.704889\n",
      "various         0.704654\n",
      "ipa             0.695992\n",
      "ttype           0.641260\n",
      "synonym         0.604346\n",
      "nvnlv           0.589064\n",
      "nvbd            0.588388\n",
      "httpd           0.555160\n",
      "httpserver      0.528688\n"
     ]
    }
   ],
   "source": [
    "# print the last 20 occurances - terms with low frequency\n",
    "# how low is the frequency? do we have correct number of features\n",
    "print(df_features.tail(20))"
   ]
  },
  {
   "cell_type": "code",
   "execution_count": 104,
   "metadata": {},
   "outputs": [
    {
     "name": "stdout",
     "output_type": "stream",
     "text": [
      "['agree', 'agreement', 'ahu', 'ahwatukee', 'aid', 'aio', 'air', 'airpark', 'airplane', 'akirsl', 'akirsw', 'al', 'alaris', 'alarm', 'alcove', 'alert', 'alfa', 'aliacnsmmm', 'alias', 'aliborio', 'align', 'alignment', 'alive', 'allen', 'allergies', 'allergy', 'allocate', 'allocation', 'allow', 'allscript', 'allscripts', 'alm', 'almost', 'almut', 'alot', 'already', 'also', 'alt', 'alternate', 'always', 'amanda', 'amanpal', 'amatula', 'amb', 'ambassador', 'amber', 'ambulatory', 'amcore', 'america', 'amicas', 'amonroycruz', 'amy', 'ana', 'analysis', 'analyst', 'analytics', 'analyzer', 'anc', 'ancillary', 'anderson', 'andrea', 'andrew', 'android', 'anesthesia', 'angel', 'angela', 'angelscamp', 'anisha', 'ann', 'anna', 'anne', 'annual', 'another', 'answer', 'anthony', 'antivirus', 'anuh', 'anyconnect', 'anymore', 'anyone', 'anything', 'anywhere', 'aobannon', 'ap', 'apache', 'apanameno', 'apart', 'apc', 'apex', 'aphuynh', 'api', 'app', 'appbar', 'appdev', 'appear', 'appl', 'applauncher', 'apple', 'appli', 'appliance']\n"
     ]
    }
   ],
   "source": [
    "print(features[100:200])"
   ]
  },
  {
   "cell_type": "code",
   "execution_count": 105,
   "metadata": {},
   "outputs": [],
   "source": [
    "# using elbow method to find optimum number of clusters - start with 30 clusters\n",
    "\n",
    "# from sklearn.cluster import KMeans\n",
    "# wcss = []\n",
    "\n",
    "# for i in range(30, 51):\n",
    "#     km = KMeans(n_clusters = i, init = 'k-means++', max_iter = 100, n_init = 10, random_state = 1)\n",
    "#     km.fit(X)\n",
    "#     wcss.append(km.inertia_)\n",
    " \n",
    "# optimal_clusters = np.argmin(wcss) + 2 # As argmin return the index of minimum loss.\n",
    "\n",
    "# plt.plot(range(30, 51), wcss)\n",
    "# plt.title('The Elbow Method')\n",
    "# plt.xlabel('Number of Clusters')\n",
    "# plt.ylabel('WCSS')\n",
    "# plt.show()\n",
    "\n",
    "# print (\"The optimal number of clusters obtained is - \", optimal_clusters)\n",
    "# print (\"The loss for optimal cluster is - \", min(wcss))"
   ]
  },
  {
   "cell_type": "code",
   "execution_count": 106,
   "metadata": {},
   "outputs": [
    {
     "name": "stdout",
     "output_type": "stream",
     "text": [
      "CPU times: user 1.12 s, sys: 5.79 ms, total: 1.13 s\n",
      "Wall time: 1.13 s\n"
     ]
    },
    {
     "data": {
      "text/plain": [
       "MiniBatchKMeans(batch_size=100, compute_labels=True, init='k-means++',\n",
       "        init_size=None, max_iter=300, max_no_improvement=10, n_clusters=50,\n",
       "        n_init=3, random_state=1, reassignment_ratio=0.01, tol=0.0,\n",
       "        verbose=0)"
      ]
     },
     "execution_count": 106,
     "metadata": {},
     "output_type": "execute_result"
    }
   ],
   "source": [
    "num_clusters = 50\n",
    "\n",
    "# KMeans\n",
    "# from sklearn.cluster import KMeans\n",
    "\n",
    "# kmeans = KMeans(n_clusters = num_clusters, init = 'k-means++', max_iter = 300, n_init = 10, random_state = 1)\n",
    "# %time y = kmeans.fit_predict(X)\n",
    "# %time kmeans.fit(X)\n",
    "\n",
    "# Mini Batch KMeans\n",
    "from sklearn.cluster import MiniBatchKMeans\n",
    "\n",
    "kmeans = MiniBatchKMeans(n_clusters = num_clusters, init = 'k-means++', \n",
    "                         max_iter = 300, n_init = 3, random_state = 1)\n",
    "%time kmeans.fit(X)\n",
    "\n",
    "# clusters = kmeans.labels_.tolist()"
   ]
  },
  {
   "cell_type": "code",
   "execution_count": 107,
   "metadata": {},
   "outputs": [],
   "source": [
    "# df['Cluster'] = pd.DataFrame(y, columns = ['Cluster'])\n",
    "df['Cluster'] = kmeans.labels_"
   ]
  },
  {
   "cell_type": "code",
   "execution_count": 108,
   "metadata": {},
   "outputs": [
    {
     "name": "stdout",
     "output_type": "stream",
     "text": [
      "                                                      Terms  Cluster\n",
      "0   utilization threshold set disk file system percent full        5\n",
      "1                            account lock unable login user       28\n",
      "3                                    network password reset       18\n",
      "4     clairvia unable login password reset hduv do jmoyrong       37\n",
      "5            network account lock unable login user jyongco       28\n",
      "6               error message appear open clpdayend qrgxmsg        9\n",
      "7                wow display leave monitor upside device id       10\n",
      "8                             cpu utilization threshold set        0\n",
      "9                                 receive clpdayend qclxerr        9\n",
      "10                            cpu utilization threshold set        0\n"
     ]
    }
   ],
   "source": [
    "print(df.loc[:10,['Terms', 'Cluster']])"
   ]
  },
  {
   "cell_type": "code",
   "execution_count": 109,
   "metadata": {},
   "outputs": [],
   "source": [
    "# Save cluster in pickle file for future use\n",
    "# import pickle\n",
    "\n",
    "# pickle.dump(km, open('pkl/km_1.pkl', 'wb'))"
   ]
  },
  {
   "cell_type": "code",
   "execution_count": 110,
   "metadata": {},
   "outputs": [
    {
     "name": "stdout",
     "output_type": "stream",
     "text": [
      "0 : cpu, utilization, threshold, set, error, pm, viis, medbg, vprt, app, medps, vora, vint, medarc, sql, medfs, vsql, memory, use, pcn, script, syngo, svuserapp, sdm, utl, sm, vctx, pvuserapp, csm, ppps, vaio, physical, dvd, icbr, vfax, dvidmi, pidm, ptr, pacs, startup, repair, dep, request, windows, play, receiveack, node, tcpip, condition, desktop\n",
      "1 : duo, need, user, enroll, activation, enrollment, nfuse, enrol, unable, register, link, login, activate, send, phone, number, want, code, account, call, access, application, guide, name, assistance, ph, require, mobile, step, new, reactivate, add, device, get, customer, verification, reactivation, setup, email, two, help, passcode, security, use, id, remote, change, logon, registration, able\n",
      "2 : encryption, login, unable, user, mcafee, drive, laptop, password, credentials, id, generic, ask, desktop, recovery, boot, able, sync, dev, stick, time, perform, log, use, one, screen, error, past, endpoint, mde, default, unknown, logon, network, try, pass, device, macfee, ticket, userid, accept, please, call, need, guide, devid, macafee, provide, new, uid, kb\n",
      "3 : cerner, powerchart, unable, ecisa, careb, patient, user, login, scan, firstnet, order, unreachable, pc, cross, need, chart, id, surginet, account, introduction, open, print, physician, show, name, pop, emergency, report, work, charge, miss, track, information, application, patients, device, get, list, schedule, error, interface, access, icon, launch, dhmf, discharge, power, freeze, computer, view\n",
      "4 : account, network, user, activate, login, unlock, need, unable, time, first, password, disable, enable, customer, want, activation, forget, help, expire, name, buddy, know, reset, claim, get, id, log, disablement, hduv, ask, emergency, patient, change, dev, impact, call, careb, enup, areddyavula, provide, nt, acknowledge, merge, security, question, try, guide, setup, nup, error\n",
      "5 : percent, disk, full, system, utilization, threshold, set, file, app, sql, vctx, vprt, viis, vaio, vsql, vrep, csm, mapper, dev, var, vol, aio, vint, pacs, wouldh, fss, systemvg, iis, rmanvg, lvbackup, wouldsc, partdb, medq, int, lvvar, vsyb, cbord, log, opt, backup, syslogvg, vfile, pvidm, xlarchve, emu, utl, phm, db, pvuserapp, ftp\n",
      "6 : exit, active, complete, job, status, anisha, xray, pca, encounter, ambulatory, view, careb, order, unable, hay, haynes, haz, zzaheer, hazard, hbi, hbuttar, hc, hcahps, hccl, hci, hcis, hboc, harris, hartwell, happen, handheld, handle, handler, handset, handsets, handshake, hang, hard, hartnell, harddisk, harddrive, harding, hardware, hariassanchez, harp, hd, hcpcs, hdou, hdaniels, hear\n",
      "7 : admin, right, day, one, need, id, install, dev, device, instal, want, software, user, lar, access, local, provide, take, application, ip, installation, require, add, computer, customer, remote, laptop, request, devip, download, update, round, hrs, open, ask, caller, desktop, give, work, uninstall, box, get, com, devid, uid, windows, scan, able, call, adobe\n",
      "8 : alarm, smart, rt, xl, device, sjhmc, main, mdf, srt, sbmc, sjrmc, nst, sjmc, maint, crmc, rm, mtsjh, smmc, morrison, sjpvh, hlt, sjbhc, corp, fhmc, uacc, mmcr, mtmc, mhb, guest, tower, pt, hartnell, mgh, chmc, nrc, att, whc, idfaccounting, mfh, agch, entrada, ba, nhmc, sont, dsc, airpark, msjmc, sech, sldc, pfs\n",
      "9 : unable, need, error, user, round, receive, interface, computer, pc, print, network, please, get, patient, power, qclxerr, monitor, laptop, outage, file, mft, open, mdf, application, tier, procedure, test, drive, desktop, learn, report, low, critical, call, humidity, syslog, nup, wow, fail, value, message, account, main, screen, status, supply, add, cxnmft, update, event\n",
      "10 : device, id, computer, unable, reboot, screen, error, desktop, user, login, black, work, wow, monitor, mdf, open, need, communication, print, turn, scanner, provide, power, slow, system, drive, use, ip, laptop, dept, restart, occur, downtime, cerner, start, report, journey, application, attach, scan, installation, pc, change, dep, display, file, loc, get, internet, access\n",
      "11 : printer, print, kyocera, id, ip, jam, paper, add, unable, need, dev, map, label, computer, device, equip, user, work, error, make, equipment, default, dept, zebra, anything, que, take, loc, quality, noise, vprt, address, properly, page, remote, want, please, hp, desktop, black, line, setup, install, change, get, pc, cerner, use, say, fax\n",
      "12 : account, unlock, login, network, user, lock, able, unable, customer, enup, already, enable, access, axway, allscripts, call, tt, disable, gecb, kb, hold, yes, name, flowcast, id, cerner, acc, want, adh, nup, need, email, log, acknowledge, intruder, accou, gate, mailgate, nt, pss, mail, sbarela, team, pconway, password, abl, address, sac, gvirk, still\n",
      "13 : date, text, amcore, notification, dat, pending, observation, secop, verification, send, apprvl, rename, elizabeth, jane, thudock, sec, close, op, user, office, ortiz, analysis, update, powell, workstation, isaiah, yarbrough, janaye, ccu, castro, maureen, admit, ryan, radiology, jennifer, mmc, jam, wow, laptop, harris, header, hartnell, hard, harp, hariassanchez, hardware, harding, harddrive, hartwell, harddisk\n",
      "14 : id, dev, unable, login, user, turn, desktop, access, computer, error, network, myjourney, pc, hold, print, laptop, kb, ip, need, gecb, impact, dept, provide, cerner, screen, patient, drive, work, journey, lawson, scanner, team, communication, get, open, browser, wow, ess, change, edm, acknowledge, icon, monitor, view, course, document, scan, jabber, complete, internet\n",
      "15 : work, keyboard, scanner, mouse, computer, properly, wow, id, desktop, monitor, user, unable, pc, dev, screen, room, device, turn, key, myjourney, restart, slow, internet, gecb, scan, laptop, light, dragon, black, wireless, pad, impact, get, dept, devid, correctly, error, button, replace, local, need, name, click, check, try, station, mic, expect, printer, password\n",
      "16 : midtown, dhmf, mdf, controller, ap, associate, mmg, bighorn, mic, creekside, carmichael, roseville, gibson, bronzestar, vhchild, msjmc, mob, rcchild, idf, master, mh, carmurology, rocklinmob, outage, edc, network, edh, cameron, hartnell, happen, hci, hccl, hcahps, hc, handset, hbuttar, hboc, hbi, handsets, handshake, hang, hazard, harris, haz, hard, haynes, harddisk, hay, harddrive, harding\n",
      "17 : port, sensor, temp, high, temperature, value, rt, xl, smart, dmf, mdf, bmh, smlb, cath, snmh, hilt, sbmc, elm, rm, morrison, crmc, south, main, srt, sjbhc, mgmc, aghc, amb, ar, dhmf, srdhrdl, hardware, harding, haddad, hariassanchez, harddrive, haley, hallway, happen, harddisk, hard, halsted, hang, handshake, handsets, harris, handset, handler, handle, half\n",
      "18 : reset, password, network, user, need, account, unable, name, hduv, login, invision, log, require, clairvia, apache, userid, allscripts, rco, id, want, cerner, axway, voicemail, meditech, question, guide, sso, formfast, dev, first, gecb, fp, buddy, flowcast, able, time, security, pss, access, verification, jabber, cisco, nt, impact, customer, challenge, call, sms, lock, ct\n",
      "19 : process, service, run, call, vctx, manager, server, print, mssqlserver, agent, viis, spooler, sql, homecare, app, primary, vprt, ctx, administration, monitor, system, web, mobilemd, mfcom, architecture, independent, wide, publish, search, modelemailrouter, modelprintrouter, phm, management, host, modelfaxrouter, timer, cache, vaio, legal, onecontent, controller, use, show, workflow, name, ptr, tracker, int, visit, ace\n",
      "20 : error, mft, tier, sftp, consume, millennium, suite, directory, meditech, connect, file, unable, di, communication, opt, director, mdt, ontime, wealthpoint, direc, direct, cxnmft, hyland, gmh, ssi, open, clinstar, hom, america, occur, paper, gecb, fr, bank, agency, sjs, collection, wpo, framework, move, sft, cc, magenow, art, connance, fail, wpot, quovant, mmp, star\n",
      "21 : pass, hduv, login, user, network, unable, customer, able, account, reset, invision, password, clairvia, apache, hduvdone, reason, cerner, rco, fp, meditech, one, mshook, windows, gecb, smada, formfast, allscripts, flowcast, sms, jbausch, email, sdenso, pas, pa, expire, journey, ct, tt, first, forget, temporary, sjrmc, userid, website, devid, rfigue, help, wsarkis, provide, time\n",
      "22 : time, percentage, packet, additional, good, ping, info, see, boot, one, encryption, perform, login, able, mcafee, unable, vmw, log, user, impact, endpoint, app, need, uid, viis, yes, sync, kb, hold, id, vprt, dev, reboot, userid, customer, laptop, ctx, tunixaixtt, recovery, password, nt, sql, computer, devid, vsql, vaio, first, thinohara, aio, try\n",
      "23 : vpn, certificate, validation, connect, unable, error, failure, user, login, need, instal, install, access, fail, authentication, duo, take, logmein, remote, assistance, work, certification, id, device, laptop, anyconnect, logon, set, request, get, drive, expire, setup, home, cisco, end, use, lmi, log, import, connection, dev, screen, computer, password, network, share, server, help, able\n",
      "24 : ipaddress, listen, host, tier, port, adt, omnicell, order, suite, enterprise, provider, portal, document, pharmacy, nutrition, allergy, management, service, nitiate, millennium, hub, identity, result, mobilemd, empi, aznv, st, domain, prod, josephs, medical, mercy, medseries, careb, dominican, edm, pacs, cardiology, informati, memorial, radiology, hospital, image, platform, bedtracking, johns, multiple, solution, interface, ho\n",
      "25 : peer, bgp, establish, mdf, main, mh, edc, srdhsm, master, disappear, rorc, mfh, lvs, mmg, railsback, sfmh, whc, bsa, tc, midtown, uacc, mcm, chsb, snmh, srdhs, att, mmcms, fhmc, mgh, agch, heart, msjmc, sjhmc, mtmc, dhmf, mdm, mgmc, sbmc, crmc, mpoe, seq, mmcr, ba, nhmc, smmc, sech, eg, sjw, dhmg, pfs\n",
      "26 : loc, dept, center, medical, hospital, st, impact, id, dev, dep, joseph, urgent, unable, mercy, user, work, desktop, dominican, device, location, memorial, san, sjhmc, er, devid, health, rise, regional, stockton, mary, login, wow, sjmc, print, srdh, floor, turn, bernardine, icu, office, northridge, community, error, patient, deptt, phone, admit, computer, scanner, surgery\n",
      "27 : temperature, value, high, integrate, low, rt, xl, mh, smart, rcchild, mmg, humidity, meditech, main, idf, mic, long, keyboard, ahu, pdu, replace, smmc, need, haley, hartnell, harris, haz, harp, hariassanchez, hartwell, haynes, hardware, hay, harddrive, harding, halsted, halt, hand, handheld, handle, handler, handset, handsets, handshake, hallway, hang, hall, hazard, hard, harddisk\n",
      "28 : lock, account, network, user, unlock, login, unable, userid, name, allscripts, clairvia, axway, tt, access, gecb, nup, able, intruder, sac, error, frequently, release, cerner, patient, enable, mailgate, get, remove, end, number, id, job, eminnick, log, anuh, dev, nt, bbuan, windows, ssran, jlpiercy, customer, areddyavula, flowcast, jthurston, cclayton, sbarela, ttheodoreedevu, mjones, check\n",
      "29 : map, printer, drive, need, id, network, computer, ip, take, dev, device, share, user, want, remote, print, impact, kyocera, unable, laptop, please, call, able, printers, personal, access, address, devid, get, path, add, desktop, room, help, cerner, port, customer, respond, xerox, miss, nt, printerid, bonnie, nas, devip, sherry, name, application, screen, successfully\n",
      "30 : lose, communication, link, status, smart, xl, rt, main, mdf, seq, srt, mgh, rm, heart, sjhmc, rehab, mmcms, dsc, dhmf, crmc, sjmc, sjpvh, twr, fhmc, mpoe, chsb, mmcr, snmh, chmc, sjrmc, mgmc, mrmc, mmp, srdhs, sbmc, smlb, mcm, srdhsm, sech, corp, msjmc, mtsj, bmh, pt, gat, eg, vsmc, mmg, nhmc, ba\n",
      "31 : take, remote, id, unable, dev, screen, user, share, login, help, device, change, need, launch, guide, able, access, instal, computer, browser, ip, error, nup, journey, application, chrome, log, myjourney, settings, want, create, icon, acknowledge, restart, outlook, clear, cerner, password, name, open, add, email, desktop, get, ask, shortcut, customer, pop, network, delete\n",
      "32 : connect, internet, unable, id, laptop, wifi, computer, desktop, network, device, guest, dev, pc, user, error, dept, wow, wireless, printer, outlook, provide, server, kyocera, wi, connection, impact, fi, monitor, careaware, cisco, omnicell, ipad, citrix, station, customer, projector, hotspot, work, via, website, dock, use, remote, share, devid, drive, home, ask, restart, morrison\n",
      "33 : request, access, place, adh, dh, user, need, approve, submit, unable, accessdh, help, put, cerner, id, report, deny, network, ticket, provision, share, resource, get, dev, customer, assistance, new, icon, drive, incomplete, approval, want, account, dignity, nfuse, email, contact, wait, work, error, lawson, computer, outlook, go, install, duo, change, health, know, assist\n",
      "34 : launch, unable, id, application, journey, cerner, myjourney, citrix, dev, error, course, user, device, nfuse, computer, chrome, applications, impact, desktop, google, devid, powerchart, internet, icon, website, ip, receiver, take, explorer, pc, get, restart, lawson, personal, comodo, ie, call, dept, allscripts, devip, home, login, miss, fetalink, app, remote, gecb, complete, customer, invision\n",
      "35 : desktop, id, unable, turn, computer, screen, pc, work, power, user, stick, dev, internet, windows, startup, boot, icon, slow, get, print, login, run, laptop, shortcut, repair, need, freeze, display, come, device, icons, update, access, helpdesk, create, slowness, multiple, configure, resolution, black, prepare, zother, open, system, wait, printer, install, mouse, onto, keep\n",
      "36 : mdf, controller, associate, ap, main, bmh, sjpvh, sjhmc, crmc, nst, fhmc, tower, dhmf, corp, dsch, sjrmc, snmh, master, sjmc, mfh, mmcm, mob, sbmc, mmcr, mgmc, mgh, bsa, gmhhc, smmc, mrmc, mcm, whc, mtsjh, sech, mhb, mmg, chmc, heart, mh, bronzestar, cnt, nhmc, verdugo, agch, msjmc, srdhsm, mmcms, capitolafp, kid, smlb\n",
      "37 : login, password, hduv, reset, able, unable, user, network, account, kb, hold, change, yes, customer, invision, temporary, fp, apache, give, enup, acc, clairvia, rco, unlock, need, share, buddy, cerner, enable, id, profile, domain, hdou, reason, allscripts, forget, disable, dev, already, sac, reso, call, gecb, first, res, formfast, flowcast, time, outcomes, pss\n",
      "38 : userid, reset, password, need, fp, login, unable, network, invision, clairvia, rco, gecb, user, cerner, hduv, mcarri, mrosas, ypetrishin, ldecruz, mmoustapha, tcarrera, mshea, dtablante, apanameno, wangeloff, lperez, slowery, svillafuerte, epostolaki, cgales, hie, jimenlaur, tbaioni, gmelen, jcuevas, apache, name, tt, sms, enup, devip, enable, admin, change, dev, customer, able, hartwell, halsted, hariassanchez\n",
      "39 : phone, work, call, ext, ascom, unable, number, tone, dial, need, line, voicemail, spectralink, extn, user, voice, break, receive, dept, make, duo, extension, desk, spectra, reset, hear, room, password, display, avaya, mail, nortel, meridian, move, change, get, static, email, cord, ring, add, link, check, login, cyracom, jack, impact, provide, loc, properly\n",
      "40 : job, unlock, acc, lock, user, login, network, unable, number, need, patient, kill, account, work, system, remove, able, access, delete, name, customer, id, th, impact, get, kb, hold, call, end, clear, session, domain, clairvia, outcome, vmezahanks, wbarnett, release, dev, mlandavazo, lco, try, qhatter, jbotter, apache, cerner, use, vfabela, kpalm, jnjoku, anuh\n",
      "41 : msjmc, main, mdf, port, status, tc, controller, ap, associate, reboot, outage, device, roc, loc, dept, id, impact, network, dev, eigrp, disappear, syslog, dep, critical, master, urgent, peer, slot, module, desktop, location, linecard, ciscolwappmobilityanchorcontrolpathdown, patient, work, respiratory, registration, computer, one, guest, update, unable, contact, er, printer, trauma, failure, sleep, floor, equipment\n",
      "42 : outlook, email, unable, send, id, device, user, open, dev, access, need, receive, error, delete, web, launch, ms, devid, login, mail, get, work, home, pop, offline, archive, miss, show, create, want, app, use, computer, address, calendar, icon, attachment, windows, add, mailbox, take, help, view, assistance, webex, vault, see, desktop, attachments, customer\n",
      "43 : port, status, mdf, main, sjpvh, edc, dt, lvs, nhmc, agch, sensor, high, temp, temperature, value, sjrmc, rt, xl, msjmc, smart, master, sbmc, mrmc, whc, chmc, sjhmc, bmh, core, fhmc, dmf, mh, sldc, nst, corp, mccloud, colo, srdhs, basement, tc, nrc, msh, smlb, wall, smmc, cath, chsb, fou, sjmc, robot, guest\n",
      "44 : access, unable, drive, user, error, need, cerner, network, dh, share, myjourney, website, journey, home, id, dignity, name, deny, try, health, admission, remote, get, manager, login, able, policy, desktop, device, devid, email, account, owa, employee, gecb, ip, computer, check, internet, take, remotely, ie, nfuse, assist, dev, emergency, page, userid, file, total\n",
      "45 : login, unable, user, account, able, enable, nfuse, network, lawson, ess, kb, hold, axway, clairvia, password, yes, gecb, apache, tt, invision, error, cerner, guide, computer, journey, team, pss, name, profile, disable, myjourney, userid, artiva, formfast, cas, customer, laptop, pc, jabber, total, mcafee, rco, allscripts, edm, credentials, logon, end, home, email, reward\n",
      "46 : new, duo, phone, need, user, enroll, enrol, enrollment, send, device, activate, link, register, network, number, add, unable, laptop, able, account, activation, setup, uid, reactivate, get, take, help, kb, mouse, nfuse, mobile, want, assist, make, line, install, please, iphone, work, login, password, access, create, call, hold, configure, email, guide, old, sharer\n",
      "47 : network, login, unable, user, account, customer, logon, ac, end, name, th, acc, able, password, id, enable, dev, try, hduv, exception, computer, ask, incorrect, pas, provide, eminnick, expire, guide, laptop, need, require, userid, team, log, ip, outlook, email, time, dept, acco, confirm, nfuse, verify, first, know, devid, back, make, give, device\n",
      "48 : change, password, network, unable, user, guide, account, login, pss, need, expire, assist, help, name, able, want, id, device, customer, require, encryption, manually, team, recently, generic, reset, assistance, edm, computer, enter, hdou, useranme, back, passw, service, reso, take, say, dev, ask, prompt, power, error, spare, self, work, try, cerner, new, nt\n",
      "49 : miss, icon, company, uma, mst, oct, id, desktop, drive, dev, requester, icons, instal, wed, folder, powerchart, file, application, user, share, need, computer, applications, thu, device, mon, sep, impact, open, artiva, team, shortcut, cerner, network, outlook, create, lawson, fri, ip, unable, bad, devid, health, edm, tue, dignity, find, ecisa, hold, invision\n"
     ]
    }
   ],
   "source": [
    "common_words = kmeans.cluster_centers_.argsort()[:,-1:-51:-1]\n",
    "for num, centroid in enumerate(common_words):\n",
    "    print(str(num) + ' : ' + ', '.join(features[word] for word in centroid))"
   ]
  },
  {
   "cell_type": "code",
   "execution_count": 111,
   "metadata": {},
   "outputs": [
    {
     "data": {
      "text/plain": [
       "<matplotlib.axes._subplots.AxesSubplot at 0x11b75ea20>"
      ]
     },
     "execution_count": 111,
     "metadata": {},
     "output_type": "execute_result"
    },
    {
     "data": {
      "image/png": "[encoded data removed]",
      "text/plain": [
       "<Figure size 432x288 with 1 Axes>"
      ]
     },
     "metadata": {
      "needs_background": "light"
     },
     "output_type": "display_data"
    }
   ],
   "source": [
    "# lets analyze the clusters\n",
    "top_clusters = df['Cluster'].value_counts()\n",
    "top_clusters.plot.bar(x = 'Cluster', y = 'Counts')"
   ]
  },
  {
   "cell_type": "code",
   "execution_count": 112,
   "metadata": {},
   "outputs": [
    {
     "name": "stdout",
     "output_type": "stream",
     "text": [
      "                                                                                      Short_description  \\\n",
      "6   PHXASP03 RPG1216 Error message CPF4128 appeared during OPEN (C S D F). CASH_ADJS  CLPDAYEND  626...   \n",
      "9   PHXASP03 CPA0701 RPG9001 received by PHCL1956 at 2100. (C D I R) CASH_ADJS  CLPDAYEND  626868 QC...   \n",
      "13                          MASTER // nmscust02-2 : CHW-as1-2central-dsc : 10.1.5.100 : Syslog Critical   \n",
      "14                                     nmscust02-2 : CHW-as2-2central-dsc : 10.1.5.10 : Syslog Critical   \n",
      "17                                                   MEDITECH ALERT (HIGH)                                \n",
      "18  Volume Space Nearly Full warning event on phxdc23c-nas-07:/crh1a_sleeplabs_cifs01 (Volume Space ...   \n",
      "19                                         nmscust02-2 : CHW-as1-2west-dsc : 10.1.5.6 : Syslog Critical   \n",
      "24  CIM_2_MCD95_HCLORDL:HCL99ORDL:HCCL:TIER-2:DESTINATION_REALTIME:Try 1 to receive the response fro...   \n",
      "28  CIM_2_BAYDSC19_OMNADT:OMN19ADT:Omnicell:TIER-0:DESTINATION_REALTIME:Try 1 to receive the respons...   \n",
      "30                                                                My journey performance and evaluation   \n",
      "\n",
      "                                                                                    Terms  \\\n",
      "6                                             error message appear open clpdayend qrgxmsg   \n",
      "9                                                               receive clpdayend qclxerr   \n",
      "13                                                             master dsc syslog critical   \n",
      "14                                                                    dsc syslog critical   \n",
      "17                                                                    meditech alert high   \n",
      "18                       volume space nearly full warn event nas volume space nearly full   \n",
      "19                                                                    dsc syslog critical   \n",
      "24  hccl tier try receive response destination application order lab mercy hospitals bake   \n",
      "28      omnicell tier try receive response destination application adt dominican hospital   \n",
      "30                                                         journey performance evaluation   \n",
      "\n",
      "                                IPs  Cluster  \n",
      "6                                          9  \n",
      "9                                          9  \n",
      "13  CHW-as1-2central-dsc 10.1.5.100        9  \n",
      "14   CHW-as2-2central-dsc 10.1.5.10        9  \n",
      "17                                         9  \n",
      "18                  phxdc23c-nas-07        9  \n",
      "19       CHW-as1-2west-dsc 10.1.5.6        9  \n",
      "24                                         9  \n",
      "28                                         9  \n",
      "30                                         9  \n"
     ]
    }
   ],
   "source": [
    "# there is high volume for cluster 9, lets look at few to investigate\n",
    "print(df[df.Cluster == 9].iloc[:10, [15,17,18,19]])"
   ]
  },
  {
   "cell_type": "code",
   "execution_count": 231,
   "metadata": {},
   "outputs": [
    {
     "name": "stdout",
     "output_type": "stream",
     "text": [
      "Cluster 0: reset, password, reset user name, account password, account password reset, password reset user, reset user, hduv, user name, name, reset password, hduv reset, user name hduv, name hduv, password reset, network account password, user, account, hduv reset password, network,\n",
      "Cluster 1: cpu utilization threshold, cpu utilization, cpu, threshold set, utilization threshold, utilization, utilization threshold set, set, threshold, medps cpu utilization, medps, medps cpu, vint, vint cpu, vint cpu utilization, viis cpu utilization, viis cpu, app cpu utilization, app cpu, viis,\n",
      "Cluster 2: printer, device, login, wheel, workstation wheel, workstation, wow workstation, wow workstation wheel, reboot, wow, device reboot, mdf, status, power, file, application, sjpvh, power supply, supply, sjpvh device,\n",
      "Cluster 3: error, error error, mft error, mft, tier mft, tier mft error, mft error error, tier, sftp, error error unable, error unable, suite, suite tier, error unable connect, millennium, millennium suite tier, millennium suite, suite tier mft, unable connect sftp, connect sftp,\n",
      "Cluster 4: login, login user, login user id, unable login user, unable login, user id, id, user, unable, account, network, network account, account lock unable, lock unable, lock unable login, account unable login, password, account unable, enable account, enable,\n",
      "Cluster 5: hduv, login password, unable login password, login, password reset, password reset hduv, reset hduv, password, login password reset, reset, unable login, unable, account unable login, network account unable, account unable, hduv password, hduv password reset, network account, reset customer able, password reset customer,\n",
      "Cluster 6: port, sjpvh port, port status, mdf sjpvh port, status, sjpvh port status, mdf sjpvh, sjpvh, mdf, port port, sjpvh port port, port port status, port port port, itc sjpvh port, itc, itc sjpvh, id jchatten, identity hub, identity hub tier, ii,\n",
      "Cluster 7: mdf, main sjmc, sjmc mdf, sjmc, vsmc, vsmc mtsjh, vsmc mtsjh ap, mdf main sjmc, mtsjh ap not, mtsjh ap, mtsjh, mdf vsmc mtsjh, main sjmc mdf, mdf vsmc, sjmc mdf vsmc, ap, not associate, not associate controller, controller, associate controller,\n",
      "Cluster 8: socket, point, socket timeout keep, error throw, error throw end, throw end, alive, alive error, alive error throw, throw, timeout keep, socket timeout, timeout keep alive, keep alive, keep alive error, timeout, keep, end point, throw end point, end,\n",
      "Cluster 9: task not, exchange mailbox task, exchange mailbox, mailbox, mailbox task, mailbox task not, exchange, task not run, not run, task, run, not, ii dev ip, ii dev id, ii dev, identity hub tier, ii account lock, ii account, ii, ii ii tt,\n",
      "Cluster 10: database, backup overdue, log backup, log backup overdue, overdue, database log backup, database log, backup, log, fingerprint, fingerprint database, fingerprint database log, store database log, vault store database, vault store, store database, store, vault, identity hub, ii user,\n",
      "Cluster 11: phone, process, call, run, phone phone, service, service call, process service call, process service, process process call, process process, process call run, process call, call run, app process, app process process, call server, service call server, server, app,\n",
      "Cluster 12: desktop, desktop desktop, computer, desktop laptop computer, desktop laptop, laptop computer, laptop, desktop not, encryption, not, desktop unable, screen, helpdesk desktop laptop, laptop computer helpdesk, zother desktop, helpdesk desktop, computer helpdesk desktop, computer helpdesk, zother desktop laptop, load,\n",
      "Cluster 13: qclxerr, receive, receive procedure, procedure, receive procedure dmcpqrctl, dmcpqrctl, procedure dmcpqrctl, mmmdayend qclxerr, mmmdayend, receive ecsvc, agcdayend, mmsdayend, mmrdayend, mmcdayend, snmdayend qclxerr, secdayend qclxerr, fhmdayend qclxerr, smmdayend, smmdayend qclxerr, fhmdayend,\n",
      "Cluster 14: sjpvh, mdf main sjpvh, main sjpvh, sjpvh ap not, sjpvh ap, ap, controller, ap not associate, ap not, not associate, not associate controller, associate controller, associate, sjpvh sjpvh, main sjpvh sjpvh, sjpvh sjpvh ap, mdf main, main, mdf, not,\n",
      "Cluster 15: rectimeout, rectimeout occur, rectimeout threshold, occur rectimeout, occur rectimeout threshold, rectimeout occur rectimeout, occur, current, threshold current rectimeout, rectimeout threshold current, current rectimeout, threshold current, rectimeout attempt, current rectimeout attempt, attempt, tier rectimeout occur, tier rectimeout, tier, threshold, rectimeout attempt transcriptions,\n",
      "Cluster 16: job, job lock, lock, unlock, lock job, job unlock, job lock unlock, number, lock unlock, unlock job, job number, lock job unlock, job lock job, number unlock, job system, system, kill, ii job, reopen, close,\n",
      "Cluster 17: account, account lock, lock, network account, network, network account lock, lock user, account lock user, user, unlock, lock user id, user id, id, unlock account, account account, account account lock, network account account, user name, name, lock user name,\n",
      "Cluster 18: syslog critical, syslog, critical, dsc syslog critical, dsc syslog, dsc, main, mmcr syslog critical, mdf main mmcr, mmcr syslog, main mmcr syslog, main mmcr, mmcr, master, mdf, mdf main, master dsc syslog, master dsc, srdhs syslog critical, main srdhs syslog,\n",
      "Cluster 19: cerner, cerner unable, cerner powerchart, powerchart, unable, access, patient, cerner firstnet, firstnet, user, id, careb, unable access, cerner unable access, nfuse, ecisa, print, not, not cross, cross,\n",
      "Cluster 20: account unable, network account unable, account, network account, account unable login, unable, network, login, unable login, unable login unlock, login unlock, unlock, account unable log, user, log user, unable log user, unable log, lock, user id, log,\n",
      "Cluster 21: complete exit status, active job, active job complete, job complete, job complete exit, complete exit, active, exit, exit status, complete, job, status, ii not, ii dev, ii dev id, ii dev ip, ii ii, ii ii tt, ii job, ii need,\n",
      "Cluster 22: fail, alert, trigger, meditech alert high, alert high, meditech alert, high, meditech, trigger transactions fail, transactions, transaction fail trigger, transaction fail, transaction, trigger application, trigger transactions, fail trigger application, fail trigger, transactions fail, lawson, backups,\n",
      "Cluster 23: percent full, set wouldisk file, threshold set wouldisk, wouldisk file system, wouldisk file, wouldisk, file system, percent, set wouldisk, full, system, system percent, system percent full, file system percent, file, utilization threshold set, utilization threshold, threshold set, utilization, set,\n",
      "Cluster 24: reset, password reset, password, network password, network password reset, ii, network, user id, id, user, reset ii, password reset ii, reset ii user, ii user, ii user id, user id ii, id ii, need password, need password reset, network account user,\n",
      "Cluster 25: not, id, unable, user, dev, dev id, monitor, computer, device id, device, work, wow, peer, loc, patient, keyboard, mouse, not work, print, dept,\n",
      "Cluster 26: ii, access, launch, unable, unable launch, unable access, ii unable, id, dev, ii dev, launch application, unable launch application, dev id, ii dev id, login ii, application, ii user, ii user id, owa, nfuse,\n",
      "Cluster 27: packet, see additional info, packet good percentage, packet good, percentage see additional, good percentage see, good percentage, good, percentage see, percentage, additional, see additional, additional info, info time, info, ping packet good, ping packet, additional info time, ping, see,\n",
      "Cluster 28: network, network outage, outage, network unable, sjpvh network outage, sjpvh network, network unable login, sjpvh, login, unable login, unable, mdf sjpvh network, network reset, mdf sjpvh, mdf, exception, pop, network unable user, unable user, unable user id,\n",
      "Cluster 29: qrnxie, end, qcmdexc end error, qcmdexc end, end error, qcmdexc, call qcmdexc, call qcmdexc end, call, end user, allocate, error, allocate record file, record file, record file phpinsr, phpinsr, file phpinsr, unable allocate record, unable allocate, allocate record,\n",
      "(30, 2)\n"
     ]
    }
   ],
   "source": [
    "# Create mapping of ngram features into clusters, \n",
    "# save into terms map object with key as cluster name (first feature in each cluster - with 2 words)\n",
    "# terms = top 20 ngram features\n",
    "\n",
    "order_centroids = km.cluster_centers_.argsort()[:, ::-1]\n",
    "df_features_map = pd.DataFrame(index = np.arange(0, num_clusters), columns=['features','key'])    \n",
    "\n",
    "for i in range(num_clusters):\n",
    "    list = [] \n",
    "    for ind in order_centroids[i, :20]:\n",
    "        print(' %s' % terms[ind], end=',')\n",
    "        list.append(terms[ind])\n",
    "    for ind2 in order_centroids[i, :1]:\n",
    "        terms_map.key.loc[i] = terms[ind2]\n",
    "\n",
    "    str = ', '.join(list) \n",
    "    terms_map.terms.loc[i] = str\n",
    "    print()\n",
    "print(terms_map.shape)\n",
    "\n",
    "df_features = pd.DataFrame(freq, index = features, columns = ['frequency'])\n",
    "\n",
    "# sort the terms in descending order of frequency\n",
    "df_features.sort_values(by = ['frequency'], inplace = True, ascending = False)\n",
    "\n",
    "order_centroids = km.cluster_centers_.argsort()[:, ::-1]\n",
    "terms = tfidf_vectorizer.get_feature_names()\n",
    "terms_map = pd.DataFrame(index=np.arange(0, num_clusters),columns=['terms','key'])    \n",
    "for i in range(num_clusters):\n",
    "    print(\"Cluster %d:\" % i, end='')\n",
    "    #terms_map['key'] = i\n",
    "    list = [] \n",
    "    for ind in order_centroids[i, :20]:\n",
    "        print(' %s' % terms[ind], end=',')\n",
    "        list.append(terms[ind])\n",
    "    for ind2 in order_centroids[i, :1]:\n",
    "        terms_map.key.loc[i] = terms[ind2]\n",
    "\n",
    "    str = ', '.join(list) \n",
    "    terms_map.terms.loc[i] = str\n",
    "    print()\n",
    "print(terms_map.shape)"
   ]
  },
  {
   "cell_type": "code",
   "execution_count": null,
   "metadata": {},
   "outputs": [],
   "source": []
  }
 ],
 "metadata": {
  "kernelspec": {
   "display_name": "Python 3",
   "language": "python",
   "name": "python3"
  },
  "language_info": {
   "codemirror_mode": {
    "name": "ipython",
    "version": 3
   },
   "file_extension": ".py",
   "mimetype": "text/x-python",
   "name": "python",
   "nbconvert_exporter": "python",
   "pygments_lexer": "ipython3",
   "version": "3.7.1"
  }
 },
 "nbformat": 4,
 "nbformat_minor": 2
}
