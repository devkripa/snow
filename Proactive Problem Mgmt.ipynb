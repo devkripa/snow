{
 "cells": [
  {
   "cell_type": "code",
   "execution_count": 65,
   "metadata": {},
   "outputs": [],
   "source": [
    "import numpy as np\n",
    "import matplotlib.pyplot as plt\n",
    "import pandas as pd\n",
    "# import os\n",
    "# import codecs"
   ]
  },
  {
   "cell_type": "code",
   "execution_count": 66,
   "metadata": {},
   "outputs": [],
   "source": [
    "# target_url = (\"/Users/devkrroy/Dev/Projects/snow/data/export3.xlsx\")\n",
    "target_url = (\"C:/Dev/Projects/snow/data/export3.xlsx\")"
   ]
  },
  {
   "cell_type": "code",
   "execution_count": 67,
   "metadata": {},
   "outputs": [],
   "source": [
    "df = pd.read_excel(target_url)"
   ]
  },
  {
   "cell_type": "code",
   "execution_count": 68,
   "metadata": {},
   "outputs": [
    {
     "name": "stdout",
     "output_type": "stream",
     "text": [
      "<class 'pandas.core.frame.DataFrame'>\n",
      "RangeIndex: 95373 entries, 0 to 95372\n",
      "Data columns (total 28 columns):\n",
      "Number                95373 non-null object\n",
      "Assignment_group      95373 non-null object\n",
      "Priority              95373 non-null object\n",
      "State                 95373 non-null object\n",
      "Category              93947 non-null object\n",
      "Subcategory           61328 non-null object\n",
      "Severity              95373 non-null object\n",
      "Closure_CI            94492 non-null object\n",
      "Location              95079 non-null object\n",
      "Close_code            94559 non-null object\n",
      "Configuration_item    95373 non-null object\n",
      "Child_Incidents       95373 non-null int64\n",
      "Contact_type          95373 non-null object\n",
      "Duration              95373 non-null int64\n",
      "Impact                95373 non-null object\n",
      "Short_description     95373 non-null object\n",
      "Created               95373 non-null datetime64[ns]\n",
      "dates                 95373 non-null datetime64[ns]\n",
      "date                  95373 non-null datetime64[ns]\n",
      "day                   95373 non-null object\n",
      "month                 95373 non-null object\n",
      "dom                   95373 non-null int64\n",
      "week                  95373 non-null int64\n",
      "week2                 95373 non-null int64\n",
      "cluster               95373 non-null int64\n",
      "cluster1              95373 non-null int64\n",
      "cluster_name1         95373 non-null object\n",
      "cluster_name          95373 non-null object\n",
      "dtypes: datetime64[ns](3), int64(7), object(18)\n",
      "memory usage: 20.4+ MB\n",
      "['Number' 'Assignment_group' 'Priority' 'State' 'Category' 'Subcategory'\n",
      " 'Severity' 'Closure_CI' 'Location' 'Close_code' 'Configuration_item'\n",
      " 'Child_Incidents' 'Contact_type' 'Duration' 'Impact' 'Short_description'\n",
      " 'Created' 'dates' 'date' 'day' 'month' 'dom' 'week' 'week2' 'cluster'\n",
      " 'cluster1' 'cluster_name1' 'cluster_name']\n"
     ]
    }
   ],
   "source": [
    "df.info()\n",
    "print(df.columns.values)"
   ]
  },
  {
   "cell_type": "code",
   "execution_count": 69,
   "metadata": {},
   "outputs": [
    {
     "data": {
      "text/html": [
       "<div>\n",
       "<style scoped>\n",
       "    .dataframe tbody tr th:only-of-type {\n",
       "        vertical-align: middle;\n",
       "    }\n",
       "\n",
       "    .dataframe tbody tr th {\n",
       "        vertical-align: top;\n",
       "    }\n",
       "\n",
       "    .dataframe thead th {\n",
       "        text-align: right;\n",
       "    }\n",
       "</style>\n",
       "<table border=\"1\" class=\"dataframe\">\n",
       "  <thead>\n",
       "    <tr style=\"text-align: right;\">\n",
       "      <th></th>\n",
       "      <th>Number</th>\n",
       "      <th>Assignment_group</th>\n",
       "      <th>Priority</th>\n",
       "      <th>State</th>\n",
       "      <th>Category</th>\n",
       "      <th>Subcategory</th>\n",
       "      <th>Severity</th>\n",
       "      <th>Closure_CI</th>\n",
       "      <th>Location</th>\n",
       "      <th>Close_code</th>\n",
       "      <th>...</th>\n",
       "      <th>date</th>\n",
       "      <th>day</th>\n",
       "      <th>month</th>\n",
       "      <th>dom</th>\n",
       "      <th>week</th>\n",
       "      <th>week2</th>\n",
       "      <th>cluster</th>\n",
       "      <th>cluster1</th>\n",
       "      <th>cluster_name1</th>\n",
       "      <th>cluster_name</th>\n",
       "    </tr>\n",
       "  </thead>\n",
       "  <tbody>\n",
       "    <tr>\n",
       "      <th>0</th>\n",
       "      <td>INC0406604</td>\n",
       "      <td>DHE-Command Center</td>\n",
       "      <td>4 - Low</td>\n",
       "      <td>Closed</td>\n",
       "      <td>Server</td>\n",
       "      <td>Windows</td>\n",
       "      <td>3 - Low</td>\n",
       "      <td>phx-vapp-689</td>\n",
       "      <td>Corporate Office - Phoenix 1</td>\n",
       "      <td>Resolved by Event</td>\n",
       "      <td>...</td>\n",
       "      <td>2018-09-01</td>\n",
       "      <td>Saturday</td>\n",
       "      <td>September</td>\n",
       "      <td>1</td>\n",
       "      <td>1</td>\n",
       "      <td>1</td>\n",
       "      <td>1</td>\n",
       "      <td>16</td>\n",
       "      <td>volume space</td>\n",
       "      <td>threshold set disk</td>\n",
       "    </tr>\n",
       "    <tr>\n",
       "      <th>1</th>\n",
       "      <td>INC0406605</td>\n",
       "      <td>DH-Enterprise IT Service Cntr</td>\n",
       "      <td>4 - Low</td>\n",
       "      <td>Closed</td>\n",
       "      <td>Security</td>\n",
       "      <td>NaN</td>\n",
       "      <td>3 - Low</td>\n",
       "      <td>Network Account Lock</td>\n",
       "      <td>St Mary's Medical Center San Francisco (SMMC-SF)</td>\n",
       "      <td>Account Unlock</td>\n",
       "      <td>...</td>\n",
       "      <td>2018-09-01</td>\n",
       "      <td>Saturday</td>\n",
       "      <td>September</td>\n",
       "      <td>1</td>\n",
       "      <td>1</td>\n",
       "      <td>1</td>\n",
       "      <td>48</td>\n",
       "      <td>47</td>\n",
       "      <td>login</td>\n",
       "      <td>login</td>\n",
       "    </tr>\n",
       "    <tr>\n",
       "      <th>2</th>\n",
       "      <td>INC0406606</td>\n",
       "      <td>DHE-RCM-AppOp-Applications</td>\n",
       "      <td>3 - Moderate</td>\n",
       "      <td>Closed</td>\n",
       "      <td>Application</td>\n",
       "      <td>Revenue Cycle</td>\n",
       "      <td>3 - Low</td>\n",
       "      <td>Soarian DM</td>\n",
       "      <td>Corporate Office - Phoenix 1</td>\n",
       "      <td>Resolved by Event</td>\n",
       "      <td>...</td>\n",
       "      <td>2018-09-01</td>\n",
       "      <td>Saturday</td>\n",
       "      <td>September</td>\n",
       "      <td>1</td>\n",
       "      <td>1</td>\n",
       "      <td>1</td>\n",
       "      <td>44</td>\n",
       "      <td>7</td>\n",
       "      <td>login</td>\n",
       "      <td>cerner</td>\n",
       "    </tr>\n",
       "    <tr>\n",
       "      <th>3</th>\n",
       "      <td>INC0406607</td>\n",
       "      <td>DH-Enterprise IT Service Cntr</td>\n",
       "      <td>4 - Low</td>\n",
       "      <td>Closed</td>\n",
       "      <td>Security</td>\n",
       "      <td>NaN</td>\n",
       "      <td>3 - Low</td>\n",
       "      <td>Network Account Issue</td>\n",
       "      <td>Bruceville Terrace</td>\n",
       "      <td>Password Reset</td>\n",
       "      <td>...</td>\n",
       "      <td>2018-09-01</td>\n",
       "      <td>Saturday</td>\n",
       "      <td>September</td>\n",
       "      <td>1</td>\n",
       "      <td>1</td>\n",
       "      <td>1</td>\n",
       "      <td>4</td>\n",
       "      <td>4</td>\n",
       "      <td>login</td>\n",
       "      <td>login</td>\n",
       "    </tr>\n",
       "    <tr>\n",
       "      <th>4</th>\n",
       "      <td>INC0406608</td>\n",
       "      <td>DH-Enterprise IT Service Cntr</td>\n",
       "      <td>4 - Low</td>\n",
       "      <td>Closed</td>\n",
       "      <td>Application</td>\n",
       "      <td>Clinical</td>\n",
       "      <td>3 - Low</td>\n",
       "      <td>Clairvia</td>\n",
       "      <td>St Mary's Medical Center San Francisco (SMMC-SF)</td>\n",
       "      <td>Password Reset</td>\n",
       "      <td>...</td>\n",
       "      <td>2018-09-01</td>\n",
       "      <td>Saturday</td>\n",
       "      <td>September</td>\n",
       "      <td>1</td>\n",
       "      <td>1</td>\n",
       "      <td>1</td>\n",
       "      <td>18</td>\n",
       "      <td>36</td>\n",
       "      <td>login</td>\n",
       "      <td>login</td>\n",
       "    </tr>\n",
       "  </tbody>\n",
       "</table>\n",
       "<p>5 rows × 28 columns</p>\n",
       "</div>"
      ],
      "text/plain": [
       "       Number               Assignment_group      Priority   State  \\\n",
       "0  INC0406604             DHE-Command Center       4 - Low  Closed   \n",
       "1  INC0406605  DH-Enterprise IT Service Cntr       4 - Low  Closed   \n",
       "2  INC0406606     DHE-RCM-AppOp-Applications  3 - Moderate  Closed   \n",
       "3  INC0406607  DH-Enterprise IT Service Cntr       4 - Low  Closed   \n",
       "4  INC0406608  DH-Enterprise IT Service Cntr       4 - Low  Closed   \n",
       "\n",
       "      Category    Subcategory Severity             Closure_CI  \\\n",
       "0       Server        Windows  3 - Low           phx-vapp-689   \n",
       "1     Security            NaN  3 - Low   Network Account Lock   \n",
       "2  Application  Revenue Cycle  3 - Low             Soarian DM   \n",
       "3     Security            NaN  3 - Low  Network Account Issue   \n",
       "4  Application       Clinical  3 - Low               Clairvia   \n",
       "\n",
       "                                           Location         Close_code  \\\n",
       "0                      Corporate Office - Phoenix 1  Resolved by Event   \n",
       "1  St Mary's Medical Center San Francisco (SMMC-SF)     Account Unlock   \n",
       "2                      Corporate Office - Phoenix 1  Resolved by Event   \n",
       "3                                Bruceville Terrace     Password Reset   \n",
       "4  St Mary's Medical Center San Francisco (SMMC-SF)     Password Reset   \n",
       "\n",
       "          ...               date       day      month  dom week week2 cluster  \\\n",
       "0         ...         2018-09-01  Saturday  September    1    1     1       1   \n",
       "1         ...         2018-09-01  Saturday  September    1    1     1      48   \n",
       "2         ...         2018-09-01  Saturday  September    1    1     1      44   \n",
       "3         ...         2018-09-01  Saturday  September    1    1     1       4   \n",
       "4         ...         2018-09-01  Saturday  September    1    1     1      18   \n",
       "\n",
       "  cluster1 cluster_name1        cluster_name  \n",
       "0       16  volume space  threshold set disk  \n",
       "1       47         login               login  \n",
       "2        7         login              cerner  \n",
       "3        4         login               login  \n",
       "4       36         login               login  \n",
       "\n",
       "[5 rows x 28 columns]"
      ]
     },
     "execution_count": 69,
     "metadata": {},
     "output_type": "execute_result"
    }
   ],
   "source": [
    "df.head()"
   ]
  },
  {
   "cell_type": "code",
   "execution_count": 70,
   "metadata": {},
   "outputs": [
    {
     "data": {
      "text/plain": [
       "<matplotlib.axes._subplots.AxesSubplot at 0x1e8d2ecd1d0>"
      ]
     },
     "execution_count": 70,
     "metadata": {},
     "output_type": "execute_result"
    },
    {
     "data": {
      "image/png": "[encoded data removed]",
      "text/plain": [
       "<Figure size 432x288 with 1 Axes>"
      ]
     },
     "metadata": {},
     "output_type": "display_data"
    }
   ],
   "source": [
    "# plot few charts to understand the data\n",
    "\n",
    "# Category by count - this should help understand \"Number of Clusters\" we should have\n",
    "\n",
    "top_categories_df = df['Category'].value_counts()[:20]\n",
    "top_categories_df.plot.bar(x = 'Category', y = 'Counts')\n"
   ]
  },
  {
   "cell_type": "code",
   "execution_count": 71,
   "metadata": {},
   "outputs": [
    {
     "data": {
      "text/plain": [
       "<matplotlib.axes._subplots.AxesSubplot at 0x1e8e8f286a0>"
      ]
     },
     "execution_count": 71,
     "metadata": {},
     "output_type": "execute_result"
    },
    {
     "data": {
      "image/png": "[encoded data removed]",
      "text/plain": [
       "<Figure size 432x288 with 1 Axes>"
      ]
     },
     "metadata": {},
     "output_type": "display_data"
    }
   ],
   "source": [
    "# Close_code by count \n",
    "\n",
    "top_close_code_df = df['Close_code'].value_counts()[:20]\n",
    "top_close_code_df.plot.bar(x = 'Close_code', y = 'Counts')"
   ]
  },
  {
   "cell_type": "code",
   "execution_count": 72,
   "metadata": {},
   "outputs": [],
   "source": [
    "# based on the 2 charts above we will go with 30 - 50 clusters of data"
   ]
  },
  {
   "cell_type": "code",
   "execution_count": 73,
   "metadata": {},
   "outputs": [],
   "source": [
    "# identify the features needed\n",
    "features = ['Number', 'Assignment_group', 'Priority', 'State', 'Category',\n",
    "       'Subcategory', 'Severity', 'Closure_CI', 'Location', 'Close_code',\n",
    "       'Configuration_item', 'Child_Incidents', 'Contact_type',\n",
    "       'Duration', 'Impact', 'Short_description', 'Created']\n",
    "df = df[features]"
   ]
  },
  {
   "cell_type": "code",
   "execution_count": 74,
   "metadata": {},
   "outputs": [
    {
     "name": "stdout",
     "output_type": "stream",
     "text": [
      "Shape of the modified dataframe  (95373, 17)\n"
     ]
    }
   ],
   "source": [
    "# use less rows for analysis, remove later\n",
    "# df = df.head(10000)\n",
    "print('Shape of the modified dataframe ', df.shape)"
   ]
  },
  {
   "cell_type": "code",
   "execution_count": 75,
   "metadata": {},
   "outputs": [
    {
     "data": {
      "text/plain": [
       "End User Services    22410\n",
       "Application          20651\n",
       "Security             17171\n",
       "Server               12687\n",
       "Network               7831\n",
       "HelpDesk              5169\n",
       "EAI Interface         3028\n",
       "Telecom               2832\n",
       "Human Resources       1224\n",
       "EAI Component          697\n",
       "Storage                140\n",
       "Facility               100\n",
       "Database                 7\n",
       "Name: Category, dtype: int64"
      ]
     },
     "execution_count": 75,
     "metadata": {},
     "output_type": "execute_result"
    }
   ],
   "source": [
    "#Filter out some categories with instances < 50 for now , remove this filter in future\n",
    "# df = df.groupby(\"Category\").filter(lambda x: len(x) > 50)\n",
    "# df = df.reset_index(drop = True)\n",
    "df.Category.value_counts()"
   ]
  },
  {
   "cell_type": "code",
   "execution_count": 76,
   "metadata": {},
   "outputs": [],
   "source": [
    "# nltk text preprocessing\n",
    "import re\n",
    "import nltk\n",
    "from nltk.corpus import stopwords, wordnet\n",
    "from nltk.stem import WordNetLemmatizer\n",
    "from nltk.tokenize import word_tokenize\n",
    "\n",
    "import contractions\n",
    "\n",
    "from sklearn import feature_extraction\n",
    "# from nltk.tag import pos_tag\n",
    "\n",
    "stop = stopwords.words('english')\n",
    "lemmer = WordNetLemmatizer()\n",
    "\n",
    "# extend stop words\n",
    "# words like issue, problem, resolve, fix - do not add more sense to the description and are common\n",
    "new_stopwords = ['chw','edu','phx','vapp', 'issue', 'problem', 'resolve', 'fix']\n",
    "stop.extend(new_stopwords)\n",
    "\n",
    "# add punctuations to the stop words\n",
    "punc = ['.', ',', '\"', \"'\", '?', '!', ':', ';', '(', ')', '[', ']', '{', '}',\"%\"]\n",
    "stop.extend(punc)\n",
    "\n",
    "# remove 'not' from the stop words - not defines the issue\n",
    "stop.remove('not')\n",
    "        \n",
    "# to be tried - apply text collocations\n",
    "\n",
    "def pre_process(text):\n",
    "        \n",
    "    # try to capture the IPs    \n",
    "    ip_pattern = re.compile(r'((-?)([A-Za-z0-9]{1,}[-.]{1,1}){2,6}([A-Za-z0-9]*))')  \n",
    "    ip = text.apply(lambda x: ' '.join(word for word in re.split('[\\': (),]', x) if ip_pattern.match(word)))\n",
    "    \n",
    "    text = text.apply(lambda x: ' '.join(word.lower() for word in x.split()))  # lower case\n",
    "       \n",
    "    text = text.apply(lambda x: ' '.join(contractions.fix(word) for word in x.split()))  # replace contractions\n",
    "    \n",
    "    # 'not able' is a common way to report issue, replace 'not able' with 'unable'\n",
    "    # also not gets removed as part of stop words\n",
    "    text = text.str.replace('not able', 'unable')\n",
    "    \n",
    "    # there are lot of places in the description where II (2 caps I) has been used as separator\n",
    "    # this gets converted to small letter (ii) with high occurance, drop these letters\n",
    "    text = text.str.replace(' ii ', ' ')  # replace with spaces\n",
    "    \n",
    "    # '/' or '\\' are usually entered to separate words, word tokenize doesn't tokenize on these\n",
    "    # replace them with spaces\n",
    "    text = text.str.replace('[\\/-]', ' ')  # replace with spaces\n",
    "    \n",
    "    # \"'d\": changes to \" would\", 'disk changes to wouldisk - unwanted contraction\n",
    "    # replace wouldisk with disk\n",
    "    text = text.str.replace('wouldisk', 'disk')  # replace with disk    \n",
    "    \n",
    "    # consider complete words that contain alpha\n",
    "    alpha = re.compile(r'([A-Za-z/\\-]*$)')\n",
    "    text = text.apply(lambda x: ' '.join(word for word in word_tokenize(x) if alpha.match(word)))\n",
    "    \n",
    "#     text = text.str.replace('[^A-Za-z ]', ' ')  # remove non words\n",
    "    \n",
    "    # user lemmer first since we have added some words in stop words\n",
    "    text = text.apply(lambda x: ' '.join([lemmer.lemmatize(word, pos = 'v') for word in word_tokenize(x)]))       #lemma\n",
    "    text = text.apply(lambda x: ' '.join([word for word in word_tokenize(x) if word not in set(stop)]))   #stop    \n",
    "    text = text.apply(lambda x: ' '.join([word for word in word_tokenize(x) if len(word) > 1 ]))  #length >1\n",
    "\n",
    "    return (text, ip)\n",
    "    \n",
    "normalized = pre_process(df['Short_description'])"
   ]
  },
  {
   "cell_type": "code",
   "execution_count": 77,
   "metadata": {},
   "outputs": [],
   "source": [
    "pd.options.display.max_colwidth = 100"
   ]
  },
  {
   "cell_type": "code",
   "execution_count": 78,
   "metadata": {},
   "outputs": [
    {
     "name": "stdout",
     "output_type": "stream",
     "text": [
      "0              utilization threshold set disk file system percent full\n",
      "1                                    account lock unable login user id\n",
      "2                                                                     \n",
      "3                                               network password reset\n",
      "4                   clairvia unable login password reset hduv jmoyrong\n",
      "5                   network account lock unable login username jyongco\n",
      "6                          error message appear open clpdayend qrgxmsg\n",
      "7                           wow display leave monitor upside device id\n",
      "8                                        cpu utilization threshold set\n",
      "9                                            receive clpdayend qclxerr\n",
      "10                                       cpu utilization threshold set\n",
      "11                                       cpu utilization threshold set\n",
      "12           medseries tier host ipaddress listen port charge multiple\n",
      "13                                          master dsc syslog critical\n",
      "14                                                 dsc syslog critical\n",
      "15                                        app process process call run\n",
      "16                                        app process process call run\n",
      "17                                                 meditech alert high\n",
      "18    volume space nearly full warn event nas volume space nearly full\n",
      "19                                                 dsc syslog critical\n",
      "Name: Short_description, dtype: object\n"
     ]
    }
   ],
   "source": [
    "print(normalized[0][:20])"
   ]
  },
  {
   "cell_type": "code",
   "execution_count": 79,
   "metadata": {
    "scrolled": true
   },
   "outputs": [
    {
     "name": "stdout",
     "output_type": "stream",
     "text": [
      "0                phx-vapp-689.chw.edu\n",
      "1                                    \n",
      "2                        PHX-VAPP-408\n",
      "3                                    \n",
      "4                                    \n",
      "5                                    \n",
      "6                                    \n",
      "7                       10.203.212.24\n",
      "8                phx-vapp-842.chw.edu\n",
      "9                                    \n",
      "10               phx-vapp-237.chw.edu\n",
      "11               phx-vapp-238.chw.edu\n",
      "12                      -10.248.84.17\n",
      "13    CHW-as1-2central-dsc 10.1.5.100\n",
      "14     CHW-as2-2central-dsc 10.1.5.10\n",
      "15                phx-app-040.chw.edu\n",
      "16                phx-app-034.chw.edu\n",
      "17                                   \n",
      "18                    phxdc23c-nas-07\n",
      "19         CHW-as1-2west-dsc 10.1.5.6\n",
      "Name: Short_description, dtype: object\n"
     ]
    }
   ],
   "source": [
    "print(normalized[1][:20])"
   ]
  },
  {
   "cell_type": "code",
   "execution_count": 102,
   "metadata": {},
   "outputs": [
    {
     "name": "stdout",
     "output_type": "stream",
     "text": [
      "459\n"
     ]
    }
   ],
   "source": [
    "print(normalized[0].apply(lambda x: x == '').sum())"
   ]
  },
  {
   "cell_type": "code",
   "execution_count": 103,
   "metadata": {},
   "outputs": [],
   "source": [
    "# there are 459 cells with no terms, this isn't significant in total of 95373, lets live with it for now"
   ]
  },
  {
   "cell_type": "code",
   "execution_count": 80,
   "metadata": {},
   "outputs": [
    {
     "data": {
      "text/plain": [
       "0                 [utilization, threshold, set, disk, file, system, percent, full]\n",
       "1                                         [account, lock, unable, login, user, id]\n",
       "2                                                                               []\n",
       "3                                                       [network, password, reset]\n",
       "4                       [clairvia, unable, login, password, reset, hduv, jmoyrong]\n",
       "5                       [network, account, lock, unable, login, username, jyongco]\n",
       "6                               [error, message, appear, open, clpdayend, qrgxmsg]\n",
       "7                               [wow, display, leave, monitor, upside, device, id]\n",
       "8                                               [cpu, utilization, threshold, set]\n",
       "9                                                    [receive, clpdayend, qclxerr]\n",
       "10                                              [cpu, utilization, threshold, set]\n",
       "11                                              [cpu, utilization, threshold, set]\n",
       "12              [medseries, tier, host, ipaddress, listen, port, charge, multiple]\n",
       "13                                                 [master, dsc, syslog, critical]\n",
       "14                                                         [dsc, syslog, critical]\n",
       "15                                              [app, process, process, call, run]\n",
       "16                                              [app, process, process, call, run]\n",
       "17                                                         [meditech, alert, high]\n",
       "18    [volume, space, nearly, full, warn, event, nas, volume, space, nearly, full]\n",
       "19                                                         [dsc, syslog, critical]\n",
       "Name: Short_description, dtype: object"
      ]
     },
     "execution_count": 80,
     "metadata": {},
     "output_type": "execute_result"
    }
   ],
   "source": [
    "# test results using word_tokenize\n",
    "from nltk.tokenize import word_tokenize\n",
    "\n",
    "normalized[0][:20].apply(word_tokenize)"
   ]
  },
  {
   "cell_type": "code",
   "execution_count": 81,
   "metadata": {},
   "outputs": [],
   "source": [
    "# add the processed text and extracted ips to dataframe\n",
    "df['Terms'] = normalized[0]\n",
    "df['IPs'] = normalized[1]"
   ]
  },
  {
   "cell_type": "code",
   "execution_count": 82,
   "metadata": {},
   "outputs": [],
   "source": [
    "# this cell is just for testing regex\n",
    "# import re\n",
    "\n",
    "# print(re.split('[:\\' ]', '\\'phx-vapp-689.chw.edu\\': Utilization is \\'85.2\\'. Threshold is set to \\'Disk/File System/{C}/percent full >= 85\\''))\n",
    "\n",
    "# ip_pattern = re.compile(r'((-?)([A-Za-z0-9]{1,}[-.]{1,1}){2,6}([A-Za-z0-9]*))') \n",
    "\n",
    "# print(ip_pattern.match('phx-vapp-238.chw.edu'))\n",
    "# print(ip_pattern.match('CPU Utilization is '))\n",
    "# print(ip_pattern.match('85.2'))\n",
    "# print(ip_pattern.match('10.250.243.2'))\n",
    "# print(ip_pattern.match('-10.248.84.17'))\n",
    "# print(ip_pattern.match('192.168.2.85)'))\n",
    "# print(ip_pattern.match('10.1.5.100'))\n",
    "\n",
    "\n",
    "# test = pd.DataFrame({'strings': ['...', 'a(b$c']})\n",
    "# test.strings.str.replace('[^a-zA-Z ]', ' ')\n",
    "\n",
    "# print('This is a test in spite.'.split())\n",
    "# print(lemmer.lemmatize('acknowledgement', pos='v'))\n",
    "\n",
    "# alpha = re.compile(r'([A-Za-z/\\-]*$)')\n",
    "\n",
    "# dk = pd.DataFrame({'sentences': ['This is a very MS4 ABCD901 \\'abc.xyz.109.01\\' good site. I will recommend it to others.', \n",
    "#                                  'Can you please give me a call at 9983938428. have issues with the listings.', \n",
    "#                                  'WOW / Workstation on Wheels || WOW / Workstation on Wheels Issue',\n",
    "#                                  '\\'phx-vapp-689.chw.edu\\': Utilization is \\'85.2\\'. Threshold is set to \\'Disk/File System/{C}/percent full >= 85',\n",
    "#                                  'Clairvia/not able to login//password reset hduv done jmoyrong/issue resolved',\n",
    "#                                  'God is Great/I won a lottery.',\n",
    "#                                  'CIM_2_BAYDSC19_MSFCHGX:MSF19CHGX:MedSeries 4:TIER-2 P05:DESTINATION_REALTIME:No host at ipAddress -10.248.84.17, listening on port -21529. :Charges - Multiple t',\n",
    "#                                  'Account Lock ||  Not able to login || user id-adeperalta001',\n",
    "#                                  'good work! keep it up, couldn\\'t able to login, couldn\\'t connect']})\n",
    "\n",
    "# dk['tokenized_sents']  = dk['sentences'].apply(lambda x: ' '.join(word for word in re.split('[\\': (),]', x) if ip_pattern.match(word)))\n",
    "\n",
    "\n",
    "\n",
    "# dk['tokenized_sents'] = dk['sentences'].apply(lambda x: ' '.join(word.lower() for word in x.split()))  # lower case\n",
    "# dk['tokenized_sents'] = dk['tokenized_sents'].apply(lambda x: ' '.join(contractions.fix(word) for word in x.split()))  # replace contractions\n",
    "\n",
    "# dk['tokenized_sents'] = dk['tokenized_sents'].str.replace('not able', 'unable')\n",
    "# dk['tokenized_sents'] = dk['tokenized_sents'].str.replace('[\\/-]', ' ')  # replace them with spaces\n",
    "\n",
    "# dk['tokenized_sents'] = dk['tokenized_sents'].apply(lambda x: ' '.join(word for word in word_tokenize(x) if alpha.match(word)))\n",
    "# dk['tokenized_sents'] = dk['tokenized_sents'].apply(lambda x: ' '.join([lemmer.lemmatize(word, pos='v') for word in word_tokenize(x)]))       #lemma\n",
    "# dk['tokenized_sents'] = dk['tokenized_sents'].apply(lambda x: ' '.join([word for word in word_tokenize(x) if word not in set(stop)]))   #stop\n",
    "\n",
    "# print(dk['tokenized_sents'])"
   ]
  },
  {
   "cell_type": "code",
   "execution_count": 83,
   "metadata": {},
   "outputs": [
    {
     "data": {
      "text/plain": [
       "\"\\ndef tokenize_only(text):\\n    # tokenize by  word \\n    tokens = [word.lower() for word in nltk.word_tokenize(text) ]\\n    filtered_tokens = []\\n    # filter out any tokens not containing letters (e.g., numeric tokens, raw punctuation)\\n    for token in tokens:\\n        if re.search('[a-zA-Z]', token):\\n            filtered_tokens.append(token)\\n    return filtered_tokens\\n\""
      ]
     },
     "execution_count": 83,
     "metadata": {},
     "output_type": "execute_result"
    }
   ],
   "source": [
    "# define a tokenizer which returns the set of tokens in the text that it is passed\n",
    "\"\"\"\n",
    "def tokenize_only(text):\n",
    "    # tokenize by  word \n",
    "    tokens = [word.lower() for word in nltk.word_tokenize(text) ]\n",
    "    filtered_tokens = []\n",
    "    # filter out any tokens not containing letters (e.g., numeric tokens, raw punctuation)\n",
    "    for token in tokens:\n",
    "        if re.search('[a-zA-Z]', token):\n",
    "            filtered_tokens.append(token)\n",
    "    return filtered_tokens\n",
    "\"\"\"    "
   ]
  },
  {
   "cell_type": "code",
   "execution_count": 84,
   "metadata": {},
   "outputs": [
    {
     "name": "stdout",
     "output_type": "stream",
     "text": [
      "Wall time: 13.1 s\n",
      "(95373, 10000)\n"
     ]
    }
   ],
   "source": [
    "from sklearn.feature_extraction.text import TfidfVectorizer\n",
    "\n",
    "# tfidf_vectorizer = TfidfVectorizer(max_features=10000, max_df=0.8, min_df=0.0005,                                  \n",
    "#                                   use_idf=True, tokenizer=word_tokenize, ngram_range=(1,3))\n",
    "\n",
    "vectorizer = TfidfVectorizer(max_features = 10000,                                  \n",
    "                                  use_idf = True, tokenizer = word_tokenize, stop_words = stop, ngram_range = (1,3))\n",
    "\n",
    "%time X = vectorizer.fit_transform(df['Terms'].values)\n",
    "\n",
    "print(X.shape)"
   ]
  },
  {
   "cell_type": "code",
   "execution_count": 85,
   "metadata": {},
   "outputs": [],
   "source": [
    "features = vectorizer.get_feature_names()\n",
    "freq = sum(X).toarray()[0]\n",
    "df_features = pd.DataFrame(freq, index = features, columns = ['frequency'])\n",
    "\n",
    "# sort the terms in descending order of frequency\n",
    "df_features.sort_values(by = ['frequency'], inplace = True, ascending = False)"
   ]
  },
  {
   "cell_type": "code",
   "execution_count": 86,
   "metadata": {},
   "outputs": [
    {
     "name": "stdout",
     "output_type": "stream",
     "text": [
      "                             frequency\n",
      "network                    2998.580806\n",
      "account                    2611.475025\n",
      "unable                     2392.640253\n",
      "login                      2099.636525\n",
      "id                         2072.463356\n",
      "network account            1997.107727\n",
      "desktop                    1964.197838\n",
      "lock                       1854.567170\n",
      "password                   1852.940525\n",
      "user                       1808.628086\n",
      "account lock               1742.737733\n",
      "reset                      1692.208588\n",
      "unable login               1588.438526\n",
      "network account lock       1568.823940\n",
      "password reset             1461.933340\n",
      "set                        1452.777890\n",
      "threshold                  1451.112459\n",
      "utilization                1412.583791\n",
      "utilization threshold      1411.106628\n",
      "threshold set              1410.606252\n",
      "utilization threshold set  1410.423092\n",
      "not                        1405.904721\n",
      "phone                      1383.435059\n",
      "cpu                        1220.729746\n",
      "user id                    1199.817702\n",
      "cpu utilization            1184.092911\n",
      "cpu utilization threshold  1183.904702\n",
      "printer                    1149.552976\n",
      "network password           1139.441673\n",
      "cerner                     1052.111634\n",
      "network password reset     1046.079980\n",
      "application                1030.608067\n",
      "need                       1010.313467\n",
      "error                       874.524488\n",
      "desktop desktop             819.846187\n",
      "monitor                     818.245865\n",
      "mdf                         796.150127\n",
      "device                      793.452955\n",
      "computer                    775.119307\n",
      "username                    727.460900\n",
      "keyboard                    712.824549\n",
      "mouse                       711.178708\n",
      "pc                          711.018724\n",
      "status                      708.972108\n",
      "dev                         664.877494\n",
      "main                        651.119006\n",
      "keyboard mouse              642.635213\n",
      "login user                  638.053448\n",
      "access                      611.777605\n",
      "login user id               605.500293\n"
     ]
    }
   ],
   "source": [
    "# print the top 50 occurances - help decide the possible clusters\n",
    "print(df_features.head(50))"
   ]
  },
  {
   "cell_type": "code",
   "execution_count": 87,
   "metadata": {},
   "outputs": [
    {
     "name": "stdout",
     "output_type": "stream",
     "text": [
      "                                frequency\n",
      "emr application                  2.323562\n",
      "emr logician                     2.323562\n",
      "centricity emr application       2.323562\n",
      "emr logician centricity          2.323562\n",
      "centricity emr logician          2.323562\n",
      "mmr app                          2.231793\n",
      "ssrnet login                     2.208802\n",
      "ssi ssrnet login                 2.208802\n",
      "ssrnet login transaction         2.208802\n",
      "sentinel tier mft                2.189720\n",
      "sentinel tier                    2.189720\n",
      "platform tier document           2.123370\n",
      "tier document                    2.123370\n",
      "platform rectimeout occur        2.123370\n",
      "platform rectimeout              2.123370\n",
      "tier document enterprise         2.123370\n",
      "enterprise platform rectimeout   2.123370\n",
      "nvbd bca pc                      1.985173\n",
      "nvbd bca                         1.985173\n",
      "nvbd                             1.985173\n"
     ]
    }
   ],
   "source": [
    "# print the last 20 occurances - terms with low frequency\n",
    "# how low is the frequency? do we have correct number of features\n",
    "print(df_features.tail(20))"
   ]
  },
  {
   "cell_type": "code",
   "execution_count": 88,
   "metadata": {},
   "outputs": [
    {
     "name": "stdout",
     "output_type": "stream",
     "text": [
      "['access request adh', 'access require', 'access share', 'access take', 'access take remote', 'access transaction', 'access transaction fail', 'access unable', 'access user', 'access user id', 'access user name', 'access username', 'access vpn', 'access website', 'accessdh', 'accidentally', 'accou', 'account', 'account able', 'account access', 'account account', 'account account lock', 'account activate', 'account activation', 'account buddy', 'account buddy hduv', 'account creation', 'account creation user', 'account customer', 'account customer able', 'account customer unable', 'account deactivate', 'account dev', 'account disable', 'account disable enable', 'account disable user', 'account disable userid', 'account disablement', 'account disablement user', 'account enable', 'account enable able', 'account enable username', 'account error', 'account expire', 'account first', 'account first time', 'account forget', 'account get', 'account get lock', 'account hduv', 'account id', 'account job', 'account lock', 'account lock account', 'account lock bed', 'account lock customer', 'account lock email', 'account lock enable', 'account lock job', 'account lock release', 'account lock unable', 'account lock unlock', 'account lock user', 'account lock userid', 'account lock username', 'account lockout', 'account login', 'account login password', 'account login user', 'account need', 'account need activate', 'account need get', 'account need help', 'account need password', 'account need reset', 'account new', 'account not', 'account number', 'account password', 'account password expire', 'account password reset', 'account pss', 'account time', 'account unable', 'account unable activate', 'account unable change', 'account unable log', 'account unable login', 'account unlock', 'account unlock able', 'account unlock id', 'account unlock user', 'account user', 'account user able', 'account user id', 'account user name', 'account username', 'ace', 'acknowledge', 'acknowledge dev']\n"
     ]
    }
   ],
   "source": [
    "print(features[100:200])"
   ]
  },
  {
   "cell_type": "code",
   "execution_count": 89,
   "metadata": {},
   "outputs": [],
   "source": [
    "# using elbow method to find optimum number of clusters - start with 30 clusters\n",
    "\n",
    "# from sklearn.cluster import KMeans\n",
    "# wcss = []\n",
    "# for i in range(1, 31):\n",
    "#     km = KMeans(n_clusters = i, init = 'k-means++', max_iter = 100, n_init = 10, random_state = 1)\n",
    "#     km.fit(tfidf_matrix)\n",
    "#     wcss.append(km.inertia_)\n",
    "    \n",
    "# plt.plot(range(1,31), wcss)\n",
    "# plt.title('The Elbow Method')\n",
    "# plt.xlabel('Number of Clusters')\n",
    "# plt.ylabel('WCSS')\n",
    "# plt.show()"
   ]
  },
  {
   "cell_type": "code",
   "execution_count": 116,
   "metadata": {},
   "outputs": [
    {
     "name": "stdout",
     "output_type": "stream",
     "text": [
      "Wall time: 8min 39s\n"
     ]
    }
   ],
   "source": [
    "# run kmeans \n",
    "\n",
    "num_clusters = 50\n",
    "\n",
    "from sklearn.cluster import KMeans\n",
    "kmeans = KMeans(n_clusters = num_clusters, init = 'k-means++', max_iter = 300, n_init = 10, random_state = 1)\n",
    "%time y = kmeans.fit_predict(X)\n",
    "\n",
    "# from sklearn.cluster import MiniBatchKMeans\n",
    "# km = MiniBatchKMeans(n_clusters = num_clusters, init = 'k-means++', n_init = 3, init_size = 300, batch_size = 100, random_state = 1)\n",
    "# %time km.fit(tfidf_matrix)\n",
    "\n",
    "clusters = km.labels_.tolist()"
   ]
  },
  {
   "cell_type": "code",
   "execution_count": 117,
   "metadata": {},
   "outputs": [],
   "source": [
    "df['Cluster'] = pd.DataFrame(y, columns = ['Cluster'])"
   ]
  },
  {
   "cell_type": "code",
   "execution_count": 118,
   "metadata": {},
   "outputs": [
    {
     "name": "stdout",
     "output_type": "stream",
     "text": [
      "                                                      Terms  Cluster\n",
      "0   utilization threshold set disk file system percent full        9\n",
      "1                         account lock unable login user id        1\n",
      "2                                                                 25\n",
      "3                                    network password reset        8\n",
      "4        clairvia unable login password reset hduv jmoyrong       44\n",
      "5        network account lock unable login username jyongco       41\n",
      "6               error message appear open clpdayend qrgxmsg        2\n",
      "7                wow display leave monitor upside device id       25\n",
      "8                             cpu utilization threshold set       10\n",
      "9                                 receive clpdayend qclxerr       25\n",
      "10                            cpu utilization threshold set       10\n"
     ]
    }
   ],
   "source": [
    "print(df.loc[:10,['Terms', 'Cluster']])"
   ]
  },
  {
   "cell_type": "code",
   "execution_count": 119,
   "metadata": {},
   "outputs": [],
   "source": [
    "# Save cluster in pickle file for future use\n",
    "# import pickle\n",
    "\n",
    "# pickle.dump(km, open('pkl/km_1.pkl', 'wb'))"
   ]
  },
  {
   "cell_type": "code",
   "execution_count": 120,
   "metadata": {},
   "outputs": [
    {
     "name": "stdout",
     "output_type": "stream",
     "text": [
      "0 : fex power supply, lock job number, logon error, clairvia account, axway account lock, expose, index location, depart, gmhhc ap, guide, form custome, call qcmdexc end, error error consume, device id assist, assessment, elm smlb value, activate duo, allscripts scan, eq, main mgh ap\n",
      "1 : extn, access host ipaddress, access journey, ext dept, accept nup, dragon, login duo user, expose, lock job number, login hduv, dsch mdf capitolafp, dsch mdf dhmf, lompocoffice mrmc, login guide user, dsch mdf, logon error, depart, fss, login remote, crmc value\n",
      "2 : dhmf mdf, call system monitor, call system, dhmf idf creekside, axway account lock, call qcmdexc end, cxnmft cxnmft framework, cxnmft framework, dhmf mdf cameron, ba, aznv, mapper syslogvg, mapper syslogvg log, cut, mapper, cerner uid, blank page, icu apache outcomes, blank, count last mins\n",
      "3 : heartbeat not arrive, dhmc, dhi ssrm trigger, help set, help user, dhmc ap, correctly, correct link, help customer, corrupt, help change password, dhmf communication lose, dhmf communication, device helpdesk, dhmf idf, helpdesk, help user register, fri, help portal, help instal\n",
      "4 : centricity emr, interface snmp, get option, get passcode, interface site transaction, letter word, centricity emr application, condition, centricity business tier, controller service stop, latency, condition tcpip error, launch application computer, launch application, computer unable launch, mailgate unable login, letter, mailgate unable, mailgate account lock, interface provation\n",
      "5 : last clinical count, bmh cbcc mhb, last clinical, cerner schedule cerner, cerner schedule, cerner report, duo need change, elm smlb value, emc, enup need acknowledge, enup need, duo not, edition dragon application, emergency account creation, duo new user, enup acknowledgement, cfts, cftprd sql sql, duo need register, fingerprint database backup\n",
      "6 : every time, cerner unable, account activate, account creation, id job, cerner unable launch, heartbeat not arrive, able login computer, logon error, edc fex power, desktop unable connect, exchange point, gmhhc ap, helpdesk clinical, fast, cerner pc, axway account lock, depart, desktop unable use, access require\n",
      "7 : highland dhmf, idf creekside, allscripts scan, instrument, history, history restart, insurance, already run not, hilt, hilt smlb, hilt smlb value, hire, acn, acknowledgement, acn base, interface id adt, main crmc, main corp mdf, main corp device, alm\n",
      "8 : activate duo, activate send, attachment device id, allscripts ambulatory sacramento, attachment device, cut, mapper, allscripts ambulatory phoenix, kyocera printer printer, kyocera printer print, cxnmft cft mft, cxnmft cxnmft, activate user, mapper rmanvg lvbackup, mapper rmanvg, attachments, activate send activation, allscripts document, cxnmft cft, cxnmft\n",
      "9 : make call, main sjbhc, make, management cxnmft, management cxnmft cft, make receive, make noise, main sjbhc device, main sjhmc, id scanner, kofax, life, begin, career unable login, call qcmdexc end, careb unable login, depart, course name, cpd mft, cpd\n",
      "10 : blackbox, black screen dev, black box, mailgate unable login, letter, mailgate unable, mailgate account lock, interface provation, leave, main gmhhc cnt, main gmhhc, engineer, engine tier rectimeout, enrol, main fhmc peer, main edc ciscolwappmobilityanchorcontrolpathdown, main edc, main dschr, acknowledgement guide, acknowledgement guide customer\n",
      "11 : application device, application unable, google chrome browser, connect guest, application instal, arv dhmc, application error, loc methodist hospital, google chrome unable, application unable co, grace, application user, gecb gecb, connect internet device, hduv password reset, loc northridge, alert soarian dm, cft mft, application lawson ent, id create\n",
      "12 : elm smlb value, acknowledge dev id, additional info time, fhmc device alarm, acknowledge dev, acknowledge, fhmc device, duo need change, additional info, begin, emc, fex power supply, issu, get exception, ecisa, employee, itc, isystemsmm, ecisa domain, jam\n",
      "13 : id clear browser, fss, full warn event, expose, logon error, accept nup, ext dept, crmc value, dragon, access end, external, gal need, id device id, lompocoffice mrmc, id dept family, depart, access home, ctx process, access host, access not\n",
      "14 : fail please check, fail long run, full warn event, id clear browser, fss, expose, id domain, lompocoffice mrmc, gal need, id device id, logon error, depart, gal, id dev ip, id device, dr pacs sjhmc, dr pacs, login duo, login device id, downtime device error\n",
      "15 : accept nup, domain host ipaddress, access dh unable, access, ext not, ext dept, downtime, access admission, access email home, expose, mail, access dev, check user, download server, login remote, low humidity, event, access duo, extension dept, double\n",
      "16 : login hduv, dsch mdf capitolafp, dsch mdf dhmf, lompocoffice mrmc, dragon, logon error, login duo user, depart, lock job number, crmc value, accept nup, dominican hospital rise, access dignityhealth, dominican hospital dsc, fss, csbdayend, front, ab, id clear browser, look urgent\n",
      "17 : call qcmdexc end, call search, axway account lock, main mgmc, main sjrmc, crmc impact, inbox, fex power supply, course dev id, course device, course device id, course name, cover, maricopa, cpd, course completion, cpd mft, cpd mft error, cpdi, cpdi cerner\n",
      "18 : desk phone cisco, lose link, desk reset, login remote, accept nup, download, login take screen, double, lompocoffice mrmc, logon error, access duo, extension dept, domain host ipaddress, expose, depart, access dh unable, ext dept, login tell, dragon, access nfuse\n",
      "19 : get account, error error unable, error error occur, get, dhdirectory, error logon, dh workplace violence, generator, error error consume, dhdirectory health status, error need, error not, finance, main utilization, file true fail, fex power supply, location st, filer, main srdhs communication, blank\n",
      "20 : login hduv password, dsch peer bgp, dragon, mail, login duo user, family medicine, fam mcm ap, lock job number, expose, data warehouse, dh need, data not cross, drive unable, ability network, drive unable access, ability ability, ab, fully, id clear cache, login take\n",
      "21 : filer, main srdhs communication, fex power supply, file raise incident, comodo error, lawson application, duo need add, duo need activation, lawson add, company miss fri, company miss, duo need activate, launcher, idf creekside, incident ticket, incident chwe, inbox, financial, main whc, hoc form powerforms\n",
      "22 : dhmf pop vaccine, login ask customer, depart, dept north, desktop icons, lock job number, dept nicu, dept nicu loc, dhmf port status, login ask user, activate duo, application device, assist, clairvia account, fax machine, bill uploadh not, apps, file device id, eus, ess user\n",
      "23 : job number number, management unable login, job number unlock, id unable login, job remove job, id unlock account, careb user, account expire, ip settings, ip printer ip, careb unable login, ip dev id, id user, manager unable, dvsentinel, manager unable launch, dvidmi, duo need change, hard drive, duo duo\n",
      "24 : lab tier, hard drive, hccl tier, jabber need register, ave, device id dept, device id change, access transaction fail, average, access transaction, company miss thu, company miss mon, enable profile, jabber unable login, access take remote, avaya phone, enable account, issu, elm smlb value, device id assist\n",
      "25 : gmhhc ap, good, gnosis, fex power supply, center fhmc, agency tier mft, filer, main srdhs communication, kb yes, folder dev, homecare cxnmft cft, fast, icu loc, fhmc normal rps, center gmhhc, count receive, loc marian, domain, journey unable launch, cpdi cerner\n",
      "26 : ext dept, extension dept, accept nup, access dh unable, expose, domain host ipaddress, access email, download server connectivity, machine unable, depart, full, logmein, login take screen, dragon, login remote, fss, course, course device id, course device, course name\n",
      "27 : double, download, access duo, accept nup, domain host ipaddress, access dh unable, logon error, lompocoffice mrmc, extension dept, depart, ext dept, expose, login remote, login take screen, dragon, ability ability, ab, dominican, icon unable, dragon medical\n",
      "28 : hospital wmh, legacy, hostname, boot customer able, flowcast, host snmp, host ipaddress listen, host snmp not, flowcast account, boot device, let, boot id, hospitals, floor loc st, address device id, listen port, listen, limit, leave, admin access\n",
      "29 : id scanner, hospital msjmc, enterprise, homecare mckesson horizon, file phpacct, hospital sacramento, high temperature integrate, computer user, computer user call, file phpactx, enterprise document, hospital rise, enterprise document management, get login screen, get new, get message, enterprise vault, hospital rise de, destination execute, browser\n",
      "30 : cardio server, cardiac, depart, fp hold kb, lock job number, fp user forget, fp need, fp user, button not, fex power supply, discharge, care, dept care, activate duo, drive access, drive computer, eq, login enup already, call qcmdexc end, app cpu\n",
      "31 : hduv network account, hduv pass user, laptop new, laptop not, laptop not connect, hduv password, computer restart, computer run, computer not work, elm smlb value, generator, issu, jabber user, jack, iview, id scanner, able activate, enable account user, iv infusion, grande\n",
      "32 : fss, fail long run, expose, full error, fail please, ge, fail sentinel please, gate user, dragon, fail sentinel, gate, gate unable, lompocoffice mrmc, logon error, depart, bouldercr dmf, main mtsjh device, main mtsjh mdf, fac, extremely slow\n",
      "33 : health medical, login mde, heartbeat not arrive, helpdesk support plan, hence, lock job number, depart, document enterprise platform, document cerner, dhmf communication, dev id ip, edc peer, explorer unable launch, heart mgh communication, heart mgh mdf, explorer unable, explorer not, edc peer bgp, document image, configure\n",
      "34 : downtime pc, administrator, browse, bronzestar dhmf mob, downtown, francisco, bronzestar dhmf, administration run, downtime device error, connect, connect citrix, connect computer, lap, laptop, main corp ap, main corp corp, landline, main corp, cpdi, cpd\n",
      "35 : dragon, login duo user, lock job number, chmc communication, chrome not work, chrome unable open, machine unable, fss, login first time, drive user, load dev, diana, driver, ar, fontanamob iho, alert ssi, forget, folsom, load, login hduv pass\n",
      "36 : clairvia account, limit, clear cache, enterprise access, link user, enterprise, link status, enterprise access host, joseph unable, log encryption, balance file, internal medicine, hand hold, joseph unable login, josephs, account lock, cmcdayend, account id, account job, letter word vsync\n",
      "37 : able login computer, careb unable login, career unable login, lock job remove, depart, lock job number, logon error, cerner pc, cause, hospital medical center, acc user id, lock user name, clairvia account, fex power supply, expose, fp hold kb, event, discharge, cerner powerchart not, channel manager\n",
      "38 : accept nup, dragon, dragon application, login email, dragon medical, access dh unable, domain host ipaddress, login duo user, ability ability, ab, boot perform able, boot perform, boot one time, lock job number, expose, dominican hospital siena, access journey, extn, access drive, access host ipaddress\n",
      "39 : fou, end point, application device, application pool unavailable, application pool worker, fou sjpvh, end user, endo, endoscopy, end report, account get, end point application, account first, dameware, eq, activate duo, live, local eus, limit, dhmf ap not\n"
     ]
    }
   ],
   "source": [
    "common_words = km.cluster_centers_.argsort()[:,-1:-21:-1]\n",
    "for num, centroid in enumerate(common_words):\n",
    "    print(str(num) + ' : ' + ', '.join(features[word] for word in centroid))"
   ]
  },
  {
   "cell_type": "code",
   "execution_count": 121,
   "metadata": {},
   "outputs": [
    {
     "data": {
      "text/plain": [
       "<matplotlib.axes._subplots.AxesSubplot at 0x1e8e30dd0f0>"
      ]
     },
     "execution_count": 121,
     "metadata": {},
     "output_type": "execute_result"
    },
    {
     "data": {
      "image/png": "[encoded data removed]",
      "text/plain": [
       "<Figure size 432x288 with 1 Axes>"
      ]
     },
     "metadata": {},
     "output_type": "display_data"
    }
   ],
   "source": [
    "# lets analyze the clusters\n",
    "top_clusters = df['Cluster'].value_counts()\n",
    "top_clusters.plot.bar(x = 'Cluster', y = 'Counts')"
   ]
  },
  {
   "cell_type": "code",
   "execution_count": 122,
   "metadata": {},
   "outputs": [
    {
     "name": "stdout",
     "output_type": "stream",
     "text": [
      "                                                                                      Short_description  \\\n",
      "2                                                                              PHX-VAPP-408 - SAC0 MGH0   \n",
      "7                      WOW ||  Display on the Left Monitor is upside down ||  device id-  10.203.212.24   \n",
      "9   PHXASP03 CPA0701 RPG9001 received by PHCL1956 at 2100. (C D I R) CASH_ADJS  CLPDAYEND  626868 QC...   \n",
      "12  CIM_2_BAYDSC19_MSFCHGX:MSF19CHGX:MedSeries 4:TIER-2 P05:DESTINATION_REALTIME:No host at ipAddres...   \n",
      "17                                                   MEDITECH ALERT (HIGH)                                \n",
      "18  Volume Space Nearly Full warning event on phxdc23c-nas-07:/crh1a_sleeplabs_cifs01 (Volume Space ...   \n",
      "24  CIM_2_MCD95_HCLORDL:HCL99ORDL:HCCL:TIER-2:DESTINATION_REALTIME:Try 1 to receive the response fro...   \n",
      "28  CIM_2_BAYDSC19_OMNADT:OMN19ADT:Omnicell:TIER-0:DESTINATION_REALTIME:Try 1 to receive the respons...   \n",
      "30                                                                My journey performance and evaluation   \n",
      "39                                                Cerner-Soarian/ Patients not crossing from MS4 to EDM   \n",
      "41  PHXASP08 RNQ1218 Unable to allocate a record in file PHPINSR (R C G D F). ADE_MHB    MHBDAYEND  ...   \n",
      "42  PHXASP01 RPG1218 PH5535RP 2100 is unable to allocate a record in PHPACCT (R C G S D F). ADE_MMC ...   \n",
      "45                 URL Monitor 'https://apps.dignityhealth.org/payrolladjustment/' has status of '-996'   \n",
      "46                                               PHX-SQL-071 - ImageNow Average Login Time:status = 200   \n",
      "48                     Ms4/not able to print report (Dayend)/devid seqdadt16/dept Admitting and registr   \n",
      "49                     Computer ||   Dignity Health Application Folder  were  Empty ||  All icons were    \n",
      "55  Cerner Firstnet - need to change from ED to CDU ||like user id- mvidallon || mapped accordingly ...   \n",
      "61                                                 PHX-SQL-071 - WebNow Average Login Time:status = 200   \n",
      "75  Cerner Firstnet- patients are discharged but accidentally Lisa clicked on start and now again it...   \n",
      "76                         OWA// Unable to access the entire message in email// dsmith027// MGHSRES05//   \n",
      "\n",
      "                                                                                                Terms  \\\n",
      "2                                                                                                       \n",
      "7                                                          wow display leave monitor upside device id   \n",
      "9                                                                           receive clpdayend qclxerr   \n",
      "12                                          medseries tier host ipaddress listen port charge multiple   \n",
      "17                                                                                meditech alert high   \n",
      "18                                   volume space nearly full warn event nas volume space nearly full   \n",
      "24              hccl tier try receive response destination application order lab mercy hospitals bake   \n",
      "28                  omnicell tier try receive response destination application adt dominican hospital   \n",
      "30                                                                     journey performance evaluation   \n",
      "39                                                              cerner soarian patients not cross edm   \n",
      "41                                               unable allocate record file phpinsr mhbdayend qrnxie   \n",
      "42                                                   unable allocate record phpacct mmcdayend qrgxmsg   \n",
      "45                                                               url monitor payrolladjustment status   \n",
      "46                                                             sql imagenow average login time status   \n",
      "48                                                unable print report dayend devid dept admit registr   \n",
      "49                                             computer dignity health application folder empty icons   \n",
      "55                               cerner firstnet need change ed cdu user id mvidallon map accordingly   \n",
      "61                                                               sql webnow average login time status   \n",
      "75  cerner firstnet patients discharge accidentally lisa click start show track board cerner firstnet   \n",
      "76                                                             owa unable access entire message email   \n",
      "\n",
      "                IPs  Cluster  \n",
      "2      PHX-VAPP-408       25  \n",
      "7     10.203.212.24       25  \n",
      "9                         25  \n",
      "12    -10.248.84.17       25  \n",
      "17                        25  \n",
      "18  phxdc23c-nas-07       25  \n",
      "24                        25  \n",
      "28                        25  \n",
      "30                        25  \n",
      "39                        25  \n",
      "41                        25  \n",
      "42                        25  \n",
      "45                        25  \n",
      "46      PHX-SQL-071       25  \n",
      "48                        25  \n",
      "49                        25  \n",
      "55                        25  \n",
      "61      PHX-SQL-071       25  \n",
      "75                        25  \n",
      "76                        25  \n"
     ]
    }
   ],
   "source": [
    "# there is high volume for cluster 25, lets look at few to investigate\n",
    "print(df[df.Cluster == 25].iloc[:20, [15,17,18, 19]])"
   ]
  },
  {
   "cell_type": "code",
   "execution_count": 231,
   "metadata": {},
   "outputs": [
    {
     "name": "stdout",
     "output_type": "stream",
     "text": [
      "Cluster 0: reset, password, reset user name, account password, account password reset, password reset user, reset user, hduv, user name, name, reset password, hduv reset, user name hduv, name hduv, password reset, network account password, user, account, hduv reset password, network,\n",
      "Cluster 1: cpu utilization threshold, cpu utilization, cpu, threshold set, utilization threshold, utilization, utilization threshold set, set, threshold, medps cpu utilization, medps, medps cpu, vint, vint cpu, vint cpu utilization, viis cpu utilization, viis cpu, app cpu utilization, app cpu, viis,\n",
      "Cluster 2: printer, device, login, wheel, workstation wheel, workstation, wow workstation, wow workstation wheel, reboot, wow, device reboot, mdf, status, power, file, application, sjpvh, power supply, supply, sjpvh device,\n",
      "Cluster 3: error, error error, mft error, mft, tier mft, tier mft error, mft error error, tier, sftp, error error unable, error unable, suite, suite tier, error unable connect, millennium, millennium suite tier, millennium suite, suite tier mft, unable connect sftp, connect sftp,\n",
      "Cluster 4: login, login user, login user id, unable login user, unable login, user id, id, user, unable, account, network, network account, account lock unable, lock unable, lock unable login, account unable login, password, account unable, enable account, enable,\n",
      "Cluster 5: hduv, login password, unable login password, login, password reset, password reset hduv, reset hduv, password, login password reset, reset, unable login, unable, account unable login, network account unable, account unable, hduv password, hduv password reset, network account, reset customer able, password reset customer,\n",
      "Cluster 6: port, sjpvh port, port status, mdf sjpvh port, status, sjpvh port status, mdf sjpvh, sjpvh, mdf, port port, sjpvh port port, port port status, port port port, itc sjpvh port, itc, itc sjpvh, id jchatten, identity hub, identity hub tier, ii,\n",
      "Cluster 7: mdf, main sjmc, sjmc mdf, sjmc, vsmc, vsmc mtsjh, vsmc mtsjh ap, mdf main sjmc, mtsjh ap not, mtsjh ap, mtsjh, mdf vsmc mtsjh, main sjmc mdf, mdf vsmc, sjmc mdf vsmc, ap, not associate, not associate controller, controller, associate controller,\n",
      "Cluster 8: socket, point, socket timeout keep, error throw, error throw end, throw end, alive, alive error, alive error throw, throw, timeout keep, socket timeout, timeout keep alive, keep alive, keep alive error, timeout, keep, end point, throw end point, end,\n",
      "Cluster 9: task not, exchange mailbox task, exchange mailbox, mailbox, mailbox task, mailbox task not, exchange, task not run, not run, task, run, not, ii dev ip, ii dev id, ii dev, identity hub tier, ii account lock, ii account, ii, ii ii tt,\n",
      "Cluster 10: database, backup overdue, log backup, log backup overdue, overdue, database log backup, database log, backup, log, fingerprint, fingerprint database, fingerprint database log, store database log, vault store database, vault store, store database, store, vault, identity hub, ii user,\n",
      "Cluster 11: phone, process, call, run, phone phone, service, service call, process service call, process service, process process call, process process, process call run, process call, call run, app process, app process process, call server, service call server, server, app,\n",
      "Cluster 12: desktop, desktop desktop, computer, desktop laptop computer, desktop laptop, laptop computer, laptop, desktop not, encryption, not, desktop unable, screen, helpdesk desktop laptop, laptop computer helpdesk, zother desktop, helpdesk desktop, computer helpdesk desktop, computer helpdesk, zother desktop laptop, load,\n",
      "Cluster 13: qclxerr, receive, receive procedure, procedure, receive procedure dmcpqrctl, dmcpqrctl, procedure dmcpqrctl, mmmdayend qclxerr, mmmdayend, receive ecsvc, agcdayend, mmsdayend, mmrdayend, mmcdayend, snmdayend qclxerr, secdayend qclxerr, fhmdayend qclxerr, smmdayend, smmdayend qclxerr, fhmdayend,\n",
      "Cluster 14: sjpvh, mdf main sjpvh, main sjpvh, sjpvh ap not, sjpvh ap, ap, controller, ap not associate, ap not, not associate, not associate controller, associate controller, associate, sjpvh sjpvh, main sjpvh sjpvh, sjpvh sjpvh ap, mdf main, main, mdf, not,\n",
      "Cluster 15: rectimeout, rectimeout occur, rectimeout threshold, occur rectimeout, occur rectimeout threshold, rectimeout occur rectimeout, occur, current, threshold current rectimeout, rectimeout threshold current, current rectimeout, threshold current, rectimeout attempt, current rectimeout attempt, attempt, tier rectimeout occur, tier rectimeout, tier, threshold, rectimeout attempt transcriptions,\n",
      "Cluster 16: job, job lock, lock, unlock, lock job, job unlock, job lock unlock, number, lock unlock, unlock job, job number, lock job unlock, job lock job, number unlock, job system, system, kill, ii job, reopen, close,\n",
      "Cluster 17: account, account lock, lock, network account, network, network account lock, lock user, account lock user, user, unlock, lock user id, user id, id, unlock account, account account, account account lock, network account account, user name, name, lock user name,\n",
      "Cluster 18: syslog critical, syslog, critical, dsc syslog critical, dsc syslog, dsc, main, mmcr syslog critical, mdf main mmcr, mmcr syslog, main mmcr syslog, main mmcr, mmcr, master, mdf, mdf main, master dsc syslog, master dsc, srdhs syslog critical, main srdhs syslog,\n",
      "Cluster 19: cerner, cerner unable, cerner powerchart, powerchart, unable, access, patient, cerner firstnet, firstnet, user, id, careb, unable access, cerner unable access, nfuse, ecisa, print, not, not cross, cross,\n",
      "Cluster 20: account unable, network account unable, account, network account, account unable login, unable, network, login, unable login, unable login unlock, login unlock, unlock, account unable log, user, log user, unable log user, unable log, lock, user id, log,\n",
      "Cluster 21: complete exit status, active job, active job complete, job complete, job complete exit, complete exit, active, exit, exit status, complete, job, status, ii not, ii dev, ii dev id, ii dev ip, ii ii, ii ii tt, ii job, ii need,\n",
      "Cluster 22: fail, alert, trigger, meditech alert high, alert high, meditech alert, high, meditech, trigger transactions fail, transactions, transaction fail trigger, transaction fail, transaction, trigger application, trigger transactions, fail trigger application, fail trigger, transactions fail, lawson, backups,\n",
      "Cluster 23: percent full, set wouldisk file, threshold set wouldisk, wouldisk file system, wouldisk file, wouldisk, file system, percent, set wouldisk, full, system, system percent, system percent full, file system percent, file, utilization threshold set, utilization threshold, threshold set, utilization, set,\n",
      "Cluster 24: reset, password reset, password, network password, network password reset, ii, network, user id, id, user, reset ii, password reset ii, reset ii user, ii user, ii user id, user id ii, id ii, need password, need password reset, network account user,\n",
      "Cluster 25: not, id, unable, user, dev, dev id, monitor, computer, device id, device, work, wow, peer, loc, patient, keyboard, mouse, not work, print, dept,\n",
      "Cluster 26: ii, access, launch, unable, unable launch, unable access, ii unable, id, dev, ii dev, launch application, unable launch application, dev id, ii dev id, login ii, application, ii user, ii user id, owa, nfuse,\n",
      "Cluster 27: packet, see additional info, packet good percentage, packet good, percentage see additional, good percentage see, good percentage, good, percentage see, percentage, additional, see additional, additional info, info time, info, ping packet good, ping packet, additional info time, ping, see,\n",
      "Cluster 28: network, network outage, outage, network unable, sjpvh network outage, sjpvh network, network unable login, sjpvh, login, unable login, unable, mdf sjpvh network, network reset, mdf sjpvh, mdf, exception, pop, network unable user, unable user, unable user id,\n",
      "Cluster 29: qrnxie, end, qcmdexc end error, qcmdexc end, end error, qcmdexc, call qcmdexc, call qcmdexc end, call, end user, allocate, error, allocate record file, record file, record file phpinsr, phpinsr, file phpinsr, unable allocate record, unable allocate, allocate record,\n",
      "(30, 2)\n"
     ]
    }
   ],
   "source": [
    "# Create mapping of ngram features into clusters, \n",
    "# save into terms map object with key as cluster name (first feature in each cluster - with 2 words)\n",
    "# terms = top 20 ngram features\n",
    "\n",
    "order_centroids = km.cluster_centers_.argsort()[:, ::-1]\n",
    "df_features_map = pd.DataFrame(index = np.arange(0, num_clusters), columns=['features','key'])    \n",
    "\n",
    "for i in range(num_clusters):\n",
    "    list = [] \n",
    "    for ind in order_centroids[i, :20]:\n",
    "        print(' %s' % terms[ind], end=',')\n",
    "        list.append(terms[ind])\n",
    "    for ind2 in order_centroids[i, :1]:\n",
    "        terms_map.key.loc[i] = terms[ind2]\n",
    "\n",
    "    str = ', '.join(list) \n",
    "    terms_map.terms.loc[i] = str\n",
    "    print()\n",
    "print(terms_map.shape)\n",
    "\n",
    "df_features = pd.DataFrame(freq, index = features, columns = ['frequency'])\n",
    "\n",
    "# sort the terms in descending order of frequency\n",
    "df_features.sort_values(by = ['frequency'], inplace = True, ascending = False)\n",
    "\n",
    "order_centroids = km.cluster_centers_.argsort()[:, ::-1]\n",
    "terms = tfidf_vectorizer.get_feature_names()\n",
    "terms_map = pd.DataFrame(index=np.arange(0, num_clusters),columns=['terms','key'])    \n",
    "for i in range(num_clusters):\n",
    "    print(\"Cluster %d:\" % i, end='')\n",
    "    #terms_map['key'] = i\n",
    "    list = [] \n",
    "    for ind in order_centroids[i, :20]:\n",
    "        print(' %s' % terms[ind], end=',')\n",
    "        list.append(terms[ind])\n",
    "    for ind2 in order_centroids[i, :1]:\n",
    "        terms_map.key.loc[i] = terms[ind2]\n",
    "\n",
    "    str = ', '.join(list) \n",
    "    terms_map.terms.loc[i] = str\n",
    "    print()\n",
    "print(terms_map.shape)"
   ]
  },
  {
   "cell_type": "code",
   "execution_count": null,
   "metadata": {},
   "outputs": [],
   "source": []
  }
 ],
 "metadata": {
  "kernelspec": {
   "display_name": "Python 3",
   "language": "python",
   "name": "python3"
  },
  "language_info": {
   "codemirror_mode": {
    "name": "ipython",
    "version": 3
   },
   "file_extension": ".py",
   "mimetype": "text/x-python",
   "name": "python",
   "nbconvert_exporter": "python",
   "pygments_lexer": "ipython3",
   "version": "3.6.6"
  }
 },
 "nbformat": 4,
 "nbformat_minor": 2
}
