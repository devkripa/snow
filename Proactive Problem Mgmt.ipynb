{
 "cells": [
  {
   "cell_type": "code",
   "execution_count": 1,
   "metadata": {},
   "outputs": [
    {
     "name": "stdout",
     "output_type": "stream",
     "text": [
      "/Library/Frameworks/Python.framework/Versions/3.7/bin/python3.7\n",
      "3.7.1 (v3.7.1:260ec2c36a, Oct 20 2018, 03:13:28) \n",
      "[Clang 6.0 (clang-600.0.57)]\n",
      "sys.version_info(major=3, minor=7, micro=1, releaselevel='final', serial=0)\n"
     ]
    }
   ],
   "source": [
    "import sys\n",
    "print(sys.executable)\n",
    "print(sys.version)\n",
    "print(sys.version_info)"
   ]
  },
  {
   "cell_type": "code",
   "execution_count": 2,
   "metadata": {},
   "outputs": [],
   "source": [
    "import numpy as np\n",
    "import matplotlib.pyplot as plt\n",
    "import pandas as pd\n",
    "# import os\n",
    "# import codecs"
   ]
  },
  {
   "cell_type": "code",
   "execution_count": 3,
   "metadata": {},
   "outputs": [],
   "source": [
    "target_url = (\"/Users/devkrroy/Dev/Projects/snow/data/export3.xlsx\")\n",
    "# target_url = (\"C:/Dev/Projects/snow/data/export3.xlsx\")"
   ]
  },
  {
   "cell_type": "code",
   "execution_count": 4,
   "metadata": {},
   "outputs": [],
   "source": [
    "df = pd.read_excel(target_url)"
   ]
  },
  {
   "cell_type": "code",
   "execution_count": 5,
   "metadata": {},
   "outputs": [
    {
     "name": "stdout",
     "output_type": "stream",
     "text": [
      "<class 'pandas.core.frame.DataFrame'>\n",
      "RangeIndex: 95373 entries, 0 to 95372\n",
      "Data columns (total 28 columns):\n",
      "Number                95373 non-null object\n",
      "Assignment_group      95373 non-null object\n",
      "Priority              95373 non-null object\n",
      "State                 95373 non-null object\n",
      "Category              93947 non-null object\n",
      "Subcategory           61328 non-null object\n",
      "Severity              95373 non-null object\n",
      "Closure_CI            94492 non-null object\n",
      "Location              95079 non-null object\n",
      "Close_code            94559 non-null object\n",
      "Configuration_item    95373 non-null object\n",
      "Child_Incidents       95373 non-null int64\n",
      "Contact_type          95373 non-null object\n",
      "Duration              95373 non-null int64\n",
      "Impact                95373 non-null object\n",
      "Short_description     95373 non-null object\n",
      "Created               95373 non-null datetime64[ns]\n",
      "dates                 95373 non-null datetime64[ns]\n",
      "date                  95373 non-null datetime64[ns]\n",
      "day                   95373 non-null object\n",
      "month                 95373 non-null object\n",
      "dom                   95373 non-null int64\n",
      "week                  95373 non-null int64\n",
      "week2                 95373 non-null int64\n",
      "cluster               95373 non-null int64\n",
      "cluster1              95373 non-null int64\n",
      "cluster_name1         95373 non-null object\n",
      "cluster_name          95373 non-null object\n",
      "dtypes: datetime64[ns](3), int64(7), object(18)\n",
      "memory usage: 20.4+ MB\n",
      "['Number' 'Assignment_group' 'Priority' 'State' 'Category' 'Subcategory'\n",
      " 'Severity' 'Closure_CI' 'Location' 'Close_code' 'Configuration_item'\n",
      " 'Child_Incidents' 'Contact_type' 'Duration' 'Impact' 'Short_description'\n",
      " 'Created' 'dates' 'date' 'day' 'month' 'dom' 'week' 'week2' 'cluster'\n",
      " 'cluster1' 'cluster_name1' 'cluster_name']\n"
     ]
    }
   ],
   "source": [
    "df.info()\n",
    "print(df.columns.values)"
   ]
  },
  {
   "cell_type": "code",
   "execution_count": 6,
   "metadata": {},
   "outputs": [
    {
     "data": {
      "text/html": [
       "<div>\n",
       "<style scoped>\n",
       "    .dataframe tbody tr th:only-of-type {\n",
       "        vertical-align: middle;\n",
       "    }\n",
       "\n",
       "    .dataframe tbody tr th {\n",
       "        vertical-align: top;\n",
       "    }\n",
       "\n",
       "    .dataframe thead th {\n",
       "        text-align: right;\n",
       "    }\n",
       "</style>\n",
       "<table border=\"1\" class=\"dataframe\">\n",
       "  <thead>\n",
       "    <tr style=\"text-align: right;\">\n",
       "      <th></th>\n",
       "      <th>Number</th>\n",
       "      <th>Assignment_group</th>\n",
       "      <th>Priority</th>\n",
       "      <th>State</th>\n",
       "      <th>Category</th>\n",
       "      <th>Subcategory</th>\n",
       "      <th>Severity</th>\n",
       "      <th>Closure_CI</th>\n",
       "      <th>Location</th>\n",
       "      <th>Close_code</th>\n",
       "      <th>...</th>\n",
       "      <th>date</th>\n",
       "      <th>day</th>\n",
       "      <th>month</th>\n",
       "      <th>dom</th>\n",
       "      <th>week</th>\n",
       "      <th>week2</th>\n",
       "      <th>cluster</th>\n",
       "      <th>cluster1</th>\n",
       "      <th>cluster_name1</th>\n",
       "      <th>cluster_name</th>\n",
       "    </tr>\n",
       "  </thead>\n",
       "  <tbody>\n",
       "    <tr>\n",
       "      <th>0</th>\n",
       "      <td>INC0406604</td>\n",
       "      <td>DHE-Command Center</td>\n",
       "      <td>4 - Low</td>\n",
       "      <td>Closed</td>\n",
       "      <td>Server</td>\n",
       "      <td>Windows</td>\n",
       "      <td>3 - Low</td>\n",
       "      <td>phx-vapp-689</td>\n",
       "      <td>Corporate Office - Phoenix 1</td>\n",
       "      <td>Resolved by Event</td>\n",
       "      <td>...</td>\n",
       "      <td>2018-09-01</td>\n",
       "      <td>Saturday</td>\n",
       "      <td>September</td>\n",
       "      <td>1</td>\n",
       "      <td>1</td>\n",
       "      <td>1</td>\n",
       "      <td>1</td>\n",
       "      <td>16</td>\n",
       "      <td>volume space</td>\n",
       "      <td>threshold set disk</td>\n",
       "    </tr>\n",
       "    <tr>\n",
       "      <th>1</th>\n",
       "      <td>INC0406605</td>\n",
       "      <td>DH-Enterprise IT Service Cntr</td>\n",
       "      <td>4 - Low</td>\n",
       "      <td>Closed</td>\n",
       "      <td>Security</td>\n",
       "      <td>NaN</td>\n",
       "      <td>3 - Low</td>\n",
       "      <td>Network Account Lock</td>\n",
       "      <td>St Mary's Medical Center San Francisco (SMMC-SF)</td>\n",
       "      <td>Account Unlock</td>\n",
       "      <td>...</td>\n",
       "      <td>2018-09-01</td>\n",
       "      <td>Saturday</td>\n",
       "      <td>September</td>\n",
       "      <td>1</td>\n",
       "      <td>1</td>\n",
       "      <td>1</td>\n",
       "      <td>48</td>\n",
       "      <td>47</td>\n",
       "      <td>login</td>\n",
       "      <td>login</td>\n",
       "    </tr>\n",
       "    <tr>\n",
       "      <th>2</th>\n",
       "      <td>INC0406606</td>\n",
       "      <td>DHE-RCM-AppOp-Applications</td>\n",
       "      <td>3 - Moderate</td>\n",
       "      <td>Closed</td>\n",
       "      <td>Application</td>\n",
       "      <td>Revenue Cycle</td>\n",
       "      <td>3 - Low</td>\n",
       "      <td>Soarian DM</td>\n",
       "      <td>Corporate Office - Phoenix 1</td>\n",
       "      <td>Resolved by Event</td>\n",
       "      <td>...</td>\n",
       "      <td>2018-09-01</td>\n",
       "      <td>Saturday</td>\n",
       "      <td>September</td>\n",
       "      <td>1</td>\n",
       "      <td>1</td>\n",
       "      <td>1</td>\n",
       "      <td>44</td>\n",
       "      <td>7</td>\n",
       "      <td>login</td>\n",
       "      <td>cerner</td>\n",
       "    </tr>\n",
       "    <tr>\n",
       "      <th>3</th>\n",
       "      <td>INC0406607</td>\n",
       "      <td>DH-Enterprise IT Service Cntr</td>\n",
       "      <td>4 - Low</td>\n",
       "      <td>Closed</td>\n",
       "      <td>Security</td>\n",
       "      <td>NaN</td>\n",
       "      <td>3 - Low</td>\n",
       "      <td>Network Account Issue</td>\n",
       "      <td>Bruceville Terrace</td>\n",
       "      <td>Password Reset</td>\n",
       "      <td>...</td>\n",
       "      <td>2018-09-01</td>\n",
       "      <td>Saturday</td>\n",
       "      <td>September</td>\n",
       "      <td>1</td>\n",
       "      <td>1</td>\n",
       "      <td>1</td>\n",
       "      <td>4</td>\n",
       "      <td>4</td>\n",
       "      <td>login</td>\n",
       "      <td>login</td>\n",
       "    </tr>\n",
       "    <tr>\n",
       "      <th>4</th>\n",
       "      <td>INC0406608</td>\n",
       "      <td>DH-Enterprise IT Service Cntr</td>\n",
       "      <td>4 - Low</td>\n",
       "      <td>Closed</td>\n",
       "      <td>Application</td>\n",
       "      <td>Clinical</td>\n",
       "      <td>3 - Low</td>\n",
       "      <td>Clairvia</td>\n",
       "      <td>St Mary's Medical Center San Francisco (SMMC-SF)</td>\n",
       "      <td>Password Reset</td>\n",
       "      <td>...</td>\n",
       "      <td>2018-09-01</td>\n",
       "      <td>Saturday</td>\n",
       "      <td>September</td>\n",
       "      <td>1</td>\n",
       "      <td>1</td>\n",
       "      <td>1</td>\n",
       "      <td>18</td>\n",
       "      <td>36</td>\n",
       "      <td>login</td>\n",
       "      <td>login</td>\n",
       "    </tr>\n",
       "  </tbody>\n",
       "</table>\n",
       "<p>5 rows × 28 columns</p>\n",
       "</div>"
      ],
      "text/plain": [
       "       Number               Assignment_group      Priority   State  \\\n",
       "0  INC0406604             DHE-Command Center       4 - Low  Closed   \n",
       "1  INC0406605  DH-Enterprise IT Service Cntr       4 - Low  Closed   \n",
       "2  INC0406606     DHE-RCM-AppOp-Applications  3 - Moderate  Closed   \n",
       "3  INC0406607  DH-Enterprise IT Service Cntr       4 - Low  Closed   \n",
       "4  INC0406608  DH-Enterprise IT Service Cntr       4 - Low  Closed   \n",
       "\n",
       "      Category    Subcategory Severity             Closure_CI  \\\n",
       "0       Server        Windows  3 - Low           phx-vapp-689   \n",
       "1     Security            NaN  3 - Low   Network Account Lock   \n",
       "2  Application  Revenue Cycle  3 - Low             Soarian DM   \n",
       "3     Security            NaN  3 - Low  Network Account Issue   \n",
       "4  Application       Clinical  3 - Low               Clairvia   \n",
       "\n",
       "                                           Location         Close_code  \\\n",
       "0                      Corporate Office - Phoenix 1  Resolved by Event   \n",
       "1  St Mary's Medical Center San Francisco (SMMC-SF)     Account Unlock   \n",
       "2                      Corporate Office - Phoenix 1  Resolved by Event   \n",
       "3                                Bruceville Terrace     Password Reset   \n",
       "4  St Mary's Medical Center San Francisco (SMMC-SF)     Password Reset   \n",
       "\n",
       "          ...               date       day      month  dom week week2 cluster  \\\n",
       "0         ...         2018-09-01  Saturday  September    1    1     1       1   \n",
       "1         ...         2018-09-01  Saturday  September    1    1     1      48   \n",
       "2         ...         2018-09-01  Saturday  September    1    1     1      44   \n",
       "3         ...         2018-09-01  Saturday  September    1    1     1       4   \n",
       "4         ...         2018-09-01  Saturday  September    1    1     1      18   \n",
       "\n",
       "  cluster1 cluster_name1        cluster_name  \n",
       "0       16  volume space  threshold set disk  \n",
       "1       47         login               login  \n",
       "2        7         login              cerner  \n",
       "3        4         login               login  \n",
       "4       36         login               login  \n",
       "\n",
       "[5 rows x 28 columns]"
      ]
     },
     "execution_count": 6,
     "metadata": {},
     "output_type": "execute_result"
    }
   ],
   "source": [
    "df.head()"
   ]
  },
  {
   "cell_type": "code",
   "execution_count": 7,
   "metadata": {},
   "outputs": [
    {
     "data": {
      "text/plain": [
       "<matplotlib.axes._subplots.AxesSubplot at 0x1186f3240>"
      ]
     },
     "execution_count": 7,
     "metadata": {},
     "output_type": "execute_result"
    },
    {
     "data": {
      "image/png": "[encoded data removed]",
      "text/plain": [
       "<Figure size 432x288 with 1 Axes>"
      ]
     },
     "metadata": {
      "needs_background": "light"
     },
     "output_type": "display_data"
    }
   ],
   "source": [
    "# plot few charts to understand the data\n",
    "\n",
    "# Category by count - this should help understand \"Number of Clusters\" we should have\n",
    "\n",
    "top_categories_df = df['Category'].value_counts()[:20]\n",
    "top_categories_df.plot.bar(x = 'Category', y = 'Counts')"
   ]
  },
  {
   "cell_type": "code",
   "execution_count": 8,
   "metadata": {},
   "outputs": [
    {
     "data": {
      "text/plain": [
       "<matplotlib.axes._subplots.AxesSubplot at 0x117c200b8>"
      ]
     },
     "execution_count": 8,
     "metadata": {},
     "output_type": "execute_result"
    },
    {
     "data": {
      "image/png": "[encoded data removed]",
      "text/plain": [
       "<Figure size 432x288 with 1 Axes>"
      ]
     },
     "metadata": {
      "needs_background": "light"
     },
     "output_type": "display_data"
    }
   ],
   "source": [
    "# Close_code by count \n",
    "\n",
    "top_close_code_df = df['Close_code'].value_counts()[:20]\n",
    "top_close_code_df.plot.bar(x = 'Close_code', y = 'Counts')"
   ]
  },
  {
   "cell_type": "code",
   "execution_count": 9,
   "metadata": {},
   "outputs": [],
   "source": [
    "# based on the 2 charts above we will go with 30 - 50 clusters of data"
   ]
  },
  {
   "cell_type": "code",
   "execution_count": 10,
   "metadata": {},
   "outputs": [],
   "source": [
    "# identify the cols needed\n",
    "cols = ['Number', 'Assignment_group', 'Priority', 'State', 'Category',\n",
    "       'Subcategory', 'Severity', 'Closure_CI', 'Location', 'Close_code',\n",
    "       'Configuration_item', 'Child_Incidents', 'Contact_type',\n",
    "       'Duration', 'Impact', 'Short_description', 'Created']\n",
    "df = df[cols]"
   ]
  },
  {
   "cell_type": "code",
   "execution_count": 11,
   "metadata": {},
   "outputs": [],
   "source": [
    "# copy the dataframe to a new dataframe before any row deletes\n",
    "test = df.copy()"
   ]
  },
  {
   "cell_type": "code",
   "execution_count": 12,
   "metadata": {},
   "outputs": [
    {
     "data": {
      "text/html": [
       "<div>\n",
       "<style scoped>\n",
       "    .dataframe tbody tr th:only-of-type {\n",
       "        vertical-align: middle;\n",
       "    }\n",
       "\n",
       "    .dataframe tbody tr th {\n",
       "        vertical-align: top;\n",
       "    }\n",
       "\n",
       "    .dataframe thead th {\n",
       "        text-align: right;\n",
       "    }\n",
       "</style>\n",
       "<table border=\"1\" class=\"dataframe\">\n",
       "  <thead>\n",
       "    <tr style=\"text-align: right;\">\n",
       "      <th></th>\n",
       "      <th>Number</th>\n",
       "      <th>Assignment_group</th>\n",
       "      <th>Priority</th>\n",
       "      <th>State</th>\n",
       "      <th>Category</th>\n",
       "      <th>Subcategory</th>\n",
       "      <th>Severity</th>\n",
       "      <th>Closure_CI</th>\n",
       "      <th>Location</th>\n",
       "      <th>Close_code</th>\n",
       "      <th>Configuration_item</th>\n",
       "      <th>Child_Incidents</th>\n",
       "      <th>Contact_type</th>\n",
       "      <th>Duration</th>\n",
       "      <th>Impact</th>\n",
       "      <th>Short_description</th>\n",
       "      <th>Created</th>\n",
       "    </tr>\n",
       "  </thead>\n",
       "  <tbody>\n",
       "    <tr>\n",
       "      <th>90835</th>\n",
       "      <td>INC0515090</td>\n",
       "      <td>DH-SW-EUS StRoseSanMartin</td>\n",
       "      <td>4 - Low</td>\n",
       "      <td>Closed</td>\n",
       "      <td>Security</td>\n",
       "      <td>NaN</td>\n",
       "      <td>3 - Low</td>\n",
       "      <td>McAfee Agent</td>\n",
       "      <td>Corporate Office - Phoenix GAT</td>\n",
       "      <td>Application</td>\n",
       "      <td>McAfee AV, ASW or EPO</td>\n",
       "      <td>0</td>\n",
       "      <td>Phone</td>\n",
       "      <td>680806</td>\n",
       "      <td>No Impact</td>\n",
       "      <td>\"Notification Text: AMCORE out of Date &lt;Works...</td>\n",
       "      <td>2018-10-29 13:55:41</td>\n",
       "    </tr>\n",
       "    <tr>\n",
       "      <th>90786</th>\n",
       "      <td>INC0515038</td>\n",
       "      <td>DH-SC-EUS Marian</td>\n",
       "      <td>4 - Low</td>\n",
       "      <td>Closed</td>\n",
       "      <td>Security</td>\n",
       "      <td>NaN</td>\n",
       "      <td>3 - Low</td>\n",
       "      <td>McAfee Agent</td>\n",
       "      <td>Corporate Office - Phoenix GAT</td>\n",
       "      <td>Middleware</td>\n",
       "      <td>McAfee AV, ASW or EPO</td>\n",
       "      <td>0</td>\n",
       "      <td>Phone</td>\n",
       "      <td>69495</td>\n",
       "      <td>No Impact</td>\n",
       "      <td>\"Notification Text: AMCORE out of Date &lt;Works...</td>\n",
       "      <td>2018-10-29 13:34:39</td>\n",
       "    </tr>\n",
       "    <tr>\n",
       "      <th>80005</th>\n",
       "      <td>INC0503959</td>\n",
       "      <td>DH-ClinApps HIM</td>\n",
       "      <td>4 - Low</td>\n",
       "      <td>Closed</td>\n",
       "      <td>Application</td>\n",
       "      <td>NaN</td>\n",
       "      <td>3 - Low</td>\n",
       "      <td>Cerner CPDI Kofax</td>\n",
       "      <td>Methodist Hospital of Sacramento (METH)</td>\n",
       "      <td>Application</td>\n",
       "      <td>Kofax Capture v11</td>\n",
       "      <td>0</td>\n",
       "      <td>Phone</td>\n",
       "      <td>7047</td>\n",
       "      <td>No Impact</td>\n",
       "      <td>Cerner CDI Work Queue Monitor - Not Receiving...</td>\n",
       "      <td>2018-10-23 09:15:30</td>\n",
       "    </tr>\n",
       "    <tr>\n",
       "      <th>80023</th>\n",
       "      <td>INC0503977</td>\n",
       "      <td>DH-ClinApps HIM</td>\n",
       "      <td>4 - Low</td>\n",
       "      <td>Closed</td>\n",
       "      <td>Application</td>\n",
       "      <td>NaN</td>\n",
       "      <td>3 - Low</td>\n",
       "      <td>Cerner CPDI Kofax</td>\n",
       "      <td>Woodland Healthcare Davis</td>\n",
       "      <td>Application</td>\n",
       "      <td>Cerner Millennium Provider Doc 2015.01.19</td>\n",
       "      <td>0</td>\n",
       "      <td>Self-service</td>\n",
       "      <td>6784</td>\n",
       "      <td>Down for One IT Customer</td>\n",
       "      <td>Cerner CDI Work Queue Monitor - Not Receiving...</td>\n",
       "      <td>2018-10-23 09:19:22</td>\n",
       "    </tr>\n",
       "    <tr>\n",
       "      <th>80137</th>\n",
       "      <td>INC0504096</td>\n",
       "      <td>DH-ClinApps HIM</td>\n",
       "      <td>4 - Low</td>\n",
       "      <td>Closed</td>\n",
       "      <td>Application</td>\n",
       "      <td>NaN</td>\n",
       "      <td>3 - Low</td>\n",
       "      <td>Cerner CPDI Kofax</td>\n",
       "      <td>Dignity Health Medical Group - Stockton</td>\n",
       "      <td>Application</td>\n",
       "      <td>Cerner Millennium HIM 2015.01.19</td>\n",
       "      <td>0</td>\n",
       "      <td>Self-service</td>\n",
       "      <td>4816</td>\n",
       "      <td>Down for One IT Customer</td>\n",
       "      <td>Cerner CDI Work Queue Monitor - Not Receiving...</td>\n",
       "      <td>2018-10-23 09:51:46</td>\n",
       "    </tr>\n",
       "  </tbody>\n",
       "</table>\n",
       "</div>"
      ],
      "text/plain": [
       "           Number           Assignment_group Priority   State     Category  \\\n",
       "90835  INC0515090  DH-SW-EUS StRoseSanMartin  4 - Low  Closed     Security   \n",
       "90786  INC0515038           DH-SC-EUS Marian  4 - Low  Closed     Security   \n",
       "80005  INC0503959            DH-ClinApps HIM  4 - Low  Closed  Application   \n",
       "80023  INC0503977            DH-ClinApps HIM  4 - Low  Closed  Application   \n",
       "80137  INC0504096            DH-ClinApps HIM  4 - Low  Closed  Application   \n",
       "\n",
       "      Subcategory Severity         Closure_CI  \\\n",
       "90835         NaN  3 - Low       McAfee Agent   \n",
       "90786         NaN  3 - Low       McAfee Agent   \n",
       "80005         NaN  3 - Low  Cerner CPDI Kofax   \n",
       "80023         NaN  3 - Low  Cerner CPDI Kofax   \n",
       "80137         NaN  3 - Low  Cerner CPDI Kofax   \n",
       "\n",
       "                                      Location   Close_code  \\\n",
       "90835           Corporate Office - Phoenix GAT  Application   \n",
       "90786           Corporate Office - Phoenix GAT   Middleware   \n",
       "80005  Methodist Hospital of Sacramento (METH)  Application   \n",
       "80023                Woodland Healthcare Davis  Application   \n",
       "80137  Dignity Health Medical Group - Stockton  Application   \n",
       "\n",
       "                              Configuration_item  Child_Incidents  \\\n",
       "90835                      McAfee AV, ASW or EPO                0   \n",
       "90786                      McAfee AV, ASW or EPO                0   \n",
       "80005                          Kofax Capture v11                0   \n",
       "80023  Cerner Millennium Provider Doc 2015.01.19                0   \n",
       "80137           Cerner Millennium HIM 2015.01.19                0   \n",
       "\n",
       "       Contact_type  Duration                    Impact  \\\n",
       "90835         Phone    680806                 No Impact   \n",
       "90786         Phone     69495                 No Impact   \n",
       "80005         Phone      7047                 No Impact   \n",
       "80023  Self-service      6784  Down for One IT Customer   \n",
       "80137  Self-service      4816  Down for One IT Customer   \n",
       "\n",
       "                                       Short_description             Created  \n",
       "90835   \"Notification Text: AMCORE out of Date <Works... 2018-10-29 13:55:41  \n",
       "90786   \"Notification Text: AMCORE out of Date <Works... 2018-10-29 13:34:39  \n",
       "80005   Cerner CDI Work Queue Monitor - Not Receiving... 2018-10-23 09:15:30  \n",
       "80023   Cerner CDI Work Queue Monitor - Not Receiving... 2018-10-23 09:19:22  \n",
       "80137   Cerner CDI Work Queue Monitor - Not Receiving... 2018-10-23 09:51:46  "
      ]
     },
     "execution_count": 12,
     "metadata": {},
     "output_type": "execute_result"
    }
   ],
   "source": [
    "# check for duplicate data\n",
    "test[test['Short_description'].duplicated(keep = 'first')].sort_values('Short_description').head(5)"
   ]
  },
  {
   "cell_type": "code",
   "execution_count": 13,
   "metadata": {
    "scrolled": true
   },
   "outputs": [
    {
     "name": "stdout",
     "output_type": "stream",
     "text": [
      "Shape of the modified dataframe  (61556, 17)\n"
     ]
    }
   ],
   "source": [
    "# remove duplicates, we will still retain 1 row for analysis\n",
    "test = test.drop_duplicates('Short_description', keep = 'first')\n",
    "print('Shape of the modified dataframe ', test.shape)"
   ]
  },
  {
   "cell_type": "code",
   "execution_count": 14,
   "metadata": {
    "scrolled": true
   },
   "outputs": [
    {
     "data": {
      "text/plain": [
       "Application          15482\n",
       "End User Services    14859\n",
       "Security             11327\n",
       "Network               6114\n",
       "Server                5805\n",
       "HelpDesk              2779\n",
       "Telecom               1267\n",
       "EAI Interface         1186\n",
       "Human Resources       1022\n",
       "EAI Component          294\n",
       "Storage                117\n",
       "Facility                99\n",
       "Database                 2\n",
       "Name: Category, dtype: int64"
      ]
     },
     "execution_count": 14,
     "metadata": {},
     "output_type": "execute_result"
    }
   ],
   "source": [
    "#Filter out some categories with instances < 50 for now , remove this filter in future\n",
    "# test = incs.groupby(\"Category\").filter(lambda x: len(x) > 50)\n",
    "# test = incs.reset_index(drop = True)\n",
    "test.Category.value_counts()"
   ]
  },
  {
   "cell_type": "code",
   "execution_count": 15,
   "metadata": {},
   "outputs": [],
   "source": [
    "pd.options.display.max_colwidth = 100"
   ]
  },
  {
   "cell_type": "code",
   "execution_count": 16,
   "metadata": {},
   "outputs": [],
   "source": [
    "# remove any accent from letters\n",
    "def unidecode_text(text):\n",
    "    try:\n",
    "        text = unidecode.unidecode(text)\n",
    "    except:\n",
    "        pass\n",
    "    return text\n",
    "\n",
    "for col in ['Location', 'Short_description']:\n",
    "    test[col] = test.apply(lambda row: unidecode_text(row[col]), axis = 1)"
   ]
  },
  {
   "cell_type": "code",
   "execution_count": 40,
   "metadata": {},
   "outputs": [
    {
     "data": {
      "text/plain": [
       "0                        Corporate Office - Phoenix 1\n",
       "1    St Mary's Medical Center San Francisco (SMMC-SF)\n",
       "3                                  Bruceville Terrace\n",
       "5               Marian Regional Medical Center (MRMC)\n",
       "7                    Woodland Memorial Hospital (WMH)\n",
       "Name: Location, dtype: object"
      ]
     },
     "execution_count": 40,
     "metadata": {},
     "output_type": "execute_result"
    }
   ],
   "source": [
    "# copy location to another data frame and remove duplicates\n",
    "locations = test['Location']\n",
    "locations = locations.drop_duplicates(keep = 'first')\n",
    "locations.head()"
   ]
  },
  {
   "cell_type": "code",
   "execution_count": 41,
   "metadata": {},
   "outputs": [],
   "source": [
    "# stop words for location\n",
    "\n",
    "# nltk text preprocessing\n",
    "import string\n",
    "import re\n",
    "import nltk\n",
    "from nltk import pos_tag\n",
    "from nltk.corpus import stopwords, wordnet\n",
    "from nltk.stem import WordNetLemmatizer\n",
    "from nltk.tokenize import word_tokenize\n",
    "\n",
    "import contractions\n",
    "\n",
    "stop = stopwords.words('english')\n",
    "lemmer = WordNetLemmatizer()\n",
    "\n",
    "# add punctuations to the stop words\n",
    "punc = ['.', ',', '\"', \"'\", '?', '!', ':', ';', '(', ')', '[', ']', '{', '}',\"%\"]\n",
    "stop.extend(punc)\n",
    "\n",
    "def get_wordnet_pos(pos_tag):\n",
    "    if pos_tag.startswith('J'):\n",
    "        return wordnet.ADJ\n",
    "    elif pos_tag.startswith('V'):\n",
    "        return wordnet.VERB\n",
    "    elif pos_tag.startswith('N'):\n",
    "        return wordnet.NOUN\n",
    "    elif pos_tag.startswith('R'):\n",
    "        return wordnet.ADV\n",
    "    else:\n",
    "        return wordnet.NOUN\n",
    "    \n",
    "def get_locations(text):\n",
    "\n",
    "    # lower case\n",
    "    text = text.lower()\n",
    "#     text = text.str.lower()\n",
    "\n",
    "    # replace '\\', '/', '|', '-' with spaces, thes are usually entered to separate words\n",
    "    # word tokenize doesn't tokenize on these\n",
    "    text = re.sub(r'[.=\\\\/\\|-]',' ', text)\n",
    "\n",
    "    # replace contractions\n",
    "    text = ' '.join(contractions.fix(word) for word in text.split())\n",
    "#     text = text.apply(lambda x: ' '.join(contractions.fix(word) for word in x.split()))\n",
    "    \n",
    "    # tokenize text and remove puncutation, strip would remove from word begining or end\n",
    "    text = [word.strip(string.punctuation) for word in word_tokenize(text)]\n",
    "#     text = text.apply(lambda x: ' '.join(word.strip(string.punctuation) for word in word_tokenize(x)))\n",
    "    \n",
    "    # remove words that contain numbers\n",
    "    text = [word for word in text if not any(c.isdigit() for c in word)]\n",
    "#     text = text.apply(lambda x: ' '.join(word for word in word_tokenize(x) if not any(c.isdigit() for c in word)))\n",
    "\n",
    "    # remove small tokens\n",
    "    text = [word for word in text if len(word) > 1]\n",
    "#     text = text.apply(lambda x: ' '.join(word for word in word_tokenize(x) if len(word) > 1))\n",
    "    \n",
    "    # remove stop words\n",
    "    text = [word for word in text if word not in set(stop)]\n",
    "#     text = text.apply(lambda x: ' '.join(word for word in word_tokenize(x) if word not in set(stop)))\n",
    "    \n",
    "    # pos tag text\n",
    "    pos_tags = pos_tag(text)\n",
    "    \n",
    "    # lemmatize text\n",
    "    text = [lemmer.lemmatize(t[0], get_wordnet_pos(t[1])) for t in pos_tags]\n",
    "#     text = text.apply(lambda x: ' '.join(lemmer.lemmatize(t[0], get_wordnet_pos(t[1])) for t in pos_tag(x)))\n",
    "    \n",
    "    text = ' '.join(text)\n",
    "    \n",
    "    return(text)\n",
    "    \n",
    "# locations_cleaned = get_locations(locations.astype(str))\n",
    "locations_cleaned = locations.apply(lambda x: get_locations(str(x)))"
   ]
  },
  {
   "cell_type": "code",
   "execution_count": 42,
   "metadata": {},
   "outputs": [
    {
     "data": {
      "text/plain": [
       "0                        corporate office phoenix\n",
       "1    st mary medical center san francisco smmc sf\n",
       "3                              bruceville terrace\n",
       "5             marian regional medical center mrmc\n",
       "7                  woodland memorial hospital wmh\n",
       "Name: Location, dtype: object"
      ]
     },
     "execution_count": 42,
     "metadata": {},
     "output_type": "execute_result"
    }
   ],
   "source": [
    "locations_cleaned.head()"
   ]
  },
  {
   "cell_type": "code",
   "execution_count": 43,
   "metadata": {},
   "outputs": [
    {
     "data": {
      "text/plain": [
       "500"
      ]
     },
     "execution_count": 43,
     "metadata": {},
     "output_type": "execute_result"
    }
   ],
   "source": [
    "# use the countvectorizer to convert to a list of words\n",
    "from sklearn import feature_extraction\n",
    "from sklearn.feature_extraction.text import CountVectorizer\n",
    "\n",
    "vectorizer = CountVectorizer()\n",
    "vectorizer.fit_transform(locations_cleaned.values)\n",
    "\n",
    "stop_locations = vectorizer.get_feature_names()\n",
    "len(stop_locations)"
   ]
  },
  {
   "cell_type": "code",
   "execution_count": 44,
   "metadata": {},
   "outputs": [
    {
     "data": {
      "text/plain": [
       "['de',\n",
       " 'deactivate',\n",
       " 'department',\n",
       " 'detention',\n",
       " 'development',\n",
       " 'dhmf',\n",
       " 'dhmg',\n",
       " 'dhmgn',\n",
       " 'dhmso',\n",
       " 'diabetes']"
      ]
     },
     "execution_count": 44,
     "metadata": {},
     "output_type": "execute_result"
    }
   ],
   "source": [
    "stop_locations[100:110]"
   ]
  },
  {
   "cell_type": "code",
   "execution_count": 106,
   "metadata": {},
   "outputs": [
    {
     "name": "stdout",
     "output_type": "stream",
     "text": [
      "CPU times: user 1min 17s, sys: 1.19 s, total: 1min 19s\n",
      "Wall time: 1min 19s\n"
     ]
    }
   ],
   "source": [
    "# extend stop words\n",
    "# words like issue, problem, resolve, fix - do not add more sense to the description and are common\n",
    "new_stopwords = ['chw','edu','phx','vapp', 'issue', 'issues', 'problem', 'problems', \n",
    "                 'resolve', 'resolved', 'fix', 'fixed']\n",
    "\n",
    "stop.extend(new_stopwords)\n",
    "\n",
    "# add the locations to the stop words\n",
    "stop.extend(stop_locations)\n",
    "\n",
    "\n",
    "def pre_process(text):\n",
    "\n",
    "    # lower case\n",
    "    text = text.lower()\n",
    "\n",
    "    # replace '\\', '/', '|', '-' with spaces, thes are usually entered to separate words\n",
    "    # word tokenize doesn't tokenize on these\n",
    "    text = re.sub(r'[.=\\\\/\\|-]',' ', text)\n",
    "\n",
    "    # replace contractions\n",
    "    text = ' '.join([contractions.fix(word) for word in text.split()])\n",
    "\n",
    "    # \"'d\": changes to \" would\", 'disk changes to wouldisk - unwanted contraction\n",
    "    # replace wouldisk with disk\n",
    "    text = text.replace('wouldisk', 'disk')  # replace with disk    \n",
    "\n",
    "    # 'not able' is a common way to report issue, replace 'not able' with 'unable'\n",
    "    # also not gets removed as part of stop words\n",
    "    text = text.replace('not able', 'unable')\n",
    "    text = text.replace('user id', 'user')\n",
    "    text = text.replace('username', 'user')\n",
    "    \n",
    "    # replace ms4 to medseries\n",
    "    text = text.replace('ms4', 'medseries')\n",
    "    \n",
    "    # there are lot of places in the description where II (2 caps I) has been used as separator\n",
    "    # this gets converted to small letter (ii) with high occurance, drop these letters\n",
    "    text = text.replace(' ii ', ' ')  # replace with spaces\n",
    "        \n",
    "    # tokenize text and remove puncutation, strip would remove from word begining or end\n",
    "    text = [word.strip(string.punctuation) for word in word_tokenize(text)]\n",
    "    \n",
    "    # remove words that contain numbers\n",
    "    text = [word for word in text if not any(c.isdigit() for c in word)]\n",
    "\n",
    "    # remove small tokens\n",
    "    text = [word for word in text if len(word) > 2]\n",
    "    \n",
    "    # remove stop words\n",
    "    text = [word for word in text if word not in set(stop)]\n",
    "    \n",
    "    # pos tag text\n",
    "    pos_tags = pos_tag(text)\n",
    "    \n",
    "    # lemmatize text\n",
    "    text = [lemmer.lemmatize(t[0], get_wordnet_pos(t[1])) for t in pos_tags]\n",
    "    # some verbs probably get tagged as noun and are not lemmatized\n",
    "    text = [lemmer.lemmatize(word, pos = 'v') for word in text]\n",
    "    \n",
    "    text = ' '.join(text)    \n",
    "  \n",
    "    return (text)\n",
    "    \n",
    "# cleaned_short_desc = pre_process(incs['Short_description'].astype(str))\n",
    "%time cleaned_short_desc = test['Short_description'].apply(lambda x: pre_process(x))"
   ]
  },
  {
   "cell_type": "code",
   "execution_count": 107,
   "metadata": {},
   "outputs": [
    {
     "data": {
      "text/plain": [
       "0                                   utilization threshold set disk file percent full\n",
       "1                                                     account lock unable login user\n",
       "2                                                                                   \n",
       "3                                                                     password reset\n",
       "4                              clairvia unable login password reset hduv do jmoyrong\n",
       "5                                             account lock unable login user jyongco\n",
       "6                              error message appear open cash_adjs clpdayend qrgxmsg\n",
       "7                                            wow display leave monitor upside device\n",
       "8                                          cpu utilization threshold set utilization\n",
       "9                                                receive cash_adjs clpdayend qclxerr\n",
       "10                                         cpu utilization threshold set utilization\n",
       "11                                         cpu utilization threshold set utilization\n",
       "12    medseries tier destination_realtime host ipaddress listen port charge multiple\n",
       "13                                                            master syslog critical\n",
       "14                                                                   syslog critical\n",
       "15                                                      app process process call run\n",
       "16                                                      app process process call run\n",
       "17                                                               meditech alert high\n",
       "18                  volume space nearly full warn event nas volume space nearly full\n",
       "19                                                                   syslog critical\n",
       "Name: Short_description, dtype: object"
      ]
     },
     "execution_count": 107,
     "metadata": {},
     "output_type": "execute_result"
    }
   ],
   "source": [
    "cleaned_short_desc[0:20]"
   ]
  },
  {
   "cell_type": "code",
   "execution_count": 108,
   "metadata": {},
   "outputs": [
    {
     "name": "stdout",
     "output_type": "stream",
     "text": [
      "75\n"
     ]
    }
   ],
   "source": [
    "# count of cells with no terms\n",
    "print(cleaned_short_desc.apply(lambda x: x == '').sum())"
   ]
  },
  {
   "cell_type": "code",
   "execution_count": 109,
   "metadata": {},
   "outputs": [],
   "source": [
    "def get_ips(text):\n",
    "    \n",
    "    # lower case\n",
    "    text = text.str.lower()\n",
    "    \n",
    "    # capture the IPs    \n",
    "    ip_pattern = re.compile(r'((-?)([A-Za-z0-9]{1,}[-.]{1,1}){2,6}([A-Za-z0-9]*))')  \n",
    "    ip = text.apply(lambda x: ' '.join(word for word in re.split('[\\': (),]', x) if ip_pattern.match(word)))\n",
    "    \n",
    "    return ip\n",
    "\n",
    "ips = get_ips(test['Short_description'])"
   ]
  },
  {
   "cell_type": "code",
   "execution_count": 110,
   "metadata": {},
   "outputs": [
    {
     "data": {
      "text/plain": [
       "0                phx-vapp-689.chw.edu\n",
       "1                                    \n",
       "2                        phx-vapp-408\n",
       "3                                    \n",
       "4                                    \n",
       "5                                    \n",
       "6                                    \n",
       "7                       10.203.212.24\n",
       "8                phx-vapp-842.chw.edu\n",
       "9                                    \n",
       "10               phx-vapp-237.chw.edu\n",
       "11               phx-vapp-238.chw.edu\n",
       "12                      -10.248.84.17\n",
       "13    chw-as1-2central-dsc 10.1.5.100\n",
       "14     chw-as2-2central-dsc 10.1.5.10\n",
       "15                phx-app-040.chw.edu\n",
       "16                phx-app-034.chw.edu\n",
       "17                                   \n",
       "18                    phxdc23c-nas-07\n",
       "19         chw-as1-2west-dsc 10.1.5.6\n",
       "Name: Short_description, dtype: object"
      ]
     },
     "execution_count": 110,
     "metadata": {},
     "output_type": "execute_result"
    }
   ],
   "source": [
    "ips[0:20]"
   ]
  },
  {
   "cell_type": "code",
   "execution_count": 111,
   "metadata": {},
   "outputs": [],
   "source": [
    "# add the processed text and extracted ips to dataframe\n",
    "test['Terms'] = cleaned_short_desc\n",
    "test['IPs'] = ips"
   ]
  },
  {
   "cell_type": "code",
   "execution_count": 112,
   "metadata": {},
   "outputs": [],
   "source": [
    "# drop the rows where 'Terms' column is spaces\n",
    "# test = test[test['Terms'] != '']"
   ]
  },
  {
   "cell_type": "code",
   "execution_count": 113,
   "metadata": {},
   "outputs": [],
   "source": [
    "# this cell is just for testing regex, etc\n",
    "# import re\n",
    "\n",
    "# print(re.split('[:\\' ]', '\\'phx-vapp-689.chw.edu\\': Utilization is \\'85.2\\'. Threshold is set to \\'Disk/File System/{C}/percent full >= 85\\''))\n",
    "\n",
    "# ip_pattern = re.compile(r'((-?)([A-Za-z0-9]{1,}[-.]{1,1}){2,6}([A-Za-z0-9]*))') \n",
    "\n",
    "# print(ip_pattern.match('phx-vapp-238.chw.edu'))\n",
    "# print(ip_pattern.match('CPU Utilization is '))\n",
    "# print(ip_pattern.match('85.2'))\n",
    "# print(ip_pattern.match('10.250.243.2'))\n",
    "# print(ip_pattern.match('-10.248.84.17'))\n",
    "# print(ip_pattern.match('192.168.2.85)'))\n",
    "# print(ip_pattern.match('10.1.5.100'))\n",
    "\n",
    "\n",
    "# test = pd.DataFrame({'strings': ['...', 'a(b$c']})\n",
    "# test.strings.str.replace('[^a-zA-Z ]', ' ')\n",
    "\n",
    "# print('This is a test in spite.'.split())\n",
    "# print(lemmer.lemmatize('physicians', pos='v'))\n",
    "# text = \"SMMC-////\\\\\\\\_||||==SF sdcchmc_lis.chw.edu\"\n",
    "# text = re.sub(r'[.=\\\\/\\|-]',' ', text)\n",
    "# print(text)\n",
    "\n",
    "# alpha = re.compile(r'([A-Za-z/\\-]*$)')\n",
    "\n",
    "# dk = pd.DataFrame({'sentences': ['This is a very MS4 ABCD901 \\'abc.xyz.109.01\\' good site. I will recommend it to others.', \n",
    "#                                  'Can you please give me a call at 9983938428. have issues with the listings.', \n",
    "#                                  'WOW / Workstation on Wheels || WOW / Workstation on Wheels Issue',\n",
    "#                                  '\\'phx-vapp-689.chw.edu\\': Utilization is \\'85.2\\'. Threshold is set to \\'Disk/File System/{C}/percent full >= 85',\n",
    "#                                  'Clairvia/not able to login//password reset hduv done jmoyrong/issue resolved',\n",
    "#                                  'God is Great/I won a lottery.',\n",
    "#                                  'CIM_2_BAYDSC19_MSFCHGX:MSF19CHGX:MedSeries 4:TIER-2 P05:DESTINATION_REALTIME:No host at ipAddress -10.248.84.17, listening on port -21529. :Charges - Multiple t',\n",
    "#                                  'Account Lock ||  Not able to login || user id-adeperalta001',\n",
    "#                                  'good work! keep it up, couldn\\'t able to login, couldn\\'t connect']})\n",
    "\n",
    "# dk['tokenized_sents']  = dk['sentences'].apply(lambda x: ' '.join(word for word in re.split('[\\': (),]', x) if ip_pattern.match(word)))\n",
    "\n",
    "\n",
    "\n",
    "# dk['tokenized_sents'] = dk['sentences'].apply(lambda x: ' '.join(word.lower() for word in x.split()))  # lower case\n",
    "# dk['tokenized_sents'] = dk['tokenized_sents'].apply(lambda x: ' '.join(contractions.fix(word) for word in x.split()))  # replace contractions\n",
    "\n",
    "# dk['tokenized_sents'] = dk['tokenized_sents'].str.replace('not able', 'unable')\n",
    "# dk['tokenized_sents'] = dk['tokenized_sents'].str.replace('[\\/-]', ' ')  # replace them with spaces\n",
    "\n",
    "# dk['tokenized_sents'] = dk['tokenized_sents'].apply(lambda x: ' '.join(word for word in word_tokenize(x) if alpha.match(word)))\n",
    "# dk['tokenized_sents'] = dk['tokenized_sents'].apply(lambda x: ' '.join([lemmer.lemmatize(word, pos='v') for word in word_tokenize(x)]))       #lemma\n",
    "# dk['tokenized_sents'] = dk['tokenized_sents'].apply(lambda x: ' '.join([word for word in word_tokenize(x) if word not in set(stop)]))   #stop\n",
    "\n",
    "# print(dk['tokenized_sents'])"
   ]
  },
  {
   "cell_type": "code",
   "execution_count": 114,
   "metadata": {},
   "outputs": [
    {
     "data": {
      "text/plain": [
       "1787                                active job complete exit status\n",
       "1788                                   tac mdf eigrp peer disappear\n",
       "1789                                active job complete exit status\n",
       "1790                                active job complete exit status\n",
       "1791                                active job complete exit status\n",
       "1794                      cpu utilization threshold set utilization\n",
       "1795     jennifer delcid emc power supply replacement serial number\n",
       "1796                                 account account lock user name\n",
       "1797                              account unable log user lock user\n",
       "1798        account password reset user name hduv do reset password\n",
       "1801             java window prompt come installation devid restart\n",
       "1802                        austin maley avasys need restart server\n",
       "1807                              medseries password reset nkessler\n",
       "1808                          medseries unable login unlock jespino\n",
       "1809               utilization threshold set disk file percent full\n",
       "1810     desktop unable get login screen devid dept room loc domini\n",
       "1811                  account account lock user name jcurrie unlock\n",
       "1812                citrix xenapp error unable launch cerner device\n",
       "1813                                         master syslog critical\n",
       "1816    account unable login password reset hduv do sbertmeyer reso\n",
       "Name: Terms, dtype: object"
      ]
     },
     "execution_count": 114,
     "metadata": {},
     "output_type": "execute_result"
    }
   ],
   "source": [
    "# view the terms column just before feature extraction\n",
    "test['Terms'][1470:1490]"
   ]
  },
  {
   "cell_type": "code",
   "execution_count": 115,
   "metadata": {},
   "outputs": [
    {
     "name": "stdout",
     "output_type": "stream",
     "text": [
      "CPU times: user 6.49 s, sys: 16.5 ms, total: 6.51 s\n",
      "Wall time: 6.51 s\n",
      "(61556, 5000)\n"
     ]
    }
   ],
   "source": [
    "from sklearn.feature_extraction.text import TfidfVectorizer\n",
    "\n",
    "# tfidf_vectorizer = TfidfVectorizer(max_features=10000, max_df=0.8, min_df=0.0005,                                  \n",
    "#                                   use_idf=True, tokenizer=word_tokenize, ngram_range=(1,3))\n",
    "\n",
    "vectorizer = TfidfVectorizer(max_features = 5000, # stop_words = stop,                               \n",
    "                                  use_idf = True, tokenizer = word_tokenize, ngram_range = (1,1))\n",
    "\n",
    "%time X = vectorizer.fit_transform(test['Terms'].values)\n",
    "\n",
    "print(X.shape)"
   ]
  },
  {
   "cell_type": "code",
   "execution_count": 116,
   "metadata": {},
   "outputs": [],
   "source": [
    "features = vectorizer.get_feature_names()\n",
    "freq = sum(X).toarray()[0]\n",
    "test_features = pd.DataFrame(freq, index = features, columns = ['frequency'])\n",
    "\n",
    "# sort the terms in descending order of frequency\n",
    "test_features.sort_values(by = ['frequency'], inplace = True, ascending = False)"
   ]
  },
  {
   "cell_type": "code",
   "execution_count": 117,
   "metadata": {},
   "outputs": [
    {
     "name": "stdout",
     "output_type": "stream",
     "text": [
      "               frequency\n",
      "unable       3831.747402\n",
      "user         3799.663947\n",
      "login        3466.864680\n",
      "account      2713.350064\n",
      "password     1816.322310\n",
      "lock         1541.458693\n",
      "reset        1539.339299\n",
      "need         1449.472727\n",
      "device       1427.830581\n",
      "mdf          1286.895290\n",
      "dev          1261.537961\n",
      "medseries    1161.910415\n",
      "main         1084.988066\n",
      "printer      1073.278512\n",
      "status       1049.887113\n",
      "cerner       1027.791573\n",
      "error         960.675172\n",
      "access        954.539932\n",
      "utilization   888.566541\n",
      "computer      888.351278\n",
      "job           886.339362\n",
      "do            884.477536\n",
      "unlock        850.515055\n",
      "up            845.948659\n",
      "desktop       845.884584\n",
      "smart         840.723048\n",
      "set           832.579696\n",
      "file          781.567739\n",
      "able          775.905074\n",
      "work          765.425471\n",
      "duo           754.539556\n",
      "threshold     737.986152\n",
      "hduv          736.309056\n",
      "associate     682.672784\n",
      "controller    680.754554\n",
      "print         643.721278\n",
      "full          639.080918\n",
      "complete      626.413951\n",
      "loc           621.873712\n",
      "disk          621.423754\n",
      "launch        612.522352\n",
      "percent       604.054123\n",
      "active        583.940600\n",
      "encryption    583.878673\n",
      "dept          570.653353\n",
      "exit          567.853405\n",
      "alarm         555.132036\n",
      "link          554.019295\n",
      "port          544.587570\n",
      "phone         543.207934\n"
     ]
    }
   ],
   "source": [
    "# print the top 50 occurances\n",
    "print(test_features[0:50])"
   ]
  },
  {
   "cell_type": "code",
   "execution_count": 118,
   "metadata": {},
   "outputs": [
    {
     "name": "stdout",
     "output_type": "stream",
     "text": [
      "            frequency\n",
      "gmhmed       0.681759\n",
      "ipa          0.671874\n",
      "junk         0.664677\n",
      "sell         0.658289\n",
      "synonym      0.655643\n",
      "ri           0.654936\n",
      "woodrd       0.646431\n",
      "nvnlv        0.642154\n",
      "nvbd         0.641287\n",
      "rlenz        0.639648\n",
      "sbmcclin     0.634918\n",
      "speechq      0.630863\n",
      "ssrnet       0.607296\n",
      "hambleton    0.603334\n",
      "reaso        0.580431\n",
      "smartwrite   0.573038\n",
      "sakuru       0.573038\n",
      "httpd        0.554465\n",
      "httpserver   0.528130\n",
      "sophia       0.521252\n"
     ]
    }
   ],
   "source": [
    "# print the last 20 occurances - terms with low frequency\n",
    "# how low is the frequency? do we have correct number of features\n",
    "print(test_features.tail(20))"
   ]
  },
  {
   "cell_type": "code",
   "execution_count": 120,
   "metadata": {},
   "outputs": [
    {
     "name": "stdout",
     "output_type": "stream",
     "text": [
      "['workplace', 'workroom', 'worksheet', 'workstation', 'world', 'wou', 'would', 'wouldh', 'wouldsc', 'woundcare', 'woundexpert', 'wow', 'wpo', 'wpobre', 'wpot', 'wqm', 'wright', 'wrinkle', 'wrist', 'wristband', 'write', 'writer', 'wroking', 'wrong', 'wrongly', 'wrwill', 'wsarkis', 'wsiebert', 'wts', 'wvillanueva', 'www', 'xcalderon', 'xcelera', 'xen', 'xenapp', 'xenn', 'xerox', 'xlarchve', 'xlbackup', 'xlcube', 'xlcubed', 'xlin', 'xmatters', 'xml', 'xnguyen', 'xper', 'xpercon', 'xray', 'xrays', 'xtend', 'xtra', 'xxi', 'yaguda', 'yahoo', 'yan', 'yarbrough', 'yasuko', 'ycabas', 'ycabasantana', 'year', 'yellow', 'yes', 'yesterday', 'yet', 'ygee', 'ykamto', 'ymadkins', 'ynguyengar', 'ynunez', 'yolo', 'yosemite', 'youtube', 'yparamo', 'ypetrishin', 'yporter', 'ysessions', 'yun', 'yvette', 'zapata', 'zara', 'zary', 'zda', 'zebra', 'zelkhoury', 'zen', 'zenapp', 'zero', 'zhang', 'ziedler', 'ziegelmayer', 'zimportdb', 'zip', 'zjaleco', 'zlegaspi', 'zone', 'zoom', 'zother', 'zrosado', 'zweingarten', 'zzaheer']\n"
     ]
    }
   ],
   "source": [
    "print(features[4900:5000])"
   ]
  },
  {
   "cell_type": "code",
   "execution_count": 121,
   "metadata": {},
   "outputs": [],
   "source": [
    "# using elbow method to find optimum number of clusters - start with 30 clusters\n",
    "\n",
    "# from sklearn.cluster import KMeans\n",
    "# wcss = []\n",
    "\n",
    "# for i in range(30, 51):\n",
    "#     km = KMeans(n_clusters = i, init = 'k-means++', max_iter = 100, n_init = 10, random_state = 1)\n",
    "#     km.fit(X)\n",
    "#     wcss.append(km.inertia_)\n",
    " \n",
    "# optimal_clusters = np.argmin(wcss) + 2 # As argmin return the index of minimum loss.\n",
    "\n",
    "# plt.plot(range(30, 51), wcss)\n",
    "# plt.title('The Elbow Method')\n",
    "# plt.xlabel('Number of Clusters')\n",
    "# plt.ylabel('WCSS')\n",
    "# plt.show()\n",
    "\n",
    "# print (\"The optimal number of clusters obtained is - \", optimal_clusters)\n",
    "# print (\"The loss for optimal cluster is - \", min(wcss))"
   ]
  },
  {
   "cell_type": "code",
   "execution_count": 122,
   "metadata": {},
   "outputs": [
    {
     "name": "stdout",
     "output_type": "stream",
     "text": [
      "CPU times: user 1 s, sys: 3.56 ms, total: 1.01 s\n",
      "Wall time: 1.01 s\n"
     ]
    },
    {
     "data": {
      "text/plain": [
       "MiniBatchKMeans(batch_size=100, compute_labels=True, init='k-means++',\n",
       "        init_size=None, max_iter=300, max_no_improvement=10, n_clusters=50,\n",
       "        n_init=3, random_state=1, reassignment_ratio=0.01, tol=0.0,\n",
       "        verbose=0)"
      ]
     },
     "execution_count": 122,
     "metadata": {},
     "output_type": "execute_result"
    }
   ],
   "source": [
    "num_clusters = 50\n",
    "\n",
    "# KMeans\n",
    "# from sklearn.cluster import KMeans\n",
    "\n",
    "# kmeans = KMeans(n_clusters = num_clusters, init = 'k-means++', max_iter = 300, n_init = 10, random_state = 1)\n",
    "# %time y = kmeans.fit_predict(X)\n",
    "# %time kmeans.fit(X)\n",
    "\n",
    "# Mini Batch KMeans\n",
    "from sklearn.cluster import MiniBatchKMeans\n",
    "\n",
    "kmeans = MiniBatchKMeans(n_clusters = num_clusters, init = 'k-means++', \n",
    "                         max_iter = 300, n_init = 3, random_state = 1)\n",
    "%time kmeans.fit(X)\n",
    "\n",
    "# clusters = kmeans.labels_.tolist()"
   ]
  },
  {
   "cell_type": "code",
   "execution_count": 123,
   "metadata": {},
   "outputs": [
    {
     "name": "stdout",
     "output_type": "stream",
     "text": [
      "61556\n",
      "(61556, 20)\n"
     ]
    }
   ],
   "source": [
    "# check the number of rows in data frame and the labels\n",
    "print(len(kmeans.labels_))\n",
    "print(test.shape)"
   ]
  },
  {
   "cell_type": "code",
   "execution_count": 124,
   "metadata": {},
   "outputs": [],
   "source": [
    "# copy the kmeans.labels_ as Cluster column\n",
    "test['Cluster'] = kmeans.labels_"
   ]
  },
  {
   "cell_type": "code",
   "execution_count": 125,
   "metadata": {},
   "outputs": [
    {
     "name": "stdout",
     "output_type": "stream",
     "text": [
      "                                                    Terms  Cluster\n",
      "0        utilization threshold set disk file percent full       46\n",
      "1                          account lock unable login user       33\n",
      "2                                                                1\n",
      "3                                          password reset       35\n",
      "4   clairvia unable login password reset hduv do jmoyrong       39\n",
      "5                  account lock unable login user jyongco       33\n",
      "6   error message appear open cash_adjs clpdayend qrgxmsg       31\n",
      "7                 wow display leave monitor upside device       25\n",
      "8               cpu utilization threshold set utilization       48\n",
      "9                     receive cash_adjs clpdayend qclxerr       45\n",
      "10              cpu utilization threshold set utilization       48\n"
     ]
    }
   ],
   "source": [
    "# print terms to cluster mapping\n",
    "print(test.loc[:10,['Terms', 'Cluster']])"
   ]
  },
  {
   "cell_type": "code",
   "execution_count": 126,
   "metadata": {},
   "outputs": [],
   "source": [
    "# Save cluster in pickle file for future use\n",
    "# import pickle\n",
    "\n",
    "# pickle.dump(km, open('pkl/km_1.pkl', 'wb'))"
   ]
  },
  {
   "cell_type": "code",
   "execution_count": 127,
   "metadata": {},
   "outputs": [
    {
     "name": "stdout",
     "output_type": "stream",
     "text": [
      "Cluster 0: cerner, powerchart, temperature, unable, value, high, port, ecisa, careb, login, user, sensor, temp, print, smart, up, scan, firstnet, unreachable, order, cross, miss, surginet, chart, device, dev, need, icon, introduction, report, account, list, show, application, pop, pathnet, track, name, discharge, emergency, information, patient, error, access, schedule, bridge, freeze, dmf, interface, charge,\n",
      "Cluster 1: unable, error, user, need, phone, device, miss, outlook, work, port, round, status, laptop, mdf, dev, email, time, monitor, scanner, get, power, interface, see, call, reboot, report, icon, screen, main, login, encryption, ping, account, humidity, info, additional, percentage, packet, print, scan, test, supply, critical, log, tier, syslog, send, receive, fail, value,\n",
      "Cluster 2: login, unable, user, encryption, account, able, dev, pass, es, mcafee, hold, lawson, yes, password, nfuse, hduv, time, journey, enable, apache, cerner, one, clairvia, laptop, boot, end, credential, guide, name, formfast, meditech, perform, team, artiva, try, axway, desktop, outlook, allscripts, jabber, ca, device, rco, window, ps, unlock, educate, ask, first, teletracking,\n",
      "Cluster 3: peer, bgp, establish, mdf, main, master, srdhsm, rorc, disappear, lvs, mfh, bsa, att, uacc, mcm, railsback, srdhs, whc, mdm, bofa, mpoe, dsch, pfs, weed, sjw, briefly, drpark, corp, harding, qcuc, nst, cfm, rcchild, fac, umc, qcs, bouldercr, edh, idf, strose, fsec, wcc, woundcare, homehealth, fam, maintenance, change, pvpc, safmc, rometowers,\n",
      "Cluster 4: volume, warn, event, offline, full, almost, space, nearly, nas, error, phxcorp, critical, bmh_eeg_remote_reading_active_sata_cifs, pac, exception, address, webtop, lvs_nas, hespina, hiec, hit, history, heather, hire, height, hilt, hello, hillmann, hill, help, highlight, higherground, high, helpdesk, hernandez, hie, hide, hemisphere, hhmmss, hemo, hhh_application, hhc, hemoglobin, hence, hepler, hglazebrook, hgamerow, hfitzpatrick, hhacker, zzaheer,\n",
      "Cluster 5: keyboard, mouse, work, key, monitor, dev, replace, dept, properly, device, loc, need, wow, round, impact, respond, user, letter, room, stick, desktop, computer, wireless, dep, wear, sticky, break, devid, unable, move, please, light, replacement, wire, function, get, provide, use, correctly, number, cover, type, button, click, board, call, restart, freeze, install, three,\n",
      "Cluster 6: mdf, controller, associate, main, nst, tower, master, corp, port, dsch, status, mob, mcm, bsa, mic, whc, cnt, verdugo, mfh, bighorn, cbcc, tceast, bronzestar, mtsjh, fam, kid, capitolafp, rcchild, fontanamob, creekside, iho, weber, srdhsm, gateway, reoccurring, cffb, infusionvt, roc, rocklinmob, vsmc, idf, dhmc, itc, entsensorthresholdnotification, arv, recur, pbx, whi, mtobgyn, sac,\n",
      "Cluster 7: nup, acknowledge, enup, need, user, acknowledgement, unable, accept, help, dev, guide, login, assistance, ps, take, enable, acknowledgment, account, educate, get, notification, email, uid, submit, usage, hold, expire, customer, assist, receive, want, policy, form, call, share, device, yes, screen, userid, do, devid, able, log, debbie, restrict, information, ment, recieved, complete, agreement,\n",
      "Cluster 8: alarm, up, smart, device, main, srt, mdf, nst, maint, mtsjh, tower, morrison, corp, hartnell, hlt, uacc, att, sldc, srdhs, sonoma, anc, guest, idfaccounting, cmp, psa, pbx, edcenter, nrc, idf, mfh, sld, occ, whc, dsch, master, sont, hiec, rehab, weber, mob, dmf, sanjuan, bra, woundcare, medication, mpoe, roc, csb, mcb, houston,\n",
      "Cluster 9: date, text, notification, amcore, dat, secop, verify, janaye, yarbrough, send, pending, keith, jane, analysis, admit, isaiah, gladys, castro, verification, update, user, jam, powell, maureen, workstation, erika, ryan, kristopher, apprvl, jennifer, vendormate, lobby, wow, close, hespina, hfitzpatrick, hgamerow, hhacker, hglazebrook, hepler, hhc, hhh_application, hospit, hhmmss, hide, hie, hernandez, homecare, hospita, hence,\n",
      "Cluster 10: invision, password, user, reset, login, unable, need, rco, name, userid, require, pheonix, rise, icon, do, hduv, miss, device, account, launch, file, pass, impact, dev, gmelen, work, rhaigw, patient, disable, dhi, create, hdov, delima, joes, label, nantil, error, give, gespin, jcobb, merge, cgales, rlabor, find, mcarri, access, rveran, application, print, report,\n",
      "Cluster 11: alarm, smart, up, main, device, mdf, mfh, change, hhmmss, hide, hie, hiec, high, higherground, hill, highlight, hillmann, hilt, hire, history, hit, hlarsen, hhh_application, zzaheer, hhc, hemoglobin, heather, height, hello, help, helpdesk, hemisphere, hemo, hence, hlt, hepler, hernandez, hespina, hfitzpatrick, hgamerow, hglazebrook, hhacker, hlarson, hmoorhead, hmi, hoster, hosp, hospi, hospit, hospita,\n",
      "Cluster 12: percent, disk, full, utilization, threshold, set, file, app, sql, vctx, vprt, viis, vaio, mmc, vsql, csm, mapper, memory, vrep, dev, sjm, use, sr, vol, chc, pac, var, aio, wouldh, systemvg, mmr, dignityhealth, org, vint, sjr, ccal, int, bay, mcc, seh, lvvar, fss, cor, nhc, srm, hmi, opt, bni, emu, svr,\n",
      "Cluster 13: devid, unable, dept, login, icon, loc, medseries, encryption, cerner, desktop, outlook, launch, work, uid, need, miss, error, one, mouse, print, email, map, userid, access, internet, communication, impact, start, load, user, lawson, website, guide, create, explorer, bad, laptop, dragon, account, es, see, team, scanner, powerchart, printer, send, handheld, screen, midas, application,\n",
      "Cluster 14: job, medseries, lock, unlock, number, account, user, need, kill, unable, remove, access, able, release, delete, name, customer, hold, domain, login, call, impact, get, asp, session, dev, clear, post, try, yes, side, doamin, use, resol, log, end, admission, resolv, stick, change, phxasp, time, jbotter, lbaldovinoz, acc, patient, lkwait, domian, jchanette, unlcoked,\n",
      "Cluster 15: account, unlock, login, unable, uid, user, able, access, lock, claim, need, axway, allscripts, name, flowcast, hduv, medseries, sgoldstein, do, jhardimon, userid, clairvia, allscript, gecb, exception, password, end, pconway, swillstout, reset, grey, mailgate, sac, aswangler, wangeloff, cmccauley, amonroycruz, help, still, eminnick, dbrandle, agevas, xcalderon, rsamra, ttaavao, buddy, outlook, expire, team, impact,\n",
      "Cluster 16: vpn, certificate, validation, unable, failure, user, error, login, instal, install, need, take, fail, logmein, laptop, authentication, certification, anyconnect, assistance, duo, access, device, log, dev, connect, cisco, installation, share, set, request, name, get, use, screen, able, setup, work, nfuse, userid, ps, guide, connection, uid, hold, lmi, help, make, information, import, desktop,\n",
      "Cluster 17: duo, need, user, activation, enroll, enrollment, link, nfuse, phone, enrol, send, activate, register, unable, login, want, setup, number, device, code, account, access, require, call, help, reactivate, add, guide, assistance, step, get, able, mobile, reactivation, application, customer, name, use, verification, email, passcode, successfully, two, uid, change, security, take, successful, registration, assist,\n",
      "Cluster 18: myjourney, unable, launch, course, access, user, dev, login, device, take, complete, restart, test, devid, browser, computer, load, evaluation, page, chrome, application, open, clear, website, work, display, google, sso, error, completion, request, guide, video, say, performance, icon, journey, need, history, url, module, change, reset, couse, call, retake, credential, hold, uid, show,\n",
      "Cluster 19: socket, throw, alive, timeout, point, source_realtime, keep, end, tier, error, application, millennium, suite, domain, hub, nitiate, identity, unable, careb, omnicell, solution, bridge, ecisa, withi, midas, app, appli, document, meditech, within, unavailable, initiate, sonifi, rubicon, soc, appl, conn, ab, hccl, team, endoworks, vericis, cardio, pac, dominator, sorr, pathnet, system, copath, arup,\n",
      "Cluster 20: computer, unable, desktop, work, device, screen, restart, turn, dev, login, user, need, internet, error, icon, dept, slow, connect, start, stick, get, call, maintenance, room, freeze, laptop, monitor, miss, ask, black, perform, log, outlook, round, encryption, dep, slowness, install, take, mouse, loc, map, multiple, boot, application, configure, automatically, power, printer, update,\n",
      "Cluster 21: acc, unlock, lock, login, user, unable, do, password, change, able, hduv, reset, outcome, jhaleem, apache, gwarling, need, first, clairvia, enable, account, time, customer, hwirtz, eamparo, kpalm, cclayton, aphuynh, cerner, rceli, tanner, caller, buddy, msanjose, available, ldetka, enowellaguiman, allscripts, also, downtime, thudock, gmail, windows, access, i, medseries, slentz, pa, refer, hang,\n",
      "Cluster 22: please, add, assist, ticket, cft, heartbeat, arrive, component, ensure, check, printer, mft, create, follow, cftprd, cxnmft, event, investigate, need, laptop, install, mcafee, disregard, mistake, verify, computer, run, monitor, help, use, phone, file, encryption, assign, host, update, refer, name, replace, pcmain, sync, user, remove, domain, webex, team, desk, thank, room, port,\n",
      "Cluster 23: outage, mdf, master, main, rehab, chwmf, roc, sac, corp, guest, bouldercr, att, fou, smlb, lvs, itc, sld, bighorn, felton, frontier, chassis, pradius, colo, pbx, cbcc, mmp, sldc, bsa, infusionvt, crh, occ, aru, mic, timberlake, carmurology, bronzestar, dsch, secondary, mch, mcb, copper, mtsjh, multiple, ccicc, bra, fac, idf, pri, mtobgyn, heartvascular,\n",
      "Cluster 24: process, run, service, call, citrix, vctx, manager, print, agent, sql, sharepoint, vii, server, mssqlserver, monitor, spooler, ctx, timer, mfcom, imagenow, netsmart, vprt, world, homecare, wide, publish, web, administration, app, onecontent, dm_to_cpdi, imsadr_aznv_imsadr_aznv_router, mobilemd, ii, sjr, tomcat, use, name, architecture, independent, hhc, window, control, mmr, reportemailrouter, qlikview, search, modelemailrouter, application, modelfaxrouter,\n",
      "Cluster 25: wow, turn, work, charge, dev, wheel, device, computer, workstation, scanner, loc, dept, unable, break, power, mouse, impact, screen, keyboard, freeze, icu, desktop, devid, attention, user, login, need, stick, internet, black, start, repair, pad, plug, slow, connect, respiratory, application, cerner, signature, floor, monitor, wire, properly, require, round, dep, locate, sign, nurse,\n",
      "Cluster 26: printer, print, kyocera, map, unable, jam, dev, need, paper, add, device, label, computer, user, work, equip, loc, dept, equipment, take, anything, devid, error, make, default, noise, zebra, impact, properly, page, desktop, dep, setup, address, document, provide, want, cerner, install, medseries, keep, call, driver, queue, able, vprt, turn, use, que, say,\n",
      "Cluster 27: temperature, high, value, port, sensor, temp, smart, up, integrate, rcchild, dmf, smlb, edc_p, mdf, hilt, cath, main, edc_ff, humidity, edc_t, meditech, elm, morrison, srt, amb, cttnwd, aghc, hiec, hill, hie, hide, highlight, hillmann, higherground, zzaheer, hhmmss, hepler, help, helpdesk, hemisphere, hemo, hemoglobin, hence, hernandez, hhh_application, hespina, hfitzpatrick, hgamerow, hglazebrook, hhacker,\n",
      "Cluster 28: customer, account, login, unlock, user, unable, able, pas, lock, enup, hduv, do, already, call, ask, pa, back, medseries, many, log, guide, want, attempt, password, acc, enable, exception, know, cerner, journey, wsarkis, fine, jcosterisan, acco, bbuan, allscripts, aphuynh, ess, disable, clairvia, reset, script, wifi, inform, accou, pss, flowcast, skalmadi, dwaterhouse, adh,\n",
      "Cluster 29: exit, active, complete, job, status, zzaheer, highlight, hide, hie, hiec, high, higherground, hillmann, hill, hhh_application, hilt, hire, history, hit, hlarsen, hhmmss, hhc, hlt, hemo, heat, heather, height, hello, help, helpdesk, hemisphere, hemoglobin, hhacker, hence, hepler, hernandez, hespina, hfitzpatrick, hgamerow, hglazebrook, hlarson, hmi, heartlab, hoster, hosp, hospi, hospit, hospita, hospital, hospitalist,\n",
      "Cluster 30: launch, unable, application, device, cerner, dev, journey, user, icon, medseries, error, chrome, nfuse, take, desktop, powerchart, computer, website, outlook, impact, dragon, miss, google, internet, course, explorer, browser, allscripts, meditech, ask, team, loc, comodo, manager, restart, personal, shortcut, dept, dep, web, policy, file, edm, reboot, able, mac, screen, lawson, call, tm,\n",
      "Cluster 31: open, unable, outlook, device, application, error, website, attachment, file, user, email, dev, internet, cerner, chrome, pdf, message, explorer, journey, appear, computer, desktop, archive, icon, owa, screen, chart, take, page, qrnxie, powerchart, box, google, browser, access, try, vault, report, change, lawson, share, document, portal, devid, window, loc, excel, userid, attach, freeze,\n",
      "Cluster 32: logon, unable, user, available, error, server, encryption, jabber, nfuse, laptop, desktop, hold, es, ps, remotely, computer, cerner, fail, lawson, login, educate, team, dev, axway, medseries, meditech, career, dept, account, disable, unknown, authenticate, lock, password, vpn, screen, able, formfast, currently, credential, window, powerchart, yes, get, floor, outlook, device, wait, time, policy,\n",
      "Cluster 33: account, lock, user, unlock, login, unable, able, name, medseries, allscripts, activate, access, clairvia, get, log, frequently, axway, enable, need, frequent, end, error, nup, dev, careaware, cerner, userid, intruder, flowcast, cmccauley, bbuan, acc, sac, areddyavula, check, msorgeloos, time, mailgate, gecb, sbarela, team, window, remove, release, repeatedly, duo, rpirsaheli, com, mnaik, computer,\n",
      "Cluster 34: desktop, loc, dept, dev, impact, dep, work, device, unable, user, screen, turn, icon, miss, internet, monitor, error, provide, laptop, stick, phone, login, get, black, scanner, slow, rise, floor, freeze, icu, contact, connect, computer, need, boot, application, window, admit, mouse, encryption, room, access, print, properly, update, power, start, medseries, repair, keep,\n",
      "Cluster 35: reset, password, user, medseries, login, unable, dev, need, cerner, want, allscripts, end, rco, account, meditech, jabber, share, hduv, outlook, cisco, register, lock, screen, do, helpdesk, hemisphere, highlight, higherground, high, hiec, hie, hide, hhmmss, heather, height, hello, hhh_application, hotel, hhc, hostname, hhacker, hoster, host, hglazebrook, hill, hfitzpatrick, hespina, hernandez, help, hepler,\n",
      "Cluster 36: lose, communication, link, status, smart, up, main, mdf, srt, srdhs, smlb, mcm, twr, mmp, rehab, corp, mtsj, mob, uacc, vsmc, mpoe, srdhrdl, weed, tower, vetrehab, srdhsm, sjw, idf, sancarlosfp, shastina, whc, belmont, fou, universal, fam, anc, mtsjh, hlt, hccl, premier, cbcc, pa, sld, brae, bear, farr, cath, mrmcw, itc, nrc,\n"
     ]
    },
    {
     "name": "stdout",
     "output_type": "stream",
     "text": [
      "Cluster 37: gecb, unable, sac, error, user, exception, login, handler, access, dev, account, lock, get, device, etm, schedule, password, centricity, launch, message, flowcast, print, pull, receipt, reset, appointment, log, application, uid, view, limit, record, session, fatal, impact, reprint, patient, reach, enable, clear, net, end, prod, scanner, installation, work, optimize, say, instal, loc,\n",
      "Cluster 38: userid, lock, account, login, unable, medseries, clairvia, disable, gecb, unlock, cerner, first, time, jpinlac, slowery, ffragoso, powerchart, desktop, gvu, allscripts, sbendah, ttheodoreedevu, name, jibalio, apache, meditech, get, reward, total, formfast, devid, lhairston, lgil, ypetrishin, imate, vzill, zelkhoury, jlin, rramachandran, jlpiercy, sly, rruelas, surginet, soarian, idx, computer, teletracking, mcafee, device, enup,\n",
      "Cluster 39: do, password, login, hduv, reset, able, user, unable, account, hold, yes, customer, invision, uid, change, medseries, buddy, incorrect, apache, temporary, give, enup, rco, hdou, share, clairvia, enable, cerner, need, pas, allscripts, first, formfast, gecb, profile, disable, dev, time, sac, reso, call, already, flowcast, activate, outcome, want, forget, reason, meditech, name,\n",
      "Cluster 40: right, instal, need, day, one, icon, install, device, dev, user, application, software, lar, computer, want, take, printer, fax, access, help, provide, laptop, jabber, require, cerner, local, installation, customer, desktop, miss, box, axiom, marimba, uid, update, work, caller, dragon, viewpoint, add, hold, chrome, devip, driver, call, get, devid, meditech, mpas, webex,\n",
      "Cluster 41: mft, cxnmft, message, framework, cxnmft_utilities, tier, file, error, per, interface, receive, interrupt, fail, directory, consume, con, sftp, deliver, efr, true, rejectedreason, medseries, component, destination, txt, millennium, suite, con_msf, artiva, event, pickup, bill, arrive, heartbeat, meditech, cft, mobibkup, vdrnet_dev, last, production, please, start, unable, payload, document, ensure, exchange, sinc, seem, teamhealth,\n",
      "Cluster 42: medseries, login, unable, user, enable, error, account, communication, device, disable, dev, print, occur, profile, able, uid, access, report, reason, icon, get, lock, screen, miss, label, launch, domain, facesheets, end, password, discharge, lkwait, blank, sign, name, register, change, face, sheet, impact, hduv, bad, log, hold, pas, wait, file, dept, unlock, ndzapo,\n",
      "Cluster 43: citrix, launch, receiver, unable, application, error, user, cerner, protocol, instal, mac, app, xenapp, desktop, driver, access, device, version, server, login, work, installation, nfuse, xen, reciever, zen, take, download, personal, dev, need, impact, install, zenapp, loc, end, freeze, late, wow, via, dep, laptop, properly, open, duo, connection, computer, chart, connect, ask,\n",
      "Cluster 44: access, unable, user, dev, request, outlook, need, email, share, cerner, journey, device, website, name, take, medseries, error, able, desktop, internet, deny, place, nfuse, help, try, login, owa, reward, manager, total, get, adh, account, want, jabber, application, folder, map, assist, provide, call, policy, incomplete, file, check, browser, guide, icon, customer, change,\n",
      "Cluster 45: qclxerr, receive, procedure, mmmdayend, smmdayend, esplf, autodayend, nhfdayend, ecsvqry, ecsvqrys, aliacnsmmm, ecsvqryc, cmcdayend, dmcpqrctl, hsccshrpt, bmcpautode, auto_f, mmrdayend, snmdayend, mfhdayend, auto_sq, sjmdayend, dpautonite, sjbdayend, optdextsfm, sftplstcl, auto_st, msjdayend, qpgmrnolog, optdextmmm, csbdayend, cshpostsmm, sbmdayend, revaqyhisa, strjrnbld, dftpgmr, hscdmtdrv, demonitor, mhbdayend, mmcdayend, mghdayend, mmsdayend, auto_ch, bmhdayend, vhfdayend, stmautode, jholland, edwextshs, shsdayend, mgmdayend,\n",
      "Cluster 46: percent, disk, full, utilization, threshold, file, set, dev, test, fax, higherground, hie, hiec, high, hilt, highlight, hill, hillmann, hire, history, hit, hlarsen, hide, zzaheer, hhmmss, hence, height, hello, help, helpdesk, hemisphere, hemo, hemoglobin, hepler, hhh_application, hernandez, hespina, hfitzpatrick, hgamerow, hglazebrook, hhacker, hhc, hlarson, hmoorhead, hlt, host, hos, hosp, hospi, hospit,\n",
      "Cluster 47: password, reset, user, need, unable, login, account, userid, name, hduv, change, log, do, require, apache, clairvia, rco, medseries, guide, expire, meditech, cerner, voicemail, forget, flowcast, want, axway, allscripts, ps, call, formfast, device, able, try, first, time, cisco, dev, invision, question, jabber, take, help, assist, encryption, access, buddy, sso, verification, phone,\n",
      "Cluster 48: utilization, cpu, threshold, set, medbg, vprt, vii, vint, vora, app, medarc, dignityhealth, org, medps, sdcchmc_lis, syngo, sdsa, sjw, medfs, backup, vsql, vctx, csm, vaio, sql, pcn, prt, sdm, utl, cpacs, sjh, sac, vfax, svuserapp, snmhsms, dvidmi, pvuserapp, mhhs, script, dep, heartlab, heartcode, hgamerow, heartvascular, hhacker, hfitzpatrick, hglazebrook, heartcode®, hemoglobin, hespina,\n",
      "Cluster 49: ipaddress, listen, destination_realtime, host, tier, port, adt, order, suite, omnicell, nutrition, document, millennium, provider, service, portal, nitiate, hub, identity, domain, john, allergy, result, dominator, pac, empi, multiple, bedtracking, medseries, prod, charge, aznv, edm, ecisa, abstract, mobilemd, formfast, generic, careb, interface, informatio, teletracking, hosp, hospital, ecare, sound, rad, ho, joseph, initiate,\n",
      "(50, 2)\n"
     ]
    }
   ],
   "source": [
    "# order_centroids = kmeans.cluster_centers_.argsort()[:,-1:-51:-1]\n",
    "# for num, centroid in enumerate(order_centroids):\n",
    "#     print(str(num) + ' : ' + ', '.join(features[word] for word in centroid))\n",
    "    \n",
    "# Create mapping of ngram features into clusters, \n",
    "# save into terms map object with key as cluster name (first feature in each cluster - with 2 words)\n",
    "# terms = top 50 ngram features\n",
    "\n",
    "order_centroids = kmeans.cluster_centers_.argsort()[:, :51:-1]\n",
    "\n",
    "terms_map = pd.DataFrame(index = np.arange(0, num_clusters), columns = ['features','key'])    \n",
    "for i in range(num_clusters):\n",
    "    print(\"Cluster %d:\" % i, end='')\n",
    "    #terms_map['key'] = i\n",
    "    list = [] \n",
    "    for ind in order_centroids[i, :50]:\n",
    "        print(' %s' % features[ind], end=',')\n",
    "        list.append(features[ind])\n",
    "    for ind2 in order_centroids[i, :1]:\n",
    "        terms_map.key.loc[i] = features[ind2]\n",
    "\n",
    "    str = ', '.join(list) \n",
    "    terms_map.features.loc[i] = str\n",
    "    print()\n",
    "print(terms_map.shape)"
   ]
  },
  {
   "cell_type": "code",
   "execution_count": 128,
   "metadata": {},
   "outputs": [
    {
     "data": {
      "text/plain": [
       "<matplotlib.axes._subplots.AxesSubplot at 0x1275a5fd0>"
      ]
     },
     "execution_count": 128,
     "metadata": {},
     "output_type": "execute_result"
    },
    {
     "data": {
      "image/png": "[encoded data removed]",
      "text/plain": [
       "<Figure size 432x288 with 1 Axes>"
      ]
     },
     "metadata": {
      "needs_background": "light"
     },
     "output_type": "display_data"
    }
   ],
   "source": [
    "# analyze the clusters\n",
    "top_clusters = test['Cluster'].value_counts()\n",
    "top_clusters.plot.bar(x = 'Cluster', y = 'Counts')"
   ]
  },
  {
   "cell_type": "code",
   "execution_count": 129,
   "metadata": {},
   "outputs": [
    {
     "name": "stdout",
     "output_type": "stream",
     "text": [
      "                                                                                      Short_description  \\\n",
      "2                                                                              PHX-VAPP-408 - SAC0 MGH0   \n",
      "13                          MASTER // nmscust02-2 : CHW-as1-2central-dsc : 10.1.5.100 : Syslog Critical   \n",
      "14                                     nmscust02-2 : CHW-as2-2central-dsc : 10.1.5.10 : Syslog Critical   \n",
      "17                                                   MEDITECH ALERT (HIGH)                                \n",
      "19                                         nmscust02-2 : CHW-as1-2west-dsc : 10.1.5.6 : Syslog Critical   \n",
      "24  CIM_2_MCD95_HCLORDL:HCL99ORDL:HCCL:TIER-2:DESTINATION_REALTIME:Try 1 to receive the response fro...   \n",
      "28  CIM_2_BAYDSC19_OMNADT:OMN19ADT:Omnicell:TIER-0:DESTINATION_REALTIME:Try 1 to receive the respons...   \n",
      "30                                                                My journey performance and evaluation   \n",
      "41  PHXASP08 RNQ1218 Unable to allocate a record in file PHPINSR (R C G D F). ADE_MHB    MHBDAYEND  ...   \n",
      "42  PHXASP01 RPG1218 PH5535RP 2100 is unable to allocate a record in PHPACCT (R C G S D F). ADE_MMC ...   \n",
      "\n",
      "                                                                                              Terms  \\\n",
      "2                                                                                                     \n",
      "13                                                                           master syslog critical   \n",
      "14                                                                                  syslog critical   \n",
      "17                                                                              meditech alert high   \n",
      "19                                                                                  syslog critical   \n",
      "24  hccl tier destination_realtime try receive response destination application order hospital bake   \n",
      "28              omnicell tier destination_realtime try receive response destination application adt   \n",
      "30                                                                   journey performance evaluation   \n",
      "41                                            unable allocate file phpinsr ade_mhb mhbdayend qrnxie   \n",
      "42                                                unable allocate phpacct ade_mmc mmcdayend qrgxmsg   \n",
      "\n",
      "                                IPs  Cluster  \n",
      "2                      phx-vapp-408        1  \n",
      "13  chw-as1-2central-dsc 10.1.5.100        1  \n",
      "14   chw-as2-2central-dsc 10.1.5.10        1  \n",
      "17                                         1  \n",
      "19       chw-as1-2west-dsc 10.1.5.6        1  \n",
      "24                                         1  \n",
      "28                                         1  \n",
      "30                                         1  \n",
      "41                                         1  \n",
      "42                                         1  \n"
     ]
    }
   ],
   "source": [
    "# there is high volume for cluster 1, look at few to investigate\n",
    "print(test[test.Cluster == 1].iloc[:10, [15,17,18,19]])"
   ]
  },
  {
   "cell_type": "code",
   "execution_count": null,
   "metadata": {},
   "outputs": [],
   "source": []
  }
 ],
 "metadata": {
  "kernelspec": {
   "display_name": "Python 3",
   "language": "python",
   "name": "python3"
  },
  "language_info": {
   "codemirror_mode": {
    "name": "ipython",
    "version": 3
   },
   "file_extension": ".py",
   "mimetype": "text/x-python",
   "name": "python",
   "nbconvert_exporter": "python",
   "pygments_lexer": "ipython3",
   "version": "3.7.1"
  }
 },
 "nbformat": 4,
 "nbformat_minor": 2
}
