{
 "cells": [
  {
   "cell_type": "code",
   "execution_count": 1,
   "metadata": {},
   "outputs": [
    {
     "name": "stdout",
     "output_type": "stream",
     "text": [
      "c:\\python36\\python.exe\n",
      "3.6.6 (v3.6.6:4cf1f54eb7, Jun 27 2018, 03:37:03) [MSC v.1900 64 bit (AMD64)]\n",
      "sys.version_info(major=3, minor=6, micro=6, releaselevel='final', serial=0)\n"
     ]
    }
   ],
   "source": [
    "import sys\n",
    "print(sys.executable)\n",
    "print(sys.version)\n",
    "print(sys.version_info)"
   ]
  },
  {
   "cell_type": "code",
   "execution_count": 2,
   "metadata": {},
   "outputs": [],
   "source": [
    "import numpy as np\n",
    "import matplotlib.pyplot as plt\n",
    "import pandas as pd\n",
    "# import os\n",
    "# import codecs"
   ]
  },
  {
   "cell_type": "code",
   "execution_count": 5,
   "metadata": {},
   "outputs": [],
   "source": [
    "# target_url = (\"/Users/devkrroy/Dev/Projects/snow/data/export3.xlsx\")\n",
    "target_url = (\"C:/Dev/Projects/snow/data/export3.xlsx\")"
   ]
  },
  {
   "cell_type": "code",
   "execution_count": 6,
   "metadata": {},
   "outputs": [],
   "source": [
    "df = pd.read_excel(target_url)"
   ]
  },
  {
   "cell_type": "code",
   "execution_count": 7,
   "metadata": {},
   "outputs": [
    {
     "name": "stdout",
     "output_type": "stream",
     "text": [
      "<class 'pandas.core.frame.DataFrame'>\n",
      "RangeIndex: 95373 entries, 0 to 95372\n",
      "Data columns (total 28 columns):\n",
      "Number                95373 non-null object\n",
      "Assignment_group      95373 non-null object\n",
      "Priority              95373 non-null object\n",
      "State                 95373 non-null object\n",
      "Category              93947 non-null object\n",
      "Subcategory           61328 non-null object\n",
      "Severity              95373 non-null object\n",
      "Closure_CI            94492 non-null object\n",
      "Location              95079 non-null object\n",
      "Close_code            94559 non-null object\n",
      "Configuration_item    95373 non-null object\n",
      "Child_Incidents       95373 non-null int64\n",
      "Contact_type          95373 non-null object\n",
      "Duration              95373 non-null int64\n",
      "Impact                95373 non-null object\n",
      "Short_description     95373 non-null object\n",
      "Created               95373 non-null datetime64[ns]\n",
      "dates                 95373 non-null datetime64[ns]\n",
      "date                  95373 non-null datetime64[ns]\n",
      "day                   95373 non-null object\n",
      "month                 95373 non-null object\n",
      "dom                   95373 non-null int64\n",
      "week                  95373 non-null int64\n",
      "week2                 95373 non-null int64\n",
      "cluster               95373 non-null int64\n",
      "cluster1              95373 non-null int64\n",
      "cluster_name1         95373 non-null object\n",
      "cluster_name          95373 non-null object\n",
      "dtypes: datetime64[ns](3), int64(7), object(18)\n",
      "memory usage: 20.4+ MB\n",
      "['Number' 'Assignment_group' 'Priority' 'State' 'Category' 'Subcategory'\n",
      " 'Severity' 'Closure_CI' 'Location' 'Close_code' 'Configuration_item'\n",
      " 'Child_Incidents' 'Contact_type' 'Duration' 'Impact' 'Short_description'\n",
      " 'Created' 'dates' 'date' 'day' 'month' 'dom' 'week' 'week2' 'cluster'\n",
      " 'cluster1' 'cluster_name1' 'cluster_name']\n"
     ]
    }
   ],
   "source": [
    "df.info()\n",
    "print(df.columns.values)"
   ]
  },
  {
   "cell_type": "code",
   "execution_count": 8,
   "metadata": {},
   "outputs": [
    {
     "data": {
      "text/html": [
       "<div>\n",
       "<style scoped>\n",
       "    .dataframe tbody tr th:only-of-type {\n",
       "        vertical-align: middle;\n",
       "    }\n",
       "\n",
       "    .dataframe tbody tr th {\n",
       "        vertical-align: top;\n",
       "    }\n",
       "\n",
       "    .dataframe thead th {\n",
       "        text-align: right;\n",
       "    }\n",
       "</style>\n",
       "<table border=\"1\" class=\"dataframe\">\n",
       "  <thead>\n",
       "    <tr style=\"text-align: right;\">\n",
       "      <th></th>\n",
       "      <th>Number</th>\n",
       "      <th>Assignment_group</th>\n",
       "      <th>Priority</th>\n",
       "      <th>State</th>\n",
       "      <th>Category</th>\n",
       "      <th>Subcategory</th>\n",
       "      <th>Severity</th>\n",
       "      <th>Closure_CI</th>\n",
       "      <th>Location</th>\n",
       "      <th>Close_code</th>\n",
       "      <th>...</th>\n",
       "      <th>date</th>\n",
       "      <th>day</th>\n",
       "      <th>month</th>\n",
       "      <th>dom</th>\n",
       "      <th>week</th>\n",
       "      <th>week2</th>\n",
       "      <th>cluster</th>\n",
       "      <th>cluster1</th>\n",
       "      <th>cluster_name1</th>\n",
       "      <th>cluster_name</th>\n",
       "    </tr>\n",
       "  </thead>\n",
       "  <tbody>\n",
       "    <tr>\n",
       "      <th>0</th>\n",
       "      <td>INC0489304</td>\n",
       "      <td>DH-Enterprise IT Service Cntr</td>\n",
       "      <td>4 - Low</td>\n",
       "      <td>Closed</td>\n",
       "      <td>Security</td>\n",
       "      <td>NaN</td>\n",
       "      <td>3 - Low</td>\n",
       "      <td>Network Account Issue</td>\n",
       "      <td>Mercy Medical Center Merced (MMCM)</td>\n",
       "      <td>Application</td>\n",
       "      <td>...</td>\n",
       "      <td>2018-10-14</td>\n",
       "      <td>Sunday</td>\n",
       "      <td>October</td>\n",
       "      <td>14</td>\n",
       "      <td>2</td>\n",
       "      <td>2</td>\n",
       "      <td>14</td>\n",
       "      <td>4</td>\n",
       "      <td>login</td>\n",
       "      <td>login</td>\n",
       "    </tr>\n",
       "    <tr>\n",
       "      <th>1</th>\n",
       "      <td>INC0489303</td>\n",
       "      <td>DHE-Command Center</td>\n",
       "      <td>2 - High</td>\n",
       "      <td>Closed</td>\n",
       "      <td>Server</td>\n",
       "      <td>Windows</td>\n",
       "      <td>3 - Low</td>\n",
       "      <td>phx-vapp-835</td>\n",
       "      <td>Corporate Office - Phoenix 1</td>\n",
       "      <td>Resolved by Event</td>\n",
       "      <td>...</td>\n",
       "      <td>2018-10-14</td>\n",
       "      <td>Sunday</td>\n",
       "      <td>October</td>\n",
       "      <td>14</td>\n",
       "      <td>2</td>\n",
       "      <td>2</td>\n",
       "      <td>44</td>\n",
       "      <td>41</td>\n",
       "      <td>socket issue</td>\n",
       "      <td>cerner</td>\n",
       "    </tr>\n",
       "    <tr>\n",
       "      <th>2</th>\n",
       "      <td>INC0489302</td>\n",
       "      <td>DHE-Command Center</td>\n",
       "      <td>3 - Moderate</td>\n",
       "      <td>Closed</td>\n",
       "      <td>Server</td>\n",
       "      <td>Windows</td>\n",
       "      <td>3 - Low</td>\n",
       "      <td>phx-vprt-002</td>\n",
       "      <td>Corporate Office - Phoenix 1</td>\n",
       "      <td>Resolved by Event</td>\n",
       "      <td>...</td>\n",
       "      <td>2018-10-14</td>\n",
       "      <td>Sunday</td>\n",
       "      <td>October</td>\n",
       "      <td>14</td>\n",
       "      <td>2</td>\n",
       "      <td>2</td>\n",
       "      <td>7</td>\n",
       "      <td>1</td>\n",
       "      <td>utilization</td>\n",
       "      <td>utilization</td>\n",
       "    </tr>\n",
       "    <tr>\n",
       "      <th>3</th>\n",
       "      <td>INC0489301</td>\n",
       "      <td>DH-Enterprise IT Service Cntr</td>\n",
       "      <td>4 - Low</td>\n",
       "      <td>Closed</td>\n",
       "      <td>Application</td>\n",
       "      <td>NaN</td>\n",
       "      <td>3 - Low</td>\n",
       "      <td>Cerner Millennium FirstNet 2015.10.19</td>\n",
       "      <td>Community Hospital of San Bernardino (CHSB)</td>\n",
       "      <td>Application</td>\n",
       "      <td>...</td>\n",
       "      <td>2018-10-14</td>\n",
       "      <td>Sunday</td>\n",
       "      <td>October</td>\n",
       "      <td>14</td>\n",
       "      <td>2</td>\n",
       "      <td>2</td>\n",
       "      <td>37</td>\n",
       "      <td>25</td>\n",
       "      <td>access</td>\n",
       "      <td>access issue</td>\n",
       "    </tr>\n",
       "    <tr>\n",
       "      <th>4</th>\n",
       "      <td>INC0489300</td>\n",
       "      <td>DHE-Command Center</td>\n",
       "      <td>3 - Moderate</td>\n",
       "      <td>Closed</td>\n",
       "      <td>Server</td>\n",
       "      <td>Windows</td>\n",
       "      <td>3 - Low</td>\n",
       "      <td>bmh-vapp-002</td>\n",
       "      <td>Corporate Office - Phoenix 1</td>\n",
       "      <td>Resolved by Event</td>\n",
       "      <td>...</td>\n",
       "      <td>2018-10-14</td>\n",
       "      <td>Sunday</td>\n",
       "      <td>October</td>\n",
       "      <td>14</td>\n",
       "      <td>2</td>\n",
       "      <td>2</td>\n",
       "      <td>7</td>\n",
       "      <td>1</td>\n",
       "      <td>utilization</td>\n",
       "      <td>utilization</td>\n",
       "    </tr>\n",
       "  </tbody>\n",
       "</table>\n",
       "<p>5 rows × 28 columns</p>\n",
       "</div>"
      ],
      "text/plain": [
       "       Number               Assignment_group      Priority   State  \\\n",
       "0  INC0489304  DH-Enterprise IT Service Cntr       4 - Low  Closed   \n",
       "1  INC0489303             DHE-Command Center      2 - High  Closed   \n",
       "2  INC0489302             DHE-Command Center  3 - Moderate  Closed   \n",
       "3  INC0489301  DH-Enterprise IT Service Cntr       4 - Low  Closed   \n",
       "4  INC0489300             DHE-Command Center  3 - Moderate  Closed   \n",
       "\n",
       "      Category Subcategory Severity                             Closure_CI  \\\n",
       "0     Security         NaN  3 - Low                  Network Account Issue   \n",
       "1       Server     Windows  3 - Low                           phx-vapp-835   \n",
       "2       Server     Windows  3 - Low                           phx-vprt-002   \n",
       "3  Application         NaN  3 - Low  Cerner Millennium FirstNet 2015.10.19   \n",
       "4       Server     Windows  3 - Low                           bmh-vapp-002   \n",
       "\n",
       "                                      Location         Close_code  \\\n",
       "0           Mercy Medical Center Merced (MMCM)        Application   \n",
       "1                 Corporate Office - Phoenix 1  Resolved by Event   \n",
       "2                 Corporate Office - Phoenix 1  Resolved by Event   \n",
       "3  Community Hospital of San Bernardino (CHSB)        Application   \n",
       "4                 Corporate Office - Phoenix 1  Resolved by Event   \n",
       "\n",
       "       ...            date     day    month  dom week week2 cluster cluster1  \\\n",
       "0      ...      2018-10-14  Sunday  October   14    2     2      14        4   \n",
       "1      ...      2018-10-14  Sunday  October   14    2     2      44       41   \n",
       "2      ...      2018-10-14  Sunday  October   14    2     2       7        1   \n",
       "3      ...      2018-10-14  Sunday  October   14    2     2      37       25   \n",
       "4      ...      2018-10-14  Sunday  October   14    2     2       7        1   \n",
       "\n",
       "  cluster_name1  cluster_name  \n",
       "0         login         login  \n",
       "1  socket issue        cerner  \n",
       "2   utilization   utilization  \n",
       "3        access  access issue  \n",
       "4   utilization   utilization  \n",
       "\n",
       "[5 rows x 28 columns]"
      ]
     },
     "execution_count": 8,
     "metadata": {},
     "output_type": "execute_result"
    }
   ],
   "source": [
    "df.head()"
   ]
  },
  {
   "cell_type": "code",
   "execution_count": 9,
   "metadata": {},
   "outputs": [
    {
     "data": {
      "text/plain": [
       "<matplotlib.axes._subplots.AxesSubplot at 0x2015d294828>"
      ]
     },
     "execution_count": 9,
     "metadata": {},
     "output_type": "execute_result"
    },
    {
     "data": {
      "image/png": "[encoded data removed]",
      "text/plain": [
       "<Figure size 432x288 with 1 Axes>"
      ]
     },
     "metadata": {},
     "output_type": "display_data"
    }
   ],
   "source": [
    "# plot few charts to understand the data\n",
    "\n",
    "# Category by count - this should help understand \"Number of Clusters\" we should have\n",
    "\n",
    "top_categories_df = df['Category'].value_counts()[:20]\n",
    "top_categories_df.plot.bar(x = 'Category', y = 'Counts')"
   ]
  },
  {
   "cell_type": "code",
   "execution_count": 10,
   "metadata": {},
   "outputs": [
    {
     "data": {
      "text/plain": [
       "<matplotlib.axes._subplots.AxesSubplot at 0x2015ca072b0>"
      ]
     },
     "execution_count": 10,
     "metadata": {},
     "output_type": "execute_result"
    },
    {
     "data": {
      "image/png": "[encoded data removed]",
      "text/plain": [
       "<Figure size 432x288 with 1 Axes>"
      ]
     },
     "metadata": {},
     "output_type": "display_data"
    }
   ],
   "source": [
    "# Close_code by count \n",
    "\n",
    "top_close_code_df = df['Close_code'].value_counts()[:20]\n",
    "top_close_code_df.plot.bar(x = 'Close_code', y = 'Counts')"
   ]
  },
  {
   "cell_type": "code",
   "execution_count": 11,
   "metadata": {},
   "outputs": [],
   "source": [
    "# based on the 2 charts above we will go with 30 - 50 clusters of data"
   ]
  },
  {
   "cell_type": "code",
   "execution_count": 12,
   "metadata": {},
   "outputs": [],
   "source": [
    "# identify the cols needed\n",
    "cols = ['Number', 'Assignment_group', 'Priority', 'State', 'Category',\n",
    "       'Subcategory', 'Severity', 'Closure_CI', 'Location', 'Close_code',\n",
    "       'Configuration_item', 'Child_Incidents', 'Contact_type',\n",
    "       'Duration', 'Impact', 'Short_description', 'Created']\n",
    "df = df[cols]"
   ]
  },
  {
   "cell_type": "code",
   "execution_count": 13,
   "metadata": {},
   "outputs": [],
   "source": [
    "# copy the dataframe to a new dataframe before any row deletes\n",
    "test = df.copy()"
   ]
  },
  {
   "cell_type": "code",
   "execution_count": 14,
   "metadata": {},
   "outputs": [
    {
     "data": {
      "text/html": [
       "<div>\n",
       "<style scoped>\n",
       "    .dataframe tbody tr th:only-of-type {\n",
       "        vertical-align: middle;\n",
       "    }\n",
       "\n",
       "    .dataframe tbody tr th {\n",
       "        vertical-align: top;\n",
       "    }\n",
       "\n",
       "    .dataframe thead th {\n",
       "        text-align: right;\n",
       "    }\n",
       "</style>\n",
       "<table border=\"1\" class=\"dataframe\">\n",
       "  <thead>\n",
       "    <tr style=\"text-align: right;\">\n",
       "      <th></th>\n",
       "      <th>Number</th>\n",
       "      <th>Assignment_group</th>\n",
       "      <th>Priority</th>\n",
       "      <th>State</th>\n",
       "      <th>Category</th>\n",
       "      <th>Subcategory</th>\n",
       "      <th>Severity</th>\n",
       "      <th>Closure_CI</th>\n",
       "      <th>Location</th>\n",
       "      <th>Close_code</th>\n",
       "      <th>Configuration_item</th>\n",
       "      <th>Child_Incidents</th>\n",
       "      <th>Contact_type</th>\n",
       "      <th>Duration</th>\n",
       "      <th>Impact</th>\n",
       "      <th>Short_description</th>\n",
       "      <th>Created</th>\n",
       "    </tr>\n",
       "  </thead>\n",
       "  <tbody>\n",
       "    <tr>\n",
       "      <th>27124</th>\n",
       "      <td>INC0515038</td>\n",
       "      <td>DH-SC-EUS Marian</td>\n",
       "      <td>4 - Low</td>\n",
       "      <td>Closed</td>\n",
       "      <td>Security</td>\n",
       "      <td>NaN</td>\n",
       "      <td>3 - Low</td>\n",
       "      <td>McAfee Agent</td>\n",
       "      <td>Corporate Office - Phoenix GAT</td>\n",
       "      <td>Middleware</td>\n",
       "      <td>McAfee AV, ASW or EPO</td>\n",
       "      <td>0</td>\n",
       "      <td>Phone</td>\n",
       "      <td>69495</td>\n",
       "      <td>No Impact</td>\n",
       "      <td>\"Notification Text: AMCORE out of Date &lt;Works...</td>\n",
       "      <td>2018-10-29 13:34:39</td>\n",
       "    </tr>\n",
       "    <tr>\n",
       "      <th>39335</th>\n",
       "      <td>INC0502480</td>\n",
       "      <td>DH-SC-EUS NLA NrthrdgRoscoe</td>\n",
       "      <td>4 - Low</td>\n",
       "      <td>Closed</td>\n",
       "      <td>Security</td>\n",
       "      <td>NaN</td>\n",
       "      <td>3 - Low</td>\n",
       "      <td>McAfee AV, ASW or EPO</td>\n",
       "      <td>Corporate Office - Phoenix GAT</td>\n",
       "      <td>Security</td>\n",
       "      <td>McAfee AV, ASW or EPO</td>\n",
       "      <td>0</td>\n",
       "      <td>Phone</td>\n",
       "      <td>98375</td>\n",
       "      <td>No Impact</td>\n",
       "      <td>\"Notification Text: AMCORE out of Date &lt;Works...</td>\n",
       "      <td>2018-10-22 13:34:52</td>\n",
       "    </tr>\n",
       "    <tr>\n",
       "      <th>37882</th>\n",
       "      <td>INC0503977</td>\n",
       "      <td>DH-ClinApps HIM</td>\n",
       "      <td>4 - Low</td>\n",
       "      <td>Closed</td>\n",
       "      <td>Application</td>\n",
       "      <td>NaN</td>\n",
       "      <td>3 - Low</td>\n",
       "      <td>Cerner CPDI Kofax</td>\n",
       "      <td>Woodland Healthcare Davis</td>\n",
       "      <td>Application</td>\n",
       "      <td>Cerner Millennium Provider Doc 2015.01.19</td>\n",
       "      <td>0</td>\n",
       "      <td>Self-service</td>\n",
       "      <td>6784</td>\n",
       "      <td>Down for One IT Customer</td>\n",
       "      <td>Cerner CDI Work Queue Monitor - Not Receiving...</td>\n",
       "      <td>2018-10-23 09:19:22</td>\n",
       "    </tr>\n",
       "    <tr>\n",
       "      <th>38013</th>\n",
       "      <td>INC0503842</td>\n",
       "      <td>DH-ClinApps HIM</td>\n",
       "      <td>3 - Moderate</td>\n",
       "      <td>Closed</td>\n",
       "      <td>Application</td>\n",
       "      <td>Revenue Cycle</td>\n",
       "      <td>3 - Low</td>\n",
       "      <td>Cerner CPDI Kofax</td>\n",
       "      <td>Dignity Health Medical Group-Sierra Nevada-Gra...</td>\n",
       "      <td>Application</td>\n",
       "      <td>CAREB Cerner Millennium HIM</td>\n",
       "      <td>0</td>\n",
       "      <td>Phone</td>\n",
       "      <td>27464</td>\n",
       "      <td>Degraded for One IT Customer</td>\n",
       "      <td>Cerner CDI Work Queue Monitor - Not Receiving...</td>\n",
       "      <td>2018-10-23 08:52:42</td>\n",
       "    </tr>\n",
       "    <tr>\n",
       "      <th>37900</th>\n",
       "      <td>INC0503959</td>\n",
       "      <td>DH-ClinApps HIM</td>\n",
       "      <td>4 - Low</td>\n",
       "      <td>Closed</td>\n",
       "      <td>Application</td>\n",
       "      <td>NaN</td>\n",
       "      <td>3 - Low</td>\n",
       "      <td>Cerner CPDI Kofax</td>\n",
       "      <td>Methodist Hospital of Sacramento (METH)</td>\n",
       "      <td>Application</td>\n",
       "      <td>Kofax Capture v11</td>\n",
       "      <td>0</td>\n",
       "      <td>Phone</td>\n",
       "      <td>7047</td>\n",
       "      <td>No Impact</td>\n",
       "      <td>Cerner CDI Work Queue Monitor - Not Receiving...</td>\n",
       "      <td>2018-10-23 09:15:30</td>\n",
       "    </tr>\n",
       "  </tbody>\n",
       "</table>\n",
       "</div>"
      ],
      "text/plain": [
       "           Number             Assignment_group      Priority   State  \\\n",
       "27124  INC0515038             DH-SC-EUS Marian       4 - Low  Closed   \n",
       "39335  INC0502480  DH-SC-EUS NLA NrthrdgRoscoe       4 - Low  Closed   \n",
       "37882  INC0503977              DH-ClinApps HIM       4 - Low  Closed   \n",
       "38013  INC0503842              DH-ClinApps HIM  3 - Moderate  Closed   \n",
       "37900  INC0503959              DH-ClinApps HIM       4 - Low  Closed   \n",
       "\n",
       "          Category    Subcategory Severity             Closure_CI  \\\n",
       "27124     Security            NaN  3 - Low           McAfee Agent   \n",
       "39335     Security            NaN  3 - Low  McAfee AV, ASW or EPO   \n",
       "37882  Application            NaN  3 - Low      Cerner CPDI Kofax   \n",
       "38013  Application  Revenue Cycle  3 - Low      Cerner CPDI Kofax   \n",
       "37900  Application            NaN  3 - Low      Cerner CPDI Kofax   \n",
       "\n",
       "                                                Location   Close_code  \\\n",
       "27124                     Corporate Office - Phoenix GAT   Middleware   \n",
       "39335                     Corporate Office - Phoenix GAT     Security   \n",
       "37882                          Woodland Healthcare Davis  Application   \n",
       "38013  Dignity Health Medical Group-Sierra Nevada-Gra...  Application   \n",
       "37900            Methodist Hospital of Sacramento (METH)  Application   \n",
       "\n",
       "                              Configuration_item  Child_Incidents  \\\n",
       "27124                      McAfee AV, ASW or EPO                0   \n",
       "39335                      McAfee AV, ASW or EPO                0   \n",
       "37882  Cerner Millennium Provider Doc 2015.01.19                0   \n",
       "38013                CAREB Cerner Millennium HIM                0   \n",
       "37900                          Kofax Capture v11                0   \n",
       "\n",
       "       Contact_type  Duration                        Impact  \\\n",
       "27124         Phone     69495                     No Impact   \n",
       "39335         Phone     98375                     No Impact   \n",
       "37882  Self-service      6784      Down for One IT Customer   \n",
       "38013         Phone     27464  Degraded for One IT Customer   \n",
       "37900         Phone      7047                     No Impact   \n",
       "\n",
       "                                       Short_description             Created  \n",
       "27124   \"Notification Text: AMCORE out of Date <Works... 2018-10-29 13:34:39  \n",
       "39335   \"Notification Text: AMCORE out of Date <Works... 2018-10-22 13:34:52  \n",
       "37882   Cerner CDI Work Queue Monitor - Not Receiving... 2018-10-23 09:19:22  \n",
       "38013   Cerner CDI Work Queue Monitor - Not Receiving... 2018-10-23 08:52:42  \n",
       "37900   Cerner CDI Work Queue Monitor - Not Receiving... 2018-10-23 09:15:30  "
      ]
     },
     "execution_count": 14,
     "metadata": {},
     "output_type": "execute_result"
    }
   ],
   "source": [
    "# check for duplicate data\n",
    "test[test['Short_description'].duplicated(keep = 'first')].sort_values('Short_description').head(5)"
   ]
  },
  {
   "cell_type": "code",
   "execution_count": 15,
   "metadata": {
    "scrolled": true
   },
   "outputs": [
    {
     "name": "stdout",
     "output_type": "stream",
     "text": [
      "Shape of the modified dataframe  (61556, 17)\n"
     ]
    }
   ],
   "source": [
    "# remove duplicates, we will still retain 1 row for analysis\n",
    "test = test.drop_duplicates('Short_description', keep = 'first')\n",
    "print('Shape of the modified dataframe ', test.shape)"
   ]
  },
  {
   "cell_type": "code",
   "execution_count": 16,
   "metadata": {
    "scrolled": true
   },
   "outputs": [
    {
     "data": {
      "text/plain": [
       "Application          15451\n",
       "End User Services    14865\n",
       "Security             11313\n",
       "Network               6114\n",
       "Server                5809\n",
       "HelpDesk              2817\n",
       "Telecom               1267\n",
       "EAI Interface         1184\n",
       "Human Resources       1024\n",
       "EAI Component          295\n",
       "Storage                116\n",
       "Facility                99\n",
       "Database                 2\n",
       "Name: Category, dtype: int64"
      ]
     },
     "execution_count": 16,
     "metadata": {},
     "output_type": "execute_result"
    }
   ],
   "source": [
    "#Filter out some categories with instances < 50 for now , remove this filter in future\n",
    "# test = incs.groupby(\"Category\").filter(lambda x: len(x) > 50)\n",
    "# test = incs.reset_index(drop = True)\n",
    "test.Category.value_counts()"
   ]
  },
  {
   "cell_type": "code",
   "execution_count": 17,
   "metadata": {},
   "outputs": [],
   "source": [
    "pd.options.display.max_colwidth = 100"
   ]
  },
  {
   "cell_type": "code",
   "execution_count": 18,
   "metadata": {},
   "outputs": [],
   "source": [
    "# remove any accent from letters\n",
    "def unidecode_text(text):\n",
    "    try:\n",
    "        text = unidecode.unidecode(text)\n",
    "    except:\n",
    "        pass\n",
    "    return text\n",
    "\n",
    "for col in ['Location', 'Short_description']:\n",
    "    test[col] = test.apply(lambda row: unidecode_text(row[col]), axis = 1)"
   ]
  },
  {
   "cell_type": "code",
   "execution_count": 19,
   "metadata": {},
   "outputs": [
    {
     "data": {
      "text/plain": [
       "0             Mercy Medical Center Merced (MMCM)\n",
       "1                   Corporate Office - Phoenix 1\n",
       "3    Community Hospital of San Bernardino (CHSB)\n",
       "5                        Sequoia Health Services\n",
       "8                   Mercy General Hospital (MGH)\n",
       "Name: Location, dtype: object"
      ]
     },
     "execution_count": 19,
     "metadata": {},
     "output_type": "execute_result"
    }
   ],
   "source": [
    "# copy location to another data frame and remove duplicates\n",
    "locations = test['Location']\n",
    "locations = locations.drop_duplicates(keep = 'first')\n",
    "locations.head()"
   ]
  },
  {
   "cell_type": "code",
   "execution_count": 21,
   "metadata": {},
   "outputs": [
    {
     "name": "stdout",
     "output_type": "stream",
     "text": [
      "[nltk_data] Downloading package averaged_perceptron_tagger to\n",
      "[nltk_data]     C:\\Users\\125349\\AppData\\Roaming\\nltk_data...\n",
      "[nltk_data]   Unzipping taggers\\averaged_perceptron_tagger.zip.\n"
     ]
    }
   ],
   "source": [
    "# stop words for location\n",
    "\n",
    "# nltk text preprocessing\n",
    "import string\n",
    "import re\n",
    "import nltk\n",
    "from nltk import pos_tag\n",
    "from nltk.corpus import stopwords, wordnet\n",
    "from nltk.stem import WordNetLemmatizer\n",
    "from nltk.tokenize import word_tokenize\n",
    "\n",
    "import contractions\n",
    "\n",
    "stop = stopwords.words('english')\n",
    "lemmer = WordNetLemmatizer()\n",
    "\n",
    "# add punctuations to the stop words\n",
    "punc = ['.', ',', '\"', \"'\", '?', '!', ':', ';', '(', ')', '[', ']', '{', '}',\"%\"]\n",
    "stop.extend(punc)\n",
    "\n",
    "def get_wordnet_pos(pos_tag):\n",
    "    if pos_tag.startswith('J'):\n",
    "        return wordnet.ADJ\n",
    "    elif pos_tag.startswith('V'):\n",
    "        return wordnet.VERB\n",
    "    elif pos_tag.startswith('N'):\n",
    "        return wordnet.NOUN\n",
    "    elif pos_tag.startswith('R'):\n",
    "        return wordnet.ADV\n",
    "    else:\n",
    "        return wordnet.NOUN\n",
    "    \n",
    "def get_locations(text):\n",
    "\n",
    "    # lower case\n",
    "    text = text.lower()\n",
    "#     text = text.str.lower()\n",
    "\n",
    "    # replace '\\', '/', '|', '-' with spaces, thes are usually entered to separate words\n",
    "    # word tokenize doesn't tokenize on these\n",
    "    text = re.sub(r'[.=\\\\/\\|-]',' ', text)\n",
    "\n",
    "    # replace contractions\n",
    "    text = ' '.join(contractions.fix(word) for word in text.split())\n",
    "#     text = text.apply(lambda x: ' '.join(contractions.fix(word) for word in x.split()))\n",
    "    \n",
    "    # tokenize text and remove puncutation, strip would remove from word begining or end\n",
    "    text = [word.strip(string.punctuation) for word in word_tokenize(text)]\n",
    "#     text = text.apply(lambda x: ' '.join(word.strip(string.punctuation) for word in word_tokenize(x)))\n",
    "    \n",
    "    # remove words that contain numbers\n",
    "    text = [word for word in text if not any(c.isdigit() for c in word)]\n",
    "#     text = text.apply(lambda x: ' '.join(word for word in word_tokenize(x) if not any(c.isdigit() for c in word)))\n",
    "\n",
    "    # remove small tokens\n",
    "    text = [word for word in text if len(word) > 1]\n",
    "#     text = text.apply(lambda x: ' '.join(word for word in word_tokenize(x) if len(word) > 1))\n",
    "    \n",
    "    # remove stop words\n",
    "    text = [word for word in text if word not in set(stop)]\n",
    "#     text = text.apply(lambda x: ' '.join(word for word in word_tokenize(x) if word not in set(stop)))\n",
    "    \n",
    "    # pos tag text\n",
    "    pos_tags = pos_tag(text)\n",
    "    \n",
    "    # lemmatize text\n",
    "    text = [lemmer.lemmatize(t[0], get_wordnet_pos(t[1])) for t in pos_tags]\n",
    "#     text = text.apply(lambda x: ' '.join(lemmer.lemmatize(t[0], get_wordnet_pos(t[1])) for t in pos_tag(x)))\n",
    "    \n",
    "    text = ' '.join(text)\n",
    "    \n",
    "    return(text)\n",
    "    \n",
    "# locations_cleaned = get_locations(locations.astype(str))\n",
    "locations_cleaned = locations.apply(lambda x: get_locations(str(x)))"
   ]
  },
  {
   "cell_type": "code",
   "execution_count": 22,
   "metadata": {},
   "outputs": [
    {
     "data": {
      "text/plain": [
       "0          mercy medical center merced mmcm\n",
       "1                  corporate office phoenix\n",
       "3    community hospital san bernardino chsb\n",
       "5                    sequoia health service\n",
       "8                mercy general hospital mgh\n",
       "Name: Location, dtype: object"
      ]
     },
     "execution_count": 22,
     "metadata": {},
     "output_type": "execute_result"
    }
   ],
   "source": [
    "locations_cleaned.head()"
   ]
  },
  {
   "cell_type": "code",
   "execution_count": 23,
   "metadata": {},
   "outputs": [
    {
     "data": {
      "text/plain": [
       "498"
      ]
     },
     "execution_count": 23,
     "metadata": {},
     "output_type": "execute_result"
    }
   ],
   "source": [
    "# use the countvectorizer to convert to a list of words\n",
    "from sklearn import feature_extraction\n",
    "from sklearn.feature_extraction.text import CountVectorizer\n",
    "\n",
    "vectorizer = CountVectorizer()\n",
    "vectorizer.fit_transform(locations_cleaned.values)\n",
    "\n",
    "stop_locations = vectorizer.get_feature_names()\n",
    "len(stop_locations)"
   ]
  },
  {
   "cell_type": "code",
   "execution_count": 24,
   "metadata": {},
   "outputs": [
    {
     "data": {
      "text/plain": [
       "['deactivate',\n",
       " 'department',\n",
       " 'detention',\n",
       " 'development',\n",
       " 'dhmf',\n",
       " 'dhmg',\n",
       " 'dhmgn',\n",
       " 'dhmso',\n",
       " 'diabetes',\n",
       " 'diagnostic']"
      ]
     },
     "execution_count": 24,
     "metadata": {},
     "output_type": "execute_result"
    }
   ],
   "source": [
    "stop_locations[100:110]"
   ]
  },
  {
   "cell_type": "code",
   "execution_count": 25,
   "metadata": {},
   "outputs": [
    {
     "name": "stdout",
     "output_type": "stream",
     "text": [
      "Wall time: 1min 33s\n"
     ]
    }
   ],
   "source": [
    "# extend stop words\n",
    "# words like issue, problem, resolve, fix - do not add more sense to the description and are common\n",
    "new_stopwords = ['chw','edu','phx','vapp', 'issue', 'issues', 'problem', 'problems', \n",
    "                 'resolve', 'resolved', 'fix', 'fixed']\n",
    "\n",
    "stop.extend(new_stopwords)\n",
    "\n",
    "# add the locations to the stop words\n",
    "stop.extend(stop_locations)\n",
    "\n",
    "\n",
    "def pre_process(text):\n",
    "\n",
    "    # lower case\n",
    "    text = text.lower()\n",
    "\n",
    "    # replace '\\', '/', '|', '-' with spaces, thes are usually entered to separate words\n",
    "    # word tokenize doesn't tokenize on these\n",
    "    text = re.sub(r'[.=\\\\/\\|-]',' ', text)\n",
    "\n",
    "    # replace contractions\n",
    "    text = ' '.join([contractions.fix(word) for word in text.split()])\n",
    "\n",
    "    # \"'d\": changes to \" would\", 'disk changes to wouldisk - unwanted contraction\n",
    "    # replace wouldisk with disk\n",
    "    text = text.replace('wouldisk', 'disk')  # replace with disk    \n",
    "\n",
    "    # 'not able' is a common way to report issue, replace 'not able' with 'unable'\n",
    "    # also not gets removed as part of stop words\n",
    "    text = text.replace('not able', 'unable')\n",
    "    text = text.replace('user id', 'user')\n",
    "    text = text.replace('username', 'user')\n",
    "    \n",
    "    # replace ms4 to medseries\n",
    "    text = text.replace('ms4', 'medseries')\n",
    "    \n",
    "    # there are lot of places in the description where II (2 caps I) has been used as separator\n",
    "    # this gets converted to small letter (ii) with high occurance, drop these letters\n",
    "    text = text.replace(' ii ', ' ')  # replace with spaces\n",
    "        \n",
    "    # tokenize text and remove puncutation, strip would remove from word begining or end\n",
    "    text = [word.strip(string.punctuation) for word in word_tokenize(text)]\n",
    "    \n",
    "    # remove words that contain numbers\n",
    "    text = [word for word in text if not any(c.isdigit() for c in word)]\n",
    "\n",
    "    # remove small tokens\n",
    "    text = [word for word in text if len(word) > 2]\n",
    "    \n",
    "    # remove stop words\n",
    "    text = [word for word in text if word not in set(stop)]\n",
    "    \n",
    "    # pos tag text\n",
    "    pos_tags = pos_tag(text)\n",
    "    \n",
    "    # lemmatize text\n",
    "    text = [lemmer.lemmatize(t[0], get_wordnet_pos(t[1])) for t in pos_tags]\n",
    "    # some verbs probably get tagged as noun and are not lemmatized\n",
    "    text = [lemmer.lemmatize(word, pos = 'v') for word in text]\n",
    "    \n",
    "    text = ' '.join(text)    \n",
    "  \n",
    "    return (text)\n",
    "    \n",
    "# cleaned_short_desc = pre_process(incs['Short_description'].astype(str))\n",
    "%time cleaned_short_desc = test['Short_description'].apply(lambda x: pre_process(x))"
   ]
  },
  {
   "cell_type": "code",
   "execution_count": 26,
   "metadata": {},
   "outputs": [
    {
     "data": {
      "text/plain": [
       "0                                                                                          password reset\n",
       "1                                                         ping packet percentage see additional info time\n",
       "2                                                          vprt cpu utilization threshold set utilization\n",
       "3                                                                       cerner unable access correct view\n",
       "4                                                               cpu utilization threshold set utilization\n",
       "5              unable login user acc lock unlock acc hduv do password reset do able login change password\n",
       "6                                                                         active job complete exit status\n",
       "7                                                   vctx utilization threshold set disk file percent full\n",
       "8                                                              medseries unable login user svillaraza dev\n",
       "9                                               desktop unable save word document file device assist user\n",
       "10    bridge solution tier source_realtime rectimeout occur rectimeout threshold current rectimeout at...\n",
       "11                                                   app utilization threshold set disk file percent full\n",
       "12                                                             medseries unable login user svillaraza dev\n",
       "13                                                   app utilization threshold set disk file percent full\n",
       "14                                                                                clairvia account unlock\n",
       "16                                                                                           account lock\n",
       "17                                                                       desktop unable internet user dev\n",
       "18                                                              cpu utilization threshold set utilization\n",
       "19                                                         vprt cpu utilization threshold set utilization\n",
       "20                                                                           arm band printer roller work\n",
       "Name: Short_description, dtype: object"
      ]
     },
     "execution_count": 26,
     "metadata": {},
     "output_type": "execute_result"
    }
   ],
   "source": [
    "cleaned_short_desc[0:20]"
   ]
  },
  {
   "cell_type": "code",
   "execution_count": 27,
   "metadata": {},
   "outputs": [
    {
     "name": "stdout",
     "output_type": "stream",
     "text": [
      "75\n"
     ]
    }
   ],
   "source": [
    "# count of cells with no terms\n",
    "print(cleaned_short_desc.apply(lambda x: x == '').sum())"
   ]
  },
  {
   "cell_type": "code",
   "execution_count": 28,
   "metadata": {},
   "outputs": [],
   "source": [
    "def get_ips(text):\n",
    "    \n",
    "    # lower case\n",
    "    text = text.str.lower()\n",
    "    \n",
    "    # capture the IPs    \n",
    "    ip_pattern = re.compile(r'((-?)([A-Za-z0-9]{1,}[-.]{1,1}){2,6}([A-Za-z0-9]*))')  \n",
    "    ip = text.apply(lambda x: ' '.join(word for word in re.split('[\\': (),]', x) if ip_pattern.match(word)))\n",
    "    \n",
    "    return ip\n",
    "\n",
    "ips = get_ips(test['Short_description'])"
   ]
  },
  {
   "cell_type": "code",
   "execution_count": 29,
   "metadata": {},
   "outputs": [
    {
     "data": {
      "text/plain": [
       "0                             \n",
       "1                10.248.100.25\n",
       "2         phx-vprt-002.chw.edu\n",
       "3                             \n",
       "4         bmh-vapp-002.chw.edu\n",
       "5                             \n",
       "6                             \n",
       "7         phx-vctx-114.chw.edu\n",
       "8                             \n",
       "9     10.217.114.136//assisted\n",
       "10                            \n",
       "11         phx-app-030.chw.edu\n",
       "12                            \n",
       "13         phx-app-030.chw.edu\n",
       "14                            \n",
       "16                            \n",
       "17                            \n",
       "18        bmh-vapp-002.chw.edu\n",
       "19        phx-vprt-002.chw.edu\n",
       "20                            \n",
       "Name: Short_description, dtype: object"
      ]
     },
     "execution_count": 29,
     "metadata": {},
     "output_type": "execute_result"
    }
   ],
   "source": [
    "ips[0:20]"
   ]
  },
  {
   "cell_type": "code",
   "execution_count": 30,
   "metadata": {},
   "outputs": [],
   "source": [
    "# add the processed text and extracted ips to dataframe\n",
    "test['Terms'] = cleaned_short_desc\n",
    "test['IPs'] = ips"
   ]
  },
  {
   "cell_type": "code",
   "execution_count": 31,
   "metadata": {},
   "outputs": [],
   "source": [
    "# drop the rows where 'Terms' column is spaces\n",
    "# test = test[test['Terms'] != '']"
   ]
  },
  {
   "cell_type": "code",
   "execution_count": 32,
   "metadata": {},
   "outputs": [],
   "source": [
    "# this cell is just for testing regex, etc\n",
    "# import re\n",
    "\n",
    "# print(re.split('[:\\' ]', '\\'phx-vapp-689.chw.edu\\': Utilization is \\'85.2\\'. Threshold is set to \\'Disk/File System/{C}/percent full >= 85\\''))\n",
    "\n",
    "# ip_pattern = re.compile(r'((-?)([A-Za-z0-9]{1,}[-.]{1,1}){2,6}([A-Za-z0-9]*))') \n",
    "\n",
    "# print(ip_pattern.match('phx-vapp-238.chw.edu'))\n",
    "# print(ip_pattern.match('CPU Utilization is '))\n",
    "# print(ip_pattern.match('85.2'))\n",
    "# print(ip_pattern.match('10.250.243.2'))\n",
    "# print(ip_pattern.match('-10.248.84.17'))\n",
    "# print(ip_pattern.match('192.168.2.85)'))\n",
    "# print(ip_pattern.match('10.1.5.100'))\n",
    "\n",
    "\n",
    "# test = pd.DataFrame({'strings': ['...', 'a(b$c']})\n",
    "# test.strings.str.replace('[^a-zA-Z ]', ' ')\n",
    "\n",
    "# print('This is a test in spite.'.split())\n",
    "# print(lemmer.lemmatize('physicians', pos='v'))\n",
    "# text = \"SMMC-////\\\\\\\\_||||==SF sdcchmc_lis.chw.edu\"\n",
    "# text = re.sub(r'[.=\\\\/\\|-]',' ', text)\n",
    "# print(text)\n",
    "\n",
    "# alpha = re.compile(r'([A-Za-z/\\-]*$)')\n",
    "\n",
    "# dk = pd.DataFrame({'sentences': ['This is a very MS4 ABCD901 \\'abc.xyz.109.01\\' good site. I will recommend it to others.', \n",
    "#                                  'Can you please give me a call at 9983938428. have issues with the listings.', \n",
    "#                                  'WOW / Workstation on Wheels || WOW / Workstation on Wheels Issue',\n",
    "#                                  '\\'phx-vapp-689.chw.edu\\': Utilization is \\'85.2\\'. Threshold is set to \\'Disk/File System/{C}/percent full >= 85',\n",
    "#                                  'Clairvia/not able to login//password reset hduv done jmoyrong/issue resolved',\n",
    "#                                  'God is Great/I won a lottery.',\n",
    "#                                  'CIM_2_BAYDSC19_MSFCHGX:MSF19CHGX:MedSeries 4:TIER-2 P05:DESTINATION_REALTIME:No host at ipAddress -10.248.84.17, listening on port -21529. :Charges - Multiple t',\n",
    "#                                  'Account Lock ||  Not able to login || user id-adeperalta001',\n",
    "#                                  'good work! keep it up, couldn\\'t able to login, couldn\\'t connect']})\n",
    "\n",
    "# dk['tokenized_sents']  = dk['sentences'].apply(lambda x: ' '.join(word for word in re.split('[\\': (),]', x) if ip_pattern.match(word)))\n",
    "\n",
    "\n",
    "\n",
    "# dk['tokenized_sents'] = dk['sentences'].apply(lambda x: ' '.join(word.lower() for word in x.split()))  # lower case\n",
    "# dk['tokenized_sents'] = dk['tokenized_sents'].apply(lambda x: ' '.join(contractions.fix(word) for word in x.split()))  # replace contractions\n",
    "\n",
    "# dk['tokenized_sents'] = dk['tokenized_sents'].str.replace('not able', 'unable')\n",
    "# dk['tokenized_sents'] = dk['tokenized_sents'].str.replace('[\\/-]', ' ')  # replace them with spaces\n",
    "\n",
    "# dk['tokenized_sents'] = dk['tokenized_sents'].apply(lambda x: ' '.join(word for word in word_tokenize(x) if alpha.match(word)))\n",
    "# dk['tokenized_sents'] = dk['tokenized_sents'].apply(lambda x: ' '.join([lemmer.lemmatize(word, pos='v') for word in word_tokenize(x)]))       #lemma\n",
    "# dk['tokenized_sents'] = dk['tokenized_sents'].apply(lambda x: ' '.join([word for word in word_tokenize(x) if word not in set(stop)]))   #stop\n",
    "\n",
    "# print(dk['tokenized_sents'])"
   ]
  },
  {
   "cell_type": "code",
   "execution_count": 33,
   "metadata": {},
   "outputs": [
    {
     "data": {
      "text/plain": [
       "2036    teresa cerda unable login team name change check record user change tcerda inform user\n",
       "2037                                                                outlook get window pop dev\n",
       "2038                                                    desktop unable access get black screen\n",
       "2040                                                   account unable login user hduv pas rese\n",
       "2041                                                         emily powerchart scan button grey\n",
       "2044                                                                        user want register\n",
       "2045                                                             emergency account disablement\n",
       "2047                                                         timothy newcomb duo need activate\n",
       "2048                                                                           printer install\n",
       "2049                                      phone phone need someone put together head set phone\n",
       "2051                                        try open external upload manager acrobat stop work\n",
       "2052                                                   gecb unable login user get password pop\n",
       "2055                                                             mdf main associate controller\n",
       "2056                                   computer work dev dept loc impact check iwth connection\n",
       "2057                                                                   keyboard key work three\n",
       "2058                                                                    medseries unable login\n",
       "2059                                                                    medseries job lock job\n",
       "2060                                                            account unable login user name\n",
       "2062                                              avaya real time report laptop would like wor\n",
       "2063                                                         desktop stick mouse keyboard work\n",
       "Name: Terms, dtype: object"
      ]
     },
     "execution_count": 33,
     "metadata": {},
     "output_type": "execute_result"
    }
   ],
   "source": [
    "# view the terms column just before feature extraction\n",
    "test['Terms'][1470:1490]"
   ]
  },
  {
   "cell_type": "code",
   "execution_count": 34,
   "metadata": {},
   "outputs": [
    {
     "name": "stdout",
     "output_type": "stream",
     "text": [
      "Wall time: 5.86 s\n",
      "(61556, 5000)\n"
     ]
    }
   ],
   "source": [
    "from sklearn.feature_extraction.text import TfidfVectorizer\n",
    "\n",
    "# tfidf_vectorizer = TfidfVectorizer(max_features=10000, max_df=0.8, min_df=0.0005,                                  \n",
    "#                                   use_idf=True, tokenizer=word_tokenize, ngram_range=(1,3))\n",
    "\n",
    "vectorizer = TfidfVectorizer(max_features = 5000, # stop_words = stop,                               \n",
    "                                  use_idf = True, tokenizer = word_tokenize, ngram_range = (1,1))\n",
    "\n",
    "%time X = vectorizer.fit_transform(test['Terms'].values)\n",
    "\n",
    "print(X.shape)"
   ]
  },
  {
   "cell_type": "code",
   "execution_count": 35,
   "metadata": {},
   "outputs": [],
   "source": [
    "features = vectorizer.get_feature_names()\n",
    "freq = sum(X).toarray()[0]\n",
    "test_features = pd.DataFrame(freq, index = features, columns = ['frequency'])\n",
    "\n",
    "# sort the terms in descending order of frequency\n",
    "test_features.sort_values(by = ['frequency'], inplace = True, ascending = False)"
   ]
  },
  {
   "cell_type": "code",
   "execution_count": 117,
   "metadata": {},
   "outputs": [
    {
     "name": "stdout",
     "output_type": "stream",
     "text": [
      "               frequency\n",
      "unable       3831.747402\n",
      "user         3799.663947\n",
      "login        3466.864680\n",
      "account      2713.350064\n",
      "password     1816.322310\n",
      "lock         1541.458693\n",
      "reset        1539.339299\n",
      "need         1449.472727\n",
      "device       1427.830581\n",
      "mdf          1286.895290\n",
      "dev          1261.537961\n",
      "medseries    1161.910415\n",
      "main         1084.988066\n",
      "printer      1073.278512\n",
      "status       1049.887113\n",
      "cerner       1027.791573\n",
      "error         960.675172\n",
      "access        954.539932\n",
      "utilization   888.566541\n",
      "computer      888.351278\n",
      "job           886.339362\n",
      "do            884.477536\n",
      "unlock        850.515055\n",
      "up            845.948659\n",
      "desktop       845.884584\n",
      "smart         840.723048\n",
      "set           832.579696\n",
      "file          781.567739\n",
      "able          775.905074\n",
      "work          765.425471\n",
      "duo           754.539556\n",
      "threshold     737.986152\n",
      "hduv          736.309056\n",
      "associate     682.672784\n",
      "controller    680.754554\n",
      "print         643.721278\n",
      "full          639.080918\n",
      "complete      626.413951\n",
      "loc           621.873712\n",
      "disk          621.423754\n",
      "launch        612.522352\n",
      "percent       604.054123\n",
      "active        583.940600\n",
      "encryption    583.878673\n",
      "dept          570.653353\n",
      "exit          567.853405\n",
      "alarm         555.132036\n",
      "link          554.019295\n",
      "port          544.587570\n",
      "phone         543.207934\n"
     ]
    }
   ],
   "source": [
    "# print the top 50 occurances\n",
    "print(test_features[0:50])"
   ]
  },
  {
   "cell_type": "code",
   "execution_count": 36,
   "metadata": {},
   "outputs": [
    {
     "name": "stdout",
     "output_type": "stream",
     "text": [
      "            frequency\n",
      "gmhmed       0.681759\n",
      "ipa          0.671874\n",
      "junk         0.664677\n",
      "sell         0.658289\n",
      "synonym      0.655643\n",
      "ri           0.654936\n",
      "woodrd       0.646431\n",
      "nvnlv        0.642154\n",
      "nvbd         0.641287\n",
      "rlenz        0.639648\n",
      "sbmcclin     0.634918\n",
      "speechq      0.630863\n",
      "ssrnet       0.607296\n",
      "hambleton    0.603334\n",
      "reaso        0.580431\n",
      "smartwrite   0.573038\n",
      "sakuru       0.573038\n",
      "httpd        0.554465\n",
      "httpserver   0.528130\n",
      "sophia       0.521252\n"
     ]
    }
   ],
   "source": [
    "# print the last 20 occurances - terms with low frequency\n",
    "# how low is the frequency? do we have correct number of features\n",
    "print(test_features.tail(20))"
   ]
  },
  {
   "cell_type": "code",
   "execution_count": 37,
   "metadata": {},
   "outputs": [
    {
     "name": "stdout",
     "output_type": "stream",
     "text": [
      "['workplace', 'workroom', 'worksheet', 'workstation', 'world', 'wou', 'would', 'wouldh', 'wouldsc', 'woundcare', 'woundexpert', 'wow', 'wpo', 'wpobre', 'wpot', 'wqm', 'wright', 'wrinkle', 'wrist', 'wristband', 'write', 'writer', 'wroking', 'wrong', 'wrongly', 'wrwill', 'wsarkis', 'wsiebert', 'wts', 'wvillanueva', 'www', 'xcalderon', 'xcelera', 'xen', 'xenapp', 'xenn', 'xerox', 'xlarchve', 'xlbackup', 'xlcube', 'xlcubed', 'xlin', 'xmatters', 'xml', 'xnguyen', 'xper', 'xpercon', 'xray', 'xrays', 'xtend', 'xtra', 'xxi', 'yaguda', 'yahoo', 'yan', 'yarbrough', 'yasuko', 'ycabas', 'ycabasantana', 'year', 'yellow', 'yes', 'yesterday', 'yet', 'ygee', 'ykamto', 'ymadkins', 'ynguyengar', 'ynunez', 'yolo', 'yosemite', 'youtube', 'yparamo', 'ypetrishin', 'yporter', 'ysessions', 'yun', 'yvette', 'zapata', 'zara', 'zary', 'zda', 'zebra', 'zelkhoury', 'zen', 'zenapp', 'zero', 'zhang', 'ziedler', 'ziegelmayer', 'zimportdb', 'zip', 'zjaleco', 'zlegaspi', 'zone', 'zoom', 'zother', 'zrosado', 'zweingarten', 'zzaheer']\n"
     ]
    }
   ],
   "source": [
    "print(features[4900:5000])"
   ]
  },
  {
   "cell_type": "code",
   "execution_count": 38,
   "metadata": {},
   "outputs": [],
   "source": [
    "# using elbow method to find optimum number of clusters - start with 30 clusters\n",
    "\n",
    "# from sklearn.cluster import KMeans\n",
    "# wcss = []\n",
    "\n",
    "# for i in range(30, 51):\n",
    "#     km = KMeans(n_clusters = i, init = 'k-means++', max_iter = 100, n_init = 10, random_state = 1)\n",
    "#     km.fit(X)\n",
    "#     wcss.append(km.inertia_)\n",
    " \n",
    "# optimal_clusters = np.argmin(wcss) + 2 # As argmin return the index of minimum loss.\n",
    "\n",
    "# plt.plot(range(30, 51), wcss)\n",
    "# plt.title('The Elbow Method')\n",
    "# plt.xlabel('Number of Clusters')\n",
    "# plt.ylabel('WCSS')\n",
    "# plt.show()\n",
    "\n",
    "# print (\"The optimal number of clusters obtained is - \", optimal_clusters)\n",
    "# print (\"The loss for optimal cluster is - \", min(wcss))"
   ]
  },
  {
   "cell_type": "code",
   "execution_count": 39,
   "metadata": {},
   "outputs": [
    {
     "name": "stdout",
     "output_type": "stream",
     "text": [
      "Wall time: 1.45 s\n"
     ]
    },
    {
     "data": {
      "text/plain": [
       "MiniBatchKMeans(batch_size=100, compute_labels=True, init='k-means++',\n",
       "        init_size=None, max_iter=300, max_no_improvement=10, n_clusters=50,\n",
       "        n_init=3, random_state=1, reassignment_ratio=0.01, tol=0.0,\n",
       "        verbose=0)"
      ]
     },
     "execution_count": 39,
     "metadata": {},
     "output_type": "execute_result"
    }
   ],
   "source": [
    "num_clusters = 50\n",
    "\n",
    "# KMeans\n",
    "# from sklearn.cluster import KMeans\n",
    "\n",
    "# kmeans = KMeans(n_clusters = num_clusters, init = 'k-means++', max_iter = 300, n_init = 10, random_state = 1)\n",
    "# %time y = kmeans.fit_predict(X)\n",
    "# %time kmeans.fit(X)\n",
    "\n",
    "# Mini Batch KMeans\n",
    "from sklearn.cluster import MiniBatchKMeans\n",
    "\n",
    "kmeans = MiniBatchKMeans(n_clusters = num_clusters, init = 'k-means++', \n",
    "                         max_iter = 300, n_init = 3, random_state = 1)\n",
    "%time kmeans.fit(X)\n",
    "\n",
    "# clusters = kmeans.labels_.tolist()"
   ]
  },
  {
   "cell_type": "code",
   "execution_count": 40,
   "metadata": {},
   "outputs": [
    {
     "name": "stdout",
     "output_type": "stream",
     "text": [
      "61556\n",
      "(61556, 19)\n"
     ]
    }
   ],
   "source": [
    "# check the number of rows in data frame and the labels\n",
    "print(len(kmeans.labels_))\n",
    "print(test.shape)"
   ]
  },
  {
   "cell_type": "code",
   "execution_count": 41,
   "metadata": {},
   "outputs": [],
   "source": [
    "# copy the kmeans.labels_ as Cluster column\n",
    "test['Cluster'] = kmeans.labels_"
   ]
  },
  {
   "cell_type": "code",
   "execution_count": 42,
   "metadata": {},
   "outputs": [
    {
     "name": "stdout",
     "output_type": "stream",
     "text": [
      "                                                                                                  Terms  \\\n",
      "0                                                                                        password reset   \n",
      "1                                                       ping packet percentage see additional info time   \n",
      "2                                                        vprt cpu utilization threshold set utilization   \n",
      "3                                                                     cerner unable access correct view   \n",
      "4                                                             cpu utilization threshold set utilization   \n",
      "5            unable login user acc lock unlock acc hduv do password reset do able login change password   \n",
      "6                                                                       active job complete exit status   \n",
      "7                                                 vctx utilization threshold set disk file percent full   \n",
      "8                                                            medseries unable login user svillaraza dev   \n",
      "9                                             desktop unable save word document file device assist user   \n",
      "10  bridge solution tier source_realtime rectimeout occur rectimeout threshold current rectimeout at...   \n",
      "\n",
      "    Cluster  \n",
      "0        41  \n",
      "1        39  \n",
      "2        12  \n",
      "3         5  \n",
      "4        12  \n",
      "5        23  \n",
      "6         8  \n",
      "7        17  \n",
      "8        10  \n",
      "9         3  \n",
      "10       36  \n"
     ]
    }
   ],
   "source": [
    "# print terms to cluster mapping\n",
    "print(test.loc[:10,['Terms', 'Cluster']])"
   ]
  },
  {
   "cell_type": "code",
   "execution_count": 43,
   "metadata": {},
   "outputs": [],
   "source": [
    "# Save cluster in pickle file for future use\n",
    "# import pickle\n",
    "\n",
    "# pickle.dump(km, open('pkl/km_1.pkl', 'wb'))"
   ]
  },
  {
   "cell_type": "code",
   "execution_count": 44,
   "metadata": {},
   "outputs": [
    {
     "name": "stdout",
     "output_type": "stream",
     "text": [
      "Cluster 0: enroll, duo, need, user, enrollment, enrol, want, phone, send, device, link, able, nfuse, uid, guide, assistance, unable, number, security, customer, register, successfully, mobile, take, step, successful, devid, email, add, dev, app, assist, make, two, help, account, call, login, verification, application, hold, activation, use, already, fuse, line, remoted, nufse, name, get,\n",
      "Cluster 1: launch, unable, application, device, cerner, myjourney, journey, dev, user, citrix, computer, course, medseries, error, chrome, take, powerchart, desktop, impact, icon, nfuse, website, restart, loc, devid, google, browser, open, dept, receiver, meditech, mac, internet, dep, explorer, outlook, personal, able, devip, team, dragon, bad, lawson, ask, gecb, login, guide, ivos, invision, manager,\n",
      "Cluster 2: duo, activation, need, user, nfuse, link, activate, register, enrollment, send, login, enrol, unable, phone, setup, code, help, access, reactivate, account, want, number, device, reactivation, call, get, mobile, vpn, assistance, require, application, customer, able, name, add, guide, step, use, security, userid, two, verification, passcode, change, set, email, registration, hold, impact, sm,\n",
      "Cluster 3: unable, cerner, need, user, error, device, dev, port, powerchart, desktop, outage, receive, laptop, medseries, print, get, report, status, open, vpn, nup, mdf, please, application, qclxerr, round, right, install, order, humidity, acknowledge, procedure, monitor, change, critical, file, syslog, call, instal, account, power, value, fail, tier, scan, message, master, login, test, name,\n",
      "Cluster 4: round, surg, power, nutrition, keyboard, respond, dietary, maternal, encryption, add, printer, dictation, mic, discharge, button, turn, emergency, repair, replace, print, dept, work, unable, hiec, higherground, hie, hide, hhmmss, highlight, hhh_application, high, zzaheer, hhc, hhacker, height, hello, help, helpdesk, hemisphere, hemo, hemoglobin, hence, hepler, hernandez, hespina, hfitzpatrick, hillmann, hgamerow, hglazebrook, hill,\n",
      "Cluster 5: access, unable, user, dev, need, cerner, request, medseries, journey, error, myjourney, share, website, device, deny, take, name, email, place, manager, desktop, powerchart, application, try, able, get, policy, adh, gecb, account, lawson, internet, reward, login, help, loc, assist, total, remotely, file, devid, guide, vpn, edm, jabber, portal, one, nfuse, careb, folder,\n",
      "Cluster 6: alarm, up, smart, device, main, srt, mdf, nst, maint, mtsjh, tower, hlt, morrison, mfh, uacc, hartnell, att, guest, sanjuan, dsch, csb, idfaccounting, anc, pbx, rehab, sldc, hiec, sonoma, whc, srdhrdl, sld, corp, sont, edcenter, cmp, psa, pfs, occ, master, vida, woundcare, nrc, mpoe, mcb, mch, idf, mob, srdhs, bofa, burn,\n",
      "Cluster 7: account, lock, user, medseries, unable, login, activate, axway, get, userid, unlock, frequently, name, need, enable, gecb, clairvia, disable, intruder, mailgate, sac, cerner, frequent, dev, emergency, job, email, com, access, loc, remove, able, password, flowcast, activation, release, end, bbuan, disablement, log, dep, slentz, time, device, gate, know, forget, ps, dept, check,\n",
      "Cluster 8: exit, active, complete, job, status, zzaheer, highlight, hide, hie, hiec, high, higherground, hillmann, hill, hhh_application, hilt, hire, history, hit, hlarsen, hhmmss, hhc, hlt, hemo, heat, heather, height, hello, help, helpdesk, hemisphere, hemoglobin, hhacker, hence, hepler, hernandez, hespina, hfitzpatrick, hgamerow, hglazebrook, hlarson, hmi, heartlab, hoster, hosp, hospi, hospit, hospita, hospital, hospitalist,\n",
      "Cluster 9: mdf, controller, associate, main, port, status, nst, tower, corp, mob, master, dsch, bsa, mic, mcm, mfh, entsensorthresholdnotification, whc, bronzestar, kid, bighorn, idf, creekside, syslog, critical, mtsjh, cbcc, cnt, verdugo, fam, emt, whi, roc, srdhsm, dschr, ciscolwappmobilityanchordatapathdown, cfm, surg, mtobgyn, capitolafp, rocklinmob, recur, infusionvt, weber, outage, srdhs, opsurgery, dhmc, mcb, smlb,\n",
      "Cluster 10: login, unable, user, medseries, acc, cerner, dev, lawson, pass, able, es, unlock, nfuse, hduv, invision, userid, journey, lock, password, team, formfast, myjourney, end, apache, devid, guide, device, clairvia, error, ca, logon, gecb, name, desktop, jabber, meditech, artiva, axway, ps, window, powerchart, customer, hold, reason, credential, enable, edm, uid, rco, take,\n",
      "Cluster 11: jam, paper, printer, kyocera, equip, print, equipment, loc, device, dept, dev, keep, unable, address, get, dep, user, machine, tray, work, break, discharge, error, alot, fax, make, provide, impact, show, scanner, ticket, add, try, multiple, noise, equipid, every, black, check, newborn, floor, eqiup, printerip, prescription, lobby, emr, restart, medsurge, time, want,\n",
      "Cluster 12: utilization, cpu, threshold, set, medbg, vprt, vii, vint, vora, app, medps, dignityhealth, medfs, org, sql, vsql, sdcchmc_lis, sjw, medarc, vaio, vctx, cpacs, svuserapp, sdsa, utl, sac, csm, script, ppp, syngo, sdm, chc, backup, pcn, dvidmi, mhhs, sjh, mmr, pac, dep, hhmmss, heartvascular, hhh_application, hhc, hglazebrook, heat, heather, hhacker, height, hemoglobin,\n",
      "Cluster 13: amcore, date, text, notification, dat, wow, secop, update, yarbrough, janaye, erika, admit, pending, verification, jam, keith, send, jane, observation, ian, analysis, thudock, ccu, maureen, workstation, ryan, isaiah, gladys, user, castro, mmc, machine, holly, hglazebrook, hospi, hernandez, hosp, hespina, hfitzpatrick, hgamerow, hhacker, hospit, hhc, hhh_application, hhmmss, hos, horizontal, hepler, hospita, hie,\n",
      "Cluster 14: reboot, device, generator, suddenly, monthly, test, round, mdf, main, corp, take, server, mch, master, myjourney, time, one, chwmf, need, sldc, please, sac, unable, sld, optimize, error, weber, whc, mob, page, mmodal, tower, computer, mdm, large, name, able, dev, load, access, user, encryption, fso, launch, cmp, fou, vetrehab, mcb, bouldercr, lompocoffice,\n",
      "Cluster 15: screen, desktop, black, monitor, dev, share, take, stick, computer, blank, user, unable, get, login, device, resolution, turn, work, error, laptop, freeze, dept, log, window, encryption, loc, change, nup, need, check, password, macafee, try, mde, show, go, come, use, restart, medseries, impact, able, second, update, wow, completely, repair, sideways, move, upside,\n",
      "Cluster 16: computer, desktop, unable, device, work, restart, turn, user, dev, internet, login, need, slow, error, dept, freeze, maintenance, laptop, round, perform, application, start, loc, get, wow, right, stick, miss, power, ask, connect, slowness, journey, call, connection, install, dep, one, open, scan, load, print, update, run, see, day, instal, cerner, take, log,\n",
      "Cluster 17: percent, disk, full, utilization, threshold, set, file, sql, vctx, viis, vprt, vaio, vsql, mapper, memory, dev, csm, vrep, mmc, use, sjm, sr, pac, var, dignityhealth, org, chc, iis, vol, prd, aio, sml, app, vint, mmr, int, nhc, lvbackup, rmanvg, systemvg, bay, appvg, vsyb, ccal, medq, svr, emu, sjr, wouldh, bni,\n",
      "Cluster 18: account, login, unable, user, lock, unlock, customer, userid, able, enable, uid, medseries, pas, enup, hduv, disable, hold, yes, do, already, password, cerner, dev, incorrect, access, log, first, error, call, nup, clairvia, gecb, activate, time, need, team, axway, window, end, nfuse, change, name, acc, claim, try, expire, computer, aphuynh, accou, devid,\n",
      "Cluster 19: exit, active, complete, job, status, zzaheer, highlight, hide, hie, hiec, high, higherground, hillmann, hill, hhh_application, hilt, hire, history, hit, hlarsen, hhmmss, hhc, hlt, hemo, heat, heather, height, hello, help, helpdesk, hemisphere, hemoglobin, hhacker, hence, hepler, hernandez, hespina, hfitzpatrick, hgamerow, hglazebrook, hlarson, hmi, heartlab, hoster, hosp, hospi, hospit, hospita, hospital, hospitalist,\n",
      "Cluster 20: error, mft, tier, consume, sftp, communication, millennium, suite, medseries, cpu_utilization_logfile, message, directory, meditech, cpu, occur, unable, time, device, file, opt, mdt, info, percentage, packet, interrupt, additional, ping, see, rejectedreason, direc, get, txt, dev, wealthpoint, ontime, blackbaud, direct, connance, devid, gecb, create, gmh, login, director, fail, script, relationship, trust, user, ssi,\n",
      "Cluster 21: miss, icon, company, uma, desktop, dev, mst, user, oct, cerner, device, application, instal, need, powerchart, medseries, devid, requester, chwidv, impact, file, bad, share, shortcut, create, wed, folder, dept, loc, outlook, take, mon, sep, firstnet, thu, edm, open, ecisa, unable, team, computer, work, launch, laptop, report, lawson, find, career, soarian, rco,\n",
      "Cluster 22: temperature, value, high, port, sensor, temp, smart, up, edc_p, integrate, dmf, smlb, cath, mdf, hilt, rcchild, elm, edc_t, humidity, meditech, main, morrison, srt, edc_w, amb, hlt, felton, idf, mic, edc_ff, ahu, cttnwd, pdu, srdhrdl, hespina, hfitzpatrick, helpdesk, hill, highlight, higherground, hemisphere, hemo, hillmann, hemoglobin, hence, hglazebrook, hiec, hhh_application, hie, hhacker,\n",
      "Cluster 23: do, hduv, login, password, reset, able, user, unable, account, hold, customer, yes, uid, invision, change, apache, medseries, acc, clairvia, give, incorrect, buddy, temporary, enup, share, hdou, pas, cerner, unlock, need, rco, lock, dev, formfast, allscripts, sac, enable, gecb, first, forget, already, time, outcome, call, profile, flowcast, meditech, re, reso, disable,\n",
      "Cluster 24: peer, bgp, establish, mdf, main, srdhsm, rorc, master, disappear, mfh, bsa, srdhs, railsback, whc, att, lvs, mcm, uacc, mpoe, mdm, sjw, wcc, gyoc, dsch, strose, srdhrdl, briefly, qcs, qcuc, rometowers, corp, weed, drpark, iho, tac, pfs, nst, maintenance, angelscamp, oprehab, boulder, shastina, sancarlosfp, bofa, emt, bighorn, fac, eigrp, pvpc, umc,\n",
      "Cluster 25: update, short, cut, explorer, back, require, chrome, page, create, internet, call, need, user, highlight, hiec, hie, high, higherground, hilt, hill, hillmann, hhmmss, hire, history, hit, hide, hglazebrook, hhh_application, hhc, height, hello, help, helpdesk, hemisphere, hemo, hemoglobin, hence, hepler, hernandez, hespina, hfitzpatrick, hgamerow, hlarson, hhacker, hlarsen, hna, hlt, hospitalist, horizontal, hos,\n",
      "Cluster 26: loc, work, dept, dev, desktop, scanner, impact, turn, wow, unable, device, user, dep, internet, laptop, scan, devid, monitor, provide, slow, connect, floor, properly, error, icu, rise, admit, keyboard, cerner, computer, one, login, print, pad, service, application, power, charge, medseries, handheld, honeywell, emergency, contact, need, signature, gecb, get, multiple, dragon, start,\n",
      "Cluster 27: mouse, keyboard, work, dev, wow, monitor, properly, break, device, devid, user, need, replace, wireless, dept, click, computer, desktop, key, loc, impact, move, right, cable, wire, unable, leave, function, old, want, laptop, pad, please, respond, use, freeze, kapoor, dep, button, dock, rdavid, faulty, screen, replacement, room, anesthesia, restart, sticky, cursor, pacu,\n",
      "Cluster 28: supply, power, chwmf, sac, multiple, master, device, fex, mdf, main, desktop, laptop, redundant, corp, normal, notexist, rps, unknown, fan, lompocoffice, wow, lose, mob, mcb, voltage, cisco, colo, failure, name, charge, rorc, poe, edcenter, operational, weber, server, edh, sld, round, one, lvs, idf, nst, mcm, fail, report, guest, critical, status, hfitzpatrick,\n",
      "Cluster 29: phone, work, call, ext, need, ascom, dial, unable, number, extn, voicemail, duo, loc, extension, tone, dept, break, user, line, voice, receive, spectralink, password, hear, move, reset, desk, avaya, cisco, make, impact, ring, nortel, spectra, dep, setup, get, jack, add, meridian, display, change, answer, static, contact, nurse, mail, login, connect, link,\n",
      "Cluster 30: app, percent, disk, full, utilization, threshold, set, file, wouldh, ccal, sjr, sm, memory, lvs, use, micbo, fhm, high, hie, hiec, highlight, higherground, hhmmss, hill, hillmann, hilt, hire, hide, hhh_application, hello, helpdesk, help, hhc, hhacker, hglazebrook, hgamerow, hfitzpatrick, hespina, hernandez, hepler, hence, hemoglobin, hemo, hemisphere, zzaheer, hit, history, honey, hook, hoover,\n",
      "Cluster 31: printer, print, kyocera, unable, add, label, dev, need, computer, device, map, user, zebra, anything, work, dept, equip, default, loc, make, setup, take, noise, equipment, properly, error, devid, desktop, cerner, page, driver, vprt, change, set, able, que, install, formfast, please, want, tray, instal, impact, turn, document, medseries, break, keep, poor, get,\n"
     ]
    },
    {
     "name": "stdout",
     "output_type": "stream",
     "text": [
      "Cluster 32: account, unlock, lock, user, name, able, login, access, unable, userid, medseries, need, customer, gecb, flowcast, intruder, slentz, dbarrientos, tdowns, allscripts, mtaska, allscript, clairvia, acc, aswangler, impact, axway, want, nup, jancona, hnaylor, rholloman, mnandula, mnaik, please, jsteiner, ps, call, script, dev, team, reset, vpatdu, rcuneo, password, zlegaspi, kbratsch, ejohn, do, stijore,\n",
      "Cluster 33: unlock, account, login, unable, uid, customer, user, able, gecb, swillstout, access, medseries, hill, hillmann, highlight, hhmmss, hilt, higherground, hire, high, history, hiec, hie, hit, hide, zzaheer, hhh_application, hhc, height, hello, help, helpdesk, hemisphere, hemo, hemoglobin, hence, hepler, hernandez, hespina, hfitzpatrick, hgamerow, hglazebrook, hlarsen, hhacker, hlt, hlarson, hospitalist, horizontal, hos, hosp,\n",
      "Cluster 34: allscripts, user, unable, login, lock, account, sac, password, reset, need, dev, scan, impact, document, dept, error, loc, application, device, freeze, launch, patient, icon, note, bad, chart, tabs, idx, order, access, unlock, close, multiple, ehr, mrn, find, get, slowness, dep, hbuttar, manager, extract, print, userid, number, touchchart, log, name, enable, touch,\n",
      "Cluster 35: room, work, train, loc, dept, scanner, computer, dev, monitor, need, conference, desktop, phone, impact, device, floor, dep, mouse, keyboard, turn, rise, unable, provide, laptop, scan, fetalink, please, wall, operate, port, access, sign, internet, jack, emergency, show, exam, connect, get, cyracom, display, user, eeg, board, telemetry, wifi, cathlab, projector, schedule, johnson,\n",
      "Cluster 36: rectimeout, source_realtime, socket, tier, throw, alive, timeout, point, keep, end, error, application, current, occur, attempt, threshold, nitiate, hub, identity, millennium, suite, unable, document, domain, engine, transcription, omnicell, platform, optum, adt, touchworks, sonifi, within, solution, careb, app, bridge, result, ecisa, hccl, medseries, soc, meditech, unavailable, arup, xper, conn, appli, yosemite, master,\n",
      "Cluster 37: encryption, login, unable, user, mcafee, boot, one, time, perform, password, laptop, able, dev, log, credential, generic, uid, recovery, sync, endpoint, devid, need, ask, desktop, macfee, try, dept, device, loc, mde, do, stick, hold, use, impact, error, unknown, computer, customer, change, guide, logon, dep, fail, enter, yes, userid, authentication, disable, past,\n",
      "Cluster 38: lose, communication, link, up, smart, status, main, mdf, srt, twr, alarm, rehab, device, mcm, smlb, srdhsm, mmp, uacc, corp, srdhs, anc, aru, mtsj, tower, sldc, hlt, mob, vsmc, vetrehab, mpoe, nst, belmont, mmcsm, pa, weed, sjw, bra, sancarlosfp, hccl, morrison, whc, fam, mrmcw, pread, atl, fou, bighorn, srdhrdl, kitchen, att,\n",
      "Cluster 39: percentage, packet, additional, ping, info, see, time, nhc, vmw, app, sql, vsql, vprt, cor, crh, aio, sjb, sml, sjm, vii, f, mmc, ctx, sjpv, pvale, mhhs, snm, sjr, mcm, variantbox, tunixaixtt, nmc, srm, sr, mmr, vaio, vfax, prosolv, medarc, pac, csb, sjp, sin, sac, mfh, lvs, vctx, srd, hmi, wouldh,\n",
      "Cluster 40: outlook, email, unable, send, dev, device, user, receive, access, open, error, login, need, devid, mail, delete, offline, want, get, miss, archive, pop, launch, web, take, mailbox, vault, work, use, computer, app, address, profile, view, icon, customer, setup, attachment, owa, try, webmail, create, guide, webex, restore, inbox, security, phishing, folder, add,\n",
      "Cluster 41: password, reset, user, need, unable, login, userid, account, do, invision, name, hduv, medseries, log, require, clairvia, change, apache, rco, cerner, guide, want, meditech, dev, axway, gecb, voicemail, sso, question, first, device, buddy, flowcast, ps, time, jabber, access, call, security, forget, able, verification, formfast, take, mailgate, cisco, mail, computer, tunnel, sm,\n",
      "Cluster 42: alarm, up, smart, main, device, change, hire, hilt, hillmann, history, hill, hhacker, highlight, higherground, high, hiec, hie, hide, hhmmss, hhh_application, hit, hhc, zzaheer, hlarson, hemisphere, heartvascular, heat, heather, height, hello, help, helpdesk, hemo, hglazebrook, hemoglobin, hence, hepler, hernandez, hespina, hfitzpatrick, hgamerow, hlarsen, hmi, hlt, host, hos, hosp, hospi, hospit, hospita,\n",
      "Cluster 43: exit, active, complete, job, status, zzaheer, highlight, hide, hie, hiec, high, higherground, hillmann, hill, hhh_application, hilt, hire, history, hit, hlarsen, hhmmss, hhc, hlt, hemo, heat, heather, height, hello, help, helpdesk, hemisphere, hemoglobin, hhacker, hence, hepler, hernandez, hespina, hfitzpatrick, hgamerow, hglazebrook, hlarson, hmi, heartlab, hoster, hosp, hospi, hospit, hospita, hospital, hospitalist,\n",
      "Cluster 44: main, controller, associate, mdf, tceast, master, rehab, medsurg, reoccurring, edcenter, itoffice, morrison, pbx, recur, mdm, update, mcm, hit, hillmann, hide, hill, highlight, history, higherground, hire, high, hiec, hie, hilt, hhacker, hhmmss, hhh_application, heather, height, hello, help, helpdesk, hemisphere, hemo, hemoglobin, hence, hepler, hernandez, hespina, hfitzpatrick, hgamerow, hglazebrook, hlarson, hhc, hlarsen,\n",
      "Cluster 45: job, medseries, lock, unlock, number, user, account, kill, need, unable, remove, delete, access, able, name, clear, session, end, stick, release, customer, login, post, dev, impact, hold, doamin, patient, domain, lkwait, acc, admission, lschell, smada, use, get, try, jestudiant, call, swillstout, wbarnett, time, uid, change, userid, device, admit, yes, require, resol,\n",
      "Cluster 46: lock, account, user, cerner, duo, medseries, login, enable, dev, unable, end, name, guide, tell, hie, hhh_application, hhmmss, hide, hill, hiec, high, higherground, highlight, hillmann, hilt, hire, hhc, hgamerow, hhacker, hglazebrook, heat, heather, height, hello, help, helpdesk, hemisphere, hemo, hemoglobin, hence, hepler, hernandez, hespina, hfitzpatrick, hit, history, zzaheer, hlarsen, hospitalist, horizontal,\n",
      "Cluster 47: process, service, run, call, citrix, vctx, manager, print, sql, agent, server, mssqlserver, sharepoint, monitor, ctx, vii, timer, spooler, netsmart, architecture, independent, app, administration, homecare, world, modelprintrouter, wide, imagenow, publish, modelfaxrouter, web, search, mmr, mfcom, vprt, modelemailrouter, host, prt, qlikview, onecontent, mobile_md, dm_to_cpdi, controller, sr, dignityhealth, vaio, meditech, org, hhc, imsadr_aznv_imsadr_aznv_router,\n",
      "Cluster 48: map, printer, need, device, user, dev, share, take, want, computer, devid, help, impact, print, drive, desktop, kyocera, unable, able, miss, access, add, call, path, na, vip, laptop, get, global, devip, pid, please, try, cerner, address, dive, ccal, work, use, customer, brother, folder, like, mwhccom, account, name, application, screen, back, pri,\n",
      "Cluster 49: interface, mft, cxnmft, framework, cxnmft_utilities, per, file, receive, tier, message, isystemsmm, cerner, isystemsec, destination, medseries, error, qsyswrk, directory, con, isystemmmm, isystembmh, isystemsnm, pickup, efr, fail, isystemshs, isystemsjb, isystemsjm, isystemmmr, destination_realtime, restart, trap, vdrnet_dev, mobibkup, epa, snmp, trigger_pr, production, adt, isystemmsj, isystemmhb, send, true, artiva, interrupt, component, con_msf, deliver, isystemmgh, qbatch,\n",
      "(50, 2)\n"
     ]
    }
   ],
   "source": [
    "# order_centroids = kmeans.cluster_centers_.argsort()[:,-1:-51:-1]\n",
    "# for num, centroid in enumerate(order_centroids):\n",
    "#     print(str(num) + ' : ' + ', '.join(features[word] for word in centroid))\n",
    "    \n",
    "# Create mapping of ngram features into clusters, \n",
    "# save into terms map object with key as cluster name (first feature in each cluster - with 2 words)\n",
    "# terms = top 50 ngram features\n",
    "\n",
    "order_centroids = kmeans.cluster_centers_.argsort()[:, :51:-1]\n",
    "\n",
    "terms_map = pd.DataFrame(index = np.arange(0, num_clusters), columns = ['features','key'])    \n",
    "for i in range(num_clusters):\n",
    "    print(\"Cluster %d:\" % i, end='')\n",
    "    #terms_map['key'] = i\n",
    "    list = [] \n",
    "    for ind in order_centroids[i, :50]:\n",
    "        print(' %s' % features[ind], end=',')\n",
    "        list.append(features[ind])\n",
    "    for ind2 in order_centroids[i, :1]:\n",
    "        terms_map.key.loc[i] = features[ind2]\n",
    "\n",
    "    str = ', '.join(list) \n",
    "    terms_map.features.loc[i] = str\n",
    "    print()\n",
    "print(terms_map.shape)"
   ]
  },
  {
   "cell_type": "code",
   "execution_count": 45,
   "metadata": {},
   "outputs": [
    {
     "data": {
      "text/plain": [
       "<matplotlib.axes._subplots.AxesSubplot at 0x2016eed74a8>"
      ]
     },
     "execution_count": 45,
     "metadata": {},
     "output_type": "execute_result"
    },
    {
     "data": {
      "image/png": "[encoded data removed]",
      "text/plain": [
       "<Figure size 432x288 with 1 Axes>"
      ]
     },
     "metadata": {},
     "output_type": "display_data"
    }
   ],
   "source": [
    "# analyze the clusters\n",
    "top_clusters = test['Cluster'].value_counts()\n",
    "top_clusters.plot.bar(x = 'Cluster', y = 'Counts')"
   ]
  },
  {
   "cell_type": "code",
   "execution_count": 46,
   "metadata": {},
   "outputs": [
    {
     "name": "stdout",
     "output_type": "stream",
     "text": [
      "                                                                                      Short_description  \\\n",
      "9   Desktop//Unable to save a word document file//Device IP:10.217.114.136//Assisted user with the same   \n",
      "20                                                    Arm Band Printer|| Roller not working||SEQLPADT01   \n",
      "21                            nmscust02-1 : CHW-as1-idf103-main-srdhs : 10.250.238.50 : Syslog Critical   \n",
      "22                                                                       Phishing Email with attachment   \n",
      "26                               nmscust02-2 : CHW-as1-131-main-msjmc : 10.146.250.80 : Syslog Critical   \n",
      "27                                 nmscust02-2 : CHW-as1-222-tc-msjmc : 10.146.250.70 : Syslog Critical   \n",
      "28                         Master//nmscust02-2 : CHW-as1-mdf-tc-msjmc : 10.146.250.10 : Syslog Critical   \n",
      "29  The Kyocera printer MMRPADT151 [10.217.232.59] is making a rattling noise when turned on which s...   \n",
      "30                                 nmscust02-2 : CHW-as1-mdf-main-mgh : 10.144.250.10 : Syslog Critical   \n",
      "40                                        FirstNet|| specific report not responding|| ED-Activity Log||   \n",
      "\n",
      "                                                                            Terms  \\\n",
      "9                       desktop unable save word document file device assist user   \n",
      "20                                                   arm band printer roller work   \n",
      "21                                                     main srdhs syslog critical   \n",
      "22                                                      phishing email attachment   \n",
      "26                                                           main syslog critical   \n",
      "27                                                                syslog critical   \n",
      "28                                                     master mdf syslog critical   \n",
      "29  kyocera printer make rattle noise turn sound fan something like rattle around   \n",
      "30                                                       mdf main syslog critical   \n",
      "40                                  firstnet specific report respond activity log   \n",
      "\n",
      "                                        IPs  Cluster  \n",
      "9                  10.217.114.136//assisted        3  \n",
      "20                                                 3  \n",
      "21  chw-as1-idf103-main-srdhs 10.250.238.50        3  \n",
      "22                                                 3  \n",
      "26     chw-as1-131-main-msjmc 10.146.250.80        3  \n",
      "27       chw-as1-222-tc-msjmc 10.146.250.70        3  \n",
      "28       chw-as1-mdf-tc-msjmc 10.146.250.10        3  \n",
      "29                                                 3  \n",
      "30       chw-as1-mdf-main-mgh 10.144.250.10        3  \n",
      "40                                                 3  \n"
     ]
    }
   ],
   "source": [
    "# there is high volume for cluster 3, look at few to investigate\n",
    "print(test[test.Cluster == 3].iloc[:10, [15,17,18,19]])"
   ]
  },
  {
   "cell_type": "code",
   "execution_count": 49,
   "metadata": {},
   "outputs": [
    {
     "data": {
      "text/plain": [
       "<matplotlib.axes._subplots.AxesSubplot at 0x2015a86b908>"
      ]
     },
     "execution_count": 49,
     "metadata": {},
     "output_type": "execute_result"
    },
    {
     "data": {
      "image/png": "[encoded data removed]",
      "text/plain": [
       "<Figure size 432x288 with 1 Axes>"
      ]
     },
     "metadata": {},
     "output_type": "display_data"
    }
   ],
   "source": [
    "# understand distribution of Cluster 3 incidents across Category & Close Code\n",
    "\n",
    "# Category by count - for Cluster 3\n",
    "\n",
    "top_categories_test = test[test.Cluster == 3]['Category'].value_counts()[:20]\n",
    "top_categories_test.plot.bar(x = 'Category', y = 'Counts')"
   ]
  },
  {
   "cell_type": "code",
   "execution_count": null,
   "metadata": {},
   "outputs": [],
   "source": [
    "# Close_code by count - for Cluster 3\n",
    "\n",
    "top_close_code_test = test[test.Cluster == 3]['Close_code'].value_counts()[:20]\n",
    "top_close_code_test.plot.bar(x = 'Close_code', y = 'Counts')"
   ]
  }
 ],
 "metadata": {
  "kernelspec": {
   "display_name": "Python 3",
   "language": "python",
   "name": "python3"
  },
  "language_info": {
   "codemirror_mode": {
    "name": "ipython",
    "version": 3
   },
   "file_extension": ".py",
   "mimetype": "text/x-python",
   "name": "python",
   "nbconvert_exporter": "python",
   "pygments_lexer": "ipython3",
   "version": "3.6.6"
  }
 },
 "nbformat": 4,
 "nbformat_minor": 2
}
