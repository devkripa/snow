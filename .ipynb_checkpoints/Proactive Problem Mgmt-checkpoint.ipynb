{
 "cells": [
  {
   "cell_type": "code",
   "execution_count": 1,
   "metadata": {},
   "outputs": [],
   "source": [
    "import numpy as np\n",
    "import matplotlib.pyplot as plt\n",
    "import pandas as pd\n",
    "# import os\n",
    "# import codecs"
   ]
  },
  {
   "cell_type": "code",
   "execution_count": 2,
   "metadata": {},
   "outputs": [],
   "source": [
    "target_url = (\"/Users/devkrroy/Dev/Projects/snow/data/export3.xlsx\")\n",
    "# target_url = (\"C:/Dev/Projects/snow/data/export3.xlsx\")"
   ]
  },
  {
   "cell_type": "code",
   "execution_count": 3,
   "metadata": {},
   "outputs": [],
   "source": [
    "df = pd.read_excel(target_url)"
   ]
  },
  {
   "cell_type": "code",
   "execution_count": 4,
   "metadata": {},
   "outputs": [
    {
     "name": "stdout",
     "output_type": "stream",
     "text": [
      "<class 'pandas.core.frame.DataFrame'>\n",
      "RangeIndex: 95373 entries, 0 to 95372\n",
      "Data columns (total 28 columns):\n",
      "Number                95373 non-null object\n",
      "Assignment_group      95373 non-null object\n",
      "Priority              95373 non-null object\n",
      "State                 95373 non-null object\n",
      "Category              93947 non-null object\n",
      "Subcategory           61328 non-null object\n",
      "Severity              95373 non-null object\n",
      "Closure_CI            94492 non-null object\n",
      "Location              95079 non-null object\n",
      "Close_code            94559 non-null object\n",
      "Configuration_item    95373 non-null object\n",
      "Child_Incidents       95373 non-null int64\n",
      "Contact_type          95373 non-null object\n",
      "Duration              95373 non-null int64\n",
      "Impact                95373 non-null object\n",
      "Short_description     95373 non-null object\n",
      "Created               95373 non-null datetime64[ns]\n",
      "dates                 95373 non-null datetime64[ns]\n",
      "date                  95373 non-null datetime64[ns]\n",
      "day                   95373 non-null object\n",
      "month                 95373 non-null object\n",
      "dom                   95373 non-null int64\n",
      "week                  95373 non-null int64\n",
      "week2                 95373 non-null int64\n",
      "cluster               95373 non-null int64\n",
      "cluster1              95373 non-null int64\n",
      "cluster_name1         95373 non-null object\n",
      "cluster_name          95373 non-null object\n",
      "dtypes: datetime64[ns](3), int64(7), object(18)\n",
      "memory usage: 20.4+ MB\n",
      "['Number' 'Assignment_group' 'Priority' 'State' 'Category' 'Subcategory'\n",
      " 'Severity' 'Closure_CI' 'Location' 'Close_code' 'Configuration_item'\n",
      " 'Child_Incidents' 'Contact_type' 'Duration' 'Impact' 'Short_description'\n",
      " 'Created' 'dates' 'date' 'day' 'month' 'dom' 'week' 'week2' 'cluster'\n",
      " 'cluster1' 'cluster_name1' 'cluster_name']\n"
     ]
    }
   ],
   "source": [
    "df.info()\n",
    "print(df.columns.values)"
   ]
  },
  {
   "cell_type": "code",
   "execution_count": 5,
   "metadata": {},
   "outputs": [
    {
     "data": {
      "text/html": [
       "<div>\n",
       "<style scoped>\n",
       "    .dataframe tbody tr th:only-of-type {\n",
       "        vertical-align: middle;\n",
       "    }\n",
       "\n",
       "    .dataframe tbody tr th {\n",
       "        vertical-align: top;\n",
       "    }\n",
       "\n",
       "    .dataframe thead th {\n",
       "        text-align: right;\n",
       "    }\n",
       "</style>\n",
       "<table border=\"1\" class=\"dataframe\">\n",
       "  <thead>\n",
       "    <tr style=\"text-align: right;\">\n",
       "      <th></th>\n",
       "      <th>Number</th>\n",
       "      <th>Assignment_group</th>\n",
       "      <th>Priority</th>\n",
       "      <th>State</th>\n",
       "      <th>Category</th>\n",
       "      <th>Subcategory</th>\n",
       "      <th>Severity</th>\n",
       "      <th>Closure_CI</th>\n",
       "      <th>Location</th>\n",
       "      <th>Close_code</th>\n",
       "      <th>...</th>\n",
       "      <th>date</th>\n",
       "      <th>day</th>\n",
       "      <th>month</th>\n",
       "      <th>dom</th>\n",
       "      <th>week</th>\n",
       "      <th>week2</th>\n",
       "      <th>cluster</th>\n",
       "      <th>cluster1</th>\n",
       "      <th>cluster_name1</th>\n",
       "      <th>cluster_name</th>\n",
       "    </tr>\n",
       "  </thead>\n",
       "  <tbody>\n",
       "    <tr>\n",
       "      <th>0</th>\n",
       "      <td>INC0406604</td>\n",
       "      <td>DHE-Command Center</td>\n",
       "      <td>4 - Low</td>\n",
       "      <td>Closed</td>\n",
       "      <td>Server</td>\n",
       "      <td>Windows</td>\n",
       "      <td>3 - Low</td>\n",
       "      <td>phx-vapp-689</td>\n",
       "      <td>Corporate Office - Phoenix 1</td>\n",
       "      <td>Resolved by Event</td>\n",
       "      <td>...</td>\n",
       "      <td>2018-09-01</td>\n",
       "      <td>Saturday</td>\n",
       "      <td>September</td>\n",
       "      <td>1</td>\n",
       "      <td>1</td>\n",
       "      <td>1</td>\n",
       "      <td>1</td>\n",
       "      <td>16</td>\n",
       "      <td>volume space</td>\n",
       "      <td>threshold set disk</td>\n",
       "    </tr>\n",
       "    <tr>\n",
       "      <th>1</th>\n",
       "      <td>INC0406605</td>\n",
       "      <td>DH-Enterprise IT Service Cntr</td>\n",
       "      <td>4 - Low</td>\n",
       "      <td>Closed</td>\n",
       "      <td>Security</td>\n",
       "      <td>NaN</td>\n",
       "      <td>3 - Low</td>\n",
       "      <td>Network Account Lock</td>\n",
       "      <td>St Mary's Medical Center San Francisco (SMMC-SF)</td>\n",
       "      <td>Account Unlock</td>\n",
       "      <td>...</td>\n",
       "      <td>2018-09-01</td>\n",
       "      <td>Saturday</td>\n",
       "      <td>September</td>\n",
       "      <td>1</td>\n",
       "      <td>1</td>\n",
       "      <td>1</td>\n",
       "      <td>48</td>\n",
       "      <td>47</td>\n",
       "      <td>login</td>\n",
       "      <td>login</td>\n",
       "    </tr>\n",
       "    <tr>\n",
       "      <th>2</th>\n",
       "      <td>INC0406606</td>\n",
       "      <td>DHE-RCM-AppOp-Applications</td>\n",
       "      <td>3 - Moderate</td>\n",
       "      <td>Closed</td>\n",
       "      <td>Application</td>\n",
       "      <td>Revenue Cycle</td>\n",
       "      <td>3 - Low</td>\n",
       "      <td>Soarian DM</td>\n",
       "      <td>Corporate Office - Phoenix 1</td>\n",
       "      <td>Resolved by Event</td>\n",
       "      <td>...</td>\n",
       "      <td>2018-09-01</td>\n",
       "      <td>Saturday</td>\n",
       "      <td>September</td>\n",
       "      <td>1</td>\n",
       "      <td>1</td>\n",
       "      <td>1</td>\n",
       "      <td>44</td>\n",
       "      <td>7</td>\n",
       "      <td>login</td>\n",
       "      <td>cerner</td>\n",
       "    </tr>\n",
       "    <tr>\n",
       "      <th>3</th>\n",
       "      <td>INC0406607</td>\n",
       "      <td>DH-Enterprise IT Service Cntr</td>\n",
       "      <td>4 - Low</td>\n",
       "      <td>Closed</td>\n",
       "      <td>Security</td>\n",
       "      <td>NaN</td>\n",
       "      <td>3 - Low</td>\n",
       "      <td>Network Account Issue</td>\n",
       "      <td>Bruceville Terrace</td>\n",
       "      <td>Password Reset</td>\n",
       "      <td>...</td>\n",
       "      <td>2018-09-01</td>\n",
       "      <td>Saturday</td>\n",
       "      <td>September</td>\n",
       "      <td>1</td>\n",
       "      <td>1</td>\n",
       "      <td>1</td>\n",
       "      <td>4</td>\n",
       "      <td>4</td>\n",
       "      <td>login</td>\n",
       "      <td>login</td>\n",
       "    </tr>\n",
       "    <tr>\n",
       "      <th>4</th>\n",
       "      <td>INC0406608</td>\n",
       "      <td>DH-Enterprise IT Service Cntr</td>\n",
       "      <td>4 - Low</td>\n",
       "      <td>Closed</td>\n",
       "      <td>Application</td>\n",
       "      <td>Clinical</td>\n",
       "      <td>3 - Low</td>\n",
       "      <td>Clairvia</td>\n",
       "      <td>St Mary's Medical Center San Francisco (SMMC-SF)</td>\n",
       "      <td>Password Reset</td>\n",
       "      <td>...</td>\n",
       "      <td>2018-09-01</td>\n",
       "      <td>Saturday</td>\n",
       "      <td>September</td>\n",
       "      <td>1</td>\n",
       "      <td>1</td>\n",
       "      <td>1</td>\n",
       "      <td>18</td>\n",
       "      <td>36</td>\n",
       "      <td>login</td>\n",
       "      <td>login</td>\n",
       "    </tr>\n",
       "  </tbody>\n",
       "</table>\n",
       "<p>5 rows × 28 columns</p>\n",
       "</div>"
      ],
      "text/plain": [
       "       Number               Assignment_group      Priority   State  \\\n",
       "0  INC0406604             DHE-Command Center       4 - Low  Closed   \n",
       "1  INC0406605  DH-Enterprise IT Service Cntr       4 - Low  Closed   \n",
       "2  INC0406606     DHE-RCM-AppOp-Applications  3 - Moderate  Closed   \n",
       "3  INC0406607  DH-Enterprise IT Service Cntr       4 - Low  Closed   \n",
       "4  INC0406608  DH-Enterprise IT Service Cntr       4 - Low  Closed   \n",
       "\n",
       "      Category    Subcategory Severity             Closure_CI  \\\n",
       "0       Server        Windows  3 - Low           phx-vapp-689   \n",
       "1     Security            NaN  3 - Low   Network Account Lock   \n",
       "2  Application  Revenue Cycle  3 - Low             Soarian DM   \n",
       "3     Security            NaN  3 - Low  Network Account Issue   \n",
       "4  Application       Clinical  3 - Low               Clairvia   \n",
       "\n",
       "                                           Location         Close_code  \\\n",
       "0                      Corporate Office - Phoenix 1  Resolved by Event   \n",
       "1  St Mary's Medical Center San Francisco (SMMC-SF)     Account Unlock   \n",
       "2                      Corporate Office - Phoenix 1  Resolved by Event   \n",
       "3                                Bruceville Terrace     Password Reset   \n",
       "4  St Mary's Medical Center San Francisco (SMMC-SF)     Password Reset   \n",
       "\n",
       "          ...               date       day      month  dom week week2 cluster  \\\n",
       "0         ...         2018-09-01  Saturday  September    1    1     1       1   \n",
       "1         ...         2018-09-01  Saturday  September    1    1     1      48   \n",
       "2         ...         2018-09-01  Saturday  September    1    1     1      44   \n",
       "3         ...         2018-09-01  Saturday  September    1    1     1       4   \n",
       "4         ...         2018-09-01  Saturday  September    1    1     1      18   \n",
       "\n",
       "  cluster1 cluster_name1        cluster_name  \n",
       "0       16  volume space  threshold set disk  \n",
       "1       47         login               login  \n",
       "2        7         login              cerner  \n",
       "3        4         login               login  \n",
       "4       36         login               login  \n",
       "\n",
       "[5 rows x 28 columns]"
      ]
     },
     "execution_count": 5,
     "metadata": {},
     "output_type": "execute_result"
    }
   ],
   "source": [
    "df.head()"
   ]
  },
  {
   "cell_type": "code",
   "execution_count": 6,
   "metadata": {},
   "outputs": [
    {
     "data": {
      "text/plain": [
       "<matplotlib.axes._subplots.AxesSubplot at 0x1213fffd0>"
      ]
     },
     "execution_count": 6,
     "metadata": {},
     "output_type": "execute_result"
    },
    {
     "data": {
      "image/png": "[encoded data removed]",
      "text/plain": [
       "<Figure size 432x288 with 1 Axes>"
      ]
     },
     "metadata": {
      "needs_background": "light"
     },
     "output_type": "display_data"
    }
   ],
   "source": [
    "# plot few charts to understand the data\n",
    "\n",
    "# Category by count - this should help understand \"Number of Clusters\" we should have\n",
    "\n",
    "top_categories_df = df['Category'].value_counts()[:20]\n",
    "top_categories_df.plot.bar(x = 'Category', y = 'Counts')\n"
   ]
  },
  {
   "cell_type": "code",
   "execution_count": 7,
   "metadata": {},
   "outputs": [
    {
     "data": {
      "text/plain": [
       "<matplotlib.axes._subplots.AxesSubplot at 0x121a32f98>"
      ]
     },
     "execution_count": 7,
     "metadata": {},
     "output_type": "execute_result"
    },
    {
     "data": {
      "image/png": "[encoded data removed]",
      "text/plain": [
       "<Figure size 432x288 with 1 Axes>"
      ]
     },
     "metadata": {
      "needs_background": "light"
     },
     "output_type": "display_data"
    }
   ],
   "source": [
    "# Close_code by count \n",
    "\n",
    "top_close_code_df = df['Close_code'].value_counts()[:20]\n",
    "top_close_code_df.plot.bar(x = 'Close_code', y = 'Counts')"
   ]
  },
  {
   "cell_type": "code",
   "execution_count": 8,
   "metadata": {},
   "outputs": [],
   "source": [
    "# based on the 2 charts above we will go with 30 - 50 clusters of data"
   ]
  },
  {
   "cell_type": "code",
   "execution_count": 9,
   "metadata": {},
   "outputs": [],
   "source": [
    "# identify the cols needed\n",
    "cols = ['Number', 'Assignment_group', 'Priority', 'State', 'Category',\n",
    "       'Subcategory', 'Severity', 'Closure_CI', 'Location', 'Close_code',\n",
    "       'Configuration_item', 'Child_Incidents', 'Contact_type',\n",
    "       'Duration', 'Impact', 'Short_description', 'Created']\n",
    "df = df[cols]"
   ]
  },
  {
   "cell_type": "code",
   "execution_count": 10,
   "metadata": {},
   "outputs": [
    {
     "name": "stdout",
     "output_type": "stream",
     "text": [
      "Shape of the modified dataframe  (95373, 17)\n"
     ]
    }
   ],
   "source": [
    "# use less rows for analysis, remove later\n",
    "# df = df.head(10000)\n",
    "print('Shape of the modified dataframe ', df.shape)"
   ]
  },
  {
   "cell_type": "code",
   "execution_count": 11,
   "metadata": {},
   "outputs": [
    {
     "data": {
      "text/html": [
       "<div>\n",
       "<style scoped>\n",
       "    .dataframe tbody tr th:only-of-type {\n",
       "        vertical-align: middle;\n",
       "    }\n",
       "\n",
       "    .dataframe tbody tr th {\n",
       "        vertical-align: top;\n",
       "    }\n",
       "\n",
       "    .dataframe thead th {\n",
       "        text-align: right;\n",
       "    }\n",
       "</style>\n",
       "<table border=\"1\" class=\"dataframe\">\n",
       "  <thead>\n",
       "    <tr style=\"text-align: right;\">\n",
       "      <th></th>\n",
       "      <th>Number</th>\n",
       "      <th>Assignment_group</th>\n",
       "      <th>Priority</th>\n",
       "      <th>State</th>\n",
       "      <th>Category</th>\n",
       "      <th>Subcategory</th>\n",
       "      <th>Severity</th>\n",
       "      <th>Closure_CI</th>\n",
       "      <th>Location</th>\n",
       "      <th>Close_code</th>\n",
       "      <th>Configuration_item</th>\n",
       "      <th>Child_Incidents</th>\n",
       "      <th>Contact_type</th>\n",
       "      <th>Duration</th>\n",
       "      <th>Impact</th>\n",
       "      <th>Short_description</th>\n",
       "      <th>Created</th>\n",
       "    </tr>\n",
       "  </thead>\n",
       "  <tbody>\n",
       "    <tr>\n",
       "      <th>78573</th>\n",
       "      <td>INC0502480</td>\n",
       "      <td>DH-SC-EUS NLA NrthrdgRoscoe</td>\n",
       "      <td>4 - Low</td>\n",
       "      <td>Closed</td>\n",
       "      <td>Security</td>\n",
       "      <td>NaN</td>\n",
       "      <td>3 - Low</td>\n",
       "      <td>McAfee AV, ASW or EPO</td>\n",
       "      <td>Corporate Office - Phoenix GAT</td>\n",
       "      <td>Security</td>\n",
       "      <td>McAfee AV, ASW or EPO</td>\n",
       "      <td>0</td>\n",
       "      <td>Phone</td>\n",
       "      <td>98375</td>\n",
       "      <td>No Impact</td>\n",
       "      <td>\"Notification Text: AMCORE out of Date &lt;Works...</td>\n",
       "      <td>2018-10-22 13:34:52</td>\n",
       "    </tr>\n",
       "    <tr>\n",
       "      <th>90835</th>\n",
       "      <td>INC0515090</td>\n",
       "      <td>DH-SW-EUS StRoseSanMartin</td>\n",
       "      <td>4 - Low</td>\n",
       "      <td>Closed</td>\n",
       "      <td>Security</td>\n",
       "      <td>NaN</td>\n",
       "      <td>3 - Low</td>\n",
       "      <td>McAfee Agent</td>\n",
       "      <td>Corporate Office - Phoenix GAT</td>\n",
       "      <td>Application</td>\n",
       "      <td>McAfee AV, ASW or EPO</td>\n",
       "      <td>0</td>\n",
       "      <td>Phone</td>\n",
       "      <td>680806</td>\n",
       "      <td>No Impact</td>\n",
       "      <td>\"Notification Text: AMCORE out of Date &lt;Works...</td>\n",
       "      <td>2018-10-29 13:55:41</td>\n",
       "    </tr>\n",
       "    <tr>\n",
       "      <th>90786</th>\n",
       "      <td>INC0515038</td>\n",
       "      <td>DH-SC-EUS Marian</td>\n",
       "      <td>4 - Low</td>\n",
       "      <td>Closed</td>\n",
       "      <td>Security</td>\n",
       "      <td>NaN</td>\n",
       "      <td>3 - Low</td>\n",
       "      <td>McAfee Agent</td>\n",
       "      <td>Corporate Office - Phoenix GAT</td>\n",
       "      <td>Middleware</td>\n",
       "      <td>McAfee AV, ASW or EPO</td>\n",
       "      <td>0</td>\n",
       "      <td>Phone</td>\n",
       "      <td>69495</td>\n",
       "      <td>No Impact</td>\n",
       "      <td>\"Notification Text: AMCORE out of Date &lt;Works...</td>\n",
       "      <td>2018-10-29 13:34:39</td>\n",
       "    </tr>\n",
       "    <tr>\n",
       "      <th>80023</th>\n",
       "      <td>INC0503977</td>\n",
       "      <td>DH-ClinApps HIM</td>\n",
       "      <td>4 - Low</td>\n",
       "      <td>Closed</td>\n",
       "      <td>Application</td>\n",
       "      <td>NaN</td>\n",
       "      <td>3 - Low</td>\n",
       "      <td>Cerner CPDI Kofax</td>\n",
       "      <td>Woodland Healthcare Davis</td>\n",
       "      <td>Application</td>\n",
       "      <td>Cerner Millennium Provider Doc 2015.01.19</td>\n",
       "      <td>0</td>\n",
       "      <td>Self-service</td>\n",
       "      <td>6784</td>\n",
       "      <td>Down for One IT Customer</td>\n",
       "      <td>Cerner CDI Work Queue Monitor - Not Receiving...</td>\n",
       "      <td>2018-10-23 09:19:22</td>\n",
       "    </tr>\n",
       "    <tr>\n",
       "      <th>80137</th>\n",
       "      <td>INC0504096</td>\n",
       "      <td>DH-ClinApps HIM</td>\n",
       "      <td>4 - Low</td>\n",
       "      <td>Closed</td>\n",
       "      <td>Application</td>\n",
       "      <td>NaN</td>\n",
       "      <td>3 - Low</td>\n",
       "      <td>Cerner CPDI Kofax</td>\n",
       "      <td>Dignity Health Medical Group - Stockton</td>\n",
       "      <td>Application</td>\n",
       "      <td>Cerner Millennium HIM 2015.01.19</td>\n",
       "      <td>0</td>\n",
       "      <td>Self-service</td>\n",
       "      <td>4816</td>\n",
       "      <td>Down for One IT Customer</td>\n",
       "      <td>Cerner CDI Work Queue Monitor - Not Receiving...</td>\n",
       "      <td>2018-10-23 09:51:46</td>\n",
       "    </tr>\n",
       "  </tbody>\n",
       "</table>\n",
       "</div>"
      ],
      "text/plain": [
       "           Number             Assignment_group Priority   State     Category  \\\n",
       "78573  INC0502480  DH-SC-EUS NLA NrthrdgRoscoe  4 - Low  Closed     Security   \n",
       "90835  INC0515090    DH-SW-EUS StRoseSanMartin  4 - Low  Closed     Security   \n",
       "90786  INC0515038             DH-SC-EUS Marian  4 - Low  Closed     Security   \n",
       "80023  INC0503977              DH-ClinApps HIM  4 - Low  Closed  Application   \n",
       "80137  INC0504096              DH-ClinApps HIM  4 - Low  Closed  Application   \n",
       "\n",
       "      Subcategory Severity             Closure_CI  \\\n",
       "78573         NaN  3 - Low  McAfee AV, ASW or EPO   \n",
       "90835         NaN  3 - Low           McAfee Agent   \n",
       "90786         NaN  3 - Low           McAfee Agent   \n",
       "80023         NaN  3 - Low      Cerner CPDI Kofax   \n",
       "80137         NaN  3 - Low      Cerner CPDI Kofax   \n",
       "\n",
       "                                      Location   Close_code  \\\n",
       "78573           Corporate Office - Phoenix GAT     Security   \n",
       "90835           Corporate Office - Phoenix GAT  Application   \n",
       "90786           Corporate Office - Phoenix GAT   Middleware   \n",
       "80023                Woodland Healthcare Davis  Application   \n",
       "80137  Dignity Health Medical Group - Stockton  Application   \n",
       "\n",
       "                              Configuration_item  Child_Incidents  \\\n",
       "78573                      McAfee AV, ASW or EPO                0   \n",
       "90835                      McAfee AV, ASW or EPO                0   \n",
       "90786                      McAfee AV, ASW or EPO                0   \n",
       "80023  Cerner Millennium Provider Doc 2015.01.19                0   \n",
       "80137           Cerner Millennium HIM 2015.01.19                0   \n",
       "\n",
       "       Contact_type  Duration                    Impact  \\\n",
       "78573         Phone     98375                 No Impact   \n",
       "90835         Phone    680806                 No Impact   \n",
       "90786         Phone     69495                 No Impact   \n",
       "80023  Self-service      6784  Down for One IT Customer   \n",
       "80137  Self-service      4816  Down for One IT Customer   \n",
       "\n",
       "                                       Short_description             Created  \n",
       "78573   \"Notification Text: AMCORE out of Date <Works... 2018-10-22 13:34:52  \n",
       "90835   \"Notification Text: AMCORE out of Date <Works... 2018-10-29 13:55:41  \n",
       "90786   \"Notification Text: AMCORE out of Date <Works... 2018-10-29 13:34:39  \n",
       "80023   Cerner CDI Work Queue Monitor - Not Receiving... 2018-10-23 09:19:22  \n",
       "80137   Cerner CDI Work Queue Monitor - Not Receiving... 2018-10-23 09:51:46  "
      ]
     },
     "execution_count": 11,
     "metadata": {},
     "output_type": "execute_result"
    }
   ],
   "source": [
    "# check for duplicate data\n",
    "df[df['Short_description'].duplicated(keep = False)].sort_values('Short_description').head(5)"
   ]
  },
  {
   "cell_type": "code",
   "execution_count": 12,
   "metadata": {},
   "outputs": [
    {
     "name": "stdout",
     "output_type": "stream",
     "text": [
      "Shape of the modified dataframe  (61556, 17)\n"
     ]
    }
   ],
   "source": [
    "# remove duplicates, we will still retain 1 row for analysis\n",
    "df = df.drop_duplicates('Short_description')\n",
    "print('Shape of the modified dataframe ', df.shape)"
   ]
  },
  {
   "cell_type": "code",
   "execution_count": 13,
   "metadata": {
    "scrolled": true
   },
   "outputs": [
    {
     "data": {
      "text/plain": [
       "Application          15482\n",
       "End User Services    14859\n",
       "Security             11327\n",
       "Network               6114\n",
       "Server                5805\n",
       "HelpDesk              2779\n",
       "Telecom               1267\n",
       "EAI Interface         1186\n",
       "Human Resources       1022\n",
       "EAI Component          294\n",
       "Storage                117\n",
       "Facility                99\n",
       "Database                 2\n",
       "Name: Category, dtype: int64"
      ]
     },
     "execution_count": 13,
     "metadata": {},
     "output_type": "execute_result"
    }
   ],
   "source": [
    "#Filter out some categories with instances < 50 for now , remove this filter in future\n",
    "# df = df.groupby(\"Category\").filter(lambda x: len(x) > 50)\n",
    "# df = df.reset_index(drop = True)\n",
    "df.Category.value_counts()"
   ]
  },
  {
   "cell_type": "code",
   "execution_count": 14,
   "metadata": {},
   "outputs": [],
   "source": [
    "pd.options.display.max_colwidth = 100"
   ]
  },
  {
   "cell_type": "code",
   "execution_count": 15,
   "metadata": {},
   "outputs": [],
   "source": [
    "# remove any accent from letters\n",
    "def unidecode_text(text):\n",
    "    try:\n",
    "        text = unidecode.unidecode(text)\n",
    "    except:\n",
    "        pass\n",
    "    return text\n",
    "\n",
    "for col in ['Location', 'Short_description']:\n",
    "    df[col] = df.apply(lambda row: unidecode_text(row[col]), axis = 1)"
   ]
  },
  {
   "cell_type": "code",
   "execution_count": 27,
   "metadata": {},
   "outputs": [
    {
     "ename": "AttributeError",
     "evalue": "'str' object has no attribute 'duplicated'",
     "output_type": "error",
     "traceback": [
      "\u001b[0;31m---------------------------------------------------------------------------\u001b[0m",
      "\u001b[0;31mAttributeError\u001b[0m                            Traceback (most recent call last)",
      "\u001b[0;32m<ipython-input-27-e8c8b5c644b7>\u001b[0m in \u001b[0;36m<module>\u001b[0;34m\u001b[0m\n\u001b[1;32m      1\u001b[0m \u001b[0mlocations\u001b[0m \u001b[0;34m=\u001b[0m \u001b[0mdf\u001b[0m\u001b[0;34m[\u001b[0m\u001b[0;34m'Location'\u001b[0m\u001b[0;34m]\u001b[0m\u001b[0;34m\u001b[0m\u001b[0;34m\u001b[0m\u001b[0m\n\u001b[1;32m      2\u001b[0m \u001b[0;31m# check for duplicate data in location\u001b[0m\u001b[0;34m\u001b[0m\u001b[0;34m\u001b[0m\u001b[0;34m\u001b[0m\u001b[0m\n\u001b[0;32m----> 3\u001b[0;31m \u001b[0mlocations\u001b[0m\u001b[0;34m[\u001b[0m\u001b[0mlocations\u001b[0m\u001b[0;34m[\u001b[0m\u001b[0;36m0\u001b[0m\u001b[0;34m]\u001b[0m\u001b[0;34m.\u001b[0m\u001b[0mduplicated\u001b[0m\u001b[0;34m(\u001b[0m\u001b[0mkeep\u001b[0m \u001b[0;34m=\u001b[0m \u001b[0;32mFalse\u001b[0m\u001b[0;34m)\u001b[0m\u001b[0;34m]\u001b[0m\u001b[0;34m.\u001b[0m\u001b[0msort_values\u001b[0m\u001b[0;34m(\u001b[0m\u001b[0;34m'Location'\u001b[0m\u001b[0;34m)\u001b[0m\u001b[0;34m.\u001b[0m\u001b[0mhead\u001b[0m\u001b[0;34m(\u001b[0m\u001b[0;36m5\u001b[0m\u001b[0;34m)\u001b[0m\u001b[0;34m\u001b[0m\u001b[0;34m\u001b[0m\u001b[0m\n\u001b[0m\u001b[1;32m      4\u001b[0m \u001b[0;31m# locations.duplicated(keep = False).sort_values().head(5)\u001b[0m\u001b[0;34m\u001b[0m\u001b[0;34m\u001b[0m\u001b[0;34m\u001b[0m\u001b[0m\n",
      "\u001b[0;31mAttributeError\u001b[0m: 'str' object has no attribute 'duplicated'"
     ]
    }
   ],
   "source": [
    "locations = df['Location']\n",
    "# check for duplicate data in location\n",
    "locations[locations[0].duplicated(keep = False)].sort_values('Location').head(5)\n",
    "# locations.duplicated(keep = False).sort_values().head(5)"
   ]
  },
  {
   "cell_type": "code",
   "execution_count": 20,
   "metadata": {},
   "outputs": [],
   "source": [
    "locations = locations.drop_duplicates(keep = False)"
   ]
  },
  {
   "cell_type": "code",
   "execution_count": 21,
   "metadata": {},
   "outputs": [
    {
     "data": {
      "text/plain": [
       "272     Dignity Health Home Health\n",
       "2258            PCCHC Clinic Annex\n",
       "2318    Women's Care Medical Group\n",
       "2470                       Fontana\n",
       "2601                 Arroyo Grande\n",
       "Name: Location, dtype: object"
      ]
     },
     "execution_count": 21,
     "metadata": {},
     "output_type": "execute_result"
    }
   ],
   "source": [
    "locations[0:5]"
   ]
  },
  {
   "cell_type": "code",
   "execution_count": 119,
   "metadata": {},
   "outputs": [
    {
     "ename": "KeyError",
     "evalue": "0",
     "output_type": "error",
     "traceback": [
      "\u001b[0;31m---------------------------------------------------------------------------\u001b[0m",
      "\u001b[0;31mKeyError\u001b[0m                                  Traceback (most recent call last)",
      "\u001b[0;32m/Library/Frameworks/Python.framework/Versions/3.7/lib/python3.7/site-packages/pandas/core/indexes/base.py\u001b[0m in \u001b[0;36mget_loc\u001b[0;34m(self, key, method, tolerance)\u001b[0m\n\u001b[1;32m   3077\u001b[0m             \u001b[0;32mtry\u001b[0m\u001b[0;34m:\u001b[0m\u001b[0;34m\u001b[0m\u001b[0;34m\u001b[0m\u001b[0m\n\u001b[0;32m-> 3078\u001b[0;31m                 \u001b[0;32mreturn\u001b[0m \u001b[0mself\u001b[0m\u001b[0;34m.\u001b[0m\u001b[0m_engine\u001b[0m\u001b[0;34m.\u001b[0m\u001b[0mget_loc\u001b[0m\u001b[0;34m(\u001b[0m\u001b[0mkey\u001b[0m\u001b[0;34m)\u001b[0m\u001b[0;34m\u001b[0m\u001b[0;34m\u001b[0m\u001b[0m\n\u001b[0m\u001b[1;32m   3079\u001b[0m             \u001b[0;32mexcept\u001b[0m \u001b[0mKeyError\u001b[0m\u001b[0;34m:\u001b[0m\u001b[0;34m\u001b[0m\u001b[0;34m\u001b[0m\u001b[0m\n",
      "\u001b[0;32mpandas/_libs/index.pyx\u001b[0m in \u001b[0;36mpandas._libs.index.IndexEngine.get_loc\u001b[0;34m()\u001b[0m\n",
      "\u001b[0;32mpandas/_libs/index.pyx\u001b[0m in \u001b[0;36mpandas._libs.index.IndexEngine.get_loc\u001b[0;34m()\u001b[0m\n",
      "\u001b[0;32mpandas/_libs/hashtable_class_helper.pxi\u001b[0m in \u001b[0;36mpandas._libs.hashtable.PyObjectHashTable.get_item\u001b[0;34m()\u001b[0m\n",
      "\u001b[0;32mpandas/_libs/hashtable_class_helper.pxi\u001b[0m in \u001b[0;36mpandas._libs.hashtable.PyObjectHashTable.get_item\u001b[0;34m()\u001b[0m\n",
      "\u001b[0;31mKeyError\u001b[0m: 0",
      "\nDuring handling of the above exception, another exception occurred:\n",
      "\u001b[0;31mKeyError\u001b[0m                                  Traceback (most recent call last)",
      "\u001b[0;32m<ipython-input-119-d4f9194d2f27>\u001b[0m in \u001b[0;36m<module>\u001b[0;34m\u001b[0m\n\u001b[1;32m     49\u001b[0m     \u001b[0;32mreturn\u001b[0m\u001b[0;34m(\u001b[0m\u001b[0mtext\u001b[0m\u001b[0;34m)\u001b[0m\u001b[0;34m\u001b[0m\u001b[0;34m\u001b[0m\u001b[0m\n\u001b[1;32m     50\u001b[0m \u001b[0;34m\u001b[0m\u001b[0m\n\u001b[0;32m---> 51\u001b[0;31m \u001b[0mlocations\u001b[0m \u001b[0;34m=\u001b[0m \u001b[0mget_locations\u001b[0m\u001b[0;34m(\u001b[0m\u001b[0mlocations\u001b[0m\u001b[0;34m[\u001b[0m\u001b[0;36m0\u001b[0m\u001b[0;34m]\u001b[0m\u001b[0;34m.\u001b[0m\u001b[0mastype\u001b[0m\u001b[0;34m(\u001b[0m\u001b[0mstr\u001b[0m\u001b[0;34m)\u001b[0m\u001b[0;34m)\u001b[0m\u001b[0;34m\u001b[0m\u001b[0;34m\u001b[0m\u001b[0m\n\u001b[0m\u001b[1;32m     52\u001b[0m \u001b[0;31m# locations = df['Location'].apply(lambda x: get_locations(x))\u001b[0m\u001b[0;34m\u001b[0m\u001b[0;34m\u001b[0m\u001b[0;34m\u001b[0m\u001b[0m\n\u001b[1;32m     53\u001b[0m \u001b[0;34m\u001b[0m\u001b[0m\n",
      "\u001b[0;32m/Library/Frameworks/Python.framework/Versions/3.7/lib/python3.7/site-packages/pandas/core/frame.py\u001b[0m in \u001b[0;36m__getitem__\u001b[0;34m(self, key)\u001b[0m\n\u001b[1;32m   2686\u001b[0m             \u001b[0;32mreturn\u001b[0m \u001b[0mself\u001b[0m\u001b[0;34m.\u001b[0m\u001b[0m_getitem_multilevel\u001b[0m\u001b[0;34m(\u001b[0m\u001b[0mkey\u001b[0m\u001b[0;34m)\u001b[0m\u001b[0;34m\u001b[0m\u001b[0;34m\u001b[0m\u001b[0m\n\u001b[1;32m   2687\u001b[0m         \u001b[0;32melse\u001b[0m\u001b[0;34m:\u001b[0m\u001b[0;34m\u001b[0m\u001b[0;34m\u001b[0m\u001b[0m\n\u001b[0;32m-> 2688\u001b[0;31m             \u001b[0;32mreturn\u001b[0m \u001b[0mself\u001b[0m\u001b[0;34m.\u001b[0m\u001b[0m_getitem_column\u001b[0m\u001b[0;34m(\u001b[0m\u001b[0mkey\u001b[0m\u001b[0;34m)\u001b[0m\u001b[0;34m\u001b[0m\u001b[0;34m\u001b[0m\u001b[0m\n\u001b[0m\u001b[1;32m   2689\u001b[0m \u001b[0;34m\u001b[0m\u001b[0m\n\u001b[1;32m   2690\u001b[0m     \u001b[0;32mdef\u001b[0m \u001b[0m_getitem_column\u001b[0m\u001b[0;34m(\u001b[0m\u001b[0mself\u001b[0m\u001b[0;34m,\u001b[0m \u001b[0mkey\u001b[0m\u001b[0;34m)\u001b[0m\u001b[0;34m:\u001b[0m\u001b[0;34m\u001b[0m\u001b[0;34m\u001b[0m\u001b[0m\n",
      "\u001b[0;32m/Library/Frameworks/Python.framework/Versions/3.7/lib/python3.7/site-packages/pandas/core/frame.py\u001b[0m in \u001b[0;36m_getitem_column\u001b[0;34m(self, key)\u001b[0m\n\u001b[1;32m   2693\u001b[0m         \u001b[0;31m# get column\u001b[0m\u001b[0;34m\u001b[0m\u001b[0;34m\u001b[0m\u001b[0;34m\u001b[0m\u001b[0m\n\u001b[1;32m   2694\u001b[0m         \u001b[0;32mif\u001b[0m \u001b[0mself\u001b[0m\u001b[0;34m.\u001b[0m\u001b[0mcolumns\u001b[0m\u001b[0;34m.\u001b[0m\u001b[0mis_unique\u001b[0m\u001b[0;34m:\u001b[0m\u001b[0;34m\u001b[0m\u001b[0;34m\u001b[0m\u001b[0m\n\u001b[0;32m-> 2695\u001b[0;31m             \u001b[0;32mreturn\u001b[0m \u001b[0mself\u001b[0m\u001b[0;34m.\u001b[0m\u001b[0m_get_item_cache\u001b[0m\u001b[0;34m(\u001b[0m\u001b[0mkey\u001b[0m\u001b[0;34m)\u001b[0m\u001b[0;34m\u001b[0m\u001b[0;34m\u001b[0m\u001b[0m\n\u001b[0m\u001b[1;32m   2696\u001b[0m \u001b[0;34m\u001b[0m\u001b[0m\n\u001b[1;32m   2697\u001b[0m         \u001b[0;31m# duplicate columns & possible reduce dimensionality\u001b[0m\u001b[0;34m\u001b[0m\u001b[0;34m\u001b[0m\u001b[0;34m\u001b[0m\u001b[0m\n",
      "\u001b[0;32m/Library/Frameworks/Python.framework/Versions/3.7/lib/python3.7/site-packages/pandas/core/generic.py\u001b[0m in \u001b[0;36m_get_item_cache\u001b[0;34m(self, item)\u001b[0m\n\u001b[1;32m   2487\u001b[0m         \u001b[0mres\u001b[0m \u001b[0;34m=\u001b[0m \u001b[0mcache\u001b[0m\u001b[0;34m.\u001b[0m\u001b[0mget\u001b[0m\u001b[0;34m(\u001b[0m\u001b[0mitem\u001b[0m\u001b[0;34m)\u001b[0m\u001b[0;34m\u001b[0m\u001b[0;34m\u001b[0m\u001b[0m\n\u001b[1;32m   2488\u001b[0m         \u001b[0;32mif\u001b[0m \u001b[0mres\u001b[0m \u001b[0;32mis\u001b[0m \u001b[0;32mNone\u001b[0m\u001b[0;34m:\u001b[0m\u001b[0;34m\u001b[0m\u001b[0;34m\u001b[0m\u001b[0m\n\u001b[0;32m-> 2489\u001b[0;31m             \u001b[0mvalues\u001b[0m \u001b[0;34m=\u001b[0m \u001b[0mself\u001b[0m\u001b[0;34m.\u001b[0m\u001b[0m_data\u001b[0m\u001b[0;34m.\u001b[0m\u001b[0mget\u001b[0m\u001b[0;34m(\u001b[0m\u001b[0mitem\u001b[0m\u001b[0;34m)\u001b[0m\u001b[0;34m\u001b[0m\u001b[0;34m\u001b[0m\u001b[0m\n\u001b[0m\u001b[1;32m   2490\u001b[0m             \u001b[0mres\u001b[0m \u001b[0;34m=\u001b[0m \u001b[0mself\u001b[0m\u001b[0;34m.\u001b[0m\u001b[0m_box_item_values\u001b[0m\u001b[0;34m(\u001b[0m\u001b[0mitem\u001b[0m\u001b[0;34m,\u001b[0m \u001b[0mvalues\u001b[0m\u001b[0;34m)\u001b[0m\u001b[0;34m\u001b[0m\u001b[0;34m\u001b[0m\u001b[0m\n\u001b[1;32m   2491\u001b[0m             \u001b[0mcache\u001b[0m\u001b[0;34m[\u001b[0m\u001b[0mitem\u001b[0m\u001b[0;34m]\u001b[0m \u001b[0;34m=\u001b[0m \u001b[0mres\u001b[0m\u001b[0;34m\u001b[0m\u001b[0;34m\u001b[0m\u001b[0m\n",
      "\u001b[0;32m/Library/Frameworks/Python.framework/Versions/3.7/lib/python3.7/site-packages/pandas/core/internals.py\u001b[0m in \u001b[0;36mget\u001b[0;34m(self, item, fastpath)\u001b[0m\n\u001b[1;32m   4113\u001b[0m \u001b[0;34m\u001b[0m\u001b[0m\n\u001b[1;32m   4114\u001b[0m             \u001b[0;32mif\u001b[0m \u001b[0;32mnot\u001b[0m \u001b[0misna\u001b[0m\u001b[0;34m(\u001b[0m\u001b[0mitem\u001b[0m\u001b[0;34m)\u001b[0m\u001b[0;34m:\u001b[0m\u001b[0;34m\u001b[0m\u001b[0;34m\u001b[0m\u001b[0m\n\u001b[0;32m-> 4115\u001b[0;31m                 \u001b[0mloc\u001b[0m \u001b[0;34m=\u001b[0m \u001b[0mself\u001b[0m\u001b[0;34m.\u001b[0m\u001b[0mitems\u001b[0m\u001b[0;34m.\u001b[0m\u001b[0mget_loc\u001b[0m\u001b[0;34m(\u001b[0m\u001b[0mitem\u001b[0m\u001b[0;34m)\u001b[0m\u001b[0;34m\u001b[0m\u001b[0;34m\u001b[0m\u001b[0m\n\u001b[0m\u001b[1;32m   4116\u001b[0m             \u001b[0;32melse\u001b[0m\u001b[0;34m:\u001b[0m\u001b[0;34m\u001b[0m\u001b[0;34m\u001b[0m\u001b[0m\n\u001b[1;32m   4117\u001b[0m                 \u001b[0mindexer\u001b[0m \u001b[0;34m=\u001b[0m \u001b[0mnp\u001b[0m\u001b[0;34m.\u001b[0m\u001b[0marange\u001b[0m\u001b[0;34m(\u001b[0m\u001b[0mlen\u001b[0m\u001b[0;34m(\u001b[0m\u001b[0mself\u001b[0m\u001b[0;34m.\u001b[0m\u001b[0mitems\u001b[0m\u001b[0;34m)\u001b[0m\u001b[0;34m)\u001b[0m\u001b[0;34m[\u001b[0m\u001b[0misna\u001b[0m\u001b[0;34m(\u001b[0m\u001b[0mself\u001b[0m\u001b[0;34m.\u001b[0m\u001b[0mitems\u001b[0m\u001b[0;34m)\u001b[0m\u001b[0;34m]\u001b[0m\u001b[0;34m\u001b[0m\u001b[0;34m\u001b[0m\u001b[0m\n",
      "\u001b[0;32m/Library/Frameworks/Python.framework/Versions/3.7/lib/python3.7/site-packages/pandas/core/indexes/base.py\u001b[0m in \u001b[0;36mget_loc\u001b[0;34m(self, key, method, tolerance)\u001b[0m\n\u001b[1;32m   3078\u001b[0m                 \u001b[0;32mreturn\u001b[0m \u001b[0mself\u001b[0m\u001b[0;34m.\u001b[0m\u001b[0m_engine\u001b[0m\u001b[0;34m.\u001b[0m\u001b[0mget_loc\u001b[0m\u001b[0;34m(\u001b[0m\u001b[0mkey\u001b[0m\u001b[0;34m)\u001b[0m\u001b[0;34m\u001b[0m\u001b[0;34m\u001b[0m\u001b[0m\n\u001b[1;32m   3079\u001b[0m             \u001b[0;32mexcept\u001b[0m \u001b[0mKeyError\u001b[0m\u001b[0;34m:\u001b[0m\u001b[0;34m\u001b[0m\u001b[0;34m\u001b[0m\u001b[0m\n\u001b[0;32m-> 3080\u001b[0;31m                 \u001b[0;32mreturn\u001b[0m \u001b[0mself\u001b[0m\u001b[0;34m.\u001b[0m\u001b[0m_engine\u001b[0m\u001b[0;34m.\u001b[0m\u001b[0mget_loc\u001b[0m\u001b[0;34m(\u001b[0m\u001b[0mself\u001b[0m\u001b[0;34m.\u001b[0m\u001b[0m_maybe_cast_indexer\u001b[0m\u001b[0;34m(\u001b[0m\u001b[0mkey\u001b[0m\u001b[0;34m)\u001b[0m\u001b[0;34m)\u001b[0m\u001b[0;34m\u001b[0m\u001b[0;34m\u001b[0m\u001b[0m\n\u001b[0m\u001b[1;32m   3081\u001b[0m \u001b[0;34m\u001b[0m\u001b[0m\n\u001b[1;32m   3082\u001b[0m         \u001b[0mindexer\u001b[0m \u001b[0;34m=\u001b[0m \u001b[0mself\u001b[0m\u001b[0;34m.\u001b[0m\u001b[0mget_indexer\u001b[0m\u001b[0;34m(\u001b[0m\u001b[0;34m[\u001b[0m\u001b[0mkey\u001b[0m\u001b[0;34m]\u001b[0m\u001b[0;34m,\u001b[0m \u001b[0mmethod\u001b[0m\u001b[0;34m=\u001b[0m\u001b[0mmethod\u001b[0m\u001b[0;34m,\u001b[0m \u001b[0mtolerance\u001b[0m\u001b[0;34m=\u001b[0m\u001b[0mtolerance\u001b[0m\u001b[0;34m)\u001b[0m\u001b[0;34m\u001b[0m\u001b[0;34m\u001b[0m\u001b[0m\n",
      "\u001b[0;32mpandas/_libs/index.pyx\u001b[0m in \u001b[0;36mpandas._libs.index.IndexEngine.get_loc\u001b[0;34m()\u001b[0m\n",
      "\u001b[0;32mpandas/_libs/index.pyx\u001b[0m in \u001b[0;36mpandas._libs.index.IndexEngine.get_loc\u001b[0;34m()\u001b[0m\n",
      "\u001b[0;32mpandas/_libs/hashtable_class_helper.pxi\u001b[0m in \u001b[0;36mpandas._libs.hashtable.PyObjectHashTable.get_item\u001b[0;34m()\u001b[0m\n",
      "\u001b[0;32mpandas/_libs/hashtable_class_helper.pxi\u001b[0m in \u001b[0;36mpandas._libs.hashtable.PyObjectHashTable.get_item\u001b[0;34m()\u001b[0m\n",
      "\u001b[0;31mKeyError\u001b[0m: 0"
     ]
    }
   ],
   "source": [
    "# stop words for location\n",
    "# stop_locations = list(np.unique(df.Location.dropna().str.lower().tolist()))\n",
    "\n",
    "# remove duplicates, we will still retain 1 row for analysis\n",
    "# locations = df.drop_duplicates('Location')\n",
    "\n",
    "# nltk text preprocessing\n",
    "import string\n",
    "import re\n",
    "import nltk\n",
    "from nltk.corpus import stopwords, wordnet\n",
    "from nltk.stem import WordNetLemmatizer\n",
    "from nltk.tokenize import word_tokenize\n",
    "\n",
    "stop = stopwords.words('english')\n",
    "\n",
    "# add punctuations to the stop words\n",
    "punc = ['.', ',', '\"', \"'\", '?', '!', ':', ';', '(', ')', '[', ']', '{', '}',\"%\"]\n",
    "stop.extend(punc)\n",
    "\n",
    "def get_locations(text):\n",
    "\n",
    "    \n",
    "    # lower case\n",
    "    text = text.apply(lambda x: ' '.join(word.lower() for word in x.split()))    \n",
    "    \n",
    "    # replace contractions\n",
    "    text = text.apply(lambda x: ' '.join(contractions.fix(word) for word in x.split()))  \n",
    "\n",
    "    # '/' or '\\' are usually entered to separate words, word tokenize doesn't tokenize on these\n",
    "    # replace them with spaces\n",
    "    text = text.str.replace('[\\/-]', ' ')  # replace with spaces\n",
    "\n",
    "    # remove words that contain numbers\n",
    "    text = text.apply(lambda x: ' '.join(word for word in x.split() if not any(c.isdigit() for c in word)))\n",
    "                      \n",
    "    # tokenize text and remove puncutation\n",
    "#     text = text.apply(lambda x: ' '.join(word.strip(string.punctuation) for word in x.split()))\n",
    "    \n",
    "    # remove small tokens\n",
    "    text = text.apply(lambda x: ' '.join([word for word in word_tokenize(x) if len(word) > 1 ]))\n",
    "    \n",
    "    # remove stop words\n",
    "    text = text.apply(lambda x: ' '.join([word for word in word_tokenize(x) if word not in set(stop)]))\n",
    "    \n",
    "    text = text.apply(lambda x: ' '.join([lemmer.lemmatize(word, pos = 'v') for word in word_tokenize(x)]))       #lemma\n",
    "\n",
    "    \n",
    "    return(text)\n",
    "    \n",
    "locations = get_locations(df['Location'].astype(str))\n",
    "# locations = df['Location'].apply(lambda x: get_locations(x))\n",
    "\n",
    "print(locations[0:10])"
   ]
  },
  {
   "cell_type": "code",
   "execution_count": 107,
   "metadata": {},
   "outputs": [],
   "source": [
    "# nltk text preprocessing\n",
    "import re\n",
    "import nltk\n",
    "from nltk.corpus import stopwords, wordnet\n",
    "from nltk.stem import WordNetLemmatizer\n",
    "from nltk.tokenize import word_tokenize\n",
    "\n",
    "import contractions\n",
    "\n",
    "# from nltk.tag import pos_tag\n",
    "\n",
    "stop = stopwords.words('english')\n",
    "lemmer = WordNetLemmatizer()\n",
    "\n",
    "# extend stop words\n",
    "# words like issue, problem, resolve, fix - do not add more sense to the description and are common\n",
    "new_stopwords = ['chw','edu','phx','vapp', 'issue', 'issues', 'problem', 'problems', \n",
    "                 'resolve', 'resolved', 'fix', 'fixed']\n",
    "\n",
    "stop.extend(new_stopwords)\n",
    "\n",
    "# add the locations to the stop words\n",
    "stop.extend(stop_locations)\n",
    "\n",
    "# add punctuations to the stop words\n",
    "punc = ['.', ',', '\"', \"'\", '?', '!', ':', ';', '(', ')', '[', ']', '{', '}',\"%\"]\n",
    "stop.extend(punc)\n",
    "\n",
    "# remove 'not' from the stop words - not defines the issue\n",
    "# stop.remove('not')\n",
    "        \n",
    "# to be tried - apply text collocations\n",
    "\n",
    "def get_wordnet_pos(pos_tag):\n",
    "    if pos_tag.startswith('J'):\n",
    "        return wordnet.ADJ\n",
    "    elif pos_tag.startswith('V'):\n",
    "        return wordnet.VERB\n",
    "    elif pos_tag.startswith('N'):\n",
    "        return wordnet.NOUN\n",
    "    elif pos_tag.startswith('R'):\n",
    "        return wordnet.ADV\n",
    "    else:\n",
    "        return wordnet.NOUN\n",
    "\n",
    "def pre_process(text):\n",
    "        \n",
    "    # try to capture the IPs    \n",
    "    ip_pattern = re.compile(r'((-?)([A-Za-z0-9]{1,}[-.]{1,1}){2,6}([A-Za-z0-9]*))')  \n",
    "    ip = text.apply(lambda x: ' '.join(word for word in re.split('[\\': (),]', x) if ip_pattern.match(word)))\n",
    "    \n",
    "    # lower case\n",
    "    text = text.apply(lambda x: ' '.join(word.lower() for word in x.split()))  \n",
    "       \n",
    "    text = text.apply(lambda x: ' '.join(contractions.fix(word) for word in x.split()))  # replace contractions\n",
    "    \n",
    "    # 'not able' is a common way to report issue, replace 'not able' with 'unable'\n",
    "    # also not gets removed as part of stop words\n",
    "    text = text.str.replace('not able', 'unable')\n",
    "    text = text.str.replace('user id', 'user')\n",
    "    text = text.str.replace('username', 'user')\n",
    "    \n",
    "    # there are lot of places in the description where II (2 caps I) has been used as separator\n",
    "    # this gets converted to small letter (ii) with high occurance, drop these letters\n",
    "    text = text.str.replace(' ii ', ' ')  # replace with spaces\n",
    "    \n",
    "    # '/' or '\\' are usually entered to separate words, word tokenize doesn't tokenize on these\n",
    "    # replace them with spaces\n",
    "    text = text.str.replace('[\\/-]', ' ')  # replace with spaces\n",
    "    \n",
    "    # \"'d\": changes to \" would\", 'disk changes to wouldisk - unwanted contraction\n",
    "    # replace wouldisk with disk\n",
    "    text = text.str.replace('wouldisk', 'disk')  # replace with disk    \n",
    "    \n",
    "    # consider complete words that contain alpha\n",
    "    alpha = re.compile(r'([A-Za-z/\\-]*$)')\n",
    "    text = text.apply(lambda x: ' '.join(word for word in word_tokenize(x) if alpha.match(word)))\n",
    "    \n",
    "#     text = text.str.replace('[^A-Za-z ]', ' ')  # remove non words\n",
    "    \n",
    "    text = text.apply(lambda x: ' '.join([word for word in word_tokenize(x) if len(word) > 1 ]))  #length >1\n",
    "    \n",
    "    text = text.apply(lambda x: ' '.join([word for word in word_tokenize(x) if word not in set(stop)]))   #stop\n",
    "    text = text.apply(lambda x: ' '.join([lemmer.lemmatize(word, pos = 'v') for word in word_tokenize(x)]))       #lemma\n",
    "\n",
    "    return (text, ip)\n",
    "    \n",
    "normalized = pre_process(df['Location'].astype(str))\n",
    "# normalized = pre_process(df['Short_description'])\n"
   ]
  },
  {
   "cell_type": "code",
   "execution_count": 108,
   "metadata": {},
   "outputs": [
    {
     "name": "stdout",
     "output_type": "stream",
     "text": [
      "0                                 corporate office\n",
      "1     st mary medical center san francisco smmc sf\n",
      "2                                 corporate office\n",
      "3                               bruceville terrace\n",
      "4     st mary medical center san francisco smmc sf\n",
      "5              marian regional medical center mrmc\n",
      "6                                 corporate office\n",
      "7                   woodland memorial hospital wmh\n",
      "8                                 corporate office\n",
      "9                                 corporate office\n",
      "10                                corporate office\n",
      "11                                corporate office\n",
      "12                                corporate office\n",
      "13                                corporate office\n",
      "14                                corporate office\n",
      "15                                corporate office\n",
      "16                                corporate office\n",
      "17                                             nan\n",
      "18                                corporate office\n",
      "19                                corporate office\n",
      "Name: Location, dtype: object\n"
     ]
    }
   ],
   "source": [
    "print(normalized[0][:20])"
   ]
  },
  {
   "cell_type": "code",
   "execution_count": 39,
   "metadata": {
    "scrolled": true
   },
   "outputs": [
    {
     "name": "stdout",
     "output_type": "stream",
     "text": [
      "0                phx-vapp-689.chw.edu\n",
      "1                                    \n",
      "2                        phx-vapp-408\n",
      "3                                    \n",
      "4                                    \n",
      "5                                    \n",
      "6                                    \n",
      "7                       10.203.212.24\n",
      "8                phx-vapp-842.chw.edu\n",
      "9                                    \n",
      "10               phx-vapp-237.chw.edu\n",
      "11               phx-vapp-238.chw.edu\n",
      "12                      -10.248.84.17\n",
      "13    chw-as1-2central-dsc 10.1.5.100\n",
      "14     chw-as2-2central-dsc 10.1.5.10\n",
      "15                phx-app-040.chw.edu\n",
      "16                phx-app-034.chw.edu\n",
      "17                                   \n",
      "18                    phxdc23c-nas-07\n",
      "19         chw-as1-2west-dsc 10.1.5.6\n",
      "Name: Short_description, dtype: object\n"
     ]
    }
   ],
   "source": [
    "print(normalized[1][:20])"
   ]
  },
  {
   "cell_type": "code",
   "execution_count": 40,
   "metadata": {},
   "outputs": [
    {
     "name": "stdout",
     "output_type": "stream",
     "text": [
      "453\n"
     ]
    }
   ],
   "source": [
    "print(normalized[0].apply(lambda x: x == '').sum())"
   ]
  },
  {
   "cell_type": "code",
   "execution_count": 41,
   "metadata": {},
   "outputs": [],
   "source": [
    "# there are 459 cells with no terms, this isn't significant in total of 95373, lets live with it for now"
   ]
  },
  {
   "cell_type": "code",
   "execution_count": 42,
   "metadata": {},
   "outputs": [
    {
     "data": {
      "text/plain": [
       "0                 [utilization, threshold, set, disk, file, system, percent, full]\n",
       "1                                             [account, lock, unable, login, user]\n",
       "2                                                                               []\n",
       "3                                                       [network, password, reset]\n",
       "4                   [clairvia, unable, login, password, reset, hduv, do, jmoyrong]\n",
       "5                           [network, account, lock, unable, login, user, jyongco]\n",
       "6                               [error, message, appear, open, clpdayend, qrgxmsg]\n",
       "7                               [wow, display, leave, monitor, upside, device, id]\n",
       "8                                               [cpu, utilization, threshold, set]\n",
       "9                                                    [receive, clpdayend, qclxerr]\n",
       "10                                              [cpu, utilization, threshold, set]\n",
       "11                                              [cpu, utilization, threshold, set]\n",
       "12              [medseries, tier, host, ipaddress, listen, port, charge, multiple]\n",
       "13                                                 [master, dsc, syslog, critical]\n",
       "14                                                         [dsc, syslog, critical]\n",
       "15                                              [app, process, process, call, run]\n",
       "16                                              [app, process, process, call, run]\n",
       "17                                                         [meditech, alert, high]\n",
       "18    [volume, space, nearly, full, warn, event, nas, volume, space, nearly, full]\n",
       "19                                                         [dsc, syslog, critical]\n",
       "Name: Short_description, dtype: object"
      ]
     },
     "execution_count": 42,
     "metadata": {},
     "output_type": "execute_result"
    }
   ],
   "source": [
    "# test results using word_tokenize\n",
    "from nltk.tokenize import word_tokenize\n",
    "\n",
    "normalized[0][:20].apply(word_tokenize)"
   ]
  },
  {
   "cell_type": "code",
   "execution_count": 43,
   "metadata": {},
   "outputs": [],
   "source": [
    "# add the processed text and extracted ips to dataframe\n",
    "df['Terms'] = normalized[0]\n",
    "df['IPs'] = normalized[1]"
   ]
  },
  {
   "cell_type": "code",
   "execution_count": 44,
   "metadata": {},
   "outputs": [],
   "source": [
    "# drop the rows where 'Terms' column is spaces\n",
    "df = df[df['Terms'] != '']"
   ]
  },
  {
   "cell_type": "code",
   "execution_count": 45,
   "metadata": {},
   "outputs": [],
   "source": [
    "# this cell is just for testing regex\n",
    "# import re\n",
    "\n",
    "# print(re.split('[:\\' ]', '\\'phx-vapp-689.chw.edu\\': Utilization is \\'85.2\\'. Threshold is set to \\'Disk/File System/{C}/percent full >= 85\\''))\n",
    "\n",
    "# ip_pattern = re.compile(r'((-?)([A-Za-z0-9]{1,}[-.]{1,1}){2,6}([A-Za-z0-9]*))') \n",
    "\n",
    "# print(ip_pattern.match('phx-vapp-238.chw.edu'))\n",
    "# print(ip_pattern.match('CPU Utilization is '))\n",
    "# print(ip_pattern.match('85.2'))\n",
    "# print(ip_pattern.match('10.250.243.2'))\n",
    "# print(ip_pattern.match('-10.248.84.17'))\n",
    "# print(ip_pattern.match('192.168.2.85)'))\n",
    "# print(ip_pattern.match('10.1.5.100'))\n",
    "\n",
    "\n",
    "# test = pd.DataFrame({'strings': ['...', 'a(b$c']})\n",
    "# test.strings.str.replace('[^a-zA-Z ]', ' ')\n",
    "\n",
    "# print('This is a test in spite.'.split())\n",
    "# print(lemmer.lemmatize('acknowledgement', pos='v'))\n",
    "\n",
    "# alpha = re.compile(r'([A-Za-z/\\-]*$)')\n",
    "\n",
    "# dk = pd.DataFrame({'sentences': ['This is a very MS4 ABCD901 \\'abc.xyz.109.01\\' good site. I will recommend it to others.', \n",
    "#                                  'Can you please give me a call at 9983938428. have issues with the listings.', \n",
    "#                                  'WOW / Workstation on Wheels || WOW / Workstation on Wheels Issue',\n",
    "#                                  '\\'phx-vapp-689.chw.edu\\': Utilization is \\'85.2\\'. Threshold is set to \\'Disk/File System/{C}/percent full >= 85',\n",
    "#                                  'Clairvia/not able to login//password reset hduv done jmoyrong/issue resolved',\n",
    "#                                  'God is Great/I won a lottery.',\n",
    "#                                  'CIM_2_BAYDSC19_MSFCHGX:MSF19CHGX:MedSeries 4:TIER-2 P05:DESTINATION_REALTIME:No host at ipAddress -10.248.84.17, listening on port -21529. :Charges - Multiple t',\n",
    "#                                  'Account Lock ||  Not able to login || user id-adeperalta001',\n",
    "#                                  'good work! keep it up, couldn\\'t able to login, couldn\\'t connect']})\n",
    "\n",
    "# dk['tokenized_sents']  = dk['sentences'].apply(lambda x: ' '.join(word for word in re.split('[\\': (),]', x) if ip_pattern.match(word)))\n",
    "\n",
    "\n",
    "\n",
    "# dk['tokenized_sents'] = dk['sentences'].apply(lambda x: ' '.join(word.lower() for word in x.split()))  # lower case\n",
    "# dk['tokenized_sents'] = dk['tokenized_sents'].apply(lambda x: ' '.join(contractions.fix(word) for word in x.split()))  # replace contractions\n",
    "\n",
    "# dk['tokenized_sents'] = dk['tokenized_sents'].str.replace('not able', 'unable')\n",
    "# dk['tokenized_sents'] = dk['tokenized_sents'].str.replace('[\\/-]', ' ')  # replace them with spaces\n",
    "\n",
    "# dk['tokenized_sents'] = dk['tokenized_sents'].apply(lambda x: ' '.join(word for word in word_tokenize(x) if alpha.match(word)))\n",
    "# dk['tokenized_sents'] = dk['tokenized_sents'].apply(lambda x: ' '.join([lemmer.lemmatize(word, pos='v') for word in word_tokenize(x)]))       #lemma\n",
    "# dk['tokenized_sents'] = dk['tokenized_sents'].apply(lambda x: ' '.join([word for word in word_tokenize(x) if word not in set(stop)]))   #stop\n",
    "\n",
    "# print(dk['tokenized_sents'])"
   ]
  },
  {
   "cell_type": "code",
   "execution_count": 46,
   "metadata": {},
   "outputs": [
    {
     "data": {
      "text/plain": [
       "\"\\ndef tokenize_only(text):\\n    # tokenize by  word \\n    tokens = [word.lower() for word in nltk.word_tokenize(text) ]\\n    filtered_tokens = []\\n    # filter out any tokens not containing letters (e.g., numeric tokens, raw punctuation)\\n    for token in tokens:\\n        if re.search('[a-zA-Z]', token):\\n            filtered_tokens.append(token)\\n    return filtered_tokens\\n\""
      ]
     },
     "execution_count": 46,
     "metadata": {},
     "output_type": "execute_result"
    }
   ],
   "source": [
    "# define a tokenizer which returns the set of tokens in the text that it is passed\n",
    "\"\"\"\n",
    "def tokenize_only(text):\n",
    "    # tokenize by  word \n",
    "    tokens = [word.lower() for word in nltk.word_tokenize(text) ]\n",
    "    filtered_tokens = []\n",
    "    # filter out any tokens not containing letters (e.g., numeric tokens, raw punctuation)\n",
    "    for token in tokens:\n",
    "        if re.search('[a-zA-Z]', token):\n",
    "            filtered_tokens.append(token)\n",
    "    return filtered_tokens\n",
    "\"\"\"    "
   ]
  },
  {
   "cell_type": "code",
   "execution_count": 47,
   "metadata": {},
   "outputs": [
    {
     "data": {
      "text/plain": [
       "0              utilization threshold set disk file system percent full\n",
       "1                                       account lock unable login user\n",
       "3                                               network password reset\n",
       "4                clairvia unable login password reset hduv do jmoyrong\n",
       "5                       network account lock unable login user jyongco\n",
       "6                          error message appear open clpdayend qrgxmsg\n",
       "7                           wow display leave monitor upside device id\n",
       "8                                        cpu utilization threshold set\n",
       "9                                            receive clpdayend qclxerr\n",
       "10                                       cpu utilization threshold set\n",
       "11                                       cpu utilization threshold set\n",
       "12           medseries tier host ipaddress listen port charge multiple\n",
       "13                                          master dsc syslog critical\n",
       "14                                                 dsc syslog critical\n",
       "15                                        app process process call run\n",
       "16                                        app process process call run\n",
       "17                                                 meditech alert high\n",
       "18    volume space nearly full warn event nas volume space nearly full\n",
       "19                                                 dsc syslog critical\n",
       "20                                   app cpu utilization threshold set\n",
       "Name: Terms, dtype: object"
      ]
     },
     "execution_count": 47,
     "metadata": {},
     "output_type": "execute_result"
    }
   ],
   "source": [
    "# view the terms column just before feature extraction\n",
    "df['Terms'][0:20]"
   ]
  },
  {
   "cell_type": "code",
   "execution_count": 48,
   "metadata": {},
   "outputs": [
    {
     "name": "stderr",
     "output_type": "stream",
     "text": [
      "/Library/Frameworks/Python.framework/Versions/3.7/lib/python3.7/site-packages/sklearn/feature_extraction/text.py:300: UserWarning: Your stop_words may be inconsistent with your preprocessing. Tokenizing the stop words generated tokens ['&', \"'d\", \"'ll\", \"'re\", \"'s\", \"'ve\", '-', '/', '02', '03', '07', '1', '14', '2', '3', '_remote', '``', 'acute', 'admin', 'admin4', 'administrative', 'adolescent', 'adult', 'advanced', 'agch', 'ahwatukee', 'aic', 'airport', 'als', 'ambulatory', 'angeles', 'annex', 'antonio', 'aptos', 'area', 'arizona', 'arnold', 'arroyo', 'associates', 'atascadero', 'atlantic', 'ave', 'bakersfield-', 'bariatric', 'barrow', 'bayview', 'beach', 'behavioral', 'bernardine', 'bernardino', 'big', 'bishop', 'blood', 'blue', 'bluff', 'blvd', 'bmh', 'brain', 'breast', 'brent', 'bruceville', 'building', 'bush', 'business', 'c.a.r.e', 'camarillo', 'camarillo2', 'camarillo3', 'camarillo5', 'cameron', 'campus', 'cancer', 'capital', 'cardiac', 'cardiologists', 'cardiology', 'cardiothoracic', 'cardiovascular', 'care', 'care/outreach', 'carmichael', 'carole', 'casa', 'catholic', 'center', 'centers', 'central', 'charities', 'child', 'children', 'chmc', 'chsb', 'citrus', 'cleft', 'clinic', 'clinics', 'coast', 'coastal', 'cognitive', 'collaborative', 'community', 'comprehensive', 'concussion', 'connected', 'cordova', 'corelink', 'corning', 'coronary', 'corporate', 'cottonwood', 'could', 'county', 'coyle', 'craig', 'craniofacial', 'creek', 'crmc', 'cruz', 'data', 'davis', 'de', 'deactivated-sequoia', 'department', 'detention', 'development', 'dhmf', 'dhmg', 'dhmg-sc', 'dhmgn', 'dhmso', 'diabetes', 'diagnostic', 'diagnostics', 'diamond', 'dignity', 'digntiy', 'dimas', 'disorders', 'dist', 'doctors', 'dominican', 'dominician', 'donald', 'dorado', 'downtown', 'draw', 'dream', 'drive', 'dsc', 'east', 'edc', 'education', 'educational', 'edward', 'el', 'elizabeth', 'ella', 'emerus', 'empire', 'employee', 'endocrinology', 'endoscopy', 'enhancement', 'entrada', 'epilepsy', 'eureka', 'evrh', 'excellence', 'expo', 'extended', 'facility', 'families', 'family', 'fhmc', 'financial', 'flamingo', 'focus', 'foundation', 'francis', 'francis/st', 'francisco', 'francisco2', 'french', 'fulton', 'fund', 'galleria-multi', 'galleria-primary', 'gastroenterology', 'gat', 'gellert', 'general', 'gibson', 'gilbert', 'glendale', 'gmhhc', 'gohealth', 'gold', 'golden', 'good', 'goodyear', 'grande', 'grass', 'greater', 'green', 'gregory', 'group', 'group-dominican', 'group-inland', 'group-north', 'group-sierra', 'group–sierra', 'growth', 'gyn/pelvic', 'gynecology', 'hancock', 'hand', 'hartwell', 'hc', 'healing', 'health', 'health-advanced', 'health-obstetrics', 'health-women', 'healthcare', 'healthfirst', 'hearst', 'heart', 'heights', 'hematology', 'henderson', 'highland', 'higuera', 'hills', 'home', 'hope', 'horizons', 'horn', 'hospice', 'hospital', 'hospitalists', 'huger', 'hyperbaric', 'ii', 'imaging', 'infusion', 'injury', 'inland', 'institute', 'internal', 'interventions', 'ironwood', 'jefferson', 'joerschke', 'john', 'johns', 'joseph', 'juan', 'kelly', 'lab', 'laboratories', 'laboratory', 'laboratory-marigold', 'las', 'laser', 'laveen', 'learning', 'leavey', 'lima', 'living', 'llc', 'ln', 'location', 'loker', 'long', 'los', 'loss', 'low', 'luis', 'lung', 'mamdc', 'mammography', 'management', 'march', 'maria', 'marian', 'maricopa', 'mark', 'martin', 'mary', 'maternity', 'mc', 'mcauley', 'mcmahon', 'med', 'med-family', 'medical', 'medicine', 'memorial', 'merced', 'mercy', 'meth', 'methodist', 'mgh', 'mgmc', 'mhb', 'mhf', 'microbiology', 'midtown', 'might', 'miners', 'mission', 'mmcm', 'mmcms', 'mmcr', 'mmg', 'morrisson', 'morro', 'movement', 'mrg', 'mrmc', 'msh', 'msjmc', 'mt', 'mtmc', 'multi', 'multi-specialty', 'must', \"n't\", 'natomas', 'need', 'network', 'neuroimmunology', 'neurological', 'neuromuscular', 'neurooncology', 'neurosciences', 'neurosurgery', 'nevada', 'nevada-grass', 'new', 'nhmc', 'nipomo', 'north', 'northern', 'northridge', 'norton', 'nuclear', 'oaks', 'ob/gyn', 'obgyn', 'obispo', 'obstetrics', 'occupational', 'office', 'office-arizona', 'offices', 'oncology', 'orcutt', 'orthopedic', 'orthopedics', 'outpatient', 'oxnard', 'oxnard2', 'p.', 'pacific', 'pain', 'paradise', 'park', 'parr', 'partners', 'pasadena', 'pathology', 'patient', 'paula', 'pavilion', 'pcchc', 'peach', 'peak', 'peccole', 'pediatric', 'pediatrics', 'peoria', 'perinatal', 'pharmacy', 'phillipa', 'physical', 'physician', 'physicians', 'plastic', 'plaza', 'pleasant', 'plus', 'posada', 'posas', 'practice', 'primary', 'probation', 'professional', 'program', 'programs', 'psychiatry', 'pulmonary', 'pulmonology', 'pump', 'quality', 'queen', 'radiation', 'radiological', 'radiology', 'ranch', 'rancho', 'reconstructive', 'records', 'red', 'redding', 'redlands', 'regional', 'rehabilitation', 'removal', 'renaissance', 'reno', 'research', 'resource', 'rialto', 'richards', 'river', 'road', 'rocklin', 'roscoe', 'rose', 'rose/stanford', 'roseville', 'sacramento', 'sahara', 'saint', 'san', 'santa', 'sbmc', 'sech', 'seq', 'sequoia', 'service', 'services', 'sf', 'sf15', 'sfmh', 'sfo', 'sha', 'shasta', 'siena', 'sierra', 'sister', 'sjbhc', 'sjhmc', 'sjmc', 'sjmg', 'sjpvh', 'sjrmc', 'sjv', 'sjwmc', 'sleep', 'slo', 'smmc-lb', 'smmc-sf', 'snmh', 'solano', 'soquel', 'south', 'southwest', 'specialty', 'spine', 'spitzer', 'sports', 'srdh-rdl', 'srdh-s', 'srdh-sm', 'srqcn', 'st', 'staff', 'state', 'state-airpark', 'state-court', 'state-red', 'station', 'stockton', 'stratford', 'street', 'subacute', 'surgeons', 'surgery', 'surgical', 'sutter', 'switch', 'system', 'tattoo', 'tehachapi', 'templeton', 'terrace', 'therapy', 'thoracic', 'tracy', 'transplant', 'trauma/gen', 'treatment', 'twain', 'uc', 'umbrella', 'union', 'university', 'urgent', 'urology', 'valley', 'vascular', 'vegas', 'ventana', 'ventura', 'vision', 'w', 'walk', 'walk-in', 'walnut', 'warehouse', 'warehouse-regional', 'way', 'weight', 'wellness', 'west', 'westgate', 'westlake', 'westside', 'whipple', 'wmh', 'wo', 'women', 'woodland', 'work', 'would', 'wound', 'wymark', 'youth', 'zcolo', '–'] not in stop_words.\n",
      "  'stop_words.' % sorted(inconsistent))\n"
     ]
    },
    {
     "name": "stdout",
     "output_type": "stream",
     "text": [
      "CPU times: user 6.88 s, sys: 23.6 ms, total: 6.9 s\n",
      "Wall time: 6.91 s\n",
      "(61103, 5000)\n"
     ]
    }
   ],
   "source": [
    "from sklearn import feature_extraction\n",
    "from sklearn.feature_extraction.text import TfidfVectorizer\n",
    "\n",
    "# tfidf_vectorizer = TfidfVectorizer(max_features=10000, max_df=0.8, min_df=0.0005,                                  \n",
    "#                                   use_idf=True, tokenizer=word_tokenize, ngram_range=(1,3))\n",
    "\n",
    "vectorizer = TfidfVectorizer(max_features = 5000,                                  \n",
    "                                  use_idf = True, tokenizer = word_tokenize, stop_words = stop, ngram_range = (1,1))\n",
    "\n",
    "%time X = vectorizer.fit_transform(df['Terms'].values)\n",
    "\n",
    "print(X.shape)"
   ]
  },
  {
   "cell_type": "code",
   "execution_count": 49,
   "metadata": {},
   "outputs": [],
   "source": [
    "features = vectorizer.get_feature_names()\n",
    "freq = sum(X).toarray()[0]\n",
    "df_features = pd.DataFrame(freq, index = features, columns = ['frequency'])\n",
    "\n",
    "# sort the terms in descending order of frequency\n",
    "df_features.sort_values(by = ['frequency'], inplace = True, ascending = False)"
   ]
  },
  {
   "cell_type": "code",
   "execution_count": 50,
   "metadata": {},
   "outputs": [
    {
     "name": "stdout",
     "output_type": "stream",
     "text": [
      "               frequency\n",
      "user         3506.562579\n",
      "unable       3499.273215\n",
      "login        3223.610011\n",
      "network      2781.498608\n",
      "account      2566.408754\n",
      "id           1830.859168\n",
      "password     1764.623653\n",
      "reset        1491.806506\n",
      "need         1337.390393\n",
      "lock         1324.003184\n",
      "device       1114.871903\n",
      "dev          1061.386522\n",
      "status        971.437082\n",
      "mdf           966.658781\n",
      "cerner        948.936548\n",
      "printer       935.429565\n",
      "error         919.188462\n",
      "job           883.683769\n",
      "access        858.401627\n",
      "main          858.333922\n",
      "set           819.025111\n",
      "able          784.756953\n",
      "work          769.127187\n",
      "threshold     765.433900\n",
      "file          762.416954\n",
      "utilization   758.661411\n",
      "unlock        753.911934\n",
      "computer      749.229979\n",
      "hduv          730.979116\n",
      "desktop       720.898353\n",
      "smart         702.969870\n",
      "system        694.624389\n",
      "duo           688.114515\n",
      "xl            661.508161\n",
      "rt            659.475743\n",
      "full          623.083843\n",
      "complete      621.364775\n",
      "disk          604.882855\n",
      "launch        591.373292\n",
      "print         589.043628\n",
      "percent       581.376331\n",
      "active        581.209427\n",
      "exit          567.135748\n",
      "encryption    503.628840\n",
      "phone         500.712089\n",
      "link          473.578428\n",
      "port          469.724605\n",
      "call          460.980012\n",
      "sjhmc         460.314665\n",
      "loc           458.221797\n"
     ]
    }
   ],
   "source": [
    "# print the top 50 occurances - help decide the possible clusters\n",
    "print(df_features[0:50])"
   ]
  },
  {
   "cell_type": "code",
   "execution_count": 51,
   "metadata": {},
   "outputs": [
    {
     "name": "stdout",
     "output_type": "stream",
     "text": [
      "               frequency\n",
      "vis             0.739950\n",
      "vadim           0.738858\n",
      "intent          0.737039\n",
      "taskscheduler   0.734558\n",
      "omt             0.733873\n",
      "transcriptio    0.727780\n",
      "temporarily     0.725249\n",
      "teleradiology   0.722217\n",
      "institution     0.717989\n",
      "stfrancis       0.717989\n",
      "huggins         0.717821\n",
      "warm            0.704889\n",
      "various         0.704779\n",
      "ipa             0.695992\n",
      "ttype           0.641260\n",
      "synonym         0.604346\n",
      "nvnlv           0.589064\n",
      "nvbd            0.588388\n",
      "httpd           0.555160\n",
      "httpserver      0.528688\n"
     ]
    }
   ],
   "source": [
    "# print the last 20 occurances - terms with low frequency\n",
    "# how low is the frequency? do we have correct number of features\n",
    "print(df_features.tail(20))"
   ]
  },
  {
   "cell_type": "code",
   "execution_count": 52,
   "metadata": {},
   "outputs": [
    {
     "name": "stdout",
     "output_type": "stream",
     "text": [
      "['agree', 'agreement', 'ahu', 'ahwatukee', 'aid', 'aio', 'air', 'airpark', 'airplane', 'akirsl', 'akirsw', 'al', 'alaris', 'alarm', 'alcove', 'alert', 'alfa', 'aliacnsmmm', 'alias', 'aliborio', 'align', 'alignment', 'alive', 'allen', 'allergies', 'allergy', 'allocate', 'allocation', 'allow', 'allscript', 'allscripts', 'alm', 'almost', 'almut', 'alot', 'already', 'also', 'alt', 'alternate', 'always', 'amanda', 'amanpal', 'amatula', 'amb', 'ambassador', 'amber', 'ambulatory', 'amcore', 'america', 'amicas', 'amonroycruz', 'amy', 'ana', 'analysis', 'analyst', 'analytics', 'analyzer', 'anc', 'ancillary', 'anderson', 'andrea', 'andrew', 'android', 'anesthesia', 'angel', 'angela', 'angelscamp', 'anisha', 'ann', 'anna', 'anne', 'annual', 'another', 'answer', 'anthony', 'antivirus', 'anuh', 'anyconnect', 'anymore', 'anyone', 'anything', 'anywhere', 'aobannon', 'ap', 'apache', 'apanameno', 'apart', 'apc', 'apex', 'aphuynh', 'api', 'app', 'appbar', 'appdev', 'appear', 'appl', 'applauncher', 'apple', 'appli', 'appliance']\n"
     ]
    }
   ],
   "source": [
    "print(features[100:200])"
   ]
  },
  {
   "cell_type": "code",
   "execution_count": 53,
   "metadata": {},
   "outputs": [],
   "source": [
    "# using elbow method to find optimum number of clusters - start with 30 clusters\n",
    "\n",
    "# from sklearn.cluster import KMeans\n",
    "# wcss = []\n",
    "\n",
    "# for i in range(30, 51):\n",
    "#     km = KMeans(n_clusters = i, init = 'k-means++', max_iter = 100, n_init = 10, random_state = 1)\n",
    "#     km.fit(X)\n",
    "#     wcss.append(km.inertia_)\n",
    " \n",
    "# optimal_clusters = np.argmin(wcss) + 2 # As argmin return the index of minimum loss.\n",
    "\n",
    "# plt.plot(range(30, 51), wcss)\n",
    "# plt.title('The Elbow Method')\n",
    "# plt.xlabel('Number of Clusters')\n",
    "# plt.ylabel('WCSS')\n",
    "# plt.show()\n",
    "\n",
    "# print (\"The optimal number of clusters obtained is - \", optimal_clusters)\n",
    "# print (\"The loss for optimal cluster is - \", min(wcss))"
   ]
  },
  {
   "cell_type": "code",
   "execution_count": 54,
   "metadata": {},
   "outputs": [
    {
     "name": "stdout",
     "output_type": "stream",
     "text": [
      "CPU times: user 1.06 s, sys: 3.5 ms, total: 1.06 s\n",
      "Wall time: 1.06 s\n"
     ]
    },
    {
     "data": {
      "text/plain": [
       "MiniBatchKMeans(batch_size=100, compute_labels=True, init='k-means++',\n",
       "        init_size=None, max_iter=300, max_no_improvement=10, n_clusters=50,\n",
       "        n_init=3, random_state=1, reassignment_ratio=0.01, tol=0.0,\n",
       "        verbose=0)"
      ]
     },
     "execution_count": 54,
     "metadata": {},
     "output_type": "execute_result"
    }
   ],
   "source": [
    "num_clusters = 50\n",
    "\n",
    "# KMeans\n",
    "# from sklearn.cluster import KMeans\n",
    "\n",
    "# kmeans = KMeans(n_clusters = num_clusters, init = 'k-means++', max_iter = 300, n_init = 10, random_state = 1)\n",
    "# %time y = kmeans.fit_predict(X)\n",
    "# %time kmeans.fit(X)\n",
    "\n",
    "# Mini Batch KMeans\n",
    "from sklearn.cluster import MiniBatchKMeans\n",
    "\n",
    "kmeans = MiniBatchKMeans(n_clusters = num_clusters, init = 'k-means++', \n",
    "                         max_iter = 300, n_init = 3, random_state = 1)\n",
    "%time kmeans.fit(X)\n",
    "\n",
    "# clusters = kmeans.labels_.tolist()"
   ]
  },
  {
   "cell_type": "code",
   "execution_count": 55,
   "metadata": {},
   "outputs": [],
   "source": [
    "# df['Cluster'] = pd.DataFrame(y, columns = ['Cluster'])\n",
    "df['Cluster'] = kmeans.labels_"
   ]
  },
  {
   "cell_type": "code",
   "execution_count": 56,
   "metadata": {},
   "outputs": [
    {
     "name": "stdout",
     "output_type": "stream",
     "text": [
      "                                                      Terms  Cluster\n",
      "0   utilization threshold set disk file system percent full        5\n",
      "1                            account lock unable login user       39\n",
      "3                                    network password reset        7\n",
      "4     clairvia unable login password reset hduv do jmoyrong       17\n",
      "5            network account lock unable login user jyongco       39\n",
      "6               error message appear open clpdayend qrgxmsg        9\n",
      "7                wow display leave monitor upside device id       18\n",
      "8                             cpu utilization threshold set       21\n",
      "9                                 receive clpdayend qclxerr        9\n",
      "10                            cpu utilization threshold set       21\n"
     ]
    }
   ],
   "source": [
    "print(df.loc[:10,['Terms', 'Cluster']])"
   ]
  },
  {
   "cell_type": "code",
   "execution_count": 57,
   "metadata": {},
   "outputs": [],
   "source": [
    "# Save cluster in pickle file for future use\n",
    "# import pickle\n",
    "\n",
    "# pickle.dump(km, open('pkl/km_1.pkl', 'wb'))"
   ]
  },
  {
   "cell_type": "code",
   "execution_count": 58,
   "metadata": {},
   "outputs": [
    {
     "name": "stdout",
     "output_type": "stream",
     "text": [
      "0 : cpu, error, pm, utilization, threshold, set, viis, medbg, vprt, vint, medps, pcn, medfs, vora, sm, sql, memory, pvuserapp, syngo, use, physical, icbr, prt, sdm, utl, break, attempt, vsql, please, maximum, disregard, exceed, request, mistake, work, refer, wipe, teletracking, administrator, ticket, receiveack, create, node, tcpip, condition, due, number, brokererror, cxnrt, incorrect\n",
      "1 : duo, need, enroll, user, phone, enrollment, nfuse, enrol, register, unable, login, activate, number, want, new, send, call, guide, application, account, link, step, assistance, mobile, add, access, ph, get, device, help, work, remote, able, setup, reactivate, customer, email, reactivation, verification, two, change, require, passcode, code, name, assist, use, take, security, registration\n",
      "2 : login, unable, user, network, acc, unlock, able, nfuse, account, enable, lawson, ess, kb, hold, axway, clairvia, journey, yes, apache, password, invision, tt, gecb, error, guide, team, computer, pass, hduv, name, pss, profile, userid, myjourney, disable, cas, artiva, formfast, jabber, customer, laptop, total, home, credentials, rco, allscripts, email, reward, educate, mailgate\n",
      "3 : encryption, login, unable, user, mcafee, drive, password, laptop, id, generic, credentials, dev, desktop, recovery, sync, stick, use, ask, past, userid, change, ticket, device, call, log, pass, devid, unknown, need, default, guide, network, able, mde, endpoint, please, error, macfee, provide, stjoesmc, accept, tackerman, wcarlton, perform, macafee, try, add, logon, new, domain\n",
      "4 : account, network, user, activate, login, need, password, disable, enable, time, first, change, unable, customer, expire, want, forget, name, buddy, know, claim, help, reset, able, emergency, get, id, log, disablement, dev, patient, hduv, ask, tt, provide, careb, enup, guide, call, nt, merge, assistance, question, unlock, end, try, pss, setup, security, impact\n",
      "5 : percent, disk, full, system, utilization, threshold, set, file, app, sql, vctx, vprt, viis, vaio, vsql, vrep, csm, mapper, dev, vol, var, aio, vint, pacs, wouldh, fss, systemvg, iis, lvbackup, rmanvg, int, wouldsc, partdb, vsyb, medq, log, backup, lvvar, syslogvg, cbord, opt, vfile, xlarchve, emu, db, pvidm, lawupg, ulawsonapp, utl, phm\n",
      "6 : exit, active, complete, job, status, anisha, course, learn, xray, pca, encounter, ambulatory, unable, view, careb, order, hard, hcpcs, hcahps, hccl, hci, hcis, hd, hdaniels, hang, hdaughe, hdd, hdmi, hdou, hc, hbi, hbuttar, hartnell, harddrive, harding, hardware, hariassanchez, harp, harris, happen, hboc, hartwell, hay, hdov, haz, hazard, harddisk, haynes, zzaheer, hduv\n",
      "7 : reset, password, network, user, account, log, need, name, unable, hduv, require, login, want, change, id, guide, first, question, invision, time, verification, pss, buddy, dev, security, customer, challenge, able, call, fp, share, voicemail, allscripts, help, nt, expire, set, lock, apache, rco, remote, axway, assistance, gfigueroa, mmondragon, cerner, take, back, formfast, work\n",
      "8 : alarm, smart, rt, xl, device, sjhmc, main, mdf, srt, sbmc, sjmc, sjrmc, maint, nst, crmc, mtsjh, rm, smmc, hlt, morrison, sjpvh, sjbhc, mmcr, corp, uacc, mtmc, mhb, fhmc, guest, tower, hartnell, mgh, chmc, nrc, att, whc, idfaccounting, mfh, agch, dsc, pt, airpark, nhmc, ba, sldc, pfs, occ, sont, rehab, pbx\n",
      "9 : error, unable, work, user, launch, phone, receive, computer, interface, mft, need, application, tier, scanner, please, patient, file, outage, open, network, call, qclxerr, miss, see, mdf, time, get, monitor, myjourney, value, learn, procedure, low, info, report, keyboard, ping, additional, humidity, pc, critical, good, laptop, syslog, packet, percentage, wow, main, fail, journey\n",
      "10 : screen, black, computer, desktop, id, monitor, get, dev, blank, unable, work, take, stick, user, blue, pc, share, login, device, laptop, error, go, show, change, restart, freeze, windows, wow, resolution, mde, second, display, turn, encryption, password, update, mouse, move, try, properly, icons, one, come, repair, completely, need, dept, start, upside, location\n",
      "11 : printer, id, kyocera, ip, jam, paper, add, print, need, dev, equip, unable, map, device, computer, work, label, user, equipment, make, default, dept, error, que, address, loc, zebra, vprt, take, noise, desktop, want, setup, office, use, remote, install, anything, fax, require, change, toner, provide, please, hp, st, pc, offline, show, keep\n",
      "12 : loc, dept, center, medical, hospital, impact, st, id, dev, dep, mercy, urgent, joseph, unable, work, user, san, device, desktop, dominican, regional, location, memorial, sjhmc, er, phone, devid, health, rise, stockton, mary, juan, login, wow, sjmc, floor, icu, scanner, patient, error, community, northridge, turn, srdh, office, deptt, computer, print, bernardine, surgery\n",
      "13 : date, text, amcore, notification, dat, pending, observation, secop, verification, send, apprvl, rename, elizabeth, jane, thudock, close, office, user, ortiz, analysis, update, powell, isaiah, janaye, yarbrough, ccu, castro, maureen, workstation, admit, ryan, sec, radiology, op, jennifer, mmc, jam, wow, laptop, haynes, happen, handshake, hccl, hcahps, harding, hardware, hang, harp, hc, harris\n",
      "14 : id, dev, unable, launch, login, user, computer, work, myjourney, access, impact, error, journey, ip, cerner, take, dept, hold, remote, gecb, mouse, course, network, patient, kb, scanner, lawson, pc, internet, keyboard, provide, ess, communication, team, browser, laptop, change, edm, wow, citrix, open, application, complete, restart, chrome, document, scan, view, print, page\n",
      "15 : exit, active, complete, job, status, hdaughe, hcahps, haz, hazard, hbi, hboc, hbuttar, hc, hci, hccl, hdaniels, haynes, hcis, hdd, hcpcs, hd, zzaheer, hay, hdou, hartwell, handler, handset, handsets, handshake, hang, happen, hard, harddisk, harddrive, harding, hardware, hariassanchez, harp, harris, hartnell, hdmi, hdov, handheld, hematology, heat, heather, height, heights, hello, help\n",
      "16 : icon, miss, id, dev, bad, desktop, powerchart, impact, device, application, user, computer, open, launch, shortcut, team, file, need, instal, cerner, unable, outlook, ip, create, icons, lawson, remote, take, devid, invision, find, edm, artiva, work, applications, hold, share, phishing, meditech, ecisa, surginet, folder, rss, portal, access, add, install, nfuse, sharepoint, channel\n",
      "17 : login, password, hduv, reset, able, unable, user, network, account, hold, kb, change, pass, yes, invision, customer, need, userid, fp, apache, rco, temporary, give, clairvia, enup, acc, cerner, unlock, buddy, hdou, id, share, enable, profile, reason, allscripts, domain, gecb, dev, pss, disable, formfast, already, forget, flowcast, call, reso, first, sac, time\n",
      "18 : device, id, unable, reboot, error, power, launch, work, supply, computer, login, user, mdf, wow, take, scanner, open, chrome, change, communication, msjmc, cerner, provide, remote, manager, journey, myjourney, google, access, downtime, use, system, slow, application, occur, need, dignity, health, laptop, failure, main, attach, dept, lawson, service, course, load, keyboard, internet, browser\n",
      "19 : temperature, high, value, port, sensor, temp, rt, xl, smart, dmf, cath, snmh, integrate, bmh, smlb, mdf, hilt, sbmc, mh, low, elm, rcchild, rm, main, mmg, morrison, crmc, sjbhc, south, srt, amb, mgmc, aghc, idf, mic, ar, ahu, long, dhmf, pdu, srdhrdl, smmc, harding, handler, hartwell, hartnell, handsets, harris, handset, harp\n",
      "20 : port, status, mdf, msjmc, main, sjpvh, tc, edc, dt, lvs, nhmc, agch, sjrmc, sensor, high, mrmc, temp, temperature, master, sbmc, value, whc, chmc, sjhmc, rt, xl, smart, bmh, fhmc, core, roc, dmf, mh, sldc, nst, corp, mccloud, srdhs, basement, nrc, colo, wall, smmc, chsb, fou, sjmc, please, robot, guest, check\n",
      "21 : cpu, utilization, threshold, set, medbg, viis, vprt, app, vora, medps, medarc, vsql, vint, sql, medfs, script, memory, svuserapp, use, pcn, syngo, utl, ppps, sdm, csm, sm, vaio, vctx, dvidmi, pidm, pvuserapp, dep, handheld, hartwell, hay, haynes, haz, handsets, hazard, hartnell, hboc, gold, hand, hbuttar, halt, hbi, handle, harris, harp, hariassanchez\n",
      "22 : activation, duo, link, send, need, user, code, account, want, impact, activate, phone, name, new, require, network, call, customer, guide, register, ph, number, enroll, add, reactivate, sms, able, enrollment, access, enrol, device, kb, hold, nfuse, logon, application, tfilipich, email, mobile, install, change, unable, reactivation, contact, installation, mmalevanov, via, detail, successfully, xnguyen\n",
      "23 : vpn, certificate, validation, connect, unable, failure, error, user, need, login, instal, install, fail, access, authentication, logmein, take, remote, duo, work, assistance, certification, device, id, laptop, anyconnect, set, logon, get, expire, request, cisco, home, password, lmi, log, import, end, setup, able, dev, server, computer, enable, new, intermittent, connectivity, use, screen, enrol\n",
      "24 : mdf, controller, ap, associate, main, bmh, dhmf, msjmc, crmc, sjhmc, sjpvh, midtown, nst, mmg, tower, fhmc, corp, sjrmc, snmh, mob, dsch, master, sbmc, sjmc, mfh, smmc, mmcm, mmcr, gmhhc, mgmc, bsa, mgh, mrmc, whc, sech, mtsjh, mcm, bighorn, mic, mh, mhb, bronzestar, chmc, heart, cnt, agch, capitolafp, mmcms, srdhsm, verdugo\n",
      "25 : boot, time, one, encryption, perform, login, unable, able, mcafee, user, log, endpoint, impact, id, sync, laptop, need, uid, dev, yes, hold, kb, recovery, reboot, password, error, try, customer, computer, screen, name, generic, userid, access, network, desktop, fail, devid, unknown, thinohara, credentials, authentication, dept, nt, amatula, location, help, dep, hospital, work\n",
      "26 : peer, bgp, establish, mdf, main, edc, mh, srdhsm, master, disappear, rorc, mfh, railsback, lvs, mmg, sfmh, whc, tc, bsa, srdhs, chsb, midtown, mcm, snmh, mmcms, att, uacc, agch, sjhmc, msjmc, fhmc, mtmc, mgh, dhmf, heart, mdm, mpoe, mgmc, ba, sbmc, crmc, nhmc, mmcr, seq, sech, smmc, pfs, eg, dhmg, nst\n",
      "27 : service, process, run, call, vctx, manager, server, print, agent, mssqlserver, spooler, viis, sql, homecare, primary, ctx, app, vprt, administration, monitor, system, mfcom, mobilemd, modelemailrouter, web, architecture, independent, wide, publish, search, management, host, modelprintrouter, vaio, phm, legal, onecontent, cache, timer, modelfaxrouter, use, show, workflow, controller, name, ptr, tracker, int, visit, ace\n",
      "28 : round, pc, generator, suddenly, monthly, test, crmc, reboot, maintenance, perform, computer, power, home, health, therapy, nutrition, keyboard, iv, pharmacy, lab, discharge, maternal, child, mouse, diagnostic, cord, defective, surg, respond, update, wheel, med, admin, preventive, workstation, hospital, dietary, image, wow, doctor, replace, code, miss, mic, topaz, emergency, require, infusion, check, break\n",
      "29 : print, printer, unable, label, kyocera, id, user, report, device, computer, error, dev, facesheets, cerner, anything, sheet, paper, properly, formfast, zebra, page, band, quality, black, document, jam, need, printers, impact, team, face, line, devid, ticket, get, armbands, queue, take, ip, patient, relate, gecb, arm, dept, local, reset, blank, work, pc, wrist\n",
      "30 : reset, password, need, user, invision, login, unable, hduv, name, userid, clairvia, apache, account, require, rco, cerner, allscripts, voicemail, meditech, axway, fp, sso, network, gecb, formfast, flowcast, forget, access, id, jabber, phone, cisco, change, impact, want, able, sms, guide, take, remote, ct, sac, dev, ecisa, pss, useranme, tunnel, service, nt, email\n",
      "31 : turn, id, desktop, computer, dev, wow, monitor, laptop, pc, unable, work, screen, user, scanner, mode, impact, airplane, device, black, dept, provide, error, come, local, keep, would, printer, power, repair, wind, sideways, technician, get, stage, care, signature, restart, pad, devid, phone, icu, charge, end, alt, room, order, start, use, long, ph\n",
      "32 : cerner, powerchart, unable, user, login, ecisa, launch, careb, patient, firstnet, scan, order, pc, application, unreachable, chart, cross, id, account, surginet, error, introduction, physician, open, miss, work, need, pop, citrix, track, emergency, charge, name, information, get, report, show, print, device, schedule, computer, list, access, power, dev, patients, dhmf, freeze, interface, install\n",
      "33 : account, unlock, lock, network, user, login, unable, able, name, customer, access, enup, already, allscripts, call, axway, gecb, tt, clairvia, flowcast, id, abl, need, gate, nup, acc, want, pbriody, cerner, mail, log, accou, jchatten, reset, adh, bchima, password, stalluri, aswangler, cmccauley, team, mjones, impact, email, sbarela, nt, address, pss, service, pconway\n",
      "34 : lose, communication, link, status, smart, xl, rt, main, mdf, seq, mgh, srt, heart, rm, rehab, sjhmc, dsc, mmcms, dhmf, sjmc, crmc, twr, sjpvh, fhmc, mpoe, chsb, mmcr, snmh, mgmc, chmc, mmp, sjrmc, mrmc, sech, sbmc, srdhsm, smlb, srdhs, bmh, mcm, pt, mtsj, corp, eg, msjmc, gat, mmg, nhmc, vsmc, ba\n",
      "35 : need, instal, acknowledge, nup, enup, assistance, user, help, id, application, jabber, install, take, icon, dev, computer, remote, cisco, guide, ip, pc, viewpoint, register, device, update, network, cerner, add, want, pss, impact, webex, setup, laptop, get, citrix, devid, software, know, axiom, information, java, scanner, account, devip, replacement, unable, pacs, form, meditech\n",
      "36 : lock, account, network, user, userid, login, unable, unlock, allscripts, clairvia, tt, gecb, able, axway, sac, intruder, customer, enable, frequently, name, remove, nt, error, get, end, patient, areddyavula, frequent, mailgate, log, id, eminnick, flowcast, cerner, ssran, anuh, enup, jthurston, ad, check, acc, dev, duo, say, bbuan, jlpiercy, cclayton, ttheodoreedevu, computer, hie\n",
      "37 : admin, right, day, one, need, id, install, dev, device, instal, software, user, lar, want, access, local, provide, take, add, application, require, computer, remote, ip, installation, devip, customer, request, laptop, download, open, hrs, desktop, caller, update, give, ask, work, get, scan, box, allscripts, windows, uninstall, able, unable, launch, station, activation, uid\n",
      "38 : map, drive, network, unable, need, access, ip, personal, user, impact, laptop, id, computer, dive, please, devid, miss, want, printer, get, dev, sherry, application, address, customer, take, device, desktop, name, handshake, handsets, hci, hccl, happen, hc, hbuttar, hboc, hang, hbi, hcis, hcahps, harp, hard, harddisk, haz, haynes, harddrive, harding, hardware, hay\n",
      "39 : lock, account, login, user, unable, network, enable, nup, able, allscripts, windows, cerner, error, end, axway, dev, gecb, id, outlook, device, clairvia, flowcast, mailgate, printer, acc, team, map, ip, applications, multiple, customer, remote, take, computer, need, harding, harddrive, harris, hdaniels, harddisk, hardware, hariassanchez, hd, hdaughe, hcpcs, harp, hcis, hay, hci, hccl\n",
      "40 : login, network, user, unable, account, customer, pass, hduv, logon, ac, name, end, th, able, acc, password, id, enable, dev, try, pas, exception, computer, ask, acco, incorrect, provide, guide, eminnick, ess, expire, laptop, need, cerner, userid, team, ip, confirm, know, outlook, email, give, dept, unlock, jchanette, require, abl, nfuse, verify, log\n",
      "41 : new, duo, phone, user, need, activate, device, enroll, add, number, enrol, unable, account, enrollment, laptop, network, send, link, setup, register, get, reactivate, password, help, mouse, login, please, kb, work, mobile, install, old, create, iphone, access, want, configure, hold, keyboard, sharer, set, able, reactivation, guide, schedule, take, claim, call, ltimpog, sms\n",
      "42 : connect, unable, internet, id, wifi, laptop, computer, network, device, desktop, guest, dev, user, pc, wireless, dept, error, wow, printer, outlook, server, provide, monitor, kyocera, wi, connection, fi, projector, ipad, impact, omnicell, station, via, phone, citrix, dock, website, work, use, hotspot, careaware, loc, get, mouse, home, remote, customer, connectivity, cisco, target\n",
      "43 : job, lock, unlock, number, user, need, patient, account, kill, work, unable, system, remove, able, access, release, delete, name, customer, id, login, th, impact, clear, get, session, call, end, kb, hold, domain, dev, vmezahanks, wbarnett, mlandavazo, try, use, qhatter, jbotter, cvelasquez, ssi, stick, doamin, num, resol, yes, swillstout, log, uid, lkwait\n",
      "44 : ipaddress, listen, host, tier, port, adt, omnicell, order, suite, document, provider, portal, pharmacy, management, allergy, nutrition, service, nitiate, hub, identity, mobilemd, empi, millennium, aznv, result, st, domain, prod, josephs, medseries, medical, mercy, careb, edm, informati, dominican, memorial, pacs, radiology, hospital, platform, cardiology, image, solution, multiple, interface, ho, abstract, san, ecare\n",
      "45 : outlook, email, unable, send, id, access, open, device, dev, user, need, receive, error, delete, devid, login, launch, take, home, web, ms, work, mail, pop, offline, get, remote, show, archive, miss, computer, use, create, want, app, icon, attachment, address, vault, calendar, help, windows, assistance, view, see, add, secure, inbox, try, guide\n",
      "46 : access, unable, user, request, dh, need, cerner, error, myjourney, remote, journey, place, website, name, deny, home, take, dignity, id, try, health, email, get, network, employee, adh, able, login, admission, manager, owa, help, account, share, gecb, assist, jabber, dev, internet, check, lawson, guide, computer, ask, ie, devid, approve, nfuse, policy, ip\n",
      "47 : desktop, id, unable, computer, work, dev, device, user, pc, miss, windows, stick, need, icons, launch, icon, error, shortcut, applications, slow, freeze, login, internet, access, restart, get, boot, power, display, print, properly, mouse, server, ip, ask, startup, keyboard, application, customer, start, logon, open, local, run, laptop, multiple, load, update, create, file\n",
      "48 : map, printer, need, ip, id, take, computer, remote, dev, device, user, add, print, kyocera, want, call, impact, able, printers, help, unable, address, get, xerox, room, cerner, port, please, devid, desktop, successfully, laptop, respond, page, test, share, chc, vprt, printe, printerid, list, devip, customer, wr, network, ct, pri, name, scanner, hp\n",
      "49 : drive, map, share, network, access, unable, need, id, dev, miss, path, user, folder, computer, mcafee, hard, pc, device, devid, file, ip, take, want, nt, laptop, nas, login, personal, desktop, replace, emc, home, help, error, folders, find, get, call, shortcut, screen, add, remote, save, use, request, dept, fail, connect, see, loc\n"
     ]
    }
   ],
   "source": [
    "common_words = kmeans.cluster_centers_.argsort()[:,-1:-51:-1]\n",
    "for num, centroid in enumerate(common_words):\n",
    "    print(str(num) + ' : ' + ', '.join(features[word] for word in centroid))"
   ]
  },
  {
   "cell_type": "code",
   "execution_count": 59,
   "metadata": {},
   "outputs": [
    {
     "data": {
      "text/plain": [
       "<matplotlib.axes._subplots.AxesSubplot at 0x11dfc84a8>"
      ]
     },
     "execution_count": 59,
     "metadata": {},
     "output_type": "execute_result"
    },
    {
     "data": {
      "image/png": "[encoded data removed]",
      "text/plain": [
       "<Figure size 432x288 with 1 Axes>"
      ]
     },
     "metadata": {
      "needs_background": "light"
     },
     "output_type": "display_data"
    }
   ],
   "source": [
    "# lets analyze the clusters\n",
    "top_clusters = df['Cluster'].value_counts()\n",
    "top_clusters.plot.bar(x = 'Cluster', y = 'Counts')"
   ]
  },
  {
   "cell_type": "code",
   "execution_count": 60,
   "metadata": {},
   "outputs": [
    {
     "name": "stdout",
     "output_type": "stream",
     "text": [
      "                                                                                      Short_description  \\\n",
      "6   phxasp03 rpg1216 error message cpf4128 appeared during open (c s d f). cash_adjs  clpdayend  626...   \n",
      "9   phxasp03 cpa0701 rpg9001 received by phcl1956 at 2100. (c d i r) cash_adjs  clpdayend  626868 qc...   \n",
      "13                          master // nmscust02-2 : chw-as1-2central-dsc : 10.1.5.100 : syslog critical   \n",
      "14                                     nmscust02-2 : chw-as2-2central-dsc : 10.1.5.10 : syslog critical   \n",
      "17                                                   meditech alert (high)                                \n",
      "18  volume space nearly full warning event on phxdc23c-nas-07:/crh1a_sleeplabs_cifs01 (volume space ...   \n",
      "19                                         nmscust02-2 : chw-as1-2west-dsc : 10.1.5.6 : syslog critical   \n",
      "24  cim_2_mcd95_hclordl:hcl99ordl:hccl:tier-2:destination_realtime:try 1 to receive the response fro...   \n",
      "28  cim_2_baydsc19_omnadt:omn19adt:omnicell:tier-0:destination_realtime:try 1 to receive the respons...   \n",
      "30                                                                my journey performance and evaluation   \n",
      "\n",
      "                                                                                    Terms  \\\n",
      "6                                             error message appear open clpdayend qrgxmsg   \n",
      "9                                                               receive clpdayend qclxerr   \n",
      "13                                                             master dsc syslog critical   \n",
      "14                                                                    dsc syslog critical   \n",
      "17                                                                    meditech alert high   \n",
      "18                       volume space nearly full warn event nas volume space nearly full   \n",
      "19                                                                    dsc syslog critical   \n",
      "24  hccl tier try receive response destination application order lab mercy hospitals bake   \n",
      "28      omnicell tier try receive response destination application adt dominican hospital   \n",
      "30                                                         journey performance evaluation   \n",
      "\n",
      "                                IPs  Cluster  \n",
      "6                                          9  \n",
      "9                                          9  \n",
      "13  chw-as1-2central-dsc 10.1.5.100        9  \n",
      "14   chw-as2-2central-dsc 10.1.5.10        9  \n",
      "17                                         9  \n",
      "18                  phxdc23c-nas-07        9  \n",
      "19       chw-as1-2west-dsc 10.1.5.6        9  \n",
      "24                                         9  \n",
      "28                                         9  \n",
      "30                                         9  \n"
     ]
    }
   ],
   "source": [
    "# there is high volume for cluster 9, lets look at few to investigate\n",
    "print(df[df.Cluster == 9].iloc[:10, [15,17,18,19]])"
   ]
  },
  {
   "cell_type": "code",
   "execution_count": 231,
   "metadata": {},
   "outputs": [
    {
     "name": "stdout",
     "output_type": "stream",
     "text": [
      "Cluster 0: reset, password, reset user name, account password, account password reset, password reset user, reset user, hduv, user name, name, reset password, hduv reset, user name hduv, name hduv, password reset, network account password, user, account, hduv reset password, network,\n",
      "Cluster 1: cpu utilization threshold, cpu utilization, cpu, threshold set, utilization threshold, utilization, utilization threshold set, set, threshold, medps cpu utilization, medps, medps cpu, vint, vint cpu, vint cpu utilization, viis cpu utilization, viis cpu, app cpu utilization, app cpu, viis,\n",
      "Cluster 2: printer, device, login, wheel, workstation wheel, workstation, wow workstation, wow workstation wheel, reboot, wow, device reboot, mdf, status, power, file, application, sjpvh, power supply, supply, sjpvh device,\n",
      "Cluster 3: error, error error, mft error, mft, tier mft, tier mft error, mft error error, tier, sftp, error error unable, error unable, suite, suite tier, error unable connect, millennium, millennium suite tier, millennium suite, suite tier mft, unable connect sftp, connect sftp,\n",
      "Cluster 4: login, login user, login user id, unable login user, unable login, user id, id, user, unable, account, network, network account, account lock unable, lock unable, lock unable login, account unable login, password, account unable, enable account, enable,\n",
      "Cluster 5: hduv, login password, unable login password, login, password reset, password reset hduv, reset hduv, password, login password reset, reset, unable login, unable, account unable login, network account unable, account unable, hduv password, hduv password reset, network account, reset customer able, password reset customer,\n",
      "Cluster 6: port, sjpvh port, port status, mdf sjpvh port, status, sjpvh port status, mdf sjpvh, sjpvh, mdf, port port, sjpvh port port, port port status, port port port, itc sjpvh port, itc, itc sjpvh, id jchatten, identity hub, identity hub tier, ii,\n",
      "Cluster 7: mdf, main sjmc, sjmc mdf, sjmc, vsmc, vsmc mtsjh, vsmc mtsjh ap, mdf main sjmc, mtsjh ap not, mtsjh ap, mtsjh, mdf vsmc mtsjh, main sjmc mdf, mdf vsmc, sjmc mdf vsmc, ap, not associate, not associate controller, controller, associate controller,\n",
      "Cluster 8: socket, point, socket timeout keep, error throw, error throw end, throw end, alive, alive error, alive error throw, throw, timeout keep, socket timeout, timeout keep alive, keep alive, keep alive error, timeout, keep, end point, throw end point, end,\n",
      "Cluster 9: task not, exchange mailbox task, exchange mailbox, mailbox, mailbox task, mailbox task not, exchange, task not run, not run, task, run, not, ii dev ip, ii dev id, ii dev, identity hub tier, ii account lock, ii account, ii, ii ii tt,\n",
      "Cluster 10: database, backup overdue, log backup, log backup overdue, overdue, database log backup, database log, backup, log, fingerprint, fingerprint database, fingerprint database log, store database log, vault store database, vault store, store database, store, vault, identity hub, ii user,\n",
      "Cluster 11: phone, process, call, run, phone phone, service, service call, process service call, process service, process process call, process process, process call run, process call, call run, app process, app process process, call server, service call server, server, app,\n",
      "Cluster 12: desktop, desktop desktop, computer, desktop laptop computer, desktop laptop, laptop computer, laptop, desktop not, encryption, not, desktop unable, screen, helpdesk desktop laptop, laptop computer helpdesk, zother desktop, helpdesk desktop, computer helpdesk desktop, computer helpdesk, zother desktop laptop, load,\n",
      "Cluster 13: qclxerr, receive, receive procedure, procedure, receive procedure dmcpqrctl, dmcpqrctl, procedure dmcpqrctl, mmmdayend qclxerr, mmmdayend, receive ecsvc, agcdayend, mmsdayend, mmrdayend, mmcdayend, snmdayend qclxerr, secdayend qclxerr, fhmdayend qclxerr, smmdayend, smmdayend qclxerr, fhmdayend,\n",
      "Cluster 14: sjpvh, mdf main sjpvh, main sjpvh, sjpvh ap not, sjpvh ap, ap, controller, ap not associate, ap not, not associate, not associate controller, associate controller, associate, sjpvh sjpvh, main sjpvh sjpvh, sjpvh sjpvh ap, mdf main, main, mdf, not,\n",
      "Cluster 15: rectimeout, rectimeout occur, rectimeout threshold, occur rectimeout, occur rectimeout threshold, rectimeout occur rectimeout, occur, current, threshold current rectimeout, rectimeout threshold current, current rectimeout, threshold current, rectimeout attempt, current rectimeout attempt, attempt, tier rectimeout occur, tier rectimeout, tier, threshold, rectimeout attempt transcriptions,\n",
      "Cluster 16: job, job lock, lock, unlock, lock job, job unlock, job lock unlock, number, lock unlock, unlock job, job number, lock job unlock, job lock job, number unlock, job system, system, kill, ii job, reopen, close,\n",
      "Cluster 17: account, account lock, lock, network account, network, network account lock, lock user, account lock user, user, unlock, lock user id, user id, id, unlock account, account account, account account lock, network account account, user name, name, lock user name,\n",
      "Cluster 18: syslog critical, syslog, critical, dsc syslog critical, dsc syslog, dsc, main, mmcr syslog critical, mdf main mmcr, mmcr syslog, main mmcr syslog, main mmcr, mmcr, master, mdf, mdf main, master dsc syslog, master dsc, srdhs syslog critical, main srdhs syslog,\n",
      "Cluster 19: cerner, cerner unable, cerner powerchart, powerchart, unable, access, patient, cerner firstnet, firstnet, user, id, careb, unable access, cerner unable access, nfuse, ecisa, print, not, not cross, cross,\n",
      "Cluster 20: account unable, network account unable, account, network account, account unable login, unable, network, login, unable login, unable login unlock, login unlock, unlock, account unable log, user, log user, unable log user, unable log, lock, user id, log,\n",
      "Cluster 21: complete exit status, active job, active job complete, job complete, job complete exit, complete exit, active, exit, exit status, complete, job, status, ii not, ii dev, ii dev id, ii dev ip, ii ii, ii ii tt, ii job, ii need,\n",
      "Cluster 22: fail, alert, trigger, meditech alert high, alert high, meditech alert, high, meditech, trigger transactions fail, transactions, transaction fail trigger, transaction fail, transaction, trigger application, trigger transactions, fail trigger application, fail trigger, transactions fail, lawson, backups,\n",
      "Cluster 23: percent full, set wouldisk file, threshold set wouldisk, wouldisk file system, wouldisk file, wouldisk, file system, percent, set wouldisk, full, system, system percent, system percent full, file system percent, file, utilization threshold set, utilization threshold, threshold set, utilization, set,\n",
      "Cluster 24: reset, password reset, password, network password, network password reset, ii, network, user id, id, user, reset ii, password reset ii, reset ii user, ii user, ii user id, user id ii, id ii, need password, need password reset, network account user,\n",
      "Cluster 25: not, id, unable, user, dev, dev id, monitor, computer, device id, device, work, wow, peer, loc, patient, keyboard, mouse, not work, print, dept,\n",
      "Cluster 26: ii, access, launch, unable, unable launch, unable access, ii unable, id, dev, ii dev, launch application, unable launch application, dev id, ii dev id, login ii, application, ii user, ii user id, owa, nfuse,\n",
      "Cluster 27: packet, see additional info, packet good percentage, packet good, percentage see additional, good percentage see, good percentage, good, percentage see, percentage, additional, see additional, additional info, info time, info, ping packet good, ping packet, additional info time, ping, see,\n",
      "Cluster 28: network, network outage, outage, network unable, sjpvh network outage, sjpvh network, network unable login, sjpvh, login, unable login, unable, mdf sjpvh network, network reset, mdf sjpvh, mdf, exception, pop, network unable user, unable user, unable user id,\n",
      "Cluster 29: qrnxie, end, qcmdexc end error, qcmdexc end, end error, qcmdexc, call qcmdexc, call qcmdexc end, call, end user, allocate, error, allocate record file, record file, record file phpinsr, phpinsr, file phpinsr, unable allocate record, unable allocate, allocate record,\n",
      "(30, 2)\n"
     ]
    }
   ],
   "source": [
    "# Create mapping of ngram features into clusters, \n",
    "# save into terms map object with key as cluster name (first feature in each cluster - with 2 words)\n",
    "# terms = top 20 ngram features\n",
    "\n",
    "order_centroids = km.cluster_centers_.argsort()[:, ::-1]\n",
    "df_features_map = pd.DataFrame(index = np.arange(0, num_clusters), columns=['features','key'])    \n",
    "\n",
    "for i in range(num_clusters):\n",
    "    list = [] \n",
    "    for ind in order_centroids[i, :20]:\n",
    "        print(' %s' % terms[ind], end=',')\n",
    "        list.append(terms[ind])\n",
    "    for ind2 in order_centroids[i, :1]:\n",
    "        terms_map.key.loc[i] = terms[ind2]\n",
    "\n",
    "    str = ', '.join(list) \n",
    "    terms_map.terms.loc[i] = str\n",
    "    print()\n",
    "print(terms_map.shape)\n",
    "\n",
    "df_features = pd.DataFrame(freq, index = features, columns = ['frequency'])\n",
    "\n",
    "# sort the terms in descending order of frequency\n",
    "df_features.sort_values(by = ['frequency'], inplace = True, ascending = False)\n",
    "\n",
    "order_centroids = km.cluster_centers_.argsort()[:, ::-1]\n",
    "terms = tfidf_vectorizer.get_feature_names()\n",
    "terms_map = pd.DataFrame(index=np.arange(0, num_clusters),columns=['terms','key'])    \n",
    "for i in range(num_clusters):\n",
    "    print(\"Cluster %d:\" % i, end='')\n",
    "    #terms_map['key'] = i\n",
    "    list = [] \n",
    "    for ind in order_centroids[i, :20]:\n",
    "        print(' %s' % terms[ind], end=',')\n",
    "        list.append(terms[ind])\n",
    "    for ind2 in order_centroids[i, :1]:\n",
    "        terms_map.key.loc[i] = terms[ind2]\n",
    "\n",
    "    str = ', '.join(list) \n",
    "    terms_map.terms.loc[i] = str\n",
    "    print()\n",
    "print(terms_map.shape)"
   ]
  },
  {
   "cell_type": "code",
   "execution_count": null,
   "metadata": {},
   "outputs": [],
   "source": []
  }
 ],
 "metadata": {
  "kernelspec": {
   "display_name": "Python 3",
   "language": "python",
   "name": "python3"
  },
  "language_info": {
   "codemirror_mode": {
    "name": "ipython",
    "version": 3
   },
   "file_extension": ".py",
   "mimetype": "text/x-python",
   "name": "python",
   "nbconvert_exporter": "python",
   "pygments_lexer": "ipython3",
   "version": "3.7.1"
  }
 },
 "nbformat": 4,
 "nbformat_minor": 2
}
