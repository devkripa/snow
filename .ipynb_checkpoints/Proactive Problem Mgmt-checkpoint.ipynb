{
 "cells": [
  {
   "cell_type": "code",
   "execution_count": 71,
   "metadata": {},
   "outputs": [],
   "source": [
    "import numpy as np\n",
    "import matplotlib.pyplot as plt\n",
    "import pandas as pd\n",
    "# import os\n",
    "# import codecs"
   ]
  },
  {
   "cell_type": "code",
   "execution_count": 72,
   "metadata": {},
   "outputs": [],
   "source": [
    "target_url = (\"/Users/devkrroy/Dev/Projects/snow/data/export3.xlsx\")"
   ]
  },
  {
   "cell_type": "code",
   "execution_count": 73,
   "metadata": {},
   "outputs": [],
   "source": [
    "df = pd.read_excel(target_url)"
   ]
  },
  {
   "cell_type": "code",
   "execution_count": 74,
   "metadata": {},
   "outputs": [
    {
     "name": "stdout",
     "output_type": "stream",
     "text": [
      "<class 'pandas.core.frame.DataFrame'>\n",
      "RangeIndex: 95373 entries, 0 to 95372\n",
      "Data columns (total 28 columns):\n",
      "Number                95373 non-null object\n",
      "Assignment_group      95373 non-null object\n",
      "Priority              95373 non-null object\n",
      "State                 95373 non-null object\n",
      "Category              93947 non-null object\n",
      "Subcategory           61328 non-null object\n",
      "Severity              95373 non-null object\n",
      "Closure_CI            94492 non-null object\n",
      "Location              95079 non-null object\n",
      "Close_code            94559 non-null object\n",
      "Configuration_item    95373 non-null object\n",
      "Child_Incidents       95373 non-null int64\n",
      "Contact_type          95373 non-null object\n",
      "Duration              95373 non-null int64\n",
      "Impact                95373 non-null object\n",
      "Short_description     95373 non-null object\n",
      "Created               95373 non-null datetime64[ns]\n",
      "dates                 95373 non-null datetime64[ns]\n",
      "date                  95373 non-null datetime64[ns]\n",
      "day                   95373 non-null object\n",
      "month                 95373 non-null object\n",
      "dom                   95373 non-null int64\n",
      "week                  95373 non-null int64\n",
      "week2                 95373 non-null int64\n",
      "cluster               95373 non-null int64\n",
      "cluster1              95373 non-null int64\n",
      "cluster_name1         95373 non-null object\n",
      "cluster_name          95373 non-null object\n",
      "dtypes: datetime64[ns](3), int64(7), object(18)\n",
      "memory usage: 20.4+ MB\n",
      "['Number' 'Assignment_group' 'Priority' 'State' 'Category' 'Subcategory'\n",
      " 'Severity' 'Closure_CI' 'Location' 'Close_code' 'Configuration_item'\n",
      " 'Child_Incidents' 'Contact_type' 'Duration' 'Impact' 'Short_description'\n",
      " 'Created' 'dates' 'date' 'day' 'month' 'dom' 'week' 'week2' 'cluster'\n",
      " 'cluster1' 'cluster_name1' 'cluster_name']\n"
     ]
    }
   ],
   "source": [
    "df.info()\n",
    "print(df.columns.values)"
   ]
  },
  {
   "cell_type": "code",
   "execution_count": 75,
   "metadata": {},
   "outputs": [
    {
     "data": {
      "text/html": [
       "<div>\n",
       "<style scoped>\n",
       "    .dataframe tbody tr th:only-of-type {\n",
       "        vertical-align: middle;\n",
       "    }\n",
       "\n",
       "    .dataframe tbody tr th {\n",
       "        vertical-align: top;\n",
       "    }\n",
       "\n",
       "    .dataframe thead th {\n",
       "        text-align: right;\n",
       "    }\n",
       "</style>\n",
       "<table border=\"1\" class=\"dataframe\">\n",
       "  <thead>\n",
       "    <tr style=\"text-align: right;\">\n",
       "      <th></th>\n",
       "      <th>Number</th>\n",
       "      <th>Assignment_group</th>\n",
       "      <th>Priority</th>\n",
       "      <th>State</th>\n",
       "      <th>Category</th>\n",
       "      <th>Subcategory</th>\n",
       "      <th>Severity</th>\n",
       "      <th>Closure_CI</th>\n",
       "      <th>Location</th>\n",
       "      <th>Close_code</th>\n",
       "      <th>...</th>\n",
       "      <th>date</th>\n",
       "      <th>day</th>\n",
       "      <th>month</th>\n",
       "      <th>dom</th>\n",
       "      <th>week</th>\n",
       "      <th>week2</th>\n",
       "      <th>cluster</th>\n",
       "      <th>cluster1</th>\n",
       "      <th>cluster_name1</th>\n",
       "      <th>cluster_name</th>\n",
       "    </tr>\n",
       "  </thead>\n",
       "  <tbody>\n",
       "    <tr>\n",
       "      <th>0</th>\n",
       "      <td>INC0406604</td>\n",
       "      <td>DHE-Command Center</td>\n",
       "      <td>4 - Low</td>\n",
       "      <td>Closed</td>\n",
       "      <td>Server</td>\n",
       "      <td>Windows</td>\n",
       "      <td>3 - Low</td>\n",
       "      <td>phx-vapp-689</td>\n",
       "      <td>Corporate Office - Phoenix 1</td>\n",
       "      <td>Resolved by Event</td>\n",
       "      <td>...</td>\n",
       "      <td>2018-09-01</td>\n",
       "      <td>Saturday</td>\n",
       "      <td>September</td>\n",
       "      <td>1</td>\n",
       "      <td>1</td>\n",
       "      <td>1</td>\n",
       "      <td>1</td>\n",
       "      <td>16</td>\n",
       "      <td>volume space</td>\n",
       "      <td>threshold set disk</td>\n",
       "    </tr>\n",
       "    <tr>\n",
       "      <th>1</th>\n",
       "      <td>INC0406605</td>\n",
       "      <td>DH-Enterprise IT Service Cntr</td>\n",
       "      <td>4 - Low</td>\n",
       "      <td>Closed</td>\n",
       "      <td>Security</td>\n",
       "      <td>NaN</td>\n",
       "      <td>3 - Low</td>\n",
       "      <td>Network Account Lock</td>\n",
       "      <td>St Mary's Medical Center San Francisco (SMMC-SF)</td>\n",
       "      <td>Account Unlock</td>\n",
       "      <td>...</td>\n",
       "      <td>2018-09-01</td>\n",
       "      <td>Saturday</td>\n",
       "      <td>September</td>\n",
       "      <td>1</td>\n",
       "      <td>1</td>\n",
       "      <td>1</td>\n",
       "      <td>48</td>\n",
       "      <td>47</td>\n",
       "      <td>login</td>\n",
       "      <td>login</td>\n",
       "    </tr>\n",
       "    <tr>\n",
       "      <th>2</th>\n",
       "      <td>INC0406606</td>\n",
       "      <td>DHE-RCM-AppOp-Applications</td>\n",
       "      <td>3 - Moderate</td>\n",
       "      <td>Closed</td>\n",
       "      <td>Application</td>\n",
       "      <td>Revenue Cycle</td>\n",
       "      <td>3 - Low</td>\n",
       "      <td>Soarian DM</td>\n",
       "      <td>Corporate Office - Phoenix 1</td>\n",
       "      <td>Resolved by Event</td>\n",
       "      <td>...</td>\n",
       "      <td>2018-09-01</td>\n",
       "      <td>Saturday</td>\n",
       "      <td>September</td>\n",
       "      <td>1</td>\n",
       "      <td>1</td>\n",
       "      <td>1</td>\n",
       "      <td>44</td>\n",
       "      <td>7</td>\n",
       "      <td>login</td>\n",
       "      <td>cerner</td>\n",
       "    </tr>\n",
       "    <tr>\n",
       "      <th>3</th>\n",
       "      <td>INC0406607</td>\n",
       "      <td>DH-Enterprise IT Service Cntr</td>\n",
       "      <td>4 - Low</td>\n",
       "      <td>Closed</td>\n",
       "      <td>Security</td>\n",
       "      <td>NaN</td>\n",
       "      <td>3 - Low</td>\n",
       "      <td>Network Account Issue</td>\n",
       "      <td>Bruceville Terrace</td>\n",
       "      <td>Password Reset</td>\n",
       "      <td>...</td>\n",
       "      <td>2018-09-01</td>\n",
       "      <td>Saturday</td>\n",
       "      <td>September</td>\n",
       "      <td>1</td>\n",
       "      <td>1</td>\n",
       "      <td>1</td>\n",
       "      <td>4</td>\n",
       "      <td>4</td>\n",
       "      <td>login</td>\n",
       "      <td>login</td>\n",
       "    </tr>\n",
       "    <tr>\n",
       "      <th>4</th>\n",
       "      <td>INC0406608</td>\n",
       "      <td>DH-Enterprise IT Service Cntr</td>\n",
       "      <td>4 - Low</td>\n",
       "      <td>Closed</td>\n",
       "      <td>Application</td>\n",
       "      <td>Clinical</td>\n",
       "      <td>3 - Low</td>\n",
       "      <td>Clairvia</td>\n",
       "      <td>St Mary's Medical Center San Francisco (SMMC-SF)</td>\n",
       "      <td>Password Reset</td>\n",
       "      <td>...</td>\n",
       "      <td>2018-09-01</td>\n",
       "      <td>Saturday</td>\n",
       "      <td>September</td>\n",
       "      <td>1</td>\n",
       "      <td>1</td>\n",
       "      <td>1</td>\n",
       "      <td>18</td>\n",
       "      <td>36</td>\n",
       "      <td>login</td>\n",
       "      <td>login</td>\n",
       "    </tr>\n",
       "  </tbody>\n",
       "</table>\n",
       "<p>5 rows × 28 columns</p>\n",
       "</div>"
      ],
      "text/plain": [
       "       Number               Assignment_group      Priority   State  \\\n",
       "0  INC0406604             DHE-Command Center       4 - Low  Closed   \n",
       "1  INC0406605  DH-Enterprise IT Service Cntr       4 - Low  Closed   \n",
       "2  INC0406606     DHE-RCM-AppOp-Applications  3 - Moderate  Closed   \n",
       "3  INC0406607  DH-Enterprise IT Service Cntr       4 - Low  Closed   \n",
       "4  INC0406608  DH-Enterprise IT Service Cntr       4 - Low  Closed   \n",
       "\n",
       "      Category    Subcategory Severity             Closure_CI  \\\n",
       "0       Server        Windows  3 - Low           phx-vapp-689   \n",
       "1     Security            NaN  3 - Low   Network Account Lock   \n",
       "2  Application  Revenue Cycle  3 - Low             Soarian DM   \n",
       "3     Security            NaN  3 - Low  Network Account Issue   \n",
       "4  Application       Clinical  3 - Low               Clairvia   \n",
       "\n",
       "                                           Location         Close_code  \\\n",
       "0                      Corporate Office - Phoenix 1  Resolved by Event   \n",
       "1  St Mary's Medical Center San Francisco (SMMC-SF)     Account Unlock   \n",
       "2                      Corporate Office - Phoenix 1  Resolved by Event   \n",
       "3                                Bruceville Terrace     Password Reset   \n",
       "4  St Mary's Medical Center San Francisco (SMMC-SF)     Password Reset   \n",
       "\n",
       "          ...               date       day      month  dom week week2 cluster  \\\n",
       "0         ...         2018-09-01  Saturday  September    1    1     1       1   \n",
       "1         ...         2018-09-01  Saturday  September    1    1     1      48   \n",
       "2         ...         2018-09-01  Saturday  September    1    1     1      44   \n",
       "3         ...         2018-09-01  Saturday  September    1    1     1       4   \n",
       "4         ...         2018-09-01  Saturday  September    1    1     1      18   \n",
       "\n",
       "  cluster1 cluster_name1        cluster_name  \n",
       "0       16  volume space  threshold set disk  \n",
       "1       47         login               login  \n",
       "2        7         login              cerner  \n",
       "3        4         login               login  \n",
       "4       36         login               login  \n",
       "\n",
       "[5 rows x 28 columns]"
      ]
     },
     "execution_count": 75,
     "metadata": {},
     "output_type": "execute_result"
    }
   ],
   "source": [
    "df.head()"
   ]
  },
  {
   "cell_type": "code",
   "execution_count": 76,
   "metadata": {},
   "outputs": [
    {
     "data": {
      "text/plain": [
       "<matplotlib.axes._subplots.AxesSubplot at 0x12a2bbc50>"
      ]
     },
     "execution_count": 76,
     "metadata": {},
     "output_type": "execute_result"
    },
    {
     "data": {
      "image/png": "[encoded data removed]",
      "text/plain": [
       "<Figure size 432x288 with 1 Axes>"
      ]
     },
     "metadata": {
      "needs_background": "light"
     },
     "output_type": "display_data"
    }
   ],
   "source": [
    "# plot few charts to understand the data\n",
    "\n",
    "# Category by count - this should help understand \"Number of Clusters\" we should have\n",
    "\n",
    "top_categories_df = df['Category'].value_counts()[:20]\n",
    "top_categories_df.plot.bar(x = 'Category', y = 'Counts')\n"
   ]
  },
  {
   "cell_type": "code",
   "execution_count": 77,
   "metadata": {},
   "outputs": [
    {
     "data": {
      "text/plain": [
       "<matplotlib.axes._subplots.AxesSubplot at 0x130317668>"
      ]
     },
     "execution_count": 77,
     "metadata": {},
     "output_type": "execute_result"
    },
    {
     "data": {
      "image/png": "[encoded data removed]",
      "text/plain": [
       "<Figure size 432x288 with 1 Axes>"
      ]
     },
     "metadata": {
      "needs_background": "light"
     },
     "output_type": "display_data"
    }
   ],
   "source": [
    "# Close_code by count \n",
    "\n",
    "top_close_code_df = df['Close_code'].value_counts()[:20]\n",
    "top_close_code_df.plot.bar(x = 'Close_code', y = 'Counts')"
   ]
  },
  {
   "cell_type": "code",
   "execution_count": 78,
   "metadata": {},
   "outputs": [],
   "source": [
    "# based on the 2 charts above we will initially go with 30 clusters of data"
   ]
  },
  {
   "cell_type": "code",
   "execution_count": 79,
   "metadata": {},
   "outputs": [],
   "source": [
    "# identify the features needed\n",
    "features = ['Number', 'Assignment_group', 'Priority', 'State', 'Category',\n",
    "       'Subcategory', 'Severity', 'Closure_CI', 'Location', 'Close_code',\n",
    "       'Configuration_item', 'Child_Incidents', 'Contact_type',\n",
    "       'Duration', 'Impact', 'Short_description', 'Created']\n",
    "df = df[features]"
   ]
  },
  {
   "cell_type": "code",
   "execution_count": 80,
   "metadata": {},
   "outputs": [
    {
     "name": "stdout",
     "output_type": "stream",
     "text": [
      "Shape of the modified dataframe  (95373, 17)\n"
     ]
    }
   ],
   "source": [
    "# use less rows for analysis, remove later\n",
    "# df = df.head(2000)\n",
    "print('Shape of the modified dataframe ', df.shape)"
   ]
  },
  {
   "cell_type": "code",
   "execution_count": 81,
   "metadata": {},
   "outputs": [
    {
     "data": {
      "text/plain": [
       "End User Services    22410\n",
       "Application          20651\n",
       "Security             17171\n",
       "Server               12687\n",
       "Network               7831\n",
       "HelpDesk              5169\n",
       "EAI Interface         3028\n",
       "Telecom               2832\n",
       "Human Resources       1224\n",
       "EAI Component          697\n",
       "Storage                140\n",
       "Facility               100\n",
       "Database                 7\n",
       "Name: Category, dtype: int64"
      ]
     },
     "execution_count": 81,
     "metadata": {},
     "output_type": "execute_result"
    }
   ],
   "source": [
    "#Filter out some categories with instances < 50 for now , remove this filter in future\n",
    "# df = df.groupby(\"Category\").filter(lambda x: len(x) > 50)\n",
    "# df = df.reset_index(drop = True)\n",
    "df.Category.value_counts()"
   ]
  },
  {
   "cell_type": "code",
   "execution_count": 82,
   "metadata": {},
   "outputs": [],
   "source": [
    "# nltk text preprocessing\n",
    "import re\n",
    "import nltk\n",
    "from nltk.corpus import stopwords, wordnet\n",
    "from nltk.stem import WordNetLemmatizer\n",
    "from nltk.tokenize import word_tokenize\n",
    "\n",
    "import contractions\n",
    "\n",
    "from sklearn import feature_extraction\n",
    "# from nltk.tag import pos_tag\n",
    "\n",
    "stop = stopwords.words('english')\n",
    "lemmer=WordNetLemmatizer()\n",
    "\n",
    "#extend stop words\n",
    "new_stopwords = ['chw','edu','phx','vapp']\n",
    "stop.extend(new_stopwords)\n",
    "\n",
    "# to be tried - apply text collocations\n",
    "\n",
    "def pre_process(text):\n",
    "        \n",
    "    # try to capture the IPs    \n",
    "    ip_pattern = re.compile(r'([A-Za-z0-9]{2,}[-.]{1,1}){2,6}([A-Za-z0-9]*)')   \n",
    "    ip = text.apply(lambda x: ' '.join(word for word in re.split('[\\': (),]', x) if ip_pattern.match(word)))\n",
    "    \n",
    "    text = text.apply(lambda x: ' '.join(word.lower() for word in x.split()))  # lower case\n",
    "#   text = text.apply(lambda x: ' '.join(contractions.fix(word) for word in x.split()))  # replace contractions\n",
    "\n",
    "    # consider complete words that contain alpha\n",
    "    alpha = re.compile(r'([A-Za-z]*$)')\n",
    "    text = text.apply(lambda x: ' '.join(word for word in word_tokenize(x) if alpha.match(word)))\n",
    "    \n",
    "#     text = text.str.replace('[^A-Za-z ]', ' ')  # remove non words\n",
    "    \n",
    "    text = text.apply(lambda x: ' '.join([word for word in x.split() if word not in set(stop)]))   #stop\n",
    "    text = text.apply(lambda x: ' '.join([lemmer.lemmatize(word, pos='v') for word in x.split()]))       #lemma\n",
    "    text = text.apply(lambda x: ' '.join([word for word in x.split() if len(word) > 1 ]))  #length >1\n",
    "\n",
    "    return (text, ip)\n",
    "    \n",
    "normalized = pre_process(df['Short_description'])"
   ]
  },
  {
   "cell_type": "code",
   "execution_count": 84,
   "metadata": {},
   "outputs": [
    {
     "name": "stdout",
     "output_type": "stream",
     "text": [
      "<FreqDist with 109662 samples and 606732 outcomes>\n"
     ]
    }
   ],
   "source": [
    "from nltk.probability import FreqDist\n",
    "from nltk.tokenize import word_tokenize\n",
    "\n",
    "tokenized_word=word_tokenize(normalized[0].to_string())\n",
    "\n",
    "fdist = FreqDist(tokenized_word)\n",
    "print(fdist)"
   ]
  },
  {
   "cell_type": "code",
   "execution_count": 96,
   "metadata": {},
   "outputs": [
    {
     "data": {
      "text/plain": [
       "[('...', 25215),\n",
       " ('issue', 18480),\n",
       " ('unable', 14161),\n",
       " ('network', 13377),\n",
       " ('id', 12028),\n",
       " ('login', 10454),\n",
       " ('account', 10278),\n",
       " ('user', 9914),\n",
       " ('desktop', 6776),\n",
       " ('set', 6405),\n",
       " ('threshold', 6170),\n",
       " ('utilization', 6159),\n",
       " ('lock', 5971),\n",
       " ('password', 5893),\n",
       " ('reset', 5551),\n",
       " ('printer', 5440),\n",
       " ('cerner', 5360),\n",
       " ('need', 5323),\n",
       " ('error', 4846),\n",
       " ('monitor', 4669),\n",
       " ('able', 4601),\n",
       " ('phone', 4361),\n",
       " ('cpu', 4082),\n",
       " ('keyboard', 4006),\n",
       " ('pc', 3886),\n",
       " ('device', 3871),\n",
       " ('dev', 3537),\n",
       " ('application', 3503),\n",
       " ('status', 3448),\n",
       " ('helpdesk', 3010),\n",
       " ('zother', 2973),\n",
       " ('computer', 2950),\n",
       " ('username', 2723),\n",
       " ('access', 2596),\n",
       " ('mouse', 2448),\n",
       " ('full', 2387),\n",
       " ('controller', 2228),\n",
       " ('ap', 2215),\n",
       " ('associate', 2206),\n",
       " ('work', 2198),\n",
       " ('xl', 2182),\n",
       " ('rt', 2171),\n",
       " ('kyocera', 2137),\n",
       " ('job', 2054),\n",
       " ('ii', 1976),\n",
       " ('call', 1966),\n",
       " ('duo', 1859),\n",
       " ('wow', 1831),\n",
       " ('mft', 1817),\n",
       " ('port', 1727)]"
      ]
     },
     "execution_count": 96,
     "metadata": {},
     "output_type": "execute_result"
    }
   ],
   "source": [
    "fdist.most_common(50)"
   ]
  },
  {
   "cell_type": "code",
   "execution_count": 86,
   "metadata": {},
   "outputs": [],
   "source": [
    "df['Terms'] = normalized[0]\n",
    "df['IPs'] = normalized[1]"
   ]
  },
  {
   "cell_type": "code",
   "execution_count": 87,
   "metadata": {},
   "outputs": [
    {
     "data": {
      "text/plain": [
       "0    phx-vapp-689.chw.edu\n",
       "1                        \n",
       "2            PHX-VAPP-408\n",
       "3                        \n",
       "4                        \n",
       "5                        \n",
       "6                        \n",
       "7           10.203.212.24\n",
       "8    phx-vapp-842.chw.edu\n",
       "9                        \n",
       "Name: IPs, dtype: object"
      ]
     },
     "execution_count": 87,
     "metadata": {},
     "output_type": "execute_result"
    }
   ],
   "source": [
    "df['IPs'][:10]"
   ]
  },
  {
   "cell_type": "code",
   "execution_count": 88,
   "metadata": {},
   "outputs": [],
   "source": [
    "# import re\n",
    "\n",
    "# print(re.split('[:\\' ]', '\\'phx-vapp-689.chw.edu\\': Utilization is \\'85.2\\'. Threshold is set to \\'Disk/File System/{C}/percent full >= 85\\''))\n",
    "\n",
    "# ci_pattern = re.compile(r'([A-Za-z0-9]{2,}[-.]{1,1}){2,6}([A-Za-z0-9]*)')\n",
    "\n",
    "# print(ci_pattern.match('phx-vapp-238.chw.edu'))\n",
    "# print(ci_pattern.match('CPU Utilization is '))\n",
    "# print(ci_pattern.match('85.2'))\n",
    "# print(ci_pattern.match('10.250.243.2'))\n",
    "# print(ci_pattern.match('192.168.2.85)'))\n",
    "# test = pd.DataFrame({'strings': ['...', 'a(b$c']})\n",
    "# test.strings.str.replace('[^a-zA-Z ]', ' ')\n",
    "\n",
    "# print('This is a test in spite.'.split())\n",
    "# alpha = re.compile(r'[A-Za-z]*$')\n",
    "\n",
    "# if alpha.match('999'):\n",
    "#     print('matched')\n",
    "\n",
    "# dk = pd.DataFrame({'sentences': ['This is a very MS4 ABCD901 abc.xyz.109.01 good site. I will recommend it to others.', 'Can you please give me a call at 9983938428. have issues with the listings.', 'good work! keep it up']})\n",
    "# dk['tokenized_sents'] = dk['sentences'].apply(lambda x: ' '.join(word for word in word_tokenize(x) if alpha.match(word)))\n",
    "\n",
    "# print(dk['tokenized_sents'])"
   ]
  },
  {
   "cell_type": "code",
   "execution_count": 13,
   "metadata": {},
   "outputs": [],
   "source": [
    "# define a tokenizer which returns the set of tokens in the text that it is passed\n",
    "\"\"\"\n",
    "def tokenize_only(text):\n",
    "    # tokenize by  word \n",
    "    tokens = [word.lower() for word in nltk.word_tokenize(text) ]\n",
    "    filtered_tokens = []\n",
    "    # filter out any tokens not containing letters (e.g., numeric tokens, raw punctuation)\n",
    "    for token in tokens:\n",
    "        if re.search('[a-zA-Z]', token):\n",
    "            filtered_tokens.append(token)\n",
    "    return filtered_tokens\n",
    "\"\"\"    "
   ]
  },
  {
   "cell_type": "code",
   "execution_count": 89,
   "metadata": {},
   "outputs": [
    {
     "name": "stderr",
     "output_type": "stream",
     "text": [
      "/Library/Frameworks/Python.framework/Versions/3.7/lib/python3.7/site-packages/sklearn/feature_extraction/text.py:300: UserWarning: Your stop_words may be inconsistent with your preprocessing. Tokenizing the stop words generated tokens [\"'d\", \"'ll\", \"'re\", \"'s\", \"'ve\", 'could', 'might', 'must', \"n't\", 'need', 'sha', 'wo', 'would'] not in stop_words.\n",
      "  'stop_words.' % sorted(inconsistent))\n"
     ]
    },
    {
     "name": "stdout",
     "output_type": "stream",
     "text": [
      "CPU times: user 12 s, sys: 76.1 ms, total: 12.1 s\n",
      "Wall time: 12.1 s\n",
      "(95373, 10000)\n"
     ]
    }
   ],
   "source": [
    "from sklearn.feature_extraction.text import TfidfVectorizer\n",
    "\n",
    "# tfidf_vectorizer = TfidfVectorizer(max_features=10000, max_df=0.8, min_df=0.0005,                                  \n",
    "#                                   use_idf=True, tokenizer=word_tokenize, ngram_range=(1,3))\n",
    "\n",
    "tfidf_vectorizer = TfidfVectorizer(max_features = 10000,                                  \n",
    "                                  use_idf = True, tokenizer = word_tokenize, stop_words = stop, ngram_range = (1,3))\n",
    "%time tfidf_matrix = tfidf_vectorizer.fit_transform(df['Terms'].values.astype('U'))\n",
    "\n",
    "print(tfidf_matrix.shape)"
   ]
  },
  {
   "cell_type": "code",
   "execution_count": 90,
   "metadata": {},
   "outputs": [
    {
     "name": "stdout",
     "output_type": "stream",
     "text": [
      "['able time boot', 'able turn', 'able use', 'able user', 'able user id', 'able view', 'able work', 'able work issue', 'abs', 'abs midas', 'abs midas socket', 'abstract', 'ac', 'acc', 'acc lock', 'acc resolve', 'accelerator', 'accept', 'accept nup', 'access', 'access access', 'access account', 'access admission', 'access admission account', 'access application', 'access ask', 'access cerner', 'access code', 'access computer', 'access course', 'access deny', 'access deny error', 'access dev', 'access dev id', 'access device', 'access device id', 'access devid', 'access dh', 'access dh able', 'access dh need', 'access dh request', 'access dh unable', 'access dignity', 'access dignity health', 'access dignityhealth', 'access drive', 'access duo', 'access email', 'access email home', 'access error', 'access error communication', 'access file', 'access first', 'access first time', 'access get', 'access home', 'access host', 'access host ipaddress', 'access icon', 'access id', 'access ii', 'access internet', 'access ip', 'access issue', 'access issue resolve', 'access journey', 'access list', 'access list pal', 'access need', 'access network', 'access nfuse', 'access outlook', 'access owa', 'access patient', 'access program', 'access provide', 'access remotely', 'access request', 'access request adh', 'access require', 'access share', 'access take', 'access take remote', 'access total', 'access total reward', 'access transaction', 'access transaction fail', 'access unable', 'access user', 'access user id', 'access user name', 'access userid', 'access username', 'access vpn', 'access website', 'accessdh', 'accessdh unable', 'accessible', 'accession', 'accidentally']\n"
     ]
    }
   ],
   "source": [
    "terms = tfidf_vectorizer.get_feature_names()\n",
    "print(terms[100:200])"
   ]
  },
  {
   "cell_type": "code",
   "execution_count": 91,
   "metadata": {},
   "outputs": [],
   "source": [
    "\n",
    "# using elbow method to find optimum number of clusters - start with 30 clusters\n",
    "\n",
    "# from sklearn.cluster import KMeans\n",
    "# wcss = []\n",
    "# for i in range(1, 31):\n",
    "#     km = KMeans(n_clusters = i, init = 'k-means++', max_iter = 300, n_init = 10, random_state = 1)\n",
    "#     km.fit(tfidf_matrix)\n",
    "#     wcss.append(km.inertia_)\n",
    "    \n",
    "# plt.plot(range(1,31), wcss)\n",
    "# plt.title('The Elbow Method')\n",
    "# plt.xlabel('Number of Clusters')\n",
    "# plt.ylabel('WCSS')\n",
    "# plt.show()"
   ]
  },
  {
   "cell_type": "code",
   "execution_count": 92,
   "metadata": {},
   "outputs": [
    {
     "name": "stdout",
     "output_type": "stream",
     "text": [
      "CPU times: user 6min 5s, sys: 18.2 s, total: 6min 23s\n",
      "Wall time: 4min 57s\n"
     ]
    }
   ],
   "source": [
    "# run kmeans \n",
    "# from sklearn.cluster import MiniBatchKMeans\n",
    "num_clusters = 30\n",
    "\n",
    "km = KMeans(n_clusters = num_clusters, init = 'k-means++', max_iter = 300, n_init = 10, random_state = 1)\n",
    "    \n",
    "# km = MiniBatchKMeans(n_clusters = num_clusters, init = 'k-means++', n_init = 3, init_size = 300, batch_size = 100, random_state = 1)\n",
    "%time km.fit(tfidf_matrix)\n",
    "clusters = km.labels_.tolist()"
   ]
  },
  {
   "cell_type": "code",
   "execution_count": 93,
   "metadata": {},
   "outputs": [],
   "source": [
    "# Save cluster in pickle file for future use\n",
    "# import pickle\n",
    "\n",
    "# pickle.dump(km, open('pkl/km_1.pkl', 'wb'))"
   ]
  },
  {
   "cell_type": "code",
   "execution_count": 94,
   "metadata": {},
   "outputs": [
    {
     "name": "stdout",
     "output_type": "stream",
     "text": [
      "Cluster 0: able, login, able login, password, reset, network, hduv, resolve, network able, user, password reset, account, issue resolve, login issue, reset password, need password, userid, issue, need, login issue resolve,\n",
      "Cluster 1: network account lock, account lock, lock, network account, account, network, account lock username, lock username, username, account lock userid, lock userid, userid, account lock issue, lock issue, useranme, issue, lock id, password id, eminnick, lock frequently,\n",
      "Cluster 2: database, backup overdue, overdue, backup, fingerprint database, fingerprint, database backup overdue, database backup, fingerprint database backup, log backup overdue, database log backup, log backup, database log, log, fingerprint database log, vault store database, store database, vault store, store, vault,\n",
      "Cluster 3: port status problem, port status, status problem, problem, port, status, master port status, master port, master, security, outside, att, flowcast password, fob, flowcast able, folder dev, folder, flowcast unable, fo, flowcast unable login,\n",
      "Cluster 4: cpu utilization threshold, cpu utilization, cpu, utilization threshold set, threshold set, utilization threshold, utilization, set, threshold, flowcast unable, folder dev id, folder dev, folder, fob, fo, flowcast unable login, zother standard application, flowcast sac unable, folder miss, flowcast password reset,\n",
      "Cluster 5: ii, ii user, ii user id, ii issue, ii issue resolve, id, issue resolve, user id, resolve, user, ii dev, password reset ii, reset ii, reset ii user, ii dev id, id ii, ii unable, id ii issue, issue, user id ii,\n",
      "Cluster 6: phone, phone phone, phone phone issue, phone issue, issue, ag, ag phone, work, swap, room, phone issue phone, issue phone, issue need, phone work, line, test, vm, add, pager, need,\n",
      "Cluster 7: job complete exit, active job complete, active job, complete exit, complete exit status, job complete, exit status, exit, active, complete, job, status, folder dev id, folder dev, folder miss, folders, follow, zother standard application, folder, follow file,\n",
      "Cluster 8: computer issue, computer, desktop, laptop computer, desktop laptop computer, desktop laptop, laptop computer issue, helpdesk desktop laptop, helpdesk desktop, desktop computer issue, computer issue helpdesk, issue helpdesk desktop, zother desktop, zother desktop computer, desktop computer, issue, laptop, helpdesk, issue helpdesk, zother,\n",
      "Cluster 9: password reset, network password, network password reset, password, reset, network, password reset username, reset username, username, reset require username, password reset require, reset require, require username, require, nt user, nt, user, password reset user, reset user, network network,\n",
      "Cluster 10: ap associate, associate controller, ap associate controller, ap, associate, controller, master ap, master ap associate, master, recur, tac, follow, folders, folder miss, folder dev id, folder dev, zother standard application, folder, fo, flowcast unable login,\n",
      "Cluster 11: clinical application issue, clinical application, clinical, application issue, application, helpdesk clinical application, helpdesk clinical, issue helpdesk clinical, zother clinical application, zother clinical, issue, application issue helpdesk, helpdesk, issue helpdesk, zother, careb, sr, pending, visit, header,\n",
      "Cluster 12: pc monitor keyboard, monitor keyboard mouse, monitor keyboard, pc monitor, keyboard mouse, mouse, keyboard, pc, monitor, keyboard mouse pc, mouse pc, mouse pc monitor, keyboard mouse issue, mouse issue, issue, rm, turn, work, nurse, room,\n",
      "Cluster 13: amcore, amcore date, notification text amcore, text amcore, text amcore date, date, notification text, text, notification, workstation, send, update, pending, verification, user, observation, ryan, rename, bay, elizabeth,\n",
      "Cluster 14: xl device alarm, xl device, device alarm, rt xl device, alarm, xl, rt, rt xl, device, rm xl device, rm xl, rm, rt rm, rt rm xl, master, change, font size, flowcast account unlock, flowcast account, flowcast able,\n",
      "Cluster 15: syslog critical, syslog, critical, master syslog critical, master syslog, master, recur, memory, fail, form, form custome, flowcast account unlock, format, flowcast password, flowcast password reset, flowcast sac, flowcast sac unable, flowcast unable, flowcast unable login, form powerforms ad,\n",
      "Cluster 16: peer, peer bgp, peer bgp peer, establish, bgp peer establish, peer establish, bgp peer, bgp, master peer, master peer bgp, master, att, cl, ticket, tac, maintenance, change, new, external storage, folsom,\n",
      "Cluster 17: desktop issue, desktop, issue, issue desktop issue, desktop issue desktop, issue desktop, scanner, room work, room, slowness, function, dictation, wow, computer, load, log, susan, pc, doc, work,\n",
      "Cluster 18: scanner, scanner work, scanner issue, work, scan, issue scanner, scanner issue scanner, issue scanner issue, scanner unable, unable scan, scanner unable scan, issue, id, scanner scan, unable, honeywell, wow, honeywell scanner, room, fujitsu,\n",
      "Cluster 19: login, login username, unable login username, unable login, username, unable, network unable login, network unable, network, hold kb, kb, hold, login hold, login hold kb, able login hold, hold kb yes, kb yes, yes, able login, able,\n",
      "Cluster 20: threshold set full, set full, full, utilization threshold set, threshold set, utilization threshold, utilization, set, threshold, zother standard application, folder dev, folder, fob, fo, flowcast sac unable, flowcast unable login, flowcast unable, folder miss, flowcast sac, flowcast password reset,\n",
      "Cluster 21: interface, imagesgv, interface issue, cerner, cerner interface, process, issue, icims, name, pass, message, ecisa, alarm, powerchart, schedule, mft interface, hub, bad, validation, data,\n",
      "Cluster 22: printer issue, printer, kyocera printer issue, kyocera printer, kyocera, issue, printer issue kyocera, issue kyocera printer, issue kyocera, general printer, general printer issue, general, label printer issue, label printer, label, issue general, printer issue general, issue general printer, issue label, printer issue label,\n",
      "Cluster 23: unable login user, login user, login user id, unable login, user id, login, user, id, unable, account, network account, network, account unable login, account unable, network account unable, customer unable login, account customer unable, network account customer, customer unable, account lock unable,\n",
      "Cluster 24: business application, business application issue, business, application issue, application, helpdesk business, helpdesk business application, issue helpdesk business, zother business application, zother business, issue, application issue helpdesk, helpdesk, issue helpdesk, zother, performance, formfast, time clock, clock, pending,\n",
      "Cluster 25: host ipaddress listen, ipaddress listen, listen, ipaddress, host ipaddress, host, ipaddress listen port, listen port, port, port adt, listen port adt, adt, provider portal, provider, portal, portal host ipaddress, provider portal host, portal host, order, port adt allergy,\n",
      "Cluster 26: unable, id, issue, cerner, error, user, need, device, access, printer, application, dev, work, network, login, dev id, computer, call, able, duo,\n",
      "Cluster 27: packet good percentage, ping packet, additional info, see additional, see additional info, packet good, good percentage, good percentage see, additional info time, info time, ping packet good, percentage see additional, percentage see, percentage, packet, additional, good, ping, info, see,\n",
      "Cluster 28: hostname, title, run slow, slow, run, laptop, folder dev, folder, fob, fo, flowcast unable login, zother standard application, flowcast unable, folder dev id, flowcast sac, flowcast password reset, flowcast password, flowcast account unlock, flowcast account, flowcast able,\n",
      "Cluster 29: account, network account, network, lock, lock user, account lock user, account lock, user, lock user id, user id, unlock, id, unlock account, account issue, login, network account lock, network account issue, issue, account login, unable login account,\n",
      "(30, 2)\n"
     ]
    }
   ],
   "source": [
    "# Create mapping of ngram features into clusters, \n",
    "# save into terms map object with key as cluster name (first feature in each cluster)\n",
    "# terms = top 20 ngram features\n",
    "\n",
    "order_centroids = km.cluster_centers_.argsort()[:, ::-1]\n",
    "terms = tfidf_vectorizer.get_feature_names()\n",
    "terms_map = pd.DataFrame(index=np.arange(0, num_clusters),columns=['terms','key'])    \n",
    "for i in range(num_clusters):\n",
    "    print(\"Cluster %d:\" % i, end='')\n",
    "    #terms_map['key'] = i\n",
    "    list = [] \n",
    "    for ind in order_centroids[i, :20]:\n",
    "        print(' %s' % terms[ind], end=',')\n",
    "        list.append(terms[ind])\n",
    "    for ind2 in order_centroids[i, :1]:\n",
    "        terms_map.key.loc[i] = terms[ind2]\n",
    "\n",
    "    str = ', '.join(list) \n",
    "    terms_map.terms.loc[i] = str\n",
    "    print()\n",
    "print(terms_map.shape)"
   ]
  },
  {
   "cell_type": "code",
   "execution_count": null,
   "metadata": {},
   "outputs": [],
   "source": []
  }
 ],
 "metadata": {
  "kernelspec": {
   "display_name": "Python 3",
   "language": "python",
   "name": "python3"
  },
  "language_info": {
   "codemirror_mode": {
    "name": "ipython",
    "version": 3
   },
   "file_extension": ".py",
   "mimetype": "text/x-python",
   "name": "python",
   "nbconvert_exporter": "python",
   "pygments_lexer": "ipython3",
   "version": "3.6.6"
  }
 },
 "nbformat": 4,
 "nbformat_minor": 2
}
