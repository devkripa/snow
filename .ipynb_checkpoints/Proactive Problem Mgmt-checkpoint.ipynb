{
 "cells": [
  {
   "cell_type": "code",
   "execution_count": 1,
   "metadata": {},
   "outputs": [],
   "source": [
    "import numpy as np\n",
    "import matplotlib.pyplot as plt\n",
    "import pandas as pd\n",
    "# import os\n",
    "# import codecs"
   ]
  },
  {
   "cell_type": "code",
   "execution_count": 2,
   "metadata": {},
   "outputs": [],
   "source": [
    "target_url = (\"/Users/devkrroy/Dev/Projects/snow/data/export3.xlsx\")\n",
    "# target_url = (\"C:/Dev/Projects/snow/data/export3.xlsx\")"
   ]
  },
  {
   "cell_type": "code",
   "execution_count": 3,
   "metadata": {},
   "outputs": [],
   "source": [
    "df = pd.read_excel(target_url)"
   ]
  },
  {
   "cell_type": "code",
   "execution_count": 4,
   "metadata": {},
   "outputs": [
    {
     "name": "stdout",
     "output_type": "stream",
     "text": [
      "<class 'pandas.core.frame.DataFrame'>\n",
      "RangeIndex: 95373 entries, 0 to 95372\n",
      "Data columns (total 28 columns):\n",
      "Number                95373 non-null object\n",
      "Assignment_group      95373 non-null object\n",
      "Priority              95373 non-null object\n",
      "State                 95373 non-null object\n",
      "Category              93947 non-null object\n",
      "Subcategory           61328 non-null object\n",
      "Severity              95373 non-null object\n",
      "Closure_CI            94492 non-null object\n",
      "Location              95079 non-null object\n",
      "Close_code            94559 non-null object\n",
      "Configuration_item    95373 non-null object\n",
      "Child_Incidents       95373 non-null int64\n",
      "Contact_type          95373 non-null object\n",
      "Duration              95373 non-null int64\n",
      "Impact                95373 non-null object\n",
      "Short_description     95373 non-null object\n",
      "Created               95373 non-null datetime64[ns]\n",
      "dates                 95373 non-null datetime64[ns]\n",
      "date                  95373 non-null datetime64[ns]\n",
      "day                   95373 non-null object\n",
      "month                 95373 non-null object\n",
      "dom                   95373 non-null int64\n",
      "week                  95373 non-null int64\n",
      "week2                 95373 non-null int64\n",
      "cluster               95373 non-null int64\n",
      "cluster1              95373 non-null int64\n",
      "cluster_name1         95373 non-null object\n",
      "cluster_name          95373 non-null object\n",
      "dtypes: datetime64[ns](3), int64(7), object(18)\n",
      "memory usage: 20.4+ MB\n",
      "['Number' 'Assignment_group' 'Priority' 'State' 'Category' 'Subcategory'\n",
      " 'Severity' 'Closure_CI' 'Location' 'Close_code' 'Configuration_item'\n",
      " 'Child_Incidents' 'Contact_type' 'Duration' 'Impact' 'Short_description'\n",
      " 'Created' 'dates' 'date' 'day' 'month' 'dom' 'week' 'week2' 'cluster'\n",
      " 'cluster1' 'cluster_name1' 'cluster_name']\n"
     ]
    }
   ],
   "source": [
    "df.info()\n",
    "print(df.columns.values)"
   ]
  },
  {
   "cell_type": "code",
   "execution_count": 5,
   "metadata": {},
   "outputs": [
    {
     "data": {
      "text/html": [
       "<div>\n",
       "<style scoped>\n",
       "    .dataframe tbody tr th:only-of-type {\n",
       "        vertical-align: middle;\n",
       "    }\n",
       "\n",
       "    .dataframe tbody tr th {\n",
       "        vertical-align: top;\n",
       "    }\n",
       "\n",
       "    .dataframe thead th {\n",
       "        text-align: right;\n",
       "    }\n",
       "</style>\n",
       "<table border=\"1\" class=\"dataframe\">\n",
       "  <thead>\n",
       "    <tr style=\"text-align: right;\">\n",
       "      <th></th>\n",
       "      <th>Number</th>\n",
       "      <th>Assignment_group</th>\n",
       "      <th>Priority</th>\n",
       "      <th>State</th>\n",
       "      <th>Category</th>\n",
       "      <th>Subcategory</th>\n",
       "      <th>Severity</th>\n",
       "      <th>Closure_CI</th>\n",
       "      <th>Location</th>\n",
       "      <th>Close_code</th>\n",
       "      <th>...</th>\n",
       "      <th>date</th>\n",
       "      <th>day</th>\n",
       "      <th>month</th>\n",
       "      <th>dom</th>\n",
       "      <th>week</th>\n",
       "      <th>week2</th>\n",
       "      <th>cluster</th>\n",
       "      <th>cluster1</th>\n",
       "      <th>cluster_name1</th>\n",
       "      <th>cluster_name</th>\n",
       "    </tr>\n",
       "  </thead>\n",
       "  <tbody>\n",
       "    <tr>\n",
       "      <th>0</th>\n",
       "      <td>INC0406604</td>\n",
       "      <td>DHE-Command Center</td>\n",
       "      <td>4 - Low</td>\n",
       "      <td>Closed</td>\n",
       "      <td>Server</td>\n",
       "      <td>Windows</td>\n",
       "      <td>3 - Low</td>\n",
       "      <td>phx-vapp-689</td>\n",
       "      <td>Corporate Office - Phoenix 1</td>\n",
       "      <td>Resolved by Event</td>\n",
       "      <td>...</td>\n",
       "      <td>2018-09-01</td>\n",
       "      <td>Saturday</td>\n",
       "      <td>September</td>\n",
       "      <td>1</td>\n",
       "      <td>1</td>\n",
       "      <td>1</td>\n",
       "      <td>1</td>\n",
       "      <td>16</td>\n",
       "      <td>volume space</td>\n",
       "      <td>threshold set disk</td>\n",
       "    </tr>\n",
       "    <tr>\n",
       "      <th>1</th>\n",
       "      <td>INC0406605</td>\n",
       "      <td>DH-Enterprise IT Service Cntr</td>\n",
       "      <td>4 - Low</td>\n",
       "      <td>Closed</td>\n",
       "      <td>Security</td>\n",
       "      <td>NaN</td>\n",
       "      <td>3 - Low</td>\n",
       "      <td>Network Account Lock</td>\n",
       "      <td>St Mary's Medical Center San Francisco (SMMC-SF)</td>\n",
       "      <td>Account Unlock</td>\n",
       "      <td>...</td>\n",
       "      <td>2018-09-01</td>\n",
       "      <td>Saturday</td>\n",
       "      <td>September</td>\n",
       "      <td>1</td>\n",
       "      <td>1</td>\n",
       "      <td>1</td>\n",
       "      <td>48</td>\n",
       "      <td>47</td>\n",
       "      <td>login</td>\n",
       "      <td>login</td>\n",
       "    </tr>\n",
       "    <tr>\n",
       "      <th>2</th>\n",
       "      <td>INC0406606</td>\n",
       "      <td>DHE-RCM-AppOp-Applications</td>\n",
       "      <td>3 - Moderate</td>\n",
       "      <td>Closed</td>\n",
       "      <td>Application</td>\n",
       "      <td>Revenue Cycle</td>\n",
       "      <td>3 - Low</td>\n",
       "      <td>Soarian DM</td>\n",
       "      <td>Corporate Office - Phoenix 1</td>\n",
       "      <td>Resolved by Event</td>\n",
       "      <td>...</td>\n",
       "      <td>2018-09-01</td>\n",
       "      <td>Saturday</td>\n",
       "      <td>September</td>\n",
       "      <td>1</td>\n",
       "      <td>1</td>\n",
       "      <td>1</td>\n",
       "      <td>44</td>\n",
       "      <td>7</td>\n",
       "      <td>login</td>\n",
       "      <td>cerner</td>\n",
       "    </tr>\n",
       "    <tr>\n",
       "      <th>3</th>\n",
       "      <td>INC0406607</td>\n",
       "      <td>DH-Enterprise IT Service Cntr</td>\n",
       "      <td>4 - Low</td>\n",
       "      <td>Closed</td>\n",
       "      <td>Security</td>\n",
       "      <td>NaN</td>\n",
       "      <td>3 - Low</td>\n",
       "      <td>Network Account Issue</td>\n",
       "      <td>Bruceville Terrace</td>\n",
       "      <td>Password Reset</td>\n",
       "      <td>...</td>\n",
       "      <td>2018-09-01</td>\n",
       "      <td>Saturday</td>\n",
       "      <td>September</td>\n",
       "      <td>1</td>\n",
       "      <td>1</td>\n",
       "      <td>1</td>\n",
       "      <td>4</td>\n",
       "      <td>4</td>\n",
       "      <td>login</td>\n",
       "      <td>login</td>\n",
       "    </tr>\n",
       "    <tr>\n",
       "      <th>4</th>\n",
       "      <td>INC0406608</td>\n",
       "      <td>DH-Enterprise IT Service Cntr</td>\n",
       "      <td>4 - Low</td>\n",
       "      <td>Closed</td>\n",
       "      <td>Application</td>\n",
       "      <td>Clinical</td>\n",
       "      <td>3 - Low</td>\n",
       "      <td>Clairvia</td>\n",
       "      <td>St Mary's Medical Center San Francisco (SMMC-SF)</td>\n",
       "      <td>Password Reset</td>\n",
       "      <td>...</td>\n",
       "      <td>2018-09-01</td>\n",
       "      <td>Saturday</td>\n",
       "      <td>September</td>\n",
       "      <td>1</td>\n",
       "      <td>1</td>\n",
       "      <td>1</td>\n",
       "      <td>18</td>\n",
       "      <td>36</td>\n",
       "      <td>login</td>\n",
       "      <td>login</td>\n",
       "    </tr>\n",
       "  </tbody>\n",
       "</table>\n",
       "<p>5 rows × 28 columns</p>\n",
       "</div>"
      ],
      "text/plain": [
       "       Number               Assignment_group      Priority   State  \\\n",
       "0  INC0406604             DHE-Command Center       4 - Low  Closed   \n",
       "1  INC0406605  DH-Enterprise IT Service Cntr       4 - Low  Closed   \n",
       "2  INC0406606     DHE-RCM-AppOp-Applications  3 - Moderate  Closed   \n",
       "3  INC0406607  DH-Enterprise IT Service Cntr       4 - Low  Closed   \n",
       "4  INC0406608  DH-Enterprise IT Service Cntr       4 - Low  Closed   \n",
       "\n",
       "      Category    Subcategory Severity             Closure_CI  \\\n",
       "0       Server        Windows  3 - Low           phx-vapp-689   \n",
       "1     Security            NaN  3 - Low   Network Account Lock   \n",
       "2  Application  Revenue Cycle  3 - Low             Soarian DM   \n",
       "3     Security            NaN  3 - Low  Network Account Issue   \n",
       "4  Application       Clinical  3 - Low               Clairvia   \n",
       "\n",
       "                                           Location         Close_code  \\\n",
       "0                      Corporate Office - Phoenix 1  Resolved by Event   \n",
       "1  St Mary's Medical Center San Francisco (SMMC-SF)     Account Unlock   \n",
       "2                      Corporate Office - Phoenix 1  Resolved by Event   \n",
       "3                                Bruceville Terrace     Password Reset   \n",
       "4  St Mary's Medical Center San Francisco (SMMC-SF)     Password Reset   \n",
       "\n",
       "          ...               date       day      month  dom week week2 cluster  \\\n",
       "0         ...         2018-09-01  Saturday  September    1    1     1       1   \n",
       "1         ...         2018-09-01  Saturday  September    1    1     1      48   \n",
       "2         ...         2018-09-01  Saturday  September    1    1     1      44   \n",
       "3         ...         2018-09-01  Saturday  September    1    1     1       4   \n",
       "4         ...         2018-09-01  Saturday  September    1    1     1      18   \n",
       "\n",
       "  cluster1 cluster_name1        cluster_name  \n",
       "0       16  volume space  threshold set disk  \n",
       "1       47         login               login  \n",
       "2        7         login              cerner  \n",
       "3        4         login               login  \n",
       "4       36         login               login  \n",
       "\n",
       "[5 rows x 28 columns]"
      ]
     },
     "execution_count": 5,
     "metadata": {},
     "output_type": "execute_result"
    }
   ],
   "source": [
    "df.head()"
   ]
  },
  {
   "cell_type": "code",
   "execution_count": 6,
   "metadata": {},
   "outputs": [
    {
     "data": {
      "text/plain": [
       "<matplotlib.axes._subplots.AxesSubplot at 0x115e90f98>"
      ]
     },
     "execution_count": 6,
     "metadata": {},
     "output_type": "execute_result"
    },
    {
     "data": {
      "image/png": "[encoded data removed]",
      "text/plain": [
       "<Figure size 432x288 with 1 Axes>"
      ]
     },
     "metadata": {
      "needs_background": "light"
     },
     "output_type": "display_data"
    }
   ],
   "source": [
    "# plot few charts to understand the data\n",
    "\n",
    "# Category by count - this should help understand \"Number of Clusters\" we should have\n",
    "\n",
    "top_categories_df = df['Category'].value_counts()[:20]\n",
    "top_categories_df.plot.bar(x = 'Category', y = 'Counts')\n"
   ]
  },
  {
   "cell_type": "code",
   "execution_count": 7,
   "metadata": {},
   "outputs": [
    {
     "data": {
      "text/plain": [
       "<matplotlib.axes._subplots.AxesSubplot at 0x1166a3c50>"
      ]
     },
     "execution_count": 7,
     "metadata": {},
     "output_type": "execute_result"
    },
    {
     "data": {
      "image/png": "[encoded data removed]",
      "text/plain": [
       "<Figure size 432x288 with 1 Axes>"
      ]
     },
     "metadata": {
      "needs_background": "light"
     },
     "output_type": "display_data"
    }
   ],
   "source": [
    "# Close_code by count \n",
    "\n",
    "top_close_code_df = df['Close_code'].value_counts()[:20]\n",
    "top_close_code_df.plot.bar(x = 'Close_code', y = 'Counts')"
   ]
  },
  {
   "cell_type": "code",
   "execution_count": 8,
   "metadata": {},
   "outputs": [],
   "source": [
    "# based on the 2 charts above we will go with 30 - 50 clusters of data"
   ]
  },
  {
   "cell_type": "code",
   "execution_count": 9,
   "metadata": {},
   "outputs": [],
   "source": [
    "# identify the cols needed\n",
    "cols = ['Number', 'Assignment_group', 'Priority', 'State', 'Category',\n",
    "       'Subcategory', 'Severity', 'Closure_CI', 'Location', 'Close_code',\n",
    "       'Configuration_item', 'Child_Incidents', 'Contact_type',\n",
    "       'Duration', 'Impact', 'Short_description', 'Created']\n",
    "df = df[cols]"
   ]
  },
  {
   "cell_type": "code",
   "execution_count": 10,
   "metadata": {},
   "outputs": [
    {
     "name": "stdout",
     "output_type": "stream",
     "text": [
      "Shape of the modified dataframe  (95373, 17)\n"
     ]
    }
   ],
   "source": [
    "# use less rows for analysis, remove later\n",
    "# df = df.head(10000)\n",
    "print('Shape of the modified dataframe ', df.shape)"
   ]
  },
  {
   "cell_type": "code",
   "execution_count": 11,
   "metadata": {},
   "outputs": [
    {
     "data": {
      "text/html": [
       "<div>\n",
       "<style scoped>\n",
       "    .dataframe tbody tr th:only-of-type {\n",
       "        vertical-align: middle;\n",
       "    }\n",
       "\n",
       "    .dataframe tbody tr th {\n",
       "        vertical-align: top;\n",
       "    }\n",
       "\n",
       "    .dataframe thead th {\n",
       "        text-align: right;\n",
       "    }\n",
       "</style>\n",
       "<table border=\"1\" class=\"dataframe\">\n",
       "  <thead>\n",
       "    <tr style=\"text-align: right;\">\n",
       "      <th></th>\n",
       "      <th>Number</th>\n",
       "      <th>Assignment_group</th>\n",
       "      <th>Priority</th>\n",
       "      <th>State</th>\n",
       "      <th>Category</th>\n",
       "      <th>Subcategory</th>\n",
       "      <th>Severity</th>\n",
       "      <th>Closure_CI</th>\n",
       "      <th>Location</th>\n",
       "      <th>Close_code</th>\n",
       "      <th>Configuration_item</th>\n",
       "      <th>Child_Incidents</th>\n",
       "      <th>Contact_type</th>\n",
       "      <th>Duration</th>\n",
       "      <th>Impact</th>\n",
       "      <th>Short_description</th>\n",
       "      <th>Created</th>\n",
       "    </tr>\n",
       "  </thead>\n",
       "  <tbody>\n",
       "    <tr>\n",
       "      <th>78573</th>\n",
       "      <td>INC0502480</td>\n",
       "      <td>DH-SC-EUS NLA NrthrdgRoscoe</td>\n",
       "      <td>4 - Low</td>\n",
       "      <td>Closed</td>\n",
       "      <td>Security</td>\n",
       "      <td>NaN</td>\n",
       "      <td>3 - Low</td>\n",
       "      <td>McAfee AV, ASW or EPO</td>\n",
       "      <td>Corporate Office - Phoenix GAT</td>\n",
       "      <td>Security</td>\n",
       "      <td>McAfee AV, ASW or EPO</td>\n",
       "      <td>0</td>\n",
       "      <td>Phone</td>\n",
       "      <td>98375</td>\n",
       "      <td>No Impact</td>\n",
       "      <td>\"Notification Text: AMCORE out of Date &lt;Works...</td>\n",
       "      <td>2018-10-22 13:34:52</td>\n",
       "    </tr>\n",
       "    <tr>\n",
       "      <th>90835</th>\n",
       "      <td>INC0515090</td>\n",
       "      <td>DH-SW-EUS StRoseSanMartin</td>\n",
       "      <td>4 - Low</td>\n",
       "      <td>Closed</td>\n",
       "      <td>Security</td>\n",
       "      <td>NaN</td>\n",
       "      <td>3 - Low</td>\n",
       "      <td>McAfee Agent</td>\n",
       "      <td>Corporate Office - Phoenix GAT</td>\n",
       "      <td>Application</td>\n",
       "      <td>McAfee AV, ASW or EPO</td>\n",
       "      <td>0</td>\n",
       "      <td>Phone</td>\n",
       "      <td>680806</td>\n",
       "      <td>No Impact</td>\n",
       "      <td>\"Notification Text: AMCORE out of Date &lt;Works...</td>\n",
       "      <td>2018-10-29 13:55:41</td>\n",
       "    </tr>\n",
       "    <tr>\n",
       "      <th>90786</th>\n",
       "      <td>INC0515038</td>\n",
       "      <td>DH-SC-EUS Marian</td>\n",
       "      <td>4 - Low</td>\n",
       "      <td>Closed</td>\n",
       "      <td>Security</td>\n",
       "      <td>NaN</td>\n",
       "      <td>3 - Low</td>\n",
       "      <td>McAfee Agent</td>\n",
       "      <td>Corporate Office - Phoenix GAT</td>\n",
       "      <td>Middleware</td>\n",
       "      <td>McAfee AV, ASW or EPO</td>\n",
       "      <td>0</td>\n",
       "      <td>Phone</td>\n",
       "      <td>69495</td>\n",
       "      <td>No Impact</td>\n",
       "      <td>\"Notification Text: AMCORE out of Date &lt;Works...</td>\n",
       "      <td>2018-10-29 13:34:39</td>\n",
       "    </tr>\n",
       "    <tr>\n",
       "      <th>80023</th>\n",
       "      <td>INC0503977</td>\n",
       "      <td>DH-ClinApps HIM</td>\n",
       "      <td>4 - Low</td>\n",
       "      <td>Closed</td>\n",
       "      <td>Application</td>\n",
       "      <td>NaN</td>\n",
       "      <td>3 - Low</td>\n",
       "      <td>Cerner CPDI Kofax</td>\n",
       "      <td>Woodland Healthcare Davis</td>\n",
       "      <td>Application</td>\n",
       "      <td>Cerner Millennium Provider Doc 2015.01.19</td>\n",
       "      <td>0</td>\n",
       "      <td>Self-service</td>\n",
       "      <td>6784</td>\n",
       "      <td>Down for One IT Customer</td>\n",
       "      <td>Cerner CDI Work Queue Monitor - Not Receiving...</td>\n",
       "      <td>2018-10-23 09:19:22</td>\n",
       "    </tr>\n",
       "    <tr>\n",
       "      <th>80137</th>\n",
       "      <td>INC0504096</td>\n",
       "      <td>DH-ClinApps HIM</td>\n",
       "      <td>4 - Low</td>\n",
       "      <td>Closed</td>\n",
       "      <td>Application</td>\n",
       "      <td>NaN</td>\n",
       "      <td>3 - Low</td>\n",
       "      <td>Cerner CPDI Kofax</td>\n",
       "      <td>Dignity Health Medical Group - Stockton</td>\n",
       "      <td>Application</td>\n",
       "      <td>Cerner Millennium HIM 2015.01.19</td>\n",
       "      <td>0</td>\n",
       "      <td>Self-service</td>\n",
       "      <td>4816</td>\n",
       "      <td>Down for One IT Customer</td>\n",
       "      <td>Cerner CDI Work Queue Monitor - Not Receiving...</td>\n",
       "      <td>2018-10-23 09:51:46</td>\n",
       "    </tr>\n",
       "    <tr>\n",
       "      <th>80005</th>\n",
       "      <td>INC0503959</td>\n",
       "      <td>DH-ClinApps HIM</td>\n",
       "      <td>4 - Low</td>\n",
       "      <td>Closed</td>\n",
       "      <td>Application</td>\n",
       "      <td>NaN</td>\n",
       "      <td>3 - Low</td>\n",
       "      <td>Cerner CPDI Kofax</td>\n",
       "      <td>Methodist Hospital of Sacramento (METH)</td>\n",
       "      <td>Application</td>\n",
       "      <td>Kofax Capture v11</td>\n",
       "      <td>0</td>\n",
       "      <td>Phone</td>\n",
       "      <td>7047</td>\n",
       "      <td>No Impact</td>\n",
       "      <td>Cerner CDI Work Queue Monitor - Not Receiving...</td>\n",
       "      <td>2018-10-23 09:15:30</td>\n",
       "    </tr>\n",
       "    <tr>\n",
       "      <th>79912</th>\n",
       "      <td>INC0503842</td>\n",
       "      <td>DH-ClinApps HIM</td>\n",
       "      <td>3 - Moderate</td>\n",
       "      <td>Closed</td>\n",
       "      <td>Application</td>\n",
       "      <td>Revenue Cycle</td>\n",
       "      <td>3 - Low</td>\n",
       "      <td>Cerner CPDI Kofax</td>\n",
       "      <td>Dignity Health Medical Group-Sierra Nevada-Gra...</td>\n",
       "      <td>Application</td>\n",
       "      <td>CAREB Cerner Millennium HIM</td>\n",
       "      <td>0</td>\n",
       "      <td>Phone</td>\n",
       "      <td>27464</td>\n",
       "      <td>Degraded for One IT Customer</td>\n",
       "      <td>Cerner CDI Work Queue Monitor - Not Receiving...</td>\n",
       "      <td>2018-10-23 08:52:42</td>\n",
       "    </tr>\n",
       "    <tr>\n",
       "      <th>83772</th>\n",
       "      <td>INC0507855</td>\n",
       "      <td>DH-Enterprise IT Service Cntr</td>\n",
       "      <td>4 - Low</td>\n",
       "      <td>Closed</td>\n",
       "      <td>Security</td>\n",
       "      <td>NaN</td>\n",
       "      <td>3 - Low</td>\n",
       "      <td>DUO Security</td>\n",
       "      <td>St Rose Dominican Hospital - Siena (SRDH-S)</td>\n",
       "      <td>Access</td>\n",
       "      <td>DUO Security</td>\n",
       "      <td>0</td>\n",
       "      <td>Phone</td>\n",
       "      <td>284</td>\n",
       "      <td>No Impact</td>\n",
       "      <td>DUO Mobile/to be enrolled/guided to enroll fr...</td>\n",
       "      <td>2018-10-24 18:19:06</td>\n",
       "    </tr>\n",
       "    <tr>\n",
       "      <th>83822</th>\n",
       "      <td>INC0507905</td>\n",
       "      <td>DH-Enterprise IT Service Cntr</td>\n",
       "      <td>4 - Low</td>\n",
       "      <td>Closed</td>\n",
       "      <td>HelpDesk</td>\n",
       "      <td>FCR Password reset</td>\n",
       "      <td>3 - Low</td>\n",
       "      <td>FCR - End User Resolved</td>\n",
       "      <td>Dignity Health Emerus - Craig Ranch</td>\n",
       "      <td>Access</td>\n",
       "      <td>FCR - End User Resolved</td>\n",
       "      <td>0</td>\n",
       "      <td>Phone</td>\n",
       "      <td>227</td>\n",
       "      <td>No Impact</td>\n",
       "      <td>DUO Mobile/to be enrolled/guided to enroll fr...</td>\n",
       "      <td>2018-10-24 19:10:28</td>\n",
       "    </tr>\n",
       "    <tr>\n",
       "      <th>84101</th>\n",
       "      <td>INC0508184</td>\n",
       "      <td>DH-Enterprise IT Service Cntr</td>\n",
       "      <td>4 - Low</td>\n",
       "      <td>Closed</td>\n",
       "      <td>Security</td>\n",
       "      <td>NaN</td>\n",
       "      <td>3 - Low</td>\n",
       "      <td>DUO Security</td>\n",
       "      <td>St Joseph's Medical Center Stockton (SJMC)</td>\n",
       "      <td>Access</td>\n",
       "      <td>DUO Security</td>\n",
       "      <td>0</td>\n",
       "      <td>Phone</td>\n",
       "      <td>343</td>\n",
       "      <td>No Impact</td>\n",
       "      <td>DUO Mobile/to be enrolled/guided to enroll fr...</td>\n",
       "      <td>2018-10-24 20:38:48</td>\n",
       "    </tr>\n",
       "  </tbody>\n",
       "</table>\n",
       "</div>"
      ],
      "text/plain": [
       "           Number               Assignment_group      Priority   State  \\\n",
       "78573  INC0502480    DH-SC-EUS NLA NrthrdgRoscoe       4 - Low  Closed   \n",
       "90835  INC0515090      DH-SW-EUS StRoseSanMartin       4 - Low  Closed   \n",
       "90786  INC0515038               DH-SC-EUS Marian       4 - Low  Closed   \n",
       "80023  INC0503977                DH-ClinApps HIM       4 - Low  Closed   \n",
       "80137  INC0504096                DH-ClinApps HIM       4 - Low  Closed   \n",
       "80005  INC0503959                DH-ClinApps HIM       4 - Low  Closed   \n",
       "79912  INC0503842                DH-ClinApps HIM  3 - Moderate  Closed   \n",
       "83772  INC0507855  DH-Enterprise IT Service Cntr       4 - Low  Closed   \n",
       "83822  INC0507905  DH-Enterprise IT Service Cntr       4 - Low  Closed   \n",
       "84101  INC0508184  DH-Enterprise IT Service Cntr       4 - Low  Closed   \n",
       "\n",
       "          Category         Subcategory Severity               Closure_CI  \\\n",
       "78573     Security                 NaN  3 - Low    McAfee AV, ASW or EPO   \n",
       "90835     Security                 NaN  3 - Low             McAfee Agent   \n",
       "90786     Security                 NaN  3 - Low             McAfee Agent   \n",
       "80023  Application                 NaN  3 - Low        Cerner CPDI Kofax   \n",
       "80137  Application                 NaN  3 - Low        Cerner CPDI Kofax   \n",
       "80005  Application                 NaN  3 - Low        Cerner CPDI Kofax   \n",
       "79912  Application       Revenue Cycle  3 - Low        Cerner CPDI Kofax   \n",
       "83772     Security                 NaN  3 - Low             DUO Security   \n",
       "83822     HelpDesk  FCR Password reset  3 - Low  FCR - End User Resolved   \n",
       "84101     Security                 NaN  3 - Low             DUO Security   \n",
       "\n",
       "                                                Location   Close_code  \\\n",
       "78573                     Corporate Office - Phoenix GAT     Security   \n",
       "90835                     Corporate Office - Phoenix GAT  Application   \n",
       "90786                     Corporate Office - Phoenix GAT   Middleware   \n",
       "80023                          Woodland Healthcare Davis  Application   \n",
       "80137            Dignity Health Medical Group - Stockton  Application   \n",
       "80005            Methodist Hospital of Sacramento (METH)  Application   \n",
       "79912  Dignity Health Medical Group-Sierra Nevada-Gra...  Application   \n",
       "83772        St Rose Dominican Hospital - Siena (SRDH-S)       Access   \n",
       "83822                Dignity Health Emerus - Craig Ranch       Access   \n",
       "84101         St Joseph's Medical Center Stockton (SJMC)       Access   \n",
       "\n",
       "                              Configuration_item  Child_Incidents  \\\n",
       "78573                      McAfee AV, ASW or EPO                0   \n",
       "90835                      McAfee AV, ASW or EPO                0   \n",
       "90786                      McAfee AV, ASW or EPO                0   \n",
       "80023  Cerner Millennium Provider Doc 2015.01.19                0   \n",
       "80137           Cerner Millennium HIM 2015.01.19                0   \n",
       "80005                          Kofax Capture v11                0   \n",
       "79912                CAREB Cerner Millennium HIM                0   \n",
       "83772                               DUO Security                0   \n",
       "83822                    FCR - End User Resolved                0   \n",
       "84101                               DUO Security                0   \n",
       "\n",
       "       Contact_type  Duration                        Impact  \\\n",
       "78573         Phone     98375                     No Impact   \n",
       "90835         Phone    680806                     No Impact   \n",
       "90786         Phone     69495                     No Impact   \n",
       "80023  Self-service      6784      Down for One IT Customer   \n",
       "80137  Self-service      4816      Down for One IT Customer   \n",
       "80005         Phone      7047                     No Impact   \n",
       "79912         Phone     27464  Degraded for One IT Customer   \n",
       "83772         Phone       284                     No Impact   \n",
       "83822         Phone       227                     No Impact   \n",
       "84101         Phone       343                     No Impact   \n",
       "\n",
       "                                       Short_description             Created  \n",
       "78573   \"Notification Text: AMCORE out of Date <Works... 2018-10-22 13:34:52  \n",
       "90835   \"Notification Text: AMCORE out of Date <Works... 2018-10-29 13:55:41  \n",
       "90786   \"Notification Text: AMCORE out of Date <Works... 2018-10-29 13:34:39  \n",
       "80023   Cerner CDI Work Queue Monitor - Not Receiving... 2018-10-23 09:19:22  \n",
       "80137   Cerner CDI Work Queue Monitor - Not Receiving... 2018-10-23 09:51:46  \n",
       "80005   Cerner CDI Work Queue Monitor - Not Receiving... 2018-10-23 09:15:30  \n",
       "79912   Cerner CDI Work Queue Monitor - Not Receiving... 2018-10-23 08:52:42  \n",
       "83772   DUO Mobile/to be enrolled/guided to enroll fr... 2018-10-24 18:19:06  \n",
       "83822   DUO Mobile/to be enrolled/guided to enroll fr... 2018-10-24 19:10:28  \n",
       "84101   DUO Mobile/to be enrolled/guided to enroll fr... 2018-10-24 20:38:48  "
      ]
     },
     "execution_count": 11,
     "metadata": {},
     "output_type": "execute_result"
    }
   ],
   "source": [
    "# check for duplicate data\n",
    "df[df['Short_description'].duplicated(keep = False)].sort_values('Short_description').head(10)"
   ]
  },
  {
   "cell_type": "code",
   "execution_count": 12,
   "metadata": {},
   "outputs": [
    {
     "name": "stdout",
     "output_type": "stream",
     "text": [
      "Shape of the modified dataframe  (61556, 17)\n"
     ]
    }
   ],
   "source": [
    "# remove duplicates, we will still retain 1 row for analysis\n",
    "df = df.drop_duplicates('Short_description')\n",
    "print('Shape of the modified dataframe ', df.shape)"
   ]
  },
  {
   "cell_type": "code",
   "execution_count": 13,
   "metadata": {},
   "outputs": [
    {
     "data": {
      "text/plain": [
       "Application          15482\n",
       "End User Services    14859\n",
       "Security             11327\n",
       "Network               6114\n",
       "Server                5805\n",
       "HelpDesk              2779\n",
       "Telecom               1267\n",
       "EAI Interface         1186\n",
       "Human Resources       1022\n",
       "EAI Component          294\n",
       "Storage                117\n",
       "Facility                99\n",
       "Database                 2\n",
       "Name: Category, dtype: int64"
      ]
     },
     "execution_count": 13,
     "metadata": {},
     "output_type": "execute_result"
    }
   ],
   "source": [
    "#Filter out some categories with instances < 50 for now , remove this filter in future\n",
    "# df = df.groupby(\"Category\").filter(lambda x: len(x) > 50)\n",
    "# df = df.reset_index(drop = True)\n",
    "df.Category.value_counts()"
   ]
  },
  {
   "cell_type": "code",
   "execution_count": 14,
   "metadata": {},
   "outputs": [],
   "source": [
    "# nltk text preprocessing\n",
    "import re\n",
    "import nltk\n",
    "from nltk.corpus import stopwords, wordnet\n",
    "from nltk.stem import WordNetLemmatizer\n",
    "from nltk.tokenize import word_tokenize\n",
    "\n",
    "import contractions\n",
    "\n",
    "# from nltk.tag import pos_tag\n",
    "\n",
    "stop = stopwords.words('english')\n",
    "lemmer = WordNetLemmatizer()\n",
    "\n",
    "# extend stop words\n",
    "# words like issue, problem, resolve, fix - do not add more sense to the description and are common\n",
    "new_stopwords = ['chw','edu','phx','vapp', 'issue', 'issues', 'problem', 'problems', \n",
    "                 'resolve', 'resolved', 'fix', 'fixed']\n",
    "stop.extend(new_stopwords)\n",
    "\n",
    "# add punctuations to the stop words\n",
    "punc = ['.', ',', '\"', \"'\", '?', '!', ':', ';', '(', ')', '[', ']', '{', '}',\"%\"]\n",
    "stop.extend(punc)\n",
    "\n",
    "# remove 'not' from the stop words - not defines the issue\n",
    "# stop.remove('not')\n",
    "        \n",
    "# to be tried - apply text collocations\n",
    "\n",
    "def pre_process(text):\n",
    "        \n",
    "    # try to capture the IPs    \n",
    "    ip_pattern = re.compile(r'((-?)([A-Za-z0-9]{1,}[-.]{1,1}){2,6}([A-Za-z0-9]*))')  \n",
    "    ip = text.apply(lambda x: ' '.join(word for word in re.split('[\\': (),]', x) if ip_pattern.match(word)))\n",
    "    \n",
    "    text = text.apply(lambda x: ' '.join(word.lower() for word in x.split()))  # lower case\n",
    "       \n",
    "    text = text.apply(lambda x: ' '.join(contractions.fix(word) for word in x.split()))  # replace contractions\n",
    "    \n",
    "    # 'not able' is a common way to report issue, replace 'not able' with 'unable'\n",
    "    # also not gets removed as part of stop words\n",
    "    text = text.str.replace('not able', 'unable')\n",
    "    text = text.str.replace('user id', 'user')\n",
    "    text = text.str.replace('st johns regional medical center', 'sjrmc')\n",
    "    \n",
    "    # there are lot of places in the description where II (2 caps I) has been used as separator\n",
    "    # this gets converted to small letter (ii) with high occurance, drop these letters\n",
    "    text = text.str.replace(' ii ', ' ')  # replace with spaces\n",
    "    \n",
    "    # '/' or '\\' are usually entered to separate words, word tokenize doesn't tokenize on these\n",
    "    # replace them with spaces\n",
    "    text = text.str.replace('[\\/-]', ' ')  # replace with spaces\n",
    "    \n",
    "    # \"'d\": changes to \" would\", 'disk changes to wouldisk - unwanted contraction\n",
    "    # replace wouldisk with disk\n",
    "    text = text.str.replace('wouldisk', 'disk')  # replace with disk    \n",
    "    \n",
    "    # consider complete words that contain alpha\n",
    "    alpha = re.compile(r'([A-Za-z/\\-]*$)')\n",
    "    text = text.apply(lambda x: ' '.join(word for word in word_tokenize(x) if alpha.match(word)))\n",
    "    \n",
    "#     text = text.str.replace('[^A-Za-z ]', ' ')  # remove non words\n",
    "    \n",
    "    text = text.apply(lambda x: ' '.join([word for word in word_tokenize(x) if len(word) > 1 ]))  #length >1\n",
    "    \n",
    "    text = text.apply(lambda x: ' '.join([word for word in word_tokenize(x) if word not in set(stop)]))   #stop\n",
    "    text = text.apply(lambda x: ' '.join([lemmer.lemmatize(word, pos = 'v') for word in word_tokenize(x)]))       #lemma\n",
    "\n",
    "    return (text, ip)\n",
    "    \n",
    "normalized = pre_process(df['Short_description'])"
   ]
  },
  {
   "cell_type": "code",
   "execution_count": 15,
   "metadata": {},
   "outputs": [],
   "source": [
    "pd.options.display.max_colwidth = 100"
   ]
  },
  {
   "cell_type": "code",
   "execution_count": 16,
   "metadata": {},
   "outputs": [
    {
     "name": "stdout",
     "output_type": "stream",
     "text": [
      "0              utilization threshold set disk file system percent full\n",
      "1                                       account lock unable login user\n",
      "2                                                                     \n",
      "3                                               network password reset\n",
      "4                clairvia unable login password reset hduv do jmoyrong\n",
      "5                   network account lock unable login username jyongco\n",
      "6                          error message appear open clpdayend qrgxmsg\n",
      "7                           wow display leave monitor upside device id\n",
      "8                                        cpu utilization threshold set\n",
      "9                                            receive clpdayend qclxerr\n",
      "10                                       cpu utilization threshold set\n",
      "11                                       cpu utilization threshold set\n",
      "12           medseries tier host ipaddress listen port charge multiple\n",
      "13                                          master dsc syslog critical\n",
      "14                                                 dsc syslog critical\n",
      "15                                        app process process call run\n",
      "16                                        app process process call run\n",
      "17                                                 meditech alert high\n",
      "18    volume space nearly full warn event nas volume space nearly full\n",
      "19                                                 dsc syslog critical\n",
      "Name: Short_description, dtype: object\n"
     ]
    }
   ],
   "source": [
    "print(normalized[0][:20])"
   ]
  },
  {
   "cell_type": "code",
   "execution_count": 17,
   "metadata": {
    "scrolled": true
   },
   "outputs": [
    {
     "name": "stdout",
     "output_type": "stream",
     "text": [
      "0                phx-vapp-689.chw.edu\n",
      "1                                    \n",
      "2                        PHX-VAPP-408\n",
      "3                                    \n",
      "4                                    \n",
      "5                                    \n",
      "6                                    \n",
      "7                       10.203.212.24\n",
      "8                phx-vapp-842.chw.edu\n",
      "9                                    \n",
      "10               phx-vapp-237.chw.edu\n",
      "11               phx-vapp-238.chw.edu\n",
      "12                      -10.248.84.17\n",
      "13    CHW-as1-2central-dsc 10.1.5.100\n",
      "14     CHW-as2-2central-dsc 10.1.5.10\n",
      "15                phx-app-040.chw.edu\n",
      "16                phx-app-034.chw.edu\n",
      "17                                   \n",
      "18                    phxdc23c-nas-07\n",
      "19         CHW-as1-2west-dsc 10.1.5.6\n",
      "Name: Short_description, dtype: object\n"
     ]
    }
   ],
   "source": [
    "print(normalized[1][:20])"
   ]
  },
  {
   "cell_type": "code",
   "execution_count": 20,
   "metadata": {},
   "outputs": [
    {
     "name": "stdout",
     "output_type": "stream",
     "text": [
      "453\n"
     ]
    }
   ],
   "source": [
    "print(normalized[0].apply(lambda x: x == '').sum())"
   ]
  },
  {
   "cell_type": "code",
   "execution_count": 21,
   "metadata": {},
   "outputs": [],
   "source": [
    "# there are 459 cells with no terms, this isn't significant in total of 95373, lets live with it for now"
   ]
  },
  {
   "cell_type": "code",
   "execution_count": 22,
   "metadata": {},
   "outputs": [
    {
     "data": {
      "text/plain": [
       "0                 [utilization, threshold, set, disk, file, system, percent, full]\n",
       "1                                             [account, lock, unable, login, user]\n",
       "2                                                                               []\n",
       "3                                                       [network, password, reset]\n",
       "4                   [clairvia, unable, login, password, reset, hduv, do, jmoyrong]\n",
       "5                       [network, account, lock, unable, login, username, jyongco]\n",
       "6                               [error, message, appear, open, clpdayend, qrgxmsg]\n",
       "7                               [wow, display, leave, monitor, upside, device, id]\n",
       "8                                               [cpu, utilization, threshold, set]\n",
       "9                                                    [receive, clpdayend, qclxerr]\n",
       "10                                              [cpu, utilization, threshold, set]\n",
       "11                                              [cpu, utilization, threshold, set]\n",
       "12              [medseries, tier, host, ipaddress, listen, port, charge, multiple]\n",
       "13                                                 [master, dsc, syslog, critical]\n",
       "14                                                         [dsc, syslog, critical]\n",
       "15                                              [app, process, process, call, run]\n",
       "16                                              [app, process, process, call, run]\n",
       "17                                                         [meditech, alert, high]\n",
       "18    [volume, space, nearly, full, warn, event, nas, volume, space, nearly, full]\n",
       "19                                                         [dsc, syslog, critical]\n",
       "Name: Short_description, dtype: object"
      ]
     },
     "execution_count": 22,
     "metadata": {},
     "output_type": "execute_result"
    }
   ],
   "source": [
    "# test results using word_tokenize\n",
    "from nltk.tokenize import word_tokenize\n",
    "\n",
    "normalized[0][:20].apply(word_tokenize)"
   ]
  },
  {
   "cell_type": "code",
   "execution_count": 23,
   "metadata": {},
   "outputs": [],
   "source": [
    "# add the processed text and extracted ips to dataframe\n",
    "df['Terms'] = normalized[0]\n",
    "df['IPs'] = normalized[1]"
   ]
  },
  {
   "cell_type": "code",
   "execution_count": 24,
   "metadata": {},
   "outputs": [],
   "source": [
    "# drop the rows where 'Terms' column is spaces\n",
    "df = df[df['Terms'] != '']"
   ]
  },
  {
   "cell_type": "code",
   "execution_count": 26,
   "metadata": {},
   "outputs": [],
   "source": [
    "# this cell is just for testing regex\n",
    "# import re\n",
    "\n",
    "# print(re.split('[:\\' ]', '\\'phx-vapp-689.chw.edu\\': Utilization is \\'85.2\\'. Threshold is set to \\'Disk/File System/{C}/percent full >= 85\\''))\n",
    "\n",
    "# ip_pattern = re.compile(r'((-?)([A-Za-z0-9]{1,}[-.]{1,1}){2,6}([A-Za-z0-9]*))') \n",
    "\n",
    "# print(ip_pattern.match('phx-vapp-238.chw.edu'))\n",
    "# print(ip_pattern.match('CPU Utilization is '))\n",
    "# print(ip_pattern.match('85.2'))\n",
    "# print(ip_pattern.match('10.250.243.2'))\n",
    "# print(ip_pattern.match('-10.248.84.17'))\n",
    "# print(ip_pattern.match('192.168.2.85)'))\n",
    "# print(ip_pattern.match('10.1.5.100'))\n",
    "\n",
    "\n",
    "# test = pd.DataFrame({'strings': ['...', 'a(b$c']})\n",
    "# test.strings.str.replace('[^a-zA-Z ]', ' ')\n",
    "\n",
    "# print('This is a test in spite.'.split())\n",
    "# print(lemmer.lemmatize('acknowledgement', pos='v'))\n",
    "\n",
    "# alpha = re.compile(r'([A-Za-z/\\-]*$)')\n",
    "\n",
    "# dk = pd.DataFrame({'sentences': ['This is a very MS4 ABCD901 \\'abc.xyz.109.01\\' good site. I will recommend it to others.', \n",
    "#                                  'Can you please give me a call at 9983938428. have issues with the listings.', \n",
    "#                                  'WOW / Workstation on Wheels || WOW / Workstation on Wheels Issue',\n",
    "#                                  '\\'phx-vapp-689.chw.edu\\': Utilization is \\'85.2\\'. Threshold is set to \\'Disk/File System/{C}/percent full >= 85',\n",
    "#                                  'Clairvia/not able to login//password reset hduv done jmoyrong/issue resolved',\n",
    "#                                  'God is Great/I won a lottery.',\n",
    "#                                  'CIM_2_BAYDSC19_MSFCHGX:MSF19CHGX:MedSeries 4:TIER-2 P05:DESTINATION_REALTIME:No host at ipAddress -10.248.84.17, listening on port -21529. :Charges - Multiple t',\n",
    "#                                  'Account Lock ||  Not able to login || user id-adeperalta001',\n",
    "#                                  'good work! keep it up, couldn\\'t able to login, couldn\\'t connect']})\n",
    "\n",
    "# dk['tokenized_sents']  = dk['sentences'].apply(lambda x: ' '.join(word for word in re.split('[\\': (),]', x) if ip_pattern.match(word)))\n",
    "\n",
    "\n",
    "\n",
    "# dk['tokenized_sents'] = dk['sentences'].apply(lambda x: ' '.join(word.lower() for word in x.split()))  # lower case\n",
    "# dk['tokenized_sents'] = dk['tokenized_sents'].apply(lambda x: ' '.join(contractions.fix(word) for word in x.split()))  # replace contractions\n",
    "\n",
    "# dk['tokenized_sents'] = dk['tokenized_sents'].str.replace('not able', 'unable')\n",
    "# dk['tokenized_sents'] = dk['tokenized_sents'].str.replace('[\\/-]', ' ')  # replace them with spaces\n",
    "\n",
    "# dk['tokenized_sents'] = dk['tokenized_sents'].apply(lambda x: ' '.join(word for word in word_tokenize(x) if alpha.match(word)))\n",
    "# dk['tokenized_sents'] = dk['tokenized_sents'].apply(lambda x: ' '.join([lemmer.lemmatize(word, pos='v') for word in word_tokenize(x)]))       #lemma\n",
    "# dk['tokenized_sents'] = dk['tokenized_sents'].apply(lambda x: ' '.join([word for word in word_tokenize(x) if word not in set(stop)]))   #stop\n",
    "\n",
    "# print(dk['tokenized_sents'])"
   ]
  },
  {
   "cell_type": "code",
   "execution_count": 27,
   "metadata": {},
   "outputs": [
    {
     "data": {
      "text/plain": [
       "\"\\ndef tokenize_only(text):\\n    # tokenize by  word \\n    tokens = [word.lower() for word in nltk.word_tokenize(text) ]\\n    filtered_tokens = []\\n    # filter out any tokens not containing letters (e.g., numeric tokens, raw punctuation)\\n    for token in tokens:\\n        if re.search('[a-zA-Z]', token):\\n            filtered_tokens.append(token)\\n    return filtered_tokens\\n\""
      ]
     },
     "execution_count": 27,
     "metadata": {},
     "output_type": "execute_result"
    }
   ],
   "source": [
    "# define a tokenizer which returns the set of tokens in the text that it is passed\n",
    "\"\"\"\n",
    "def tokenize_only(text):\n",
    "    # tokenize by  word \n",
    "    tokens = [word.lower() for word in nltk.word_tokenize(text) ]\n",
    "    filtered_tokens = []\n",
    "    # filter out any tokens not containing letters (e.g., numeric tokens, raw punctuation)\n",
    "    for token in tokens:\n",
    "        if re.search('[a-zA-Z]', token):\n",
    "            filtered_tokens.append(token)\n",
    "    return filtered_tokens\n",
    "\"\"\"    "
   ]
  },
  {
   "cell_type": "code",
   "execution_count": 28,
   "metadata": {},
   "outputs": [
    {
     "name": "stderr",
     "output_type": "stream",
     "text": [
      "/Library/Frameworks/Python.framework/Versions/3.7/lib/python3.7/site-packages/sklearn/feature_extraction/text.py:300: UserWarning: Your stop_words may be inconsistent with your preprocessing. Tokenizing the stop words generated tokens [\"'d\", \"'ll\", \"'re\", \"'s\", \"'ve\", '``', 'could', 'might', 'must', \"n't\", 'need', 'sha', 'wo', 'would'] not in stop_words.\n",
      "  'stop_words.' % sorted(inconsistent))\n"
     ]
    },
    {
     "name": "stdout",
     "output_type": "stream",
     "text": [
      "CPU times: user 7.04 s, sys: 21.1 ms, total: 7.06 s\n",
      "Wall time: 7.07 s\n",
      "(61103, 5000)\n"
     ]
    }
   ],
   "source": [
    "from sklearn import feature_extraction\n",
    "from sklearn.feature_extraction.text import TfidfVectorizer\n",
    "\n",
    "# tfidf_vectorizer = TfidfVectorizer(max_features=10000, max_df=0.8, min_df=0.0005,                                  \n",
    "#                                   use_idf=True, tokenizer=word_tokenize, ngram_range=(1,3))\n",
    "\n",
    "vectorizer = TfidfVectorizer(max_features = 5000,                                  \n",
    "                                  use_idf = True, tokenizer = word_tokenize, stop_words = stop, ngram_range = (1,1))\n",
    "\n",
    "%time X = vectorizer.fit_transform(df['Terms'].values)\n",
    "\n",
    "print(X.shape)"
   ]
  },
  {
   "cell_type": "code",
   "execution_count": 29,
   "metadata": {},
   "outputs": [],
   "source": [
    "features = vectorizer.get_feature_names()\n",
    "freq = sum(X).toarray()[0]\n",
    "df_features = pd.DataFrame(freq, index = features, columns = ['frequency'])\n",
    "\n",
    "# sort the terms in descending order of frequency\n",
    "df_features.sort_values(by = ['frequency'], inplace = True, ascending = False)"
   ]
  },
  {
   "cell_type": "code",
   "execution_count": 31,
   "metadata": {},
   "outputs": [
    {
     "name": "stdout",
     "output_type": "stream",
     "text": [
      "                frequency\n",
      "miss           454.411257\n",
      "alarm          453.917865\n",
      "loc            453.785856\n",
      "associate      451.587354\n",
      "controller     447.017215\n",
      "ap             447.003470\n",
      "customer       444.182977\n",
      "outlook        429.235078\n",
      "name           428.569358\n",
      "peer           428.295462\n",
      "dept           427.411233\n",
      "communication  414.852825\n",
      "drive          404.227989\n",
      "application    401.640252\n",
      "impact         391.318092\n",
      "date           387.275056\n",
      "connect        379.935204\n",
      "get            379.289357\n",
      "laptop         376.555171\n",
      "pc             370.405473\n",
      "notification   368.882676\n",
      "text           363.963859\n",
      "screen         359.977472\n",
      "time           359.107693\n",
      "change         356.315181\n",
      "amcore         355.659324\n",
      "cpu            351.953055\n",
      "take           347.574825\n",
      "lose           345.199915\n",
      "powerchart     341.103632\n",
      "service        334.074847\n",
      "icon           333.932210\n",
      "userid         331.609243\n",
      "patient        330.848052\n",
      "ip             330.233718\n",
      "email          318.422683\n",
      "new            314.257604\n",
      "log            309.046237\n",
      "map            302.910506\n",
      "value          301.423470\n",
      "invision       297.816341\n",
      "open           294.262540\n",
      "receive        292.939816\n",
      "monitor        287.535354\n",
      "journey        279.825045\n",
      "center         274.473126\n",
      "want           272.424970\n",
      "nfuse          272.014765\n",
      "kyocera        271.483227\n",
      "myjourney      269.957059\n"
     ]
    }
   ],
   "source": [
    "# print the top 50 occurances - help decide the possible clusters\n",
    "print(df_features[50:100])"
   ]
  },
  {
   "cell_type": "code",
   "execution_count": 32,
   "metadata": {},
   "outputs": [
    {
     "name": "stdout",
     "output_type": "stream",
     "text": [
      "               frequency\n",
      "vis             0.739950\n",
      "vadim           0.738858\n",
      "taskscheduler   0.734558\n",
      "omt             0.733873\n",
      "transcriptio    0.727780\n",
      "temporarily     0.725249\n",
      "teleradiology   0.722217\n",
      "stfrancis       0.717830\n",
      "institution     0.717830\n",
      "huggins         0.717821\n",
      "intent          0.710413\n",
      "warm            0.704889\n",
      "various         0.704731\n",
      "ipa             0.695992\n",
      "ttype           0.641260\n",
      "synonym         0.604346\n",
      "nvnlv           0.589064\n",
      "nvbd            0.588388\n",
      "httpd           0.555160\n",
      "httpserver      0.528688\n"
     ]
    }
   ],
   "source": [
    "# print the last 20 occurances - terms with low frequency\n",
    "# how low is the frequency? do we have correct number of features\n",
    "print(df_features.tail(20))"
   ]
  },
  {
   "cell_type": "code",
   "execution_count": 33,
   "metadata": {},
   "outputs": [
    {
     "name": "stdout",
     "output_type": "stream",
     "text": [
      "['agree', 'agreement', 'ahu', 'ahwatukee', 'aid', 'aio', 'air', 'airpark', 'airplane', 'akirsl', 'akirsw', 'al', 'alaris', 'alarm', 'alcove', 'alert', 'alfa', 'aliacnsmmm', 'alias', 'aliborio', 'align', 'alignment', 'alive', 'allen', 'allergies', 'allergy', 'allocate', 'allocation', 'allow', 'allscript', 'allscripts', 'alm', 'almost', 'almut', 'alot', 'already', 'also', 'alt', 'alternate', 'always', 'amanda', 'amanpal', 'amatula', 'amb', 'ambassador', 'amber', 'ambulatory', 'amcore', 'america', 'amicas', 'amonroycruz', 'amy', 'ana', 'analysis', 'analyst', 'analytics', 'analyzer', 'anc', 'ancillary', 'anderson', 'andrea', 'andrew', 'android', 'anesthesia', 'angel', 'angela', 'angelscamp', 'anisha', 'ann', 'anna', 'anne', 'annual', 'another', 'answer', 'anthony', 'antivirus', 'anuh', 'anyconnect', 'anymore', 'anyone', 'anything', 'anywhere', 'aobannon', 'ap', 'apache', 'apanameno', 'apart', 'apc', 'apex', 'aphuynh', 'api', 'app', 'appbar', 'appdev', 'appear', 'appl', 'applauncher', 'apple', 'appli', 'appliance']\n"
     ]
    }
   ],
   "source": [
    "print(features[100:200])"
   ]
  },
  {
   "cell_type": "code",
   "execution_count": 34,
   "metadata": {},
   "outputs": [],
   "source": [
    "# using elbow method to find optimum number of clusters - start with 30 clusters\n",
    "\n",
    "# from sklearn.cluster import KMeans\n",
    "# wcss = []\n",
    "\n",
    "# for i in range(30, 51):\n",
    "#     km = KMeans(n_clusters = i, init = 'k-means++', max_iter = 100, n_init = 10, random_state = 1)\n",
    "#     km.fit(X)\n",
    "#     wcss.append(km.inertia_)\n",
    " \n",
    "# optimal_clusters = np.argmin(wcss) + 2 # As argmin return the index of minimum loss.\n",
    "\n",
    "# plt.plot(range(30, 51), wcss)\n",
    "# plt.title('The Elbow Method')\n",
    "# plt.xlabel('Number of Clusters')\n",
    "# plt.ylabel('WCSS')\n",
    "# plt.show()\n",
    "\n",
    "# print (\"The optimal number of clusters obtained is - \", optimal_clusters)\n",
    "# print (\"The loss for optimal cluster is - \", min(wcss))"
   ]
  },
  {
   "cell_type": "code",
   "execution_count": 35,
   "metadata": {},
   "outputs": [
    {
     "name": "stdout",
     "output_type": "stream",
     "text": [
      "CPU times: user 4min 28s, sys: 23.6 s, total: 4min 52s\n",
      "Wall time: 2min 50s\n"
     ]
    },
    {
     "data": {
      "text/plain": [
       "KMeans(algorithm='auto', copy_x=True, init='k-means++', max_iter=300,\n",
       "    n_clusters=50, n_init=10, n_jobs=None, precompute_distances='auto',\n",
       "    random_state=1, tol=0.0001, verbose=0)"
      ]
     },
     "execution_count": 35,
     "metadata": {},
     "output_type": "execute_result"
    }
   ],
   "source": [
    "num_clusters = 50\n",
    "\n",
    "# KMeans\n",
    "# from sklearn.cluster import KMeans\n",
    "\n",
    "# kmeans = KMeans(n_clusters = num_clusters, init = 'k-means++', max_iter = 300, n_init = 10, random_state = 1)\n",
    "# %time y = kmeans.fit_predict(X)\n",
    "# %time kmeans.fit(X)\n",
    "\n",
    "# Mini Batch KMeans\n",
    "from sklearn.cluster import MiniBatchKMeans\n",
    "\n",
    "kmeans = MiniBatchKMeans(n_clusters = num_clusters, init = 'k-means++', \n",
    "                         max_iter = 300, n_init = 3, random_state = 1)\n",
    "%time kmeans.fit(X)\n",
    "\n",
    "# clusters = kmeans.labels_.tolist()"
   ]
  },
  {
   "cell_type": "code",
   "execution_count": 36,
   "metadata": {},
   "outputs": [],
   "source": [
    "# df['Cluster'] = pd.DataFrame(y, columns = ['Cluster'])\n",
    "df['Cluster'] = kmeans.labels_"
   ]
  },
  {
   "cell_type": "code",
   "execution_count": 38,
   "metadata": {},
   "outputs": [
    {
     "name": "stdout",
     "output_type": "stream",
     "text": [
      "                                                      Terms  Cluster\n",
      "0   utilization threshold set disk file system percent full       19\n",
      "1                            account lock unable login user       33\n",
      "3                                    network password reset       48\n",
      "4     clairvia unable login password reset hduv do jmoyrong        2\n",
      "5        network account lock unable login username jyongco       36\n",
      "6               error message appear open clpdayend qrgxmsg       26\n",
      "7                wow display leave monitor upside device id        5\n",
      "8                             cpu utilization threshold set       11\n",
      "9                                 receive clpdayend qclxerr       34\n",
      "10                            cpu utilization threshold set       11\n"
     ]
    }
   ],
   "source": [
    "print(df.loc[:10,['Terms', 'Cluster']])"
   ]
  },
  {
   "cell_type": "code",
   "execution_count": 39,
   "metadata": {},
   "outputs": [],
   "source": [
    "# Save cluster in pickle file for future use\n",
    "# import pickle\n",
    "\n",
    "# pickle.dump(km, open('pkl/km_1.pkl', 'wb'))"
   ]
  },
  {
   "cell_type": "code",
   "execution_count": 40,
   "metadata": {},
   "outputs": [
    {
     "name": "stdout",
     "output_type": "stream",
     "text": [
      "0 : computer, id, unable, desktop, work, user, restart, pc, login, device, turn, need, dev, connect, slow, internet, error, start, ip, laptop\n",
      "1 : work, keyboard, mouse, id, desktop, properly, monitor, device, wow, dev, user, unable, pc, laptop, key, replace, internet, devid, need, icon\n",
      "2 : login, hduv, password, reset, able, unable, network, user, username, account, pass, kb, hold, change, yes, customer, invision, apache, temporary, fp\n",
      "3 : communication, lose, link, status, smart, xl, rt, main, mdf, seq, mgh, srt, rm, heart, crmc, sjhmc, twr, rehab, dsc, sjmc\n",
      "4 : password, reset, need, user, login, userid, unable, invision, network, name, hduv, account, username, clairvia, apache, change, require, rco, fp, allscripts\n",
      "5 : id, dev, device, unable, desktop, login, turn, icon, user, impact, admin, need, miss, connect, username, right, laptop, wow, provide, take\n",
      "6 : account, network, user, login, unable, customer, pass, hduv, activate, password, need, new, first, time, ac, change, disable, id, dev, username\n",
      "7 : need, unable, user, desktop, miss, laptop, connect, please, patient, power, open, monitor, nup, account, tier, application, learn, device, mdf, install\n",
      "8 : round, pc, generator, suddenly, monthly, test, crmc, reboot, maintenance, perform, computer, power, therapy, keyboard, wheel, workstation, replace, wow, nutrition, infusion\n",
      "9 : kyocera, printer, jam, paper, id, ip, equip, print, equipment, unable, user, loc, dev, device, dept, noise, work, make, error, fax\n",
      "10 : cxnmft, mft, framework, cft, component, arrive, heartbeat, event, ensure, file, cftprd, error, please, per, directory, interface, receive, fail, true, pickup\n",
      "11 : cpu, utilization, threshold, set, error, pm, viis, medbg, vprt, app, vora, vint, medps, medfs, vsql, medarc, sql, memory, syngo, sm\n",
      "12 : dhmf, midtown, mdf, controller, ap, associate, mmg, mic, bronzestar, bighorn, gibson, roseville, mob, creekside, carmichael, whc, sbmc, vhchild, highland, rcchild\n",
      "13 : peer, bgp, establish, mdf, main, edc, mh, srdhsm, master, rorc, disappear, railsback, mfh, mmg, tc, whc, mgh, lvs, mmcms, chsb\n",
      "14 : date, text, amcore, notification, dat, pending, verify, secop, isaiah, yarbrough, janaye, update, send, verification, user, observation, rename, ian, ortiz, erika\n",
      "15 : job, lock, unlock, number, patient, need, user, kill, account, remove, work, unable, access, able, delete, username, system, name, customer, impact\n",
      "16 : port, status, mdf, msjmc, main, sjpvh, tc, lvs, edc, dt, nhmc, master, sjrmc, agch, mrmc, sbmc, whc, fhmc, mh, sjhmc\n",
      "17 : login, unable, user, encryption, nfuse, able, network, password, invision, time, one, boot, pass, guide, axway, logon, journey, name, apache, clairvia\n",
      "18 : value, temperature, high, port, low, humidity, temp, sensor, smart, rt, xl, bmh, dmf, integrate, smlb, pdu, mid, mdf, rack, hilt\n",
      "19 : percent, disk, full, system, utilization, threshold, set, file, app, sql, vctx, vprt, viis, vaio, vsql, vrep, mapper, csm, dev, pacs\n",
      "20 : mdf, ap, associate, controller, main, bmh, sjpvh, msjmc, crmc, sjhmc, nst, tower, corp, fhmc, sjrmc, snmh, mmcm, sjmc, dsch, sbmc\n",
      "21 : scanner, work, scan, id, unable, honeywell, wow, dev, room, fujitsu, handheld, device, computer, barcode, provide, user, hand, document, loc, break\n",
      "22 : loc, dept, medical, hospital, center, impact, id, st, dev, dep, mercy, urgent, joseph, unable, device, work, san, desktop, user, memorial\n",
      "23 : launch, unable, id, application, cerner, myjourney, journey, dev, citrix, device, course, user, error, chrome, computer, take, applications, desktop, nfuse, remote\n",
      "24 : lawson, ess, login, unable, cas, id, user, rss, dev, username, emp, password, access, employee, ldap, portal, performance, error, invoice, device\n",
      "25 : printer, map, id, need, ip, add, print, dev, kyocera, computer, device, unable, label, take, default, user, work, remote, equip, equipment\n",
      "26 : error, tier, mft, unable, communication, message, socket, consume, sftp, end, connect, device, millennium, throw, suite, alive, timeout, get, id, point\n",
      "27 : username, login, unable, network, acc, unlock, dev, id, encryption, account, nfuse, cerner, apache, clairvia, duo, ess, password, know, formfast, rco\n",
      "28 : screen, desktop, black, id, take, dev, share, computer, monitor, unable, stick, user, blank, get, login, encryption, device, work, blue, pc\n",
      "29 : alarm, smart, xl, rt, device, sjhmc, main, mdf, srt, nst, sbmc, crmc, maint, sjmc, sjrmc, rm, mtsjh, smmc, morrison, hlt\n",
      "30 : print, printer, unable, label, id, kyocera, dev, device, cerner, report, user, computer, anything, formfast, zebra, error, facesheets, ip, properly, document\n",
      "31 : enable, login, account, able, kb, hold, username, yes, unable, tt, user, disable, network, educate, profile, password, unlock, dev, reset, lock\n",
      "32 : phone, work, call, ext, ascom, need, dial, unable, tone, number, new, line, voicemail, extn, spectralink, user, desk, make, voice, receive\n",
      "33 : account, lock, user, network, unlock, login, unable, able, name, customer, enup, access, already, allscripts, tt, clairvia, call, axway, nup, gecb\n",
      "34 : interface, receive, qclxerr, procedure, mft, mmmdayend, per, tier, file, medseries, smmdayend, nhfdayend, esplf, autodayend, isystemsmm, trap, cmcdayend, snmp, ecsvqrys, ecsvqry\n",
      "35 : outage, network, mdf, master, edc, mgh, main, msjmc, sjpvh, dhmf, rehab, admin, corp, fhmc, eg, dsc, att, heart, chwmf, sj\n",
      "36 : lock, account, network, username, userid, login, unable, user, allscripts, axway, clairvia, gecb, get, release, sac, frequently, remove, error, tt, number\n",
      "37 : cerner, powerchart, unable, patient, ecisa, careb, login, user, id, firstnet, unreachable, order, cross, miss, scan, pc, chart, account, physician, icon\n",
      "38 : exit, active, complete, job, status, anisha, zzaheer, hazard, hartnell, hartwell, hay, haynes, haz, hbi, harp, hboc, hbuttar, hc, hcahps, hccl\n",
      "39 : drive, map, share, network, mcafee, unable, encryption, access, id, need, miss, login, user, dev, path, hard, username, folder, desktop, device\n",
      "40 : volume, event, warn, space, offline, full, nearly, nas, almost, san, error, phxcorp, ev, critical, exceptions, webtop, pacs, midas, take, global\n",
      "41 : company, uma, miss, mst, oct, requester, wed, mon, thu, sep, fri, tue, university, sit, college, medical, staff, health, som, solutions\n",
      "42 : duo, need, user, enroll, activation, new, enrollment, nfuse, phone, enrol, link, activate, send, register, unable, login, username, number, code, want\n",
      "43 : access, unable, user, id, need, request, dh, dev, cerner, error, myjourney, journey, website, dignity, remote, home, place, device, health, name\n",
      "44 : outlook, email, unable, send, id, device, dev, user, access, receive, need, open, miss, icon, take, delete, error, remote, login, web\n",
      "45 : instal, need, icon, certificate, id, take, right, application, vpn, admin, dev, remote, cerner, device, user, computer, software, day, miss, printer\n",
      "46 : service, process, run, call, vctx, manager, agent, server, print, viis, mssqlserver, ctx, spooler, monitor, sql, app, system, administration, timer, primary\n",
      "47 : unlock, network, login, unable, account, user, acc, access, able, id, username, axway, flowcast, allscripts, need, tt, cerner, name, clairvia, email\n",
      "48 : reset, password, network, user, account, log, username, unable, login, hduv, need, name, id, require, want, dev, customer, nt, able, change\n",
      "49 : percentage, packet, additional, good, ping, info, see, time, vmw, app, viis, vprt, sql, vsql, ctx, tunixaixtt, vaio, aio, fss, vctx\n"
     ]
    }
   ],
   "source": [
    "common_words = kmeans.cluster_centers_.argsort()[:,-1:-21:-1]\n",
    "for num, centroid in enumerate(common_words):\n",
    "    print(str(num) + ' : ' + ', '.join(features[word] for word in centroid))"
   ]
  },
  {
   "cell_type": "code",
   "execution_count": 41,
   "metadata": {},
   "outputs": [
    {
     "data": {
      "text/plain": [
       "<matplotlib.axes._subplots.AxesSubplot at 0x116812f98>"
      ]
     },
     "execution_count": 41,
     "metadata": {},
     "output_type": "execute_result"
    },
    {
     "data": {
      "image/png": "[encoded data removed]",
      "text/plain": [
       "<Figure size 432x288 with 1 Axes>"
      ]
     },
     "metadata": {
      "needs_background": "light"
     },
     "output_type": "display_data"
    }
   ],
   "source": [
    "# lets analyze the clusters\n",
    "top_clusters = df['Cluster'].value_counts()\n",
    "top_clusters.plot.bar(x = 'Cluster', y = 'Counts')"
   ]
  },
  {
   "cell_type": "code",
   "execution_count": 42,
   "metadata": {},
   "outputs": [
    {
     "name": "stdout",
     "output_type": "stream",
     "text": [
      "                                                                                      Short_description  \\\n",
      "12  CIM_2_BAYDSC19_MSFCHGX:MSF19CHGX:MedSeries 4:TIER-2 P05:DESTINATION_REALTIME:No host at ipAddres...   \n",
      "13                          MASTER // nmscust02-2 : CHW-as1-2central-dsc : 10.1.5.100 : Syslog Critical   \n",
      "14                                     nmscust02-2 : CHW-as2-2central-dsc : 10.1.5.10 : Syslog Critical   \n",
      "17                                                   MEDITECH ALERT (HIGH)                                \n",
      "19                                         nmscust02-2 : CHW-as1-2west-dsc : 10.1.5.6 : Syslog Critical   \n",
      "24  CIM_2_MCD95_HCLORDL:HCL99ORDL:HCCL:TIER-2:DESTINATION_REALTIME:Try 1 to receive the response fro...   \n",
      "28  CIM_2_BAYDSC19_OMNADT:OMN19ADT:Omnicell:TIER-0:DESTINATION_REALTIME:Try 1 to receive the respons...   \n",
      "30                                                                My journey performance and evaluation   \n",
      "33                                     WOW / Workstation on Wheels || WOW / Workstation on Wheels Issue   \n",
      "41  PHXASP08 RNQ1218 Unable to allocate a record in file PHPINSR (R C G D F). ADE_MHB    MHBDAYEND  ...   \n",
      "\n",
      "                                                                                    Terms  \\\n",
      "12                              medseries tier host ipaddress listen port charge multiple   \n",
      "13                                                             master dsc syslog critical   \n",
      "14                                                                    dsc syslog critical   \n",
      "17                                                                    meditech alert high   \n",
      "19                                                                    dsc syslog critical   \n",
      "24  hccl tier try receive response destination application order lab mercy hospitals bake   \n",
      "28      omnicell tier try receive response destination application adt dominican hospital   \n",
      "30                                                         journey performance evaluation   \n",
      "33                                            wow workstation wheel wow workstation wheel   \n",
      "41                                   unable allocate record file phpinsr mhbdayend qrnxie   \n",
      "\n",
      "                                IPs  Cluster  \n",
      "12                    -10.248.84.17        7  \n",
      "13  CHW-as1-2central-dsc 10.1.5.100        7  \n",
      "14   CHW-as2-2central-dsc 10.1.5.10        7  \n",
      "17                                         7  \n",
      "19       CHW-as1-2west-dsc 10.1.5.6        7  \n",
      "24                                         7  \n",
      "28                                         7  \n",
      "30                                         7  \n",
      "33                                         7  \n",
      "41                                         7  \n"
     ]
    }
   ],
   "source": [
    "# there is high volume for cluster 7, lets look at few to investigate\n",
    "print(df[df.Cluster == 7].iloc[:10, [15,17,18, 19]])"
   ]
  },
  {
   "cell_type": "code",
   "execution_count": 231,
   "metadata": {},
   "outputs": [
    {
     "name": "stdout",
     "output_type": "stream",
     "text": [
      "Cluster 0: reset, password, reset user name, account password, account password reset, password reset user, reset user, hduv, user name, name, reset password, hduv reset, user name hduv, name hduv, password reset, network account password, user, account, hduv reset password, network,\n",
      "Cluster 1: cpu utilization threshold, cpu utilization, cpu, threshold set, utilization threshold, utilization, utilization threshold set, set, threshold, medps cpu utilization, medps, medps cpu, vint, vint cpu, vint cpu utilization, viis cpu utilization, viis cpu, app cpu utilization, app cpu, viis,\n",
      "Cluster 2: printer, device, login, wheel, workstation wheel, workstation, wow workstation, wow workstation wheel, reboot, wow, device reboot, mdf, status, power, file, application, sjpvh, power supply, supply, sjpvh device,\n",
      "Cluster 3: error, error error, mft error, mft, tier mft, tier mft error, mft error error, tier, sftp, error error unable, error unable, suite, suite tier, error unable connect, millennium, millennium suite tier, millennium suite, suite tier mft, unable connect sftp, connect sftp,\n",
      "Cluster 4: login, login user, login user id, unable login user, unable login, user id, id, user, unable, account, network, network account, account lock unable, lock unable, lock unable login, account unable login, password, account unable, enable account, enable,\n",
      "Cluster 5: hduv, login password, unable login password, login, password reset, password reset hduv, reset hduv, password, login password reset, reset, unable login, unable, account unable login, network account unable, account unable, hduv password, hduv password reset, network account, reset customer able, password reset customer,\n",
      "Cluster 6: port, sjpvh port, port status, mdf sjpvh port, status, sjpvh port status, mdf sjpvh, sjpvh, mdf, port port, sjpvh port port, port port status, port port port, itc sjpvh port, itc, itc sjpvh, id jchatten, identity hub, identity hub tier, ii,\n",
      "Cluster 7: mdf, main sjmc, sjmc mdf, sjmc, vsmc, vsmc mtsjh, vsmc mtsjh ap, mdf main sjmc, mtsjh ap not, mtsjh ap, mtsjh, mdf vsmc mtsjh, main sjmc mdf, mdf vsmc, sjmc mdf vsmc, ap, not associate, not associate controller, controller, associate controller,\n",
      "Cluster 8: socket, point, socket timeout keep, error throw, error throw end, throw end, alive, alive error, alive error throw, throw, timeout keep, socket timeout, timeout keep alive, keep alive, keep alive error, timeout, keep, end point, throw end point, end,\n",
      "Cluster 9: task not, exchange mailbox task, exchange mailbox, mailbox, mailbox task, mailbox task not, exchange, task not run, not run, task, run, not, ii dev ip, ii dev id, ii dev, identity hub tier, ii account lock, ii account, ii, ii ii tt,\n",
      "Cluster 10: database, backup overdue, log backup, log backup overdue, overdue, database log backup, database log, backup, log, fingerprint, fingerprint database, fingerprint database log, store database log, vault store database, vault store, store database, store, vault, identity hub, ii user,\n",
      "Cluster 11: phone, process, call, run, phone phone, service, service call, process service call, process service, process process call, process process, process call run, process call, call run, app process, app process process, call server, service call server, server, app,\n",
      "Cluster 12: desktop, desktop desktop, computer, desktop laptop computer, desktop laptop, laptop computer, laptop, desktop not, encryption, not, desktop unable, screen, helpdesk desktop laptop, laptop computer helpdesk, zother desktop, helpdesk desktop, computer helpdesk desktop, computer helpdesk, zother desktop laptop, load,\n",
      "Cluster 13: qclxerr, receive, receive procedure, procedure, receive procedure dmcpqrctl, dmcpqrctl, procedure dmcpqrctl, mmmdayend qclxerr, mmmdayend, receive ecsvc, agcdayend, mmsdayend, mmrdayend, mmcdayend, snmdayend qclxerr, secdayend qclxerr, fhmdayend qclxerr, smmdayend, smmdayend qclxerr, fhmdayend,\n",
      "Cluster 14: sjpvh, mdf main sjpvh, main sjpvh, sjpvh ap not, sjpvh ap, ap, controller, ap not associate, ap not, not associate, not associate controller, associate controller, associate, sjpvh sjpvh, main sjpvh sjpvh, sjpvh sjpvh ap, mdf main, main, mdf, not,\n",
      "Cluster 15: rectimeout, rectimeout occur, rectimeout threshold, occur rectimeout, occur rectimeout threshold, rectimeout occur rectimeout, occur, current, threshold current rectimeout, rectimeout threshold current, current rectimeout, threshold current, rectimeout attempt, current rectimeout attempt, attempt, tier rectimeout occur, tier rectimeout, tier, threshold, rectimeout attempt transcriptions,\n",
      "Cluster 16: job, job lock, lock, unlock, lock job, job unlock, job lock unlock, number, lock unlock, unlock job, job number, lock job unlock, job lock job, number unlock, job system, system, kill, ii job, reopen, close,\n",
      "Cluster 17: account, account lock, lock, network account, network, network account lock, lock user, account lock user, user, unlock, lock user id, user id, id, unlock account, account account, account account lock, network account account, user name, name, lock user name,\n",
      "Cluster 18: syslog critical, syslog, critical, dsc syslog critical, dsc syslog, dsc, main, mmcr syslog critical, mdf main mmcr, mmcr syslog, main mmcr syslog, main mmcr, mmcr, master, mdf, mdf main, master dsc syslog, master dsc, srdhs syslog critical, main srdhs syslog,\n",
      "Cluster 19: cerner, cerner unable, cerner powerchart, powerchart, unable, access, patient, cerner firstnet, firstnet, user, id, careb, unable access, cerner unable access, nfuse, ecisa, print, not, not cross, cross,\n",
      "Cluster 20: account unable, network account unable, account, network account, account unable login, unable, network, login, unable login, unable login unlock, login unlock, unlock, account unable log, user, log user, unable log user, unable log, lock, user id, log,\n",
      "Cluster 21: complete exit status, active job, active job complete, job complete, job complete exit, complete exit, active, exit, exit status, complete, job, status, ii not, ii dev, ii dev id, ii dev ip, ii ii, ii ii tt, ii job, ii need,\n",
      "Cluster 22: fail, alert, trigger, meditech alert high, alert high, meditech alert, high, meditech, trigger transactions fail, transactions, transaction fail trigger, transaction fail, transaction, trigger application, trigger transactions, fail trigger application, fail trigger, transactions fail, lawson, backups,\n",
      "Cluster 23: percent full, set wouldisk file, threshold set wouldisk, wouldisk file system, wouldisk file, wouldisk, file system, percent, set wouldisk, full, system, system percent, system percent full, file system percent, file, utilization threshold set, utilization threshold, threshold set, utilization, set,\n",
      "Cluster 24: reset, password reset, password, network password, network password reset, ii, network, user id, id, user, reset ii, password reset ii, reset ii user, ii user, ii user id, user id ii, id ii, need password, need password reset, network account user,\n",
      "Cluster 25: not, id, unable, user, dev, dev id, monitor, computer, device id, device, work, wow, peer, loc, patient, keyboard, mouse, not work, print, dept,\n",
      "Cluster 26: ii, access, launch, unable, unable launch, unable access, ii unable, id, dev, ii dev, launch application, unable launch application, dev id, ii dev id, login ii, application, ii user, ii user id, owa, nfuse,\n",
      "Cluster 27: packet, see additional info, packet good percentage, packet good, percentage see additional, good percentage see, good percentage, good, percentage see, percentage, additional, see additional, additional info, info time, info, ping packet good, ping packet, additional info time, ping, see,\n",
      "Cluster 28: network, network outage, outage, network unable, sjpvh network outage, sjpvh network, network unable login, sjpvh, login, unable login, unable, mdf sjpvh network, network reset, mdf sjpvh, mdf, exception, pop, network unable user, unable user, unable user id,\n",
      "Cluster 29: qrnxie, end, qcmdexc end error, qcmdexc end, end error, qcmdexc, call qcmdexc, call qcmdexc end, call, end user, allocate, error, allocate record file, record file, record file phpinsr, phpinsr, file phpinsr, unable allocate record, unable allocate, allocate record,\n",
      "(30, 2)\n"
     ]
    }
   ],
   "source": [
    "# Create mapping of ngram features into clusters, \n",
    "# save into terms map object with key as cluster name (first feature in each cluster - with 2 words)\n",
    "# terms = top 20 ngram features\n",
    "\n",
    "order_centroids = km.cluster_centers_.argsort()[:, ::-1]\n",
    "df_features_map = pd.DataFrame(index = np.arange(0, num_clusters), columns=['features','key'])    \n",
    "\n",
    "for i in range(num_clusters):\n",
    "    list = [] \n",
    "    for ind in order_centroids[i, :20]:\n",
    "        print(' %s' % terms[ind], end=',')\n",
    "        list.append(terms[ind])\n",
    "    for ind2 in order_centroids[i, :1]:\n",
    "        terms_map.key.loc[i] = terms[ind2]\n",
    "\n",
    "    str = ', '.join(list) \n",
    "    terms_map.terms.loc[i] = str\n",
    "    print()\n",
    "print(terms_map.shape)\n",
    "\n",
    "df_features = pd.DataFrame(freq, index = features, columns = ['frequency'])\n",
    "\n",
    "# sort the terms in descending order of frequency\n",
    "df_features.sort_values(by = ['frequency'], inplace = True, ascending = False)\n",
    "\n",
    "order_centroids = km.cluster_centers_.argsort()[:, ::-1]\n",
    "terms = tfidf_vectorizer.get_feature_names()\n",
    "terms_map = pd.DataFrame(index=np.arange(0, num_clusters),columns=['terms','key'])    \n",
    "for i in range(num_clusters):\n",
    "    print(\"Cluster %d:\" % i, end='')\n",
    "    #terms_map['key'] = i\n",
    "    list = [] \n",
    "    for ind in order_centroids[i, :20]:\n",
    "        print(' %s' % terms[ind], end=',')\n",
    "        list.append(terms[ind])\n",
    "    for ind2 in order_centroids[i, :1]:\n",
    "        terms_map.key.loc[i] = terms[ind2]\n",
    "\n",
    "    str = ', '.join(list) \n",
    "    terms_map.terms.loc[i] = str\n",
    "    print()\n",
    "print(terms_map.shape)"
   ]
  },
  {
   "cell_type": "code",
   "execution_count": null,
   "metadata": {},
   "outputs": [],
   "source": []
  }
 ],
 "metadata": {
  "kernelspec": {
   "display_name": "Python 3",
   "language": "python",
   "name": "python3"
  },
  "language_info": {
   "codemirror_mode": {
    "name": "ipython",
    "version": 3
   },
   "file_extension": ".py",
   "mimetype": "text/x-python",
   "name": "python",
   "nbconvert_exporter": "python",
   "pygments_lexer": "ipython3",
   "version": "3.7.1"
  }
 },
 "nbformat": 4,
 "nbformat_minor": 2
}
