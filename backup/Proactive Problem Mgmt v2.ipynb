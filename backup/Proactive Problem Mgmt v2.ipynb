{
 "cells": [
  {
   "cell_type": "code",
   "execution_count": 1,
   "metadata": {},
   "outputs": [
    {
     "name": "stdout",
     "output_type": "stream",
     "text": [
      "/Library/Frameworks/Python.framework/Versions/3.7/bin/python3.7\n",
      "3.7.1 (v3.7.1:260ec2c36a, Oct 20 2018, 03:13:28) \n",
      "[Clang 6.0 (clang-600.0.57)]\n",
      "sys.version_info(major=3, minor=7, micro=1, releaselevel='final', serial=0)\n"
     ]
    }
   ],
   "source": [
    "import sys\n",
    "print(sys.executable)\n",
    "print(sys.version)\n",
    "print(sys.version_info)"
   ]
  },
  {
   "cell_type": "code",
   "execution_count": 2,
   "metadata": {},
   "outputs": [],
   "source": [
    "import numpy as np\n",
    "import matplotlib.pyplot as plt\n",
    "import pandas as pd\n",
    "# import os\n",
    "# import codecs"
   ]
  },
  {
   "cell_type": "code",
   "execution_count": 3,
   "metadata": {},
   "outputs": [],
   "source": [
    "target_url = (\"/Users/devkrroy/Dev/Projects/snow/data/export3.xlsx\")\n",
    "# target_url = (\"C:/Dev/Projects/snow/data/export3.xlsx\")"
   ]
  },
  {
   "cell_type": "code",
   "execution_count": 4,
   "metadata": {},
   "outputs": [],
   "source": [
    "df = pd.read_excel(target_url)"
   ]
  },
  {
   "cell_type": "code",
   "execution_count": 5,
   "metadata": {},
   "outputs": [
    {
     "name": "stdout",
     "output_type": "stream",
     "text": [
      "<class 'pandas.core.frame.DataFrame'>\n",
      "RangeIndex: 95373 entries, 0 to 95372\n",
      "Data columns (total 28 columns):\n",
      "Number                95373 non-null object\n",
      "Assignment_group      95373 non-null object\n",
      "Priority              95373 non-null object\n",
      "State                 95373 non-null object\n",
      "Category              93947 non-null object\n",
      "Subcategory           61328 non-null object\n",
      "Severity              95373 non-null object\n",
      "Closure_CI            94492 non-null object\n",
      "Location              95079 non-null object\n",
      "Close_code            94559 non-null object\n",
      "Configuration_item    95373 non-null object\n",
      "Child_Incidents       95373 non-null int64\n",
      "Contact_type          95373 non-null object\n",
      "Duration              95373 non-null int64\n",
      "Impact                95373 non-null object\n",
      "Short_description     95373 non-null object\n",
      "Created               95373 non-null datetime64[ns]\n",
      "dates                 95373 non-null datetime64[ns]\n",
      "date                  95373 non-null datetime64[ns]\n",
      "day                   95373 non-null object\n",
      "month                 95373 non-null object\n",
      "dom                   95373 non-null int64\n",
      "week                  95373 non-null int64\n",
      "week2                 95373 non-null int64\n",
      "cluster               95373 non-null int64\n",
      "cluster1              95373 non-null int64\n",
      "cluster_name1         95373 non-null object\n",
      "cluster_name          95373 non-null object\n",
      "dtypes: datetime64[ns](3), int64(7), object(18)\n",
      "memory usage: 20.4+ MB\n"
     ]
    }
   ],
   "source": [
    "df.info()\n",
    "# print(df.columns.values)"
   ]
  },
  {
   "cell_type": "code",
   "execution_count": 6,
   "metadata": {},
   "outputs": [
    {
     "data": {
      "text/html": [
       "<div>\n",
       "<style scoped>\n",
       "    .dataframe tbody tr th:only-of-type {\n",
       "        vertical-align: middle;\n",
       "    }\n",
       "\n",
       "    .dataframe tbody tr th {\n",
       "        vertical-align: top;\n",
       "    }\n",
       "\n",
       "    .dataframe thead th {\n",
       "        text-align: right;\n",
       "    }\n",
       "</style>\n",
       "<table border=\"1\" class=\"dataframe\">\n",
       "  <thead>\n",
       "    <tr style=\"text-align: right;\">\n",
       "      <th></th>\n",
       "      <th>Number</th>\n",
       "      <th>Assignment_group</th>\n",
       "      <th>Priority</th>\n",
       "      <th>State</th>\n",
       "      <th>Category</th>\n",
       "      <th>Subcategory</th>\n",
       "      <th>Severity</th>\n",
       "      <th>Closure_CI</th>\n",
       "      <th>Location</th>\n",
       "      <th>Close_code</th>\n",
       "      <th>...</th>\n",
       "      <th>date</th>\n",
       "      <th>day</th>\n",
       "      <th>month</th>\n",
       "      <th>dom</th>\n",
       "      <th>week</th>\n",
       "      <th>week2</th>\n",
       "      <th>cluster</th>\n",
       "      <th>cluster1</th>\n",
       "      <th>cluster_name1</th>\n",
       "      <th>cluster_name</th>\n",
       "    </tr>\n",
       "  </thead>\n",
       "  <tbody>\n",
       "    <tr>\n",
       "      <th>0</th>\n",
       "      <td>INC0406604</td>\n",
       "      <td>DHE-Command Center</td>\n",
       "      <td>4 - Low</td>\n",
       "      <td>Closed</td>\n",
       "      <td>Server</td>\n",
       "      <td>Windows</td>\n",
       "      <td>3 - Low</td>\n",
       "      <td>phx-vapp-689</td>\n",
       "      <td>Corporate Office - Phoenix 1</td>\n",
       "      <td>Resolved by Event</td>\n",
       "      <td>...</td>\n",
       "      <td>2018-09-01</td>\n",
       "      <td>Saturday</td>\n",
       "      <td>September</td>\n",
       "      <td>1</td>\n",
       "      <td>1</td>\n",
       "      <td>1</td>\n",
       "      <td>1</td>\n",
       "      <td>16</td>\n",
       "      <td>volume space</td>\n",
       "      <td>threshold set disk</td>\n",
       "    </tr>\n",
       "    <tr>\n",
       "      <th>1</th>\n",
       "      <td>INC0406605</td>\n",
       "      <td>DH-Enterprise IT Service Cntr</td>\n",
       "      <td>4 - Low</td>\n",
       "      <td>Closed</td>\n",
       "      <td>Security</td>\n",
       "      <td>NaN</td>\n",
       "      <td>3 - Low</td>\n",
       "      <td>Network Account Lock</td>\n",
       "      <td>St Mary's Medical Center San Francisco (SMMC-SF)</td>\n",
       "      <td>Account Unlock</td>\n",
       "      <td>...</td>\n",
       "      <td>2018-09-01</td>\n",
       "      <td>Saturday</td>\n",
       "      <td>September</td>\n",
       "      <td>1</td>\n",
       "      <td>1</td>\n",
       "      <td>1</td>\n",
       "      <td>48</td>\n",
       "      <td>47</td>\n",
       "      <td>login</td>\n",
       "      <td>login</td>\n",
       "    </tr>\n",
       "    <tr>\n",
       "      <th>2</th>\n",
       "      <td>INC0406606</td>\n",
       "      <td>DHE-RCM-AppOp-Applications</td>\n",
       "      <td>3 - Moderate</td>\n",
       "      <td>Closed</td>\n",
       "      <td>Application</td>\n",
       "      <td>Revenue Cycle</td>\n",
       "      <td>3 - Low</td>\n",
       "      <td>Soarian DM</td>\n",
       "      <td>Corporate Office - Phoenix 1</td>\n",
       "      <td>Resolved by Event</td>\n",
       "      <td>...</td>\n",
       "      <td>2018-09-01</td>\n",
       "      <td>Saturday</td>\n",
       "      <td>September</td>\n",
       "      <td>1</td>\n",
       "      <td>1</td>\n",
       "      <td>1</td>\n",
       "      <td>44</td>\n",
       "      <td>7</td>\n",
       "      <td>login</td>\n",
       "      <td>cerner</td>\n",
       "    </tr>\n",
       "    <tr>\n",
       "      <th>3</th>\n",
       "      <td>INC0406607</td>\n",
       "      <td>DH-Enterprise IT Service Cntr</td>\n",
       "      <td>4 - Low</td>\n",
       "      <td>Closed</td>\n",
       "      <td>Security</td>\n",
       "      <td>NaN</td>\n",
       "      <td>3 - Low</td>\n",
       "      <td>Network Account Issue</td>\n",
       "      <td>Bruceville Terrace</td>\n",
       "      <td>Password Reset</td>\n",
       "      <td>...</td>\n",
       "      <td>2018-09-01</td>\n",
       "      <td>Saturday</td>\n",
       "      <td>September</td>\n",
       "      <td>1</td>\n",
       "      <td>1</td>\n",
       "      <td>1</td>\n",
       "      <td>4</td>\n",
       "      <td>4</td>\n",
       "      <td>login</td>\n",
       "      <td>login</td>\n",
       "    </tr>\n",
       "    <tr>\n",
       "      <th>4</th>\n",
       "      <td>INC0406608</td>\n",
       "      <td>DH-Enterprise IT Service Cntr</td>\n",
       "      <td>4 - Low</td>\n",
       "      <td>Closed</td>\n",
       "      <td>Application</td>\n",
       "      <td>Clinical</td>\n",
       "      <td>3 - Low</td>\n",
       "      <td>Clairvia</td>\n",
       "      <td>St Mary's Medical Center San Francisco (SMMC-SF)</td>\n",
       "      <td>Password Reset</td>\n",
       "      <td>...</td>\n",
       "      <td>2018-09-01</td>\n",
       "      <td>Saturday</td>\n",
       "      <td>September</td>\n",
       "      <td>1</td>\n",
       "      <td>1</td>\n",
       "      <td>1</td>\n",
       "      <td>18</td>\n",
       "      <td>36</td>\n",
       "      <td>login</td>\n",
       "      <td>login</td>\n",
       "    </tr>\n",
       "  </tbody>\n",
       "</table>\n",
       "<p>5 rows × 28 columns</p>\n",
       "</div>"
      ],
      "text/plain": [
       "       Number               Assignment_group      Priority   State  \\\n",
       "0  INC0406604             DHE-Command Center       4 - Low  Closed   \n",
       "1  INC0406605  DH-Enterprise IT Service Cntr       4 - Low  Closed   \n",
       "2  INC0406606     DHE-RCM-AppOp-Applications  3 - Moderate  Closed   \n",
       "3  INC0406607  DH-Enterprise IT Service Cntr       4 - Low  Closed   \n",
       "4  INC0406608  DH-Enterprise IT Service Cntr       4 - Low  Closed   \n",
       "\n",
       "      Category    Subcategory Severity             Closure_CI  \\\n",
       "0       Server        Windows  3 - Low           phx-vapp-689   \n",
       "1     Security            NaN  3 - Low   Network Account Lock   \n",
       "2  Application  Revenue Cycle  3 - Low             Soarian DM   \n",
       "3     Security            NaN  3 - Low  Network Account Issue   \n",
       "4  Application       Clinical  3 - Low               Clairvia   \n",
       "\n",
       "                                           Location         Close_code  \\\n",
       "0                      Corporate Office - Phoenix 1  Resolved by Event   \n",
       "1  St Mary's Medical Center San Francisco (SMMC-SF)     Account Unlock   \n",
       "2                      Corporate Office - Phoenix 1  Resolved by Event   \n",
       "3                                Bruceville Terrace     Password Reset   \n",
       "4  St Mary's Medical Center San Francisco (SMMC-SF)     Password Reset   \n",
       "\n",
       "          ...               date       day      month  dom week week2 cluster  \\\n",
       "0         ...         2018-09-01  Saturday  September    1    1     1       1   \n",
       "1         ...         2018-09-01  Saturday  September    1    1     1      48   \n",
       "2         ...         2018-09-01  Saturday  September    1    1     1      44   \n",
       "3         ...         2018-09-01  Saturday  September    1    1     1       4   \n",
       "4         ...         2018-09-01  Saturday  September    1    1     1      18   \n",
       "\n",
       "  cluster1 cluster_name1        cluster_name  \n",
       "0       16  volume space  threshold set disk  \n",
       "1       47         login               login  \n",
       "2        7         login              cerner  \n",
       "3        4         login               login  \n",
       "4       36         login               login  \n",
       "\n",
       "[5 rows x 28 columns]"
      ]
     },
     "execution_count": 6,
     "metadata": {},
     "output_type": "execute_result"
    }
   ],
   "source": [
    "df.head()"
   ]
  },
  {
   "cell_type": "code",
   "execution_count": 7,
   "metadata": {},
   "outputs": [
    {
     "data": {
      "text/plain": [
       "<matplotlib.axes._subplots.AxesSubplot at 0x11fe932b0>"
      ]
     },
     "execution_count": 7,
     "metadata": {},
     "output_type": "execute_result"
    },
    {
     "data": {
      "image/png": "[encoded data removed]",
      "text/plain": [
       "<Figure size 432x288 with 1 Axes>"
      ]
     },
     "metadata": {
      "needs_background": "light"
     },
     "output_type": "display_data"
    }
   ],
   "source": [
    "# plot few charts to understand the data\n",
    "\n",
    "# Category by count - this should help understand \"Number of Clusters\" we should have\n",
    "\n",
    "top_categories_df = df['Category'].value_counts()[:20]\n",
    "top_categories_df.plot.bar(x = 'Category', y = 'Counts')"
   ]
  },
  {
   "cell_type": "code",
   "execution_count": 8,
   "metadata": {},
   "outputs": [
    {
     "data": {
      "text/plain": [
       "<matplotlib.axes._subplots.AxesSubplot at 0x11e5537f0>"
      ]
     },
     "execution_count": 8,
     "metadata": {},
     "output_type": "execute_result"
    },
    {
     "data": {
      "image/png": "[encoded data removed]",
      "text/plain": [
       "<Figure size 432x288 with 1 Axes>"
      ]
     },
     "metadata": {
      "needs_background": "light"
     },
     "output_type": "display_data"
    }
   ],
   "source": [
    "# Close_code by count \n",
    "\n",
    "top_close_code_df = df['Close_code'].value_counts()[:20]\n",
    "top_close_code_df.plot.bar(x = 'Close_code', y = 'Counts')"
   ]
  },
  {
   "cell_type": "code",
   "execution_count": 9,
   "metadata": {},
   "outputs": [],
   "source": [
    "# based on the 2 charts above we will go with 30 - 50 clusters of data"
   ]
  },
  {
   "cell_type": "code",
   "execution_count": 10,
   "metadata": {},
   "outputs": [],
   "source": [
    "# identify the cols needed\n",
    "cols = ['Number', 'Created', 'Assignment_group', 'Priority', 'State', 'Category',\n",
    "       'Subcategory', 'Severity', 'Closure_CI', 'Location', 'Close_code',\n",
    "       'Configuration_item', 'Child_Incidents', 'Contact_type',\n",
    "       'Duration', 'Impact', 'Short_description']\n",
    "df = df[cols]"
   ]
  },
  {
   "cell_type": "code",
   "execution_count": 11,
   "metadata": {},
   "outputs": [],
   "source": [
    "# copy the dataframe to a new dataframe before any row deletes\n",
    "test = df.copy()\n",
    "test = test.sort_values('Created')"
   ]
  },
  {
   "cell_type": "code",
   "execution_count": 12,
   "metadata": {},
   "outputs": [],
   "source": [
    "# check for duplicate data\n",
    "# test[test['Short_description'].duplicated(keep = 'first')].sort_values('Short_description').head(5)"
   ]
  },
  {
   "cell_type": "code",
   "execution_count": 13,
   "metadata": {
    "scrolled": true
   },
   "outputs": [
    {
     "name": "stdout",
     "output_type": "stream",
     "text": [
      "Shape of the modified dataframe  (95373, 17)\n"
     ]
    }
   ],
   "source": [
    "# remove duplicates, we will still retain 1 row for analysis\n",
    "# test = test.drop_duplicates('Short_description', keep = 'first')\n",
    "print('Shape of the modified dataframe ', test.shape)"
   ]
  },
  {
   "cell_type": "code",
   "execution_count": 14,
   "metadata": {
    "scrolled": true
   },
   "outputs": [
    {
     "data": {
      "text/plain": [
       "End User Services    22410\n",
       "Application          20651\n",
       "Security             17171\n",
       "Server               12687\n",
       "Network               7831\n",
       "HelpDesk              5169\n",
       "EAI Interface         3028\n",
       "Telecom               2832\n",
       "Human Resources       1224\n",
       "EAI Component          697\n",
       "Storage                140\n",
       "Facility               100\n",
       "Database                 7\n",
       "Name: Category, dtype: int64"
      ]
     },
     "execution_count": 14,
     "metadata": {},
     "output_type": "execute_result"
    }
   ],
   "source": [
    "#Filter out some categories with instances < 50 for now , remove this filter in future\n",
    "# test = incs.groupby(\"Category\").filter(lambda x: len(x) > 50)\n",
    "# test = incs.reset_index(drop = True)\n",
    "test.Category.value_counts()"
   ]
  },
  {
   "cell_type": "code",
   "execution_count": 15,
   "metadata": {},
   "outputs": [],
   "source": [
    "pd.options.display.max_colwidth = 100"
   ]
  },
  {
   "cell_type": "code",
   "execution_count": 16,
   "metadata": {},
   "outputs": [],
   "source": [
    "# remove any accent from letters\n",
    "def unidecode_text(text):\n",
    "    try:\n",
    "        text = unidecode.unidecode(text)\n",
    "    except:\n",
    "        pass\n",
    "    return text\n",
    "\n",
    "for col in ['Location', 'Short_description']:\n",
    "    test[col] = test.apply(lambda row: unidecode_text(row[col]), axis = 1)"
   ]
  },
  {
   "cell_type": "code",
   "execution_count": 17,
   "metadata": {},
   "outputs": [
    {
     "data": {
      "text/plain": [
       "0                        Corporate Office - Phoenix 1\n",
       "1    St Mary's Medical Center San Francisco (SMMC-SF)\n",
       "3                                  Bruceville Terrace\n",
       "5               Marian Regional Medical Center (MRMC)\n",
       "7                    Woodland Memorial Hospital (WMH)\n",
       "Name: Location, dtype: object"
      ]
     },
     "execution_count": 17,
     "metadata": {},
     "output_type": "execute_result"
    }
   ],
   "source": [
    "# copy location to another data frame and remove duplicates\n",
    "locations = test['Location']\n",
    "locations = locations.drop_duplicates(keep = 'first')\n",
    "locations.head()"
   ]
  },
  {
   "cell_type": "code",
   "execution_count": 18,
   "metadata": {},
   "outputs": [],
   "source": [
    "# stop words for location\n",
    "\n",
    "# nltk text preprocessing\n",
    "import string\n",
    "import re\n",
    "import nltk\n",
    "from nltk import pos_tag\n",
    "from nltk.corpus import stopwords, wordnet\n",
    "from nltk.stem import WordNetLemmatizer\n",
    "from nltk.tokenize import word_tokenize\n",
    "\n",
    "import contractions\n",
    "\n",
    "stop = stopwords.words('english')\n",
    "lemmer = WordNetLemmatizer()\n",
    "\n",
    "# add punctuations to the stop words\n",
    "punc = ['.', ',', '\"', \"'\", '?', '!', ':', ';', '(', ')', '[', ']', '{', '}',\"%\"]\n",
    "stop.extend(punc)\n",
    "\n",
    "def get_wordnet_pos(pos_tag):\n",
    "    if pos_tag.startswith('J'):\n",
    "        return wordnet.ADJ\n",
    "    elif pos_tag.startswith('V'):\n",
    "        return wordnet.VERB\n",
    "    elif pos_tag.startswith('N'):\n",
    "        return wordnet.NOUN\n",
    "    elif pos_tag.startswith('R'):\n",
    "        return wordnet.ADV\n",
    "    else:\n",
    "        return wordnet.NOUN\n",
    "    \n",
    "def get_locations(text):\n",
    "\n",
    "    # lower case\n",
    "    text = text.lower()\n",
    "#     text = text.str.lower()\n",
    "\n",
    "    # replace '\\', '/', '|', '-' with spaces, thes are usually entered to separate words\n",
    "    # word tokenize doesn't tokenize on these\n",
    "    text = re.sub(r'[.=\\\\/\\|-]',' ', text)\n",
    "\n",
    "    # replace contractions\n",
    "    text = ' '.join(contractions.fix(word) for word in text.split())\n",
    "#     text = text.apply(lambda x: ' '.join(contractions.fix(word) for word in x.split()))\n",
    "    \n",
    "    # tokenize text and remove puncutation, strip would remove from word begining or end\n",
    "    text = [word.strip(string.punctuation) for word in word_tokenize(text)]\n",
    "#     text = text.apply(lambda x: ' '.join(word.strip(string.punctuation) for word in word_tokenize(x)))\n",
    "    \n",
    "    # remove words that contain numbers\n",
    "    text = [word for word in text if not any(c.isdigit() for c in word)]\n",
    "#     text = text.apply(lambda x: ' '.join(word for word in word_tokenize(x) if not any(c.isdigit() for c in word)))\n",
    "\n",
    "    # remove small tokens\n",
    "    text = [word for word in text if len(word) > 1]\n",
    "#     text = text.apply(lambda x: ' '.join(word for word in word_tokenize(x) if len(word) > 1))\n",
    "    \n",
    "    # remove stop words\n",
    "    text = [word for word in text if word not in set(stop)]\n",
    "#     text = text.apply(lambda x: ' '.join(word for word in word_tokenize(x) if word not in set(stop)))\n",
    "    \n",
    "    # pos tag text\n",
    "    pos_tags = pos_tag(text)\n",
    "    \n",
    "    # lemmatize text\n",
    "    text = [lemmer.lemmatize(t[0], get_wordnet_pos(t[1])) for t in pos_tags]\n",
    "#     text = text.apply(lambda x: ' '.join(lemmer.lemmatize(t[0], get_wordnet_pos(t[1])) for t in pos_tag(x)))\n",
    "    \n",
    "    text = ' '.join(text)\n",
    "    \n",
    "    return(text)\n",
    "    \n",
    "# locations_cleaned = get_locations(locations.astype(str))\n",
    "locations_cleaned = locations.apply(lambda x: get_locations(str(x)))"
   ]
  },
  {
   "cell_type": "code",
   "execution_count": 19,
   "metadata": {},
   "outputs": [
    {
     "data": {
      "text/plain": [
       "0                        corporate office phoenix\n",
       "1    st mary medical center san francisco smmc sf\n",
       "3                              bruceville terrace\n",
       "5             marian regional medical center mrmc\n",
       "7                  woodland memorial hospital wmh\n",
       "Name: Location, dtype: object"
      ]
     },
     "execution_count": 19,
     "metadata": {},
     "output_type": "execute_result"
    }
   ],
   "source": [
    "locations_cleaned.head()"
   ]
  },
  {
   "cell_type": "code",
   "execution_count": 20,
   "metadata": {},
   "outputs": [
    {
     "data": {
      "text/plain": [
       "525"
      ]
     },
     "execution_count": 20,
     "metadata": {},
     "output_type": "execute_result"
    }
   ],
   "source": [
    "# use the countvectorizer to convert to a list of words\n",
    "from sklearn import feature_extraction\n",
    "from sklearn.feature_extraction.text import CountVectorizer\n",
    "\n",
    "vectorizer = CountVectorizer()\n",
    "vectorizer.fit_transform(locations_cleaned.values)\n",
    "\n",
    "stop_locations = vectorizer.get_feature_names()\n",
    "len(stop_locations)"
   ]
  },
  {
   "cell_type": "code",
   "execution_count": 21,
   "metadata": {},
   "outputs": [
    {
     "data": {
      "text/plain": [
       "['crmc',\n",
       " 'cruz',\n",
       " 'data',\n",
       " 'davis',\n",
       " 'de',\n",
       " 'deactivate',\n",
       " 'department',\n",
       " 'detention',\n",
       " 'development',\n",
       " 'dhmf']"
      ]
     },
     "execution_count": 21,
     "metadata": {},
     "output_type": "execute_result"
    }
   ],
   "source": [
    "stop_locations[100:110]"
   ]
  },
  {
   "cell_type": "code",
   "execution_count": 22,
   "metadata": {},
   "outputs": [
    {
     "name": "stdout",
     "output_type": "stream",
     "text": [
      "CPU times: user 1min 34s, sys: 1.74 s, total: 1min 36s\n",
      "Wall time: 1min 36s\n"
     ]
    }
   ],
   "source": [
    "# extend stop words\n",
    "# words like issue, problem, resolve, fix - do not add more sense to the description and are common\n",
    "new_stopwords = ['chw','edu','phx','vapp', 'issue', 'issues', 'problem', 'problems', \n",
    "                 'resolve', 'resolved', 'fix', 'fixed']\n",
    "\n",
    "stop.extend(new_stopwords)\n",
    "\n",
    "# add the locations to the stop words\n",
    "stop.extend(stop_locations)\n",
    "\n",
    "\n",
    "def pre_process(text):\n",
    "\n",
    "    # lower case\n",
    "    text = text.lower()\n",
    "\n",
    "    # replace '\\', '/', '|', '-' with spaces, thes are usually entered to separate words\n",
    "    # word tokenize doesn't tokenize on these\n",
    "    text = re.sub(r'[.=\\\\/\\|-]',' ', text)\n",
    "\n",
    "    # replace contractions\n",
    "    text = ' '.join([contractions.fix(word) for word in text.split()])\n",
    "\n",
    "    # \"'d\": changes to \" would\", 'disk changes to wouldisk - unwanted contraction\n",
    "    # replace wouldisk with disk\n",
    "    text = text.replace('wouldisk', 'disk')  # replace with disk    \n",
    "\n",
    "    # 'not able' is a common way to report issue, replace 'not able' with 'unable'\n",
    "    # also not gets removed as part of stop words\n",
    "    text = text.replace('not able', 'unable')\n",
    "    text = text.replace('user id', 'user')\n",
    "    text = text.replace('username', 'user')\n",
    "    \n",
    "    # replace ms4 to medseries\n",
    "    text = text.replace('ms4', 'medseries')\n",
    "    \n",
    "    # there are lot of places in the description where II (2 caps I) has been used as separator\n",
    "    # this gets converted to small letter (ii) with high occurance, drop these letters\n",
    "    text = text.replace(' ii ', ' ')  # replace with spaces\n",
    "        \n",
    "    # tokenize text and remove puncutation, strip would remove from word begining or end\n",
    "    text = [word.strip(string.punctuation) for word in word_tokenize(text)]\n",
    "    \n",
    "    # remove words that contain numbers\n",
    "    text = [word for word in text if not any(c.isdigit() for c in word)]\n",
    "\n",
    "    # remove small tokens\n",
    "    text = [word for word in text if len(word) > 2]\n",
    "    \n",
    "    # remove stop words\n",
    "    text = [word for word in text if word not in set(stop)]\n",
    "    \n",
    "    # pos tag text\n",
    "    pos_tags = pos_tag(text)\n",
    "    \n",
    "    # lemmatize text\n",
    "    text = [lemmer.lemmatize(t[0], get_wordnet_pos(t[1])) for t in pos_tags]\n",
    "    # some verbs probably get tagged as noun and are not lemmatized\n",
    "    text = [lemmer.lemmatize(word, pos = 'v') for word in text]\n",
    "    \n",
    "    text = ' '.join(text)    \n",
    "  \n",
    "    return (text)\n",
    "    \n",
    "# cleaned_short_desc = pre_process(incs['Short_description'].astype(str))\n",
    "%time cleaned_short_desc = test['Short_description'].apply(lambda x: pre_process(x))"
   ]
  },
  {
   "cell_type": "code",
   "execution_count": 23,
   "metadata": {},
   "outputs": [
    {
     "data": {
      "text/plain": [
       "0                                   utilization threshold set disk file percent full\n",
       "1                                                     account lock unable login user\n",
       "2                                                                                   \n",
       "3                                                                     password reset\n",
       "4                              clairvia unable login password reset hduv do jmoyrong\n",
       "5                                             account lock unable login user jyongco\n",
       "6                              error message appear open cash_adjs clpdayend qrgxmsg\n",
       "7                                            wow display leave monitor upside device\n",
       "8                                          cpu utilization threshold set utilization\n",
       "9                                                receive cash_adjs clpdayend qclxerr\n",
       "10                                         cpu utilization threshold set utilization\n",
       "11                                         cpu utilization threshold set utilization\n",
       "12    medseries tier destination_realtime host ipaddress listen port charge multiple\n",
       "13                                                            master syslog critical\n",
       "14                                                                   syslog critical\n",
       "15                                                      app process process call run\n",
       "16                                                      app process process call run\n",
       "17                                                               meditech alert high\n",
       "18                  volume space nearly full warn event nas volume space nearly full\n",
       "19                                                                   syslog critical\n",
       "Name: Short_description, dtype: object"
      ]
     },
     "execution_count": 23,
     "metadata": {},
     "output_type": "execute_result"
    }
   ],
   "source": [
    "cleaned_short_desc[0:20]"
   ]
  },
  {
   "cell_type": "code",
   "execution_count": 24,
   "metadata": {},
   "outputs": [
    {
     "name": "stdout",
     "output_type": "stream",
     "text": [
      "138\n"
     ]
    }
   ],
   "source": [
    "# count of cells with no terms\n",
    "print(cleaned_short_desc.apply(lambda x: x == '').sum())"
   ]
  },
  {
   "cell_type": "code",
   "execution_count": 25,
   "metadata": {},
   "outputs": [],
   "source": [
    "def get_ips(text):\n",
    "    \n",
    "    # lower case\n",
    "    text = text.str.lower()\n",
    "    \n",
    "    # capture the IPs    \n",
    "    ip_pattern = re.compile(r'((-?)([A-Za-z0-9]{1,}[-.]{1,1}){2,6}([A-Za-z0-9]*))')  \n",
    "    ip = text.apply(lambda x: ' '.join(word for word in re.split('[\\': (),]', x) if ip_pattern.match(word)))\n",
    "    \n",
    "    return ip\n",
    "\n",
    "ips = get_ips(test['Short_description'])"
   ]
  },
  {
   "cell_type": "code",
   "execution_count": 26,
   "metadata": {},
   "outputs": [
    {
     "data": {
      "text/plain": [
       "0                phx-vapp-689.chw.edu\n",
       "1                                    \n",
       "2                        phx-vapp-408\n",
       "3                                    \n",
       "4                                    \n",
       "5                                    \n",
       "6                                    \n",
       "7                       10.203.212.24\n",
       "8                phx-vapp-842.chw.edu\n",
       "9                                    \n",
       "10               phx-vapp-237.chw.edu\n",
       "11               phx-vapp-238.chw.edu\n",
       "12                      -10.248.84.17\n",
       "13    chw-as1-2central-dsc 10.1.5.100\n",
       "14     chw-as2-2central-dsc 10.1.5.10\n",
       "15                phx-app-040.chw.edu\n",
       "16                phx-app-034.chw.edu\n",
       "17                                   \n",
       "18                    phxdc23c-nas-07\n",
       "19         chw-as1-2west-dsc 10.1.5.6\n",
       "Name: Short_description, dtype: object"
      ]
     },
     "execution_count": 26,
     "metadata": {},
     "output_type": "execute_result"
    }
   ],
   "source": [
    "ips[0:20]"
   ]
  },
  {
   "cell_type": "code",
   "execution_count": 27,
   "metadata": {},
   "outputs": [],
   "source": [
    "# add the processed text and extracted ips to dataframe\n",
    "test['Terms'] = cleaned_short_desc\n",
    "test['IPs'] = ips"
   ]
  },
  {
   "cell_type": "code",
   "execution_count": 28,
   "metadata": {},
   "outputs": [],
   "source": [
    "# drop the rows where 'Terms' column is spaces\n",
    "# test = test[test['Terms'] != '']"
   ]
  },
  {
   "cell_type": "code",
   "execution_count": 29,
   "metadata": {},
   "outputs": [],
   "source": [
    "# this cell is just for testing regex, etc\n",
    "# import re\n",
    "\n",
    "# print(re.split('[:\\' ]', '\\'phx-vapp-689.chw.edu\\': Utilization is \\'85.2\\'. Threshold is set to \\'Disk/File System/{C}/percent full >= 85\\''))\n",
    "\n",
    "# ip_pattern = re.compile(r'((-?)([A-Za-z0-9]{1,}[-.]{1,1}){2,6}([A-Za-z0-9]*))') \n",
    "\n",
    "# print(ip_pattern.match('phx-vapp-238.chw.edu'))\n",
    "# print(ip_pattern.match('CPU Utilization is '))\n",
    "# print(ip_pattern.match('85.2'))\n",
    "# print(ip_pattern.match('10.250.243.2'))\n",
    "# print(ip_pattern.match('-10.248.84.17'))\n",
    "# print(ip_pattern.match('192.168.2.85)'))\n",
    "# print(ip_pattern.match('10.1.5.100'))\n",
    "\n",
    "\n",
    "# test = pd.DataFrame({'strings': ['...', 'a(b$c']})\n",
    "# test.strings.str.replace('[^a-zA-Z ]', ' ')\n",
    "\n",
    "# print('This is a test in spite.'.split())\n",
    "# print(lemmer.lemmatize('physicians', pos='v'))\n",
    "# text = \"SMMC-////\\\\\\\\_||||==SF sdcchmc_lis.chw.edu\"\n",
    "# text = re.sub(r'[.=\\\\/\\|-]',' ', text)\n",
    "# print(text)\n",
    "\n",
    "# alpha = re.compile(r'([A-Za-z/\\-]*$)')\n",
    "\n",
    "# dk = pd.DataFrame({'sentences': ['This is a very MS4 ABCD901 \\'abc.xyz.109.01\\' good site. I will recommend it to others.', \n",
    "#                                  'Can you please give me a call at 9983938428. have issues with the listings.', \n",
    "#                                  'WOW / Workstation on Wheels || WOW / Workstation on Wheels Issue',\n",
    "#                                  '\\'phx-vapp-689.chw.edu\\': Utilization is \\'85.2\\'. Threshold is set to \\'Disk/File System/{C}/percent full >= 85',\n",
    "#                                  'Clairvia/not able to login//password reset hduv done jmoyrong/issue resolved',\n",
    "#                                  'God is Great/I won a lottery.',\n",
    "#                                  'CIM_2_BAYDSC19_MSFCHGX:MSF19CHGX:MedSeries 4:TIER-2 P05:DESTINATION_REALTIME:No host at ipAddress -10.248.84.17, listening on port -21529. :Charges - Multiple t',\n",
    "#                                  'Account Lock ||  Not able to login || user id-adeperalta001',\n",
    "#                                  'good work! keep it up, couldn\\'t able to login, couldn\\'t connect']})\n",
    "\n",
    "# dk['tokenized_sents']  = dk['sentences'].apply(lambda x: ' '.join(word for word in re.split('[\\': (),]', x) if ip_pattern.match(word)))\n",
    "\n",
    "\n",
    "\n",
    "# dk['tokenized_sents'] = dk['sentences'].apply(lambda x: ' '.join(word.lower() for word in x.split()))  # lower case\n",
    "# dk['tokenized_sents'] = dk['tokenized_sents'].apply(lambda x: ' '.join(contractions.fix(word) for word in x.split()))  # replace contractions\n",
    "\n",
    "# dk['tokenized_sents'] = dk['tokenized_sents'].str.replace('not able', 'unable')\n",
    "# dk['tokenized_sents'] = dk['tokenized_sents'].str.replace('[\\/-]', ' ')  # replace them with spaces\n",
    "\n",
    "# dk['tokenized_sents'] = dk['tokenized_sents'].apply(lambda x: ' '.join(word for word in word_tokenize(x) if alpha.match(word)))\n",
    "# dk['tokenized_sents'] = dk['tokenized_sents'].apply(lambda x: ' '.join([lemmer.lemmatize(word, pos='v') for word in word_tokenize(x)]))       #lemma\n",
    "# dk['tokenized_sents'] = dk['tokenized_sents'].apply(lambda x: ' '.join([word for word in word_tokenize(x) if word not in set(stop)]))   #stop\n",
    "\n",
    "# print(dk['tokenized_sents'])"
   ]
  },
  {
   "cell_type": "code",
   "execution_count": 30,
   "metadata": {},
   "outputs": [
    {
     "data": {
      "text/plain": [
       "1470    nitiate identity hub tier source_realtime socket timeout keep alive error throw end point applic...\n",
       "1471                                                                              laptop unable turn device\n",
       "1472                                                            wow workstation wheel wow workstation wheel\n",
       "1473                                                                   encryption unable login user lbenfer\n",
       "1474                                                                                 user unable logon user\n",
       "1475    xper information tier xper source_realtime rectimeout occur rectimeout threshold current rectime...\n",
       "1476                                                                      account account lock user vhardin\n",
       "1477                                                                                    account lock userid\n",
       "1478                                                                            medseries unable launch dev\n",
       "1479                                                                                        desktop desktop\n",
       "1480                                                                  scaner unable scan kofax user lbenfer\n",
       "1481                                   event trigger vsql daily ops summary balance controllersreport value\n",
       "1482                                                                                            phone phone\n",
       "1483                                                                     encryption unable login credential\n",
       "1484                                                              cerner unable launch nfuse rmeote logmein\n",
       "1485                                   printer kyocera paper jam loc rise dep verification device equipment\n",
       "1486                      encryption unable login generic credential ask customer use user password default\n",
       "1487    touchworks tier touchworks source_realtime rectimeout occur rectimeout threshold current rectime...\n",
       "1488                                                            wow workstation wheel wow workstation wheel\n",
       "1489    millennium suite tier source_realtime socket timeout keep alive error throw end point applicatio...\n",
       "Name: Terms, dtype: object"
      ]
     },
     "execution_count": 30,
     "metadata": {},
     "output_type": "execute_result"
    }
   ],
   "source": [
    "# view the terms column just before feature extraction\n",
    "test['Terms'][1470:1490]"
   ]
  },
  {
   "cell_type": "code",
   "execution_count": 31,
   "metadata": {},
   "outputs": [
    {
     "name": "stdout",
     "output_type": "stream",
     "text": [
      "CPU times: user 10.4 s, sys: 42 ms, total: 10.5 s\n",
      "Wall time: 10.5 s\n",
      "(95373, 5000)\n"
     ]
    }
   ],
   "source": [
    "from sklearn.feature_extraction.text import TfidfVectorizer\n",
    "\n",
    "# tfidf_vectorizer = TfidfVectorizer(max_features=10000, max_df=0.8, min_df=0.0005,                                  \n",
    "#                                   use_idf=True, tokenizer=word_tokenize, ngram_range=(1,3))\n",
    "\n",
    "vectorizer = TfidfVectorizer(max_features = 5000, # stop_words = stop,                               \n",
    "                                  use_idf = True, tokenizer = word_tokenize, ngram_range = (1,1))\n",
    "\n",
    "%time X = vectorizer.fit_transform(test['Terms'].values)\n",
    "\n",
    "print(X.shape)"
   ]
  },
  {
   "cell_type": "code",
   "execution_count": 32,
   "metadata": {},
   "outputs": [],
   "source": [
    "features = vectorizer.get_feature_names()\n",
    "freq = sum(X).toarray()[0]\n",
    "test_features = pd.DataFrame(freq, index = features, columns = ['frequency'])\n",
    "\n",
    "# sort the terms in descending order of frequency\n",
    "test_features.sort_values(by = ['frequency'], inplace = True, ascending = False)"
   ]
  },
  {
   "cell_type": "code",
   "execution_count": 33,
   "metadata": {},
   "outputs": [
    {
     "name": "stdout",
     "output_type": "stream",
     "text": [
      "               frequency\n",
      "account      4831.466946\n",
      "unable       4640.053539\n",
      "user         4314.640196\n",
      "login        4155.335248\n",
      "lock         3585.731680\n",
      "password     3419.705142\n",
      "utilization  3249.153196\n",
      "reset        3172.700887\n",
      "desktop      2750.498682\n",
      "application  2063.997836\n",
      "printer      2057.677843\n",
      "set          2032.954379\n",
      "threshold    2006.886257\n",
      "cerner       1959.741831\n",
      "mdf          1836.599208\n",
      "phone        1778.239451\n",
      "need         1665.326443\n",
      "medseries    1645.296586\n",
      "device       1641.471944\n",
      "cpu          1519.225621\n",
      "main         1444.849275\n",
      "computer     1418.549281\n",
      "error        1408.792111\n",
      "monitor      1399.369761\n",
      "dev          1358.318515\n",
      "status       1279.101279\n",
      "keyboard     1269.457605\n",
      "mouse        1265.083204\n",
      "helpdesk     1054.779455\n",
      "zother       1042.069943\n",
      "access       1025.175340\n",
      "laptop        976.510461\n",
      "do            969.423574\n",
      "file          965.571297\n",
      "unlock        934.351160\n",
      "controller    930.711761\n",
      "associate     920.893359\n",
      "job           916.052384\n",
      "able          912.790722\n",
      "duo           887.986740\n",
      "up            866.030498\n",
      "smart         860.625472\n",
      "kyocera       837.592893\n",
      "work          831.502532\n",
      "hduv          824.914989\n",
      "full          816.317884\n",
      "port          807.489937\n",
      "percent       793.768008\n",
      "encryption    773.833455\n",
      "disk          760.153454\n"
     ]
    }
   ],
   "source": [
    "# print the top 50 occurances\n",
    "print(test_features[0:50])"
   ]
  },
  {
   "cell_type": "code",
   "execution_count": 34,
   "metadata": {},
   "outputs": [
    {
     "name": "stdout",
     "output_type": "stream",
     "text": [
      "                         frequency\n",
      "huggins                   0.738222\n",
      "western_division_triage   0.732531\n",
      "intent                    0.721243\n",
      "hoover                    0.704229\n",
      "ghc                       0.694767\n",
      "invchgr                   0.694399\n",
      "rattle                    0.694378\n",
      "prenatel                  0.680154\n",
      "nvnlv                     0.673215\n",
      "hbo                       0.665977\n",
      "sell                      0.656582\n",
      "woodrd                    0.645221\n",
      "rlenz                     0.636196\n",
      "hambleton                 0.602182\n",
      "reaso                     0.586792\n",
      "sakuru                    0.577418\n",
      "smartwrite                0.577418\n",
      "httpd                     0.567138\n",
      "httpserver                0.537437\n",
      "sophia                    0.518900\n"
     ]
    }
   ],
   "source": [
    "# print the last 20 occurances - terms with low frequency\n",
    "# how low is the frequency? do we have correct number of features\n",
    "print(test_features.tail(20))"
   ]
  },
  {
   "cell_type": "code",
   "execution_count": 35,
   "metadata": {},
   "outputs": [
    {
     "name": "stdout",
     "output_type": "stream",
     "text": [
      "['workstation', 'world', 'wou', 'would', 'wouldh', 'wouldmg', 'wouldsc', 'woundcare', 'woundexpert', 'wow', 'wpo', 'wpobre', 'wpot', 'wqm', 'wright', 'wrinkle', 'wrist', 'wristband', 'write', 'writer', 'wroking', 'wrong', 'wrongly', 'wrwill', 'wsarkis', 'wsiebert', 'wts', 'wvillanueva', 'www', 'xcalderon', 'xcelera', 'xen', 'xenapp', 'xenn', 'xerox', 'xlarchve', 'xlbackup', 'xlcube', 'xlcubed', 'xlin', 'xmatters', 'xml', 'xnguyen', 'xper', 'xpercon', 'xray', 'xrays', 'xtend', 'xto', 'xtra', 'xxi', 'yaguda', 'yahoo', 'yan', 'yarbrough', 'yasuko', 'ycabas', 'ycabasantana', 'year', 'yellow', 'yes', 'yesterday', 'yet', 'ygee', 'ykamto', 'ymadkins', 'ymeza', 'ynguyengar', 'ynunez', 'yolo', 'yosemite', 'youtube', 'yparamo', 'ypetrishin', 'yporter', 'ysessions', 'yun', 'yvette', 'zapata', 'zara', 'zary', 'zda', 'zebra', 'zelkhoury', 'zen', 'zenapp', 'zero', 'zhang', 'ziedler', 'ziegelmayer', 'zimportdb', 'zip', 'zjaleco', 'zlegaspi', 'zone', 'zoom', 'zother', 'zrosado', 'zweingarten', 'zzaheer']\n"
     ]
    }
   ],
   "source": [
    "print(features[4900:5000])"
   ]
  },
  {
   "cell_type": "code",
   "execution_count": 36,
   "metadata": {},
   "outputs": [],
   "source": [
    "# using elbow method to find optimum number of clusters - start with 30 clusters\n",
    "\n",
    "# from sklearn.cluster import KMeans\n",
    "# wcss = []\n",
    "\n",
    "# for i in range(30, 51):\n",
    "#     km = KMeans(n_clusters = i, init = 'k-means++', max_iter = 100, n_init = 10, random_state = 1)\n",
    "#     km.fit(X)\n",
    "#     wcss.append(km.inertia_)\n",
    " \n",
    "# optimal_clusters = np.argmin(wcss) + 2 # As argmin return the index of minimum loss.\n",
    "\n",
    "# plt.plot(range(30, 51), wcss)\n",
    "# plt.title('The Elbow Method')\n",
    "# plt.xlabel('Number of Clusters')\n",
    "# plt.ylabel('WCSS')\n",
    "# plt.show()\n",
    "\n",
    "# print (\"The optimal number of clusters obtained is - \", optimal_clusters)\n",
    "# print (\"The loss for optimal cluster is - \", min(wcss))"
   ]
  },
  {
   "cell_type": "code",
   "execution_count": 37,
   "metadata": {},
   "outputs": [
    {
     "name": "stdout",
     "output_type": "stream",
     "text": [
      "CPU times: user 442 ms, sys: 3.01 ms, total: 445 ms\n",
      "Wall time: 445 ms\n"
     ]
    },
    {
     "data": {
      "text/plain": [
       "MiniBatchKMeans(batch_size=100, compute_labels=True, init='k-means++',\n",
       "        init_size=None, max_iter=300, max_no_improvement=10, n_clusters=50,\n",
       "        n_init=3, random_state=1, reassignment_ratio=0.01, tol=0.0,\n",
       "        verbose=0)"
      ]
     },
     "execution_count": 37,
     "metadata": {},
     "output_type": "execute_result"
    }
   ],
   "source": [
    "num_clusters = 50\n",
    "\n",
    "# KMeans\n",
    "# from sklearn.cluster import KMeans\n",
    "\n",
    "# kmeans = KMeans(n_clusters = num_clusters, init = 'k-means++', max_iter = 300, n_init = 10, random_state = 1)\n",
    "# %time y = kmeans.fit_predict(X)\n",
    "# %time kmeans.fit(X)\n",
    "\n",
    "# Mini Batch KMeans\n",
    "from sklearn.cluster import MiniBatchKMeans\n",
    "\n",
    "kmeans = MiniBatchKMeans(n_clusters = num_clusters, init = 'k-means++', \n",
    "                         max_iter = 300, n_init = 3, random_state = 1)\n",
    "%time kmeans.fit(X)\n",
    "\n",
    "# clusters = kmeans.labels_.tolist()"
   ]
  },
  {
   "cell_type": "code",
   "execution_count": 38,
   "metadata": {},
   "outputs": [
    {
     "name": "stdout",
     "output_type": "stream",
     "text": [
      "95373\n",
      "(95373, 19)\n"
     ]
    }
   ],
   "source": [
    "# check the number of rows in data frame and the labels\n",
    "print(len(kmeans.labels_))\n",
    "print(test.shape)"
   ]
  },
  {
   "cell_type": "code",
   "execution_count": 39,
   "metadata": {},
   "outputs": [],
   "source": [
    "# copy the kmeans.labels_ as Cluster column\n",
    "test['Cluster'] = kmeans.labels_"
   ]
  },
  {
   "cell_type": "code",
   "execution_count": 40,
   "metadata": {},
   "outputs": [
    {
     "name": "stdout",
     "output_type": "stream",
     "text": [
      "                                                    Terms  Cluster\n",
      "0        utilization threshold set disk file percent full       45\n",
      "1                          account lock unable login user        2\n",
      "2                                                                4\n",
      "3                                          password reset        9\n",
      "4   clairvia unable login password reset hduv do jmoyrong       20\n",
      "5                  account lock unable login user jyongco        2\n",
      "6   error message appear open cash_adjs clpdayend qrgxmsg        4\n",
      "7                 wow display leave monitor upside device        4\n",
      "8               cpu utilization threshold set utilization        7\n",
      "9                     receive cash_adjs clpdayend qclxerr        4\n",
      "10              cpu utilization threshold set utilization        7\n"
     ]
    }
   ],
   "source": [
    "# print terms to cluster mapping\n",
    "print(test.loc[:10,['Terms', 'Cluster']])"
   ]
  },
  {
   "cell_type": "code",
   "execution_count": 41,
   "metadata": {},
   "outputs": [],
   "source": [
    "# Save cluster in pickle file for future use\n",
    "# import pickle\n",
    "\n",
    "# pickle.dump(km, open('pkl/km_1.pkl', 'wb'))"
   ]
  },
  {
   "cell_type": "code",
   "execution_count": 42,
   "metadata": {},
   "outputs": [
    {
     "name": "stdout",
     "output_type": "stream",
     "text": [
      "Cluster 0: used_pct, use, tablespace, counter, calculate, pdsprod, oracle, passcode, display, incorrect, aliacnsmmm, ecsvqryc, mmmdayend, duo, procedure, qclxerr, receive, hbuttar, hcahps, hboc, hbo, hbi, hccl, hazard, haz, hci, hcis, zzaheer, haynes, hay, handheld, handle, handler, handset, handshake, hang, happen, hard, harddisk, harddrive, harding, hardware, hariassanchez, harp, harrell, harris, hcordero, hartnell, hdmi, hcpcs,\n",
      "Cluster 1: icu, session, apache, work, dev, miss, dep, outcome, bed, dept, artiva, loc, urgen, honeywell, mede, turn, cross, room, wow, domain, scanner, properly, computer, receive, impact, access, call, phone, medseries, user, unable, harris, hartnell, harrell, haynes, harp, hariassanchez, hay, zzaheer, hard, hardware, harding, harddrive, harddisk, hazard, happen, hang, handshake, handset, handler,\n",
      "Cluster 2: account, lock, login, unlock, unable, user, uid, password, incorrect, clairvia, outlook, error, ortiz, customer, sbendah, already, userid, able, jsteiner, claim, enup, devid, macfee, sft, front, via, deactivate, lgil, disablement, invalid, name, response, representation, do, ps, need, character, numeric, whcdayend, activate, cerner, emergency, millennium, suite, get, impact, qrnxie, mft, tier, computer,\n",
      "Cluster 3: cpu_utilization_logfile, cpu, error, zzaheer, hbi, harris, hartnell, hay, haynes, haz, hazard, hboc, hbo, harp, hbuttar, hcahps, hccl, hci, harrell, hariassanchez, hcordero, handler, hallway, halsted, halt, hambleton, hand, handheld, handle, handset, hardware, handshake, hang, happen, hard, harddisk, harddrive, harding, hcis, hcpcs, half, height, heartbeat_async_response, heartcode, heartcode®, heartlab, heartvascular, heat, heather, hello,\n",
      "Cluster 4: error, unable, user, dev, need, peer, process, run, work, outlook, screen, access, device, call, computer, application, printer, print, round, loc, dept, miss, cerner, monitor, service, icon, name, establish, bgp, citrix, scanner, desktop, get, journey, email, powerchart, open, devid, invision, instal, test, app, take, mdf, duo, outage, exchange, please, medseries, main,\n",
      "Cluster 5: cerner, cpdi, unable, order, firstnet, login, launch, pharmnet, connect, appbar, devip, device, comp, reconciliation, application, guide, citrix, nfuse, user, item, provision, access, careb, bill, open, find, charge, powerchart, error, document, handshake, hard, hbuttar, harddisk, handler, harddrive, happen, hboc, harding, hbo, hbi, hang, hardware, handset, hazard, hariassanchez, harp, harrell, hcahps, haz,\n",
      "Cluster 6: phone, fax, ascom, dept, work, make, zother, helpdesk, correctly, loc, ticu, myco, enrol, call, around, extn, swap, hardware, offline, resol, cable, ring, extension, desk, failure, still, cisco, tone, multiple, dial, unable, break, room, help, error, devid, duo, hbuttar, hboc, haz, hbi, hcahps, hazard, handshake, hbo, harding, haynes, hartnell, hang, happen,\n",
      "Cluster 7: utilization, cpu, set, threshold, vprt, medbg, vii, vora, vint, sjw, dignityhealth, org, dvidmi, utl, medps, sdcchmc_lis, app, sts, backup, stat, rad, cache, clear, schedule, task, harrell, hay, harp, hariassanchez, hardware, haynes, haz, harris, harding, hartnell, zzaheer, harddrive, harddisk, hall, hallway, halsted, halt, hambleton, hand, handheld, handle, handler, handset, handshake, hang,\n",
      "Cluster 8: printer, kyocera, map, print, make, unable, dev, noise, add, medseries, need, computer, devip, device, take, properly, user, jam, paper, install, zother, helpdesk, want, impact, back, say, dept, work, loc, call, haynes, harris, harrell, hartnell, harp, hay, harddisk, hariassanchez, hardware, halsted, halt, hambleton, hand, handheld, handle, handler, handset, handshake, hang, happen,\n",
      "Cluster 9: password, reset, user, need, invision, login, unable, medseries, hduv, account, userid, meditech, log, do, dev, acorralescarreon, forget, apache, mobile, pas, citrix, name, devid, get, device, lock, nfuse, passwo, able, desktop, rco, remember, pss, hdou, guide, enrol, take, try, duo, hay, harddrive, hboc, hbo, hbi, happen, hang, hazard, hard, harddisk, handshake,\n",
      "Cluster 10: job, exit, active, complete, status, unlock, medseries, dev, lock, hbo, harp, harrell, harris, hartnell, hay, hbi, hboc, hbuttar, hariassanchez, haynes, haz, hazard, hcahps, zzaheer, hardware, handler, hallway, halsted, halt, hambleton, hand, handheld, handle, handset, hci, handshake, hang, happen, hard, harddisk, harddrive, harding, hccl, hcordero, hcis, heat, heartbase, heartbeat, heartbeat_async_response, heartcode,\n",
      "Cluster 11: smart, up, communication, link, lose, status, alarm, duo, device, main, activation, user, want, twr, activate, srt, need, mdf, customer, send, set, sm, reactivate, call, acknowledge, nup, know, tower, nst, pod, guide, unplug, kitchen, itc, rad, fam, get, break, rehab, smlb, enrollment, back, chwidv, requester, security, corp, enroll, code, mcm, battery,\n",
      "Cluster 12: medseries, enable, adt, account, error, get, communication, unable, devid, job, wrong, screen, addins, occur, cross, login, dev, information, access, uid, phishing, require, hduv, do, lock, icon, outlook, reset, password, user, haynes, harris, hay, haz, hartnell, hazard, hbi, hbo, harding, harrell, hang, hand, handheld, handle, handler, handset, handshake, happen, harp, hard,\n",
      "Cluster 13: duo, activation, activate, need, send, enroll, code, sm, register, guide, set, customer, userid, user, assistance, unable, phone, security, account, install, instal, link, able, login, heartlab, heather, heat, hardware, hariassanchez, heartvascular, harp, hazard, harrell, harris, hartnell, hay, haynes, haz, height, harding, harddrive, handle, hallway, halsted, halt, hambleton, hand, handheld, handler, harddisk,\n",
      "Cluster 14: application, zother, helpdesk, standard, homecare, gecb, centricity, mckesson, true, iis, unavailable, pool, manager, instal, call, user, haynes, hay, hbo, haz, hazard, hbi, hboc, hbuttar, hcahps, hccl, hartnell, zzaheer, harris, handshake, halt, hambleton, hand, handheld, handle, handler, handset, hang, harrell, happen, hard, harddisk, harddrive, harding, hariassanchez, harp, hardware, hcpcs, hci, heartlab,\n",
      "Cluster 15: reboot, mdf, device, secondary, sld, outage, mic, profile, url, ask, provide, power, dev, user, haz, hbo, hboc, harrell, harris, hbi, haynes, hartnell, hay, harp, hazard, zzaheer, hardware, hariassanchez, hcahps, hall, hallway, halsted, halt, hambleton, hand, handheld, handle, handler, handset, handshake, hang, happen, hard, harddisk, harddrive, harding, hbuttar, hcpcs, hccl, healthstream,\n",
      "Cluster 16: without, security, check, reset, password, zzaheer, hazard, harris, hartnell, hay, haynes, haz, hbi, harp, hbo, hboc, hbuttar, hcahps, hccl, hci, hcis, harrell, hariassanchez, hcpcs, handler, hallway, halsted, halt, hambleton, hand, handheld, handle, handset, hardware, handshake, hang, happen, hard, harddisk, harddrive, harding, hcordero, hdd, hdaniels, heartbase, heartbeat_async_response, heartcode, heartcode®, heartlab, heartvascular,\n",
      "Cluster 17: rectimeout, current, attempt, occur, source_realtime, tier, engine, transcription, optum, threshold, result, solution, bridge, breas, respirat, breezesuite, bre, goal, hboc, hazard, hbi, hbo, hbuttar, haynes, hcahps, gmhmed, hccl, hci, hcis, haz, hay, hcpcs, hartnell, handle, handler, handset, handshake, hang, happen, hard, harddisk, harddrive, harding, hardware, hariassanchez, harp, harrell, harris, hcordero, hdaughe,\n",
      "Cluster 18: backup, overdue, database, fingerprint, store, vault, log, partition, backups, hour, daily, report, run, harris, harrell, hartnell, hay, zzaheer, harp, haz, hazard, hbi, hbo, hboc, hbuttar, hcahps, haynes, hardware, hariassanchez, hci, halsted, halt, hambleton, hand, handheld, handle, handler, handset, handshake, hang, happen, hard, harddisk, harddrive, harding, hccl, hdaughe, hcis, healthwellness, hear,\n",
      "Cluster 19: desktop, turn, screen, dev, unable, work, select, scan, launch, get, print, window, application, harris, hbi, hardware, haz, harrell, harp, hbo, hartnell, hariassanchez, hay, haynes, hazard, zzaheer, hboc, handle, hallway, halsted, halt, hambleton, hand, handheld, handler, harddrive, handset, handshake, hang, happen, hard, harddisk, harding, hccl, hbuttar, heartcode, healthtechnologygr, healthwellness, healthy, hear,\n",
      "Cluster 20: password, do, login, hduv, reset, unable, able, user, account, change, apache, uid, incorrect, tell, customer, enup, fperez, cerner, window, pas, acc, ecisa, temporary, es, nkaur, give, hdou, series, invision, already, ps, later, portal, citrix, voice, extension, take, call, log, screen, mail, clairvia, cisco, try, unlock, phone, lock, haynes, hay, happen,\n",
      "Cluster 21: port, status, mdf, main, smart, up, high, alarm, sensor, temp, temperature, value, device, srt, edh, dmf, nst, master, hilt, smlb, harddrive, harris, harrell, harp, hay, hariassanchez, hardware, haz, harding, hartnell, haynes, zzaheer, harddisk, hand, half, hall, hallway, halsted, halt, hambleton, handheld, hard, handle, handler, handset, handshake, hang, happen, hazard, hbuttar,\n",
      "Cluster 22: lock, account, user, medseries, rwenstrand, frequently, ps, bed, cerner, login, able, job, remove, teletracking, say, unable, impact, enable, dept, loc, hartnell, harris, hay, harrell, zzaheer, haynes, hazard, hbi, hbo, hboc, haz, harding, harp, hariassanchez, hallway, halsted, halt, hambleton, hand, handheld, handle, handler, handset, handshake, hang, happen, hard, harddisk, harddrive, hcahps,\n",
      "Cluster 23: keyboard, mouse, monitor, would, wear, letter, turn, dev, agent, citrix, sticky, service, process, run, call, key, stick, restart, need, try, get, screen, dept, work, hang, hardware, haynes, hay, hartnell, hallway, harris, halsted, halt, harrell, harp, hariassanchez, harding, happen, hambleton, hand, harddrive, handheld, handle, handler, harddisk, handset, haz, handshake, hard, zzaheer,\n",
      "Cluster 24: journey, login, user, unable, zzaheer, hazard, harrell, harris, hartnell, hay, haynes, haz, hbi, hariassanchez, hbo, hboc, hbuttar, hcahps, hccl, hci, harp, harding, hardware, handle, hall, hallway, halsted, halt, hambleton, hand, handheld, handler, hcordero, handset, handshake, hang, happen, hard, harddisk, harddrive, hcis, hdaniels, hcpcs, hear, heartbeat, heartbeat_async_response, heartcode, heartcode®, heartlab, heartvascular,\n",
      "Cluster 25: destination_realtime, listen, ipaddress, host, adt, port, tier, provider, portal, mobilemd, provation, workflowrx, interface, omnicell, northrid, informati, qsight, document, allergy, epa, destination, order, message, try, send, access, medseries, hazard, hbi, hbo, hang, handle, hboc, hbuttar, haz, handheld, handler, harris, haynes, hay, hartnell, happen, harrell, harp, hariassanchez, hardware, harding, harddrive, harddisk, handset,\n",
      "Cluster 26: power, supply, responsive, desktop, device, round, main, nst, corp, cisco, master, mdf, harris, hariassanchez, harp, harrell, hbuttar, hartnell, hardware, haynes, haz, hazard, hbi, hbo, hboc, hay, zzaheer, harding, harddrive, half, hall, hallway, halsted, halt, hambleton, hand, handheld, handle, handler, handset, handshake, hang, happen, hard, hccl, harddisk, hcahps, hcpcs, hci, heartlab,\n",
      "Cluster 27: apache, reset, password, zzaheer, hazard, harrell, harris, hartnell, hay, haynes, haz, hbo, hbi, hboc, hbuttar, hcahps, hccl, hci, hcis, harp, hariassanchez, hcpcs, handler, hallway, halsted, halt, hambleton, hand, handheld, handle, handset, hardware, handshake, hang, happen, hard, harddisk, harddrive, harding, hcordero, hdaughe, hdaniels, heartbase, heartbeat_async_response, heartcode, heartcode®, heartlab, heartvascular, heat, heather,\n",
      "Cluster 28: board, track, firstnet, round, cerner, yellow, connect, reset, net, internet, roble, first, cynthia, dictation, access, launch, application, keep, powerchart, time, unable, haz, hbuttar, hazard, hay, hbi, hbo, hboc, haynes, harrell, hartnell, harris, handheld, handle, handler, handset, handshake, hang, happen, hard, harddisk, harddrive, harding, hardware, hariassanchez, harp, hccl, hambleton, hand, hcahps,\n",
      "Cluster 29: mcafee, encryption, unable, login, user, recognize, authenticate, sync, pas, endpoint, able, password, default, message, ask, uid, use, log, error, hartnell, hboc, harp, harrell, harris, hbi, hay, haynes, haz, hazard, hbo, hariassanchez, hard, hardware, handle, hall, hallway, halsted, halt, hambleton, hand, handheld, handler, harding, handset, handshake, hang, happen, hcahps, harddisk, harddrive,\n",
      "Cluster 30: mdf, associate, controller, main, master, cfm, fam, dsch, mic, mcm, recur, pav, cffb, edh, infusionvt, sldc, creekside, idf, nst, heartbeat_async_response, hartnell, hardware, hariassanchez, help, harp, harrell, harris, hay, harding, hello, haynes, haz, height, hazard, hbi, helpdesk, harddrive, heartbeat, handle, halsted, halt, hemo, hambleton, hand, handheld, handler, hemisphere, handset, handshake, hang,\n",
      "Cluster 31: volume, warn, nearly, event, space, offline, full, lvs_nas, nas, harrell, harding, hardware, hariassanchez, harp, zzaheer, harris, harddrive, hay, haynes, haz, hazard, hbi, hbo, hartnell, hard, harddisk, hand, half, hall, hallway, halsted, halt, hambleton, handheld, hbuttar, handle, handler, handset, handshake, hang, happen, hboc, hccl, hcahps, haddad, healthwellness, healthy, hear, heartbase, heartbeat,\n",
      "Cluster 32: procesing, icon, open, impact, dept, loc, device, mistake, create, user, hbi, hazard, hbo, haz, haynes, hay, hartnell, hboc, harris, hbuttar, hcahps, harrell, harp, hci, hariassanchez, hallway, halsted, halt, hambleton, hand, handheld, handle, handler, handset, handshake, hang, happen, hard, harddisk, harddrive, harding, hardware, hccl, zzaheer, hcis, heartvascular, hear, heartbase, heartbeat, heartbeat_async_response,\n"
     ]
    },
    {
     "name": "stdout",
     "output_type": "stream",
     "text": [
      "Cluster 33: laptop, computer, desktop, zother, helpdesk, unable, sharma, dev, log, continuously, screen, fan, update, slowness, restriction, internet, floor, icon, go, display, miss, adh, sign, ps, work, impact, medseries, acknowledge, enup, dept, loc, time, application, able, login, user, haynes, hand, handheld, hbo, hbi, handle, handler, handset, hazard, haz, hardware, hariassanchez, handshake, hang,\n",
      "Cluster 34: syslog, critical, main, mdf, master, module, basement, trans, heartvascular, nst, vsmc, core, srdhs, entsensorthresholdnotification, vendor, status, idf, hartnell, ifs_dsplye, harding, hardware, hariassanchez, harp, harrell, harris, hay, harddisk, haynes, haz, hazard, hbi, hbo, hboc, harddrive, hard, habramo, happen, haley, half, hall, hallway, halsted, halt, ignore, hambleton, hand, handheld, handle, handler, handset,\n",
      "Cluster 35: percentage, packet, additional, ping, info, see, time, app, hduvdone, mcc, notexist, pas, flowcast, rps, chwmf, normal, sql, supply, sac, power, hduv, reset, password, login, user, unable, hariassanchez, handset, hambleton, hboc, hand, handheld, hbo, hbi, handle, hazard, haz, handler, haynes, handshake, harp, hang, happen, hay, hartnell, hard, harddisk, harddrive, harris, harding,\n",
      "Cluster 36: initial, stick, screen, desktop, login, zzaheer, haz, harp, harrell, harris, hartnell, hay, haynes, hbi, hazard, hbo, hboc, hbuttar, hcahps, hccl, hariassanchez, harding, hardware, handle, hall, hallway, halsted, halt, hambleton, hand, handheld, handler, hcis, handset, handshake, hang, happen, hard, harddisk, harddrive, hci, hcordero, haley, heat, heartbase, heartbeat, heartbeat_async_response, heartcode, heartcode®, heartlab,\n",
      "Cluster 37: ipad, mobile, device, microsoft, word, save, document, zother, helpdesk, unable, hay, hbuttar, harp, harrell, harris, hartnell, haz, haynes, hazard, hariassanchez, hbi, hbo, hboc, zzaheer, harddisk, hardware, harding, hallway, halsted, halt, hambleton, hand, handheld, handle, handler, handset, handshake, hang, happen, hard, hccl, harddrive, hcahps, hcordero, hci, heartlab, healthy, hear, heartbase, heartbeat,\n",
      "Cluster 38: login, unable, user, encryption, account, medseries, userid, customer, unlock, nfuse, dev, able, lock, acc, enable, time, profile, hold, cerner, journey, pass, hduv, first, yes, ecisa, rco, end, gecb, remotely, duo, work, credential, total, reward, try, pas, disable, webex, sm, screen, access, powerchart, computer, guide, boot, ask, lead, securelink, self, rdezubiria,\n",
      "Cluster 39: date, text, notification, amcore, dat, verify, haynes, hariassanchez, harp, harrell, harris, hartnell, hay, hbi, haz, hazard, harding, hbo, hboc, hbuttar, hcahps, hccl, hardware, zzaheer, harddrive, handheld, half, hall, hallway, halsted, halt, hambleton, hand, handle, hcis, handler, handset, handshake, hang, happen, hard, harddisk, hci, hdaughe, hcordero, hear, heartbeat, heartbeat_async_response, heartcode, heartcode®,\n",
      "Cluster 40: label, printer, align, correctly, work, dev, hcahps, haynes, harrell, harris, hartnell, hci, hccl, hay, haz, hbuttar, hazard, harp, hbi, hbo, hboc, zzaheer, hariassanchez, hcordero, hardware, halsted, halt, hambleton, hand, handheld, handle, handler, handset, handshake, hang, happen, hard, harddisk, harddrive, harding, hcis, hcpcs, hall, heather, heartbeat, heartbeat_async_response, heartcode, heartcode®, heartlab, heartvascular,\n",
      "Cluster 41: mft, cxnmft, cft, per, ensure, cftprd, component, framework, arrive, event, heartbeat, cxnmft_utilities, interface, sql, receive, please, file, tier, efr, rubicon, service, con, impacint, ccal, int, servi, sjm, directory, error, con_msf, medseries, message, run, omegamon_base, wmb_status_stop_event, kqib, payload, tivoli_prd, tivoli, compas_results, dhmgn_clinics, cxnh, runni, sinc, magenow, retryfailure, compas, pft, depts, transport,\n",
      "Cluster 42: wheel, workstation, wow, hariassanchez, harp, harrell, harris, hartnell, hay, haynes, haz, hazard, harding, hbi, hbo, hboc, hbuttar, hcahps, hccl, hci, hardware, zzaheer, hcordero, harddrive, hall, hallway, halsted, halt, hambleton, hand, handheld, handle, handler, handset, handshake, hang, happen, hard, harddisk, hcis, hcpcs, haley, heather, heartbeat, heartbeat_async_response, heartcode, heartcode®, heartlab, heartvascular, heat,\n",
      "Cluster 43: wow, workstation, wheel, internet, intermittently, osha, joint, commission, compliance, course, scanner, unable, work, hboc, harrell, harris, hartnell, hay, hcahps, hbo, haynes, haz, harp, hazard, hbi, hbuttar, hand, harding, hariassanchez, hardware, harddrive, hci, harddisk, hard, happen, hang, handshake, handset, handler, halt, hambleton, handle, handheld, hccl, hcpcs, hcis, heartvascular, hear, heartbase, heartbeat,\n",
      "Cluster 44: myjourney, unable, launch, user, application, url, logon, open, require, icon, error, test, sso, work, dev, webpage, medseries, google, explorer, load, chrome, reset, try, internet, computer, take, hay, hartnell, hbi, harris, haynes, haz, hazard, hardware, harrell, harp, hambleton, hand, handheld, handle, handler, handset, handshake, hang, happen, hard, harddisk, harddrive, harding, hboc,\n",
      "Cluster 45: percent, disk, full, file, utilization, set, threshold, app, memory, sql, use, vctx, vprt, viis, vaio, allocate, dmsql, qrnxie, sally, fhm, medarc, wouldh, snm, srm, medq, sr, vsql, nhc, srdhsm, mhbmsg_pst, bmhmsg_pst, ccal, lvbackup, rmanvg, bmhdayend, mhbdayend, phpactx, dignityhealth, org, phpacct, pac, mapper, backup, unable, dev, harrell, harp, gmhmed, hariassanchez, hardware,\n",
      "Cluster 46: charge, cross, dev, information, impact, allscripts, loc, gecb, cerner, replugged, wow, work, unplug, urgen, scanner, catch, cdm, cent, hence, telemetry, power, another, post, computer, dept, haz, hazard, hbi, hbo, hariassanchez, handshake, handset, handler, hboc, hbuttar, hcahps, handle, hang, happen, hardware, haynes, hard, harddisk, hay, hartnell, harris, hci, harrell, harddrive, harp,\n",
      "Cluster 47: devid, desktop, need, reset, password, miss, cpu, haynes, harp, harrell, harris, hartnell, hay, zzaheer, haz, hazard, hbo, hboc, hbuttar, hcahps, hbi, hariassanchez, hci, handler, hallway, halsted, halt, hambleton, hand, handheld, handle, handset, hardware, handshake, hang, happen, hard, harddisk, harddrive, harding, hccl, hcordero, hcis, heat, heartbase, heartbeat, heartbeat_async_response, heartcode, heartcode®, heartlab,\n",
      "Cluster 48: install, ram, hard, upgrade, move, driver, need, please, certificate, vpn, powerchart, computer, printer, cerner, handle, haynes, haz, hazard, hambleton, hbo, hbi, hartnell, hboc, halt, hbuttar, hcahps, hccl, hay, harrell, harris, handler, harp, hariassanchez, hci, hardware, hand, harding, harddrive, harddisk, handheld, happen, hang, handshake, handset, zzaheer, hcpcs, hcis, heat, heartbase, heartbeat,\n",
      "Cluster 49: kyocera, document, print, zzaheer, haz, harp, harrell, harris, hartnell, hay, haynes, hazard, hardware, hbi, hbo, hboc, hbuttar, hcahps, hccl, hci, hariassanchez, harddrive, harding, hcordero, hall, hallway, halsted, halt, hambleton, hand, handheld, handle, handler, handset, handshake, hang, happen, hard, harddisk, hcis, hcpcs, haley, heather, heartbeat, heartbeat_async_response, heartcode, heartcode®, heartlab, heartvascular, heat,\n",
      "(50, 2)\n"
     ]
    }
   ],
   "source": [
    "# order_centroids = kmeans.cluster_centers_.argsort()[:,-1:-51:-1]\n",
    "# for num, centroid in enumerate(order_centroids):\n",
    "#     print(str(num) + ' : ' + ', '.join(features[word] for word in centroid))\n",
    "    \n",
    "# Create mapping of ngram features into clusters, \n",
    "# save into terms map object with key as cluster name (first feature in each cluster - with 2 words)\n",
    "# terms = top 50 ngram features\n",
    "\n",
    "order_centroids = kmeans.cluster_centers_.argsort()[:, :51:-1]\n",
    "\n",
    "terms_map = pd.DataFrame(index = np.arange(0, num_clusters), columns = ['features','key'])    \n",
    "for i in range(num_clusters):\n",
    "    print(\"Cluster %d:\" % i, end='')\n",
    "    #terms_map['key'] = i\n",
    "    items = [] \n",
    "    for ind in order_centroids[i, :50]:\n",
    "        print(' %s' % features[ind], end=',')\n",
    "        items.append(features[ind])\n",
    "    for ind2 in order_centroids[i, :1]:\n",
    "        terms_map.key.loc[i] = features[ind2]\n",
    "\n",
    "    items_lst = ', '.join(items) \n",
    "    terms_map.features.loc[i] = items_lst\n",
    "    print()\n",
    "    \n",
    "print(terms_map.shape)"
   ]
  },
  {
   "cell_type": "code",
   "execution_count": 43,
   "metadata": {},
   "outputs": [
    {
     "data": {
      "text/plain": [
       "<matplotlib.axes._subplots.AxesSubplot at 0x1309d7ba8>"
      ]
     },
     "execution_count": 43,
     "metadata": {},
     "output_type": "execute_result"
    },
    {
     "data": {
      "image/png": "[encoded data removed]",
      "text/plain": [
       "<Figure size 432x288 with 1 Axes>"
      ]
     },
     "metadata": {
      "needs_background": "light"
     },
     "output_type": "display_data"
    }
   ],
   "source": [
    "# analyze the clusters\n",
    "top_clusters = test['Cluster'].value_counts()\n",
    "top_clusters.plot.bar(x = 'Cluster', y = 'Counts')"
   ]
  },
  {
   "cell_type": "code",
   "execution_count": 44,
   "metadata": {
    "scrolled": true
   },
   "outputs": [
    {
     "name": "stdout",
     "output_type": "stream",
     "text": [
      "                                                                                      Short_description  \\\n",
      "2                                                                              PHX-VAPP-408 - SAC0 MGH0   \n",
      "6   PHXASP03 RPG1216 Error message CPF4128 appeared during OPEN (C S D F). CASH_ADJS  CLPDAYEND  626...   \n",
      "7                      WOW ||  Display on the Left Monitor is upside down ||  device id-  10.203.212.24   \n",
      "9   PHXASP03 CPA0701 RPG9001 received by PHCL1956 at 2100. (C D I R) CASH_ADJS  CLPDAYEND  626868 QC...   \n",
      "15                       'phx-app-040.chw.edu':There are '0 processes' processes called 'w3wp' Running'   \n",
      "16                       'phx-app-034.chw.edu':There are '0 processes' processes called 'w3wp' Running'   \n",
      "17                                                   MEDITECH ALERT (HIGH)                                \n",
      "22  Phone - Not working || Ext - 4621 || Dept : ER Admitting / Loc : St Johns Regional Medical Cente...   \n",
      "24  CIM_2_MCD95_HCLORDL:HCL99ORDL:HCCL:TIER-2:DESTINATION_REALTIME:Try 1 to receive the response fro...   \n",
      "28  CIM_2_BAYDSC19_OMNADT:OMN19ADT:Omnicell:TIER-0:DESTINATION_REALTIME:Try 1 to receive the respons...   \n",
      "\n",
      "                                                                                              Terms  \\\n",
      "2                                                                                                     \n",
      "6                                             error message appear open cash_adjs clpdayend qrgxmsg   \n",
      "7                                                           wow display leave monitor upside device   \n",
      "9                                                               receive cash_adjs clpdayend qclxerr   \n",
      "15                                                                     app process process call run   \n",
      "16                                                                     app process process call run   \n",
      "17                                                                              meditech alert high   \n",
      "22                                               phone work ext dept admit loc john user impact one   \n",
      "24  hccl tier destination_realtime try receive response destination application order hospital bake   \n",
      "28              omnicell tier destination_realtime try receive response destination application adt   \n",
      "\n",
      "                    IPs  Cluster  \n",
      "2          phx-vapp-408        4  \n",
      "6                              4  \n",
      "7         10.203.212.24        4  \n",
      "9                              4  \n",
      "15  phx-app-040.chw.edu        4  \n",
      "16  phx-app-034.chw.edu        4  \n",
      "17                             4  \n",
      "22                             4  \n",
      "24                             4  \n",
      "28                             4  \n"
     ]
    }
   ],
   "source": [
    "# there is high volume for cluster 4, look at few to investigate\n",
    "print(test[test.Cluster == 4].iloc[:10, [16,17,18,19]])"
   ]
  },
  {
   "cell_type": "code",
   "execution_count": 45,
   "metadata": {},
   "outputs": [],
   "source": [
    "# Add extra fields \n",
    "# test['Date'] = test['Created'].dt.date\n",
    "# test['Hour'] = test['Created'].dt.hour\n",
    "test['Date_hour'] = test['Created'].dt.strftime('%m/%d/%Y %H')\n",
    "test['Weekday'] = test['Created'].dt.weekday"
   ]
  },
  {
   "cell_type": "code",
   "execution_count": 46,
   "metadata": {},
   "outputs": [],
   "source": [
    "# test = test.drop(columns = ['Date', 'Hour'])"
   ]
  },
  {
   "cell_type": "code",
   "execution_count": 47,
   "metadata": {},
   "outputs": [],
   "source": [
    "target_url_out = (\"/Users/devkrroy/Dev/Projects/snow/data/export3_out.csv\")\n",
    "# target_url_out = (\"C:/Dev/Projects/snow/data/export3_out.csv\")\n",
    "test.to_csv(target_url_out)"
   ]
  },
  {
   "cell_type": "code",
   "execution_count": 48,
   "metadata": {},
   "outputs": [],
   "source": [
    "# exclude the incidents that can be random e.g. password resets/login issues. Following clusters to be excluded:\n",
    "\n",
    "# 2  - account lock\n",
    "# 4  - \n",
    "# 7  - cpu utilization\n",
    "# 9  - password\n",
    "# 20 - password\n",
    "# 22 - account lock\n",
    "# 38 - login\n",
    "# 45 - utilization threshold\n",
    "\n",
    "test_new = test[~test['Cluster'].isin([2, 4, 7, 9, 20, 22, 38, 45])]"
   ]
  },
  {
   "cell_type": "code",
   "execution_count": 49,
   "metadata": {},
   "outputs": [],
   "source": [
    "target_url_out1 = (\"/Users/devkrroy/Dev/Projects/snow/data/export3_out1.csv\")\n",
    "# target_url_out1 = (\"C:/Dev/Projects/snow/data/export3_out1.csv\")\n",
    "test_new.to_csv(target_url_out1)"
   ]
  },
  {
   "cell_type": "code",
   "execution_count": null,
   "metadata": {},
   "outputs": [],
   "source": [
    "lst = []\n",
    "for item in test_new['Date_hour'].unique():\n",
    "    # closure_ci_lst = list(test_new[test_new['Date_hour'] == item]['Closure_CI'].astype(str))\n",
    "    # ci_lst = list(test_new[test_new['Date_hour'] == item]['Configuration_item'].astype(str))\n",
    "    \n",
    "    ips_lst = list(test_new[test_new['Date_hour'] == item]['IPs'].astype(str))\n",
    "\n",
    "    ips_list = list(ip_cluster)   \n",
    "    ips_str = ' '.join(ips_lst)\n",
    "    ips_lst = ips_str.split()\n",
    "    \n",
    "    lst2 = ips_lst\n",
    "    # lst2 = closure_ci_lst + ci_lst + ips_lst #+ cluster_lst\n",
    "    \n",
    "    # remove empty strings\n",
    "    lst2 = list(filter(lambda x: x != '', lst2))\n",
    "    \n",
    "    # remove duplicates from list\n",
    "    lst2 = list(dict.fromkeys(lst2))\n",
    "    \n",
    "    if len(lst2) > 0:\n",
    "        lst.append(lst2)\n",
    "    \n",
    "print(lst[0:3])\n",
    "print(len(lst))"
   ]
  },
  {
   "cell_type": "code",
   "execution_count": 93,
   "metadata": {},
   "outputs": [],
   "source": [
    "# copy test dataframe to a new dataframe before performing association rules\n",
    "# test_ar = (test[test['Country'] == \"France\"]\n",
    "#            .groupby(['Date_hour', 'Description'])['Quantity']\n",
    "#            .sum().unstack().reset_index().fillna(0)\n",
    "#            .set_index('InvoiceNo'))\n"
   ]
  },
  {
   "cell_type": "code",
   "execution_count": 94,
   "metadata": {},
   "outputs": [],
   "source": [
    "# resize list for quicker processing\n",
    "lst_new = lst[:100]"
   ]
  },
  {
   "cell_type": "code",
   "execution_count": 95,
   "metadata": {},
   "outputs": [
    {
     "name": "stdout",
     "output_type": "stream",
     "text": [
      "   -10.169.60.11  -10.207.200.16  -10.207.205.29  -10.207.205.30  \\\n",
      "0          False           False           False           False   \n",
      "1          False           False           False           False   \n",
      "2          False           False           False           False   \n",
      "3          False           False           False           False   \n",
      "4          False           False           False           False   \n",
      "\n",
      "   -10.207.205.31  -10.248.7.238  -10.248.84.17  -10.26.5.114  -10.36.69.166  \\\n",
      "0           False          False           True         False          False   \n",
      "1           False          False          False         False          False   \n",
      "2           False          False          False         False          False   \n",
      "3           False          False          False         False          False   \n",
      "4           False          False          False         False          False   \n",
      "\n",
      "   -162.135.81.98          ...            wip3-161-main-msjmc  \\\n",
      "0           False          ...                          False   \n",
      "1           False          ...                          False   \n",
      "2           False          ...                          False   \n",
      "3           False          ...                          False   \n",
      "4           False          ...                          False   \n",
      "\n",
      "   wip3-ll3-main-mfh  wip4-151-main-msjmc  wip4-161-main-msjmc  \\\n",
      "0              False                False                False   \n",
      "1              False                False                False   \n",
      "2              False                False                False   \n",
      "3              False                False                False   \n",
      "4              False                False                False   \n",
      "\n",
      "   wip47-2a-a237-sjpvh  wip6-5010-tower-crmc  wip69-3a-a337-sjpvh  \\\n",
      "0                False                 False                False   \n",
      "1                False                 False                False   \n",
      "2                False                 False                False   \n",
      "3                False                 False                False   \n",
      "4                False                 False                False   \n",
      "\n",
      "   wips01-1a-11223-sjrmc  wips01-4a-mob_sjrmc  wips02-1a-11223-sjrmc  \n",
      "0                  False                False                  False  \n",
      "1                  False                False                  False  \n",
      "2                  False                False                  False  \n",
      "3                  False                False                  False  \n",
      "4                  False                False                  False  \n",
      "\n",
      "[5 rows x 673 columns]\n",
      "   support        itemsets\n",
      "0     0.08    (10.1.103.4)\n",
      "1     0.08     (10.1.5.10)\n",
      "2     0.08    (10.1.5.100)\n",
      "3     0.08      (10.1.5.6)\n",
      "4     0.06  (10.139.251.5)\n"
     ]
    }
   ],
   "source": [
    "from mlxtend.preprocessing import TransactionEncoder\n",
    "from mlxtend.frequent_patterns import apriori, association_rules\n",
    "\n",
    "te = TransactionEncoder()\n",
    "te_data = te.fit(lst_new).transform(lst_new)\n",
    "\n",
    "data_x = pd.DataFrame(te_data, columns = te.columns_)\n",
    "print(data_x.head())\n",
    "\n",
    "frequent_items = apriori(data_x, use_colnames = True, min_support = 0.05)\n",
    "print(frequent_items.head())"
   ]
  },
  {
   "cell_type": "code",
   "execution_count": 106,
   "metadata": {},
   "outputs": [
    {
     "name": "stderr",
     "output_type": "stream",
     "text": [
      "/Library/Frameworks/Python.framework/Versions/3.7/lib/python3.7/site-packages/ipykernel_launcher.py:2: UserWarning: Pandas doesn't allow columns to be created via a new attribute name - see https://pandas.pydata.org/pandas-docs/stable/indexing.html#attribute-access\n",
      "  \n"
     ]
    },
    {
     "data": {
      "text/html": [
       "<div>\n",
       "<style scoped>\n",
       "    .dataframe tbody tr th:only-of-type {\n",
       "        vertical-align: middle;\n",
       "    }\n",
       "\n",
       "    .dataframe tbody tr th {\n",
       "        vertical-align: top;\n",
       "    }\n",
       "\n",
       "    .dataframe thead th {\n",
       "        text-align: right;\n",
       "    }\n",
       "</style>\n",
       "<table border=\"1\" class=\"dataframe\">\n",
       "  <thead>\n",
       "    <tr style=\"text-align: right;\">\n",
       "      <th></th>\n",
       "      <th>antecedents</th>\n",
       "      <th>consequents</th>\n",
       "      <th>antecedent support</th>\n",
       "      <th>consequent support</th>\n",
       "      <th>support</th>\n",
       "      <th>confidence</th>\n",
       "      <th>lift</th>\n",
       "      <th>leverage</th>\n",
       "      <th>conviction</th>\n",
       "    </tr>\n",
       "  </thead>\n",
       "  <tbody>\n",
       "    <tr>\n",
       "      <th>0</th>\n",
       "      <td>(chw-cr1-1a-itc-r-sjpvh)</td>\n",
       "      <td>10.1.103.4</td>\n",
       "      <td>0.08</td>\n",
       "      <td>0.08</td>\n",
       "      <td>0.08</td>\n",
       "      <td>1.0</td>\n",
       "      <td>12.5</td>\n",
       "      <td>0.0736</td>\n",
       "      <td>inf</td>\n",
       "    </tr>\n",
       "    <tr>\n",
       "      <th>1</th>\n",
       "      <td>(10.1.103.4)</td>\n",
       "      <td>chw-cr1-1a-itc-r-sjpvh</td>\n",
       "      <td>0.08</td>\n",
       "      <td>0.08</td>\n",
       "      <td>0.08</td>\n",
       "      <td>1.0</td>\n",
       "      <td>12.5</td>\n",
       "      <td>0.0736</td>\n",
       "      <td>inf</td>\n",
       "    </tr>\n",
       "    <tr>\n",
       "      <th>2</th>\n",
       "      <td>(10.1.5.100)</td>\n",
       "      <td>10.1.5.10</td>\n",
       "      <td>0.08</td>\n",
       "      <td>0.08</td>\n",
       "      <td>0.08</td>\n",
       "      <td>1.0</td>\n",
       "      <td>12.5</td>\n",
       "      <td>0.0736</td>\n",
       "      <td>inf</td>\n",
       "    </tr>\n",
       "    <tr>\n",
       "      <th>3</th>\n",
       "      <td>(10.1.5.10)</td>\n",
       "      <td>10.1.5.100</td>\n",
       "      <td>0.08</td>\n",
       "      <td>0.08</td>\n",
       "      <td>0.08</td>\n",
       "      <td>1.0</td>\n",
       "      <td>12.5</td>\n",
       "      <td>0.0736</td>\n",
       "      <td>inf</td>\n",
       "    </tr>\n",
       "    <tr>\n",
       "      <th>4</th>\n",
       "      <td>(10.1.5.6)</td>\n",
       "      <td>10.1.5.10</td>\n",
       "      <td>0.08</td>\n",
       "      <td>0.08</td>\n",
       "      <td>0.08</td>\n",
       "      <td>1.0</td>\n",
       "      <td>12.5</td>\n",
       "      <td>0.0736</td>\n",
       "      <td>inf</td>\n",
       "    </tr>\n",
       "  </tbody>\n",
       "</table>\n",
       "</div>"
      ],
      "text/plain": [
       "                antecedents             consequents  antecedent support  \\\n",
       "0  (chw-cr1-1a-itc-r-sjpvh)              10.1.103.4                0.08   \n",
       "1              (10.1.103.4)  chw-cr1-1a-itc-r-sjpvh                0.08   \n",
       "2              (10.1.5.100)               10.1.5.10                0.08   \n",
       "3               (10.1.5.10)              10.1.5.100                0.08   \n",
       "4                (10.1.5.6)               10.1.5.10                0.08   \n",
       "\n",
       "   consequent support  support  confidence  lift  leverage  conviction  \n",
       "0                0.08     0.08         1.0  12.5    0.0736         inf  \n",
       "1                0.08     0.08         1.0  12.5    0.0736         inf  \n",
       "2                0.08     0.08         1.0  12.5    0.0736         inf  \n",
       "3                0.08     0.08         1.0  12.5    0.0736         inf  \n",
       "4                0.08     0.08         1.0  12.5    0.0736         inf  "
      ]
     },
     "execution_count": 106,
     "metadata": {},
     "output_type": "execute_result"
    }
   ],
   "source": [
    "rules = association_rules(frequent_items, metric = \"lift\", min_threshold = 1)\n",
    "rules.antecendents = rules.antecedents.apply(lambda x: next(iter(x)))\n",
    "rules.consequents = rules.consequents.apply(lambda x: next(iter(x)))\n",
    "rules.head()"
   ]
  },
  {
   "cell_type": "code",
   "execution_count": 103,
   "metadata": {},
   "outputs": [
    {
     "data": {
      "text/html": [
       "<div>\n",
       "<style scoped>\n",
       "    .dataframe tbody tr th:only-of-type {\n",
       "        vertical-align: middle;\n",
       "    }\n",
       "\n",
       "    .dataframe tbody tr th {\n",
       "        vertical-align: top;\n",
       "    }\n",
       "\n",
       "    .dataframe thead th {\n",
       "        text-align: right;\n",
       "    }\n",
       "</style>\n",
       "<table border=\"1\" class=\"dataframe\">\n",
       "  <thead>\n",
       "    <tr style=\"text-align: right;\">\n",
       "      <th></th>\n",
       "      <th>antecedents</th>\n",
       "      <th>consequents</th>\n",
       "      <th>antecedent support</th>\n",
       "      <th>consequent support</th>\n",
       "      <th>support</th>\n",
       "      <th>confidence</th>\n",
       "      <th>lift</th>\n",
       "      <th>leverage</th>\n",
       "      <th>conviction</th>\n",
       "    </tr>\n",
       "  </thead>\n",
       "  <tbody>\n",
       "    <tr>\n",
       "      <th>27</th>\n",
       "      <td>(chw-wc1-mdf-main-sjpvh)</td>\n",
       "      <td>10.139.251.5</td>\n",
       "      <td>0.06</td>\n",
       "      <td>0.06</td>\n",
       "      <td>0.06</td>\n",
       "      <td>1.0</td>\n",
       "      <td>16.666667</td>\n",
       "      <td>0.0564</td>\n",
       "      <td>inf</td>\n",
       "    </tr>\n",
       "    <tr>\n",
       "      <th>26</th>\n",
       "      <td>(10.139.251.5)</td>\n",
       "      <td>chw-wc1-mdf-main-sjpvh</td>\n",
       "      <td>0.06</td>\n",
       "      <td>0.06</td>\n",
       "      <td>0.06</td>\n",
       "      <td>1.0</td>\n",
       "      <td>16.666667</td>\n",
       "      <td>0.0564</td>\n",
       "      <td>inf</td>\n",
       "    </tr>\n",
       "    <tr>\n",
       "      <th>40</th>\n",
       "      <td>(10.205.251.6)</td>\n",
       "      <td>chw-wc2-mdf-main-mh</td>\n",
       "      <td>0.06</td>\n",
       "      <td>0.06</td>\n",
       "      <td>0.06</td>\n",
       "      <td>1.0</td>\n",
       "      <td>16.666667</td>\n",
       "      <td>0.0564</td>\n",
       "      <td>inf</td>\n",
       "    </tr>\n",
       "    <tr>\n",
       "      <th>41</th>\n",
       "      <td>(chw-wc2-mdf-main-mh)</td>\n",
       "      <td>10.205.251.6</td>\n",
       "      <td>0.06</td>\n",
       "      <td>0.06</td>\n",
       "      <td>0.06</td>\n",
       "      <td>1.0</td>\n",
       "      <td>16.666667</td>\n",
       "      <td>0.0564</td>\n",
       "      <td>inf</td>\n",
       "    </tr>\n",
       "    <tr>\n",
       "      <th>42</th>\n",
       "      <td>(chw-as1-idf103-main-srdhs)</td>\n",
       "      <td>10.250.238.50</td>\n",
       "      <td>0.06</td>\n",
       "      <td>0.06</td>\n",
       "      <td>0.06</td>\n",
       "      <td>1.0</td>\n",
       "      <td>16.666667</td>\n",
       "      <td>0.0564</td>\n",
       "      <td>inf</td>\n",
       "    </tr>\n",
       "    <tr>\n",
       "      <th>43</th>\n",
       "      <td>(10.250.238.50)</td>\n",
       "      <td>chw-as1-idf103-main-srdhs</td>\n",
       "      <td>0.06</td>\n",
       "      <td>0.06</td>\n",
       "      <td>0.06</td>\n",
       "      <td>1.0</td>\n",
       "      <td>16.666667</td>\n",
       "      <td>0.0564</td>\n",
       "      <td>inf</td>\n",
       "    </tr>\n",
       "    <tr>\n",
       "      <th>0</th>\n",
       "      <td>(chw-cr1-1a-itc-r-sjpvh)</td>\n",
       "      <td>10.1.103.4</td>\n",
       "      <td>0.08</td>\n",
       "      <td>0.08</td>\n",
       "      <td>0.08</td>\n",
       "      <td>1.0</td>\n",
       "      <td>12.500000</td>\n",
       "      <td>0.0736</td>\n",
       "      <td>inf</td>\n",
       "    </tr>\n",
       "    <tr>\n",
       "      <th>571</th>\n",
       "      <td>(10.1.5.100, 10.1.5.6)</td>\n",
       "      <td>chw-as2-2central-dsc</td>\n",
       "      <td>0.08</td>\n",
       "      <td>0.08</td>\n",
       "      <td>0.08</td>\n",
       "      <td>1.0</td>\n",
       "      <td>12.500000</td>\n",
       "      <td>0.0736</td>\n",
       "      <td>inf</td>\n",
       "    </tr>\n",
       "    <tr>\n",
       "      <th>573</th>\n",
       "      <td>(10.1.5.6, chw-as1-2central-dsc)</td>\n",
       "      <td>chw-as2-2central-dsc</td>\n",
       "      <td>0.08</td>\n",
       "      <td>0.08</td>\n",
       "      <td>0.08</td>\n",
       "      <td>1.0</td>\n",
       "      <td>12.500000</td>\n",
       "      <td>0.0736</td>\n",
       "      <td>inf</td>\n",
       "    </tr>\n",
       "    <tr>\n",
       "      <th>574</th>\n",
       "      <td>(chw-as2-2central-dsc)</td>\n",
       "      <td>10.1.5.100</td>\n",
       "      <td>0.08</td>\n",
       "      <td>0.08</td>\n",
       "      <td>0.08</td>\n",
       "      <td>1.0</td>\n",
       "      <td>12.500000</td>\n",
       "      <td>0.0736</td>\n",
       "      <td>inf</td>\n",
       "    </tr>\n",
       "    <tr>\n",
       "      <th>575</th>\n",
       "      <td>(10.1.5.100)</td>\n",
       "      <td>chw-as2-2central-dsc</td>\n",
       "      <td>0.08</td>\n",
       "      <td>0.08</td>\n",
       "      <td>0.08</td>\n",
       "      <td>1.0</td>\n",
       "      <td>12.500000</td>\n",
       "      <td>0.0736</td>\n",
       "      <td>inf</td>\n",
       "    </tr>\n",
       "    <tr>\n",
       "      <th>576</th>\n",
       "      <td>(10.1.5.6)</td>\n",
       "      <td>chw-as2-2central-dsc</td>\n",
       "      <td>0.08</td>\n",
       "      <td>0.08</td>\n",
       "      <td>0.08</td>\n",
       "      <td>1.0</td>\n",
       "      <td>12.500000</td>\n",
       "      <td>0.0736</td>\n",
       "      <td>inf</td>\n",
       "    </tr>\n",
       "    <tr>\n",
       "      <th>577</th>\n",
       "      <td>(chw-as1-2central-dsc)</td>\n",
       "      <td>chw-as2-2central-dsc</td>\n",
       "      <td>0.08</td>\n",
       "      <td>0.08</td>\n",
       "      <td>0.08</td>\n",
       "      <td>1.0</td>\n",
       "      <td>12.500000</td>\n",
       "      <td>0.0736</td>\n",
       "      <td>inf</td>\n",
       "    </tr>\n",
       "    <tr>\n",
       "      <th>578</th>\n",
       "      <td>(chw-as2-2central-dsc, 10.1.5.100, 10.1.5.6)</td>\n",
       "      <td>chw-as1-2west-dsc</td>\n",
       "      <td>0.08</td>\n",
       "      <td>0.08</td>\n",
       "      <td>0.08</td>\n",
       "      <td>1.0</td>\n",
       "      <td>12.500000</td>\n",
       "      <td>0.0736</td>\n",
       "      <td>inf</td>\n",
       "    </tr>\n",
       "    <tr>\n",
       "      <th>579</th>\n",
       "      <td>(chw-as2-2central-dsc, 10.1.5.100, chw-as1-2west-dsc)</td>\n",
       "      <td>10.1.5.6</td>\n",
       "      <td>0.08</td>\n",
       "      <td>0.08</td>\n",
       "      <td>0.08</td>\n",
       "      <td>1.0</td>\n",
       "      <td>12.500000</td>\n",
       "      <td>0.0736</td>\n",
       "      <td>inf</td>\n",
       "    </tr>\n",
       "    <tr>\n",
       "      <th>580</th>\n",
       "      <td>(chw-as2-2central-dsc, 10.1.5.6, chw-as1-2west-dsc)</td>\n",
       "      <td>10.1.5.100</td>\n",
       "      <td>0.08</td>\n",
       "      <td>0.08</td>\n",
       "      <td>0.08</td>\n",
       "      <td>1.0</td>\n",
       "      <td>12.500000</td>\n",
       "      <td>0.0736</td>\n",
       "      <td>inf</td>\n",
       "    </tr>\n",
       "    <tr>\n",
       "      <th>581</th>\n",
       "      <td>(10.1.5.100, 10.1.5.6, chw-as1-2west-dsc)</td>\n",
       "      <td>chw-as2-2central-dsc</td>\n",
       "      <td>0.08</td>\n",
       "      <td>0.08</td>\n",
       "      <td>0.08</td>\n",
       "      <td>1.0</td>\n",
       "      <td>12.500000</td>\n",
       "      <td>0.0736</td>\n",
       "      <td>inf</td>\n",
       "    </tr>\n",
       "    <tr>\n",
       "      <th>582</th>\n",
       "      <td>(chw-as2-2central-dsc, 10.1.5.100)</td>\n",
       "      <td>10.1.5.6</td>\n",
       "      <td>0.08</td>\n",
       "      <td>0.08</td>\n",
       "      <td>0.08</td>\n",
       "      <td>1.0</td>\n",
       "      <td>12.500000</td>\n",
       "      <td>0.0736</td>\n",
       "      <td>inf</td>\n",
       "    </tr>\n",
       "    <tr>\n",
       "      <th>583</th>\n",
       "      <td>(chw-as2-2central-dsc, 10.1.5.6)</td>\n",
       "      <td>10.1.5.100</td>\n",
       "      <td>0.08</td>\n",
       "      <td>0.08</td>\n",
       "      <td>0.08</td>\n",
       "      <td>1.0</td>\n",
       "      <td>12.500000</td>\n",
       "      <td>0.0736</td>\n",
       "      <td>inf</td>\n",
       "    </tr>\n",
       "    <tr>\n",
       "      <th>584</th>\n",
       "      <td>(chw-as2-2central-dsc, chw-as1-2west-dsc)</td>\n",
       "      <td>10.1.5.100</td>\n",
       "      <td>0.08</td>\n",
       "      <td>0.08</td>\n",
       "      <td>0.08</td>\n",
       "      <td>1.0</td>\n",
       "      <td>12.500000</td>\n",
       "      <td>0.0736</td>\n",
       "      <td>inf</td>\n",
       "    </tr>\n",
       "  </tbody>\n",
       "</table>\n",
       "</div>"
      ],
      "text/plain": [
       "                                               antecedents  \\\n",
       "27                                (chw-wc1-mdf-main-sjpvh)   \n",
       "26                                          (10.139.251.5)   \n",
       "40                                          (10.205.251.6)   \n",
       "41                                   (chw-wc2-mdf-main-mh)   \n",
       "42                             (chw-as1-idf103-main-srdhs)   \n",
       "43                                         (10.250.238.50)   \n",
       "0                                 (chw-cr1-1a-itc-r-sjpvh)   \n",
       "571                                 (10.1.5.100, 10.1.5.6)   \n",
       "573                       (10.1.5.6, chw-as1-2central-dsc)   \n",
       "574                                 (chw-as2-2central-dsc)   \n",
       "575                                           (10.1.5.100)   \n",
       "576                                             (10.1.5.6)   \n",
       "577                                 (chw-as1-2central-dsc)   \n",
       "578           (chw-as2-2central-dsc, 10.1.5.100, 10.1.5.6)   \n",
       "579  (chw-as2-2central-dsc, 10.1.5.100, chw-as1-2west-dsc)   \n",
       "580    (chw-as2-2central-dsc, 10.1.5.6, chw-as1-2west-dsc)   \n",
       "581              (10.1.5.100, 10.1.5.6, chw-as1-2west-dsc)   \n",
       "582                     (chw-as2-2central-dsc, 10.1.5.100)   \n",
       "583                       (chw-as2-2central-dsc, 10.1.5.6)   \n",
       "584              (chw-as2-2central-dsc, chw-as1-2west-dsc)   \n",
       "\n",
       "                   consequents  antecedent support  consequent support  \\\n",
       "27                10.139.251.5                0.06                0.06   \n",
       "26      chw-wc1-mdf-main-sjpvh                0.06                0.06   \n",
       "40         chw-wc2-mdf-main-mh                0.06                0.06   \n",
       "41                10.205.251.6                0.06                0.06   \n",
       "42               10.250.238.50                0.06                0.06   \n",
       "43   chw-as1-idf103-main-srdhs                0.06                0.06   \n",
       "0                   10.1.103.4                0.08                0.08   \n",
       "571       chw-as2-2central-dsc                0.08                0.08   \n",
       "573       chw-as2-2central-dsc                0.08                0.08   \n",
       "574                 10.1.5.100                0.08                0.08   \n",
       "575       chw-as2-2central-dsc                0.08                0.08   \n",
       "576       chw-as2-2central-dsc                0.08                0.08   \n",
       "577       chw-as2-2central-dsc                0.08                0.08   \n",
       "578          chw-as1-2west-dsc                0.08                0.08   \n",
       "579                   10.1.5.6                0.08                0.08   \n",
       "580                 10.1.5.100                0.08                0.08   \n",
       "581       chw-as2-2central-dsc                0.08                0.08   \n",
       "582                   10.1.5.6                0.08                0.08   \n",
       "583                 10.1.5.100                0.08                0.08   \n",
       "584                 10.1.5.100                0.08                0.08   \n",
       "\n",
       "     support  confidence       lift  leverage  conviction  \n",
       "27      0.06         1.0  16.666667    0.0564         inf  \n",
       "26      0.06         1.0  16.666667    0.0564         inf  \n",
       "40      0.06         1.0  16.666667    0.0564         inf  \n",
       "41      0.06         1.0  16.666667    0.0564         inf  \n",
       "42      0.06         1.0  16.666667    0.0564         inf  \n",
       "43      0.06         1.0  16.666667    0.0564         inf  \n",
       "0       0.08         1.0  12.500000    0.0736         inf  \n",
       "571     0.08         1.0  12.500000    0.0736         inf  \n",
       "573     0.08         1.0  12.500000    0.0736         inf  \n",
       "574     0.08         1.0  12.500000    0.0736         inf  \n",
       "575     0.08         1.0  12.500000    0.0736         inf  \n",
       "576     0.08         1.0  12.500000    0.0736         inf  \n",
       "577     0.08         1.0  12.500000    0.0736         inf  \n",
       "578     0.08         1.0  12.500000    0.0736         inf  \n",
       "579     0.08         1.0  12.500000    0.0736         inf  \n",
       "580     0.08         1.0  12.500000    0.0736         inf  \n",
       "581     0.08         1.0  12.500000    0.0736         inf  \n",
       "582     0.08         1.0  12.500000    0.0736         inf  \n",
       "583     0.08         1.0  12.500000    0.0736         inf  \n",
       "584     0.08         1.0  12.500000    0.0736         inf  "
      ]
     },
     "execution_count": 103,
     "metadata": {},
     "output_type": "execute_result"
    }
   ],
   "source": [
    "# The most significant rules\n",
    "rules_imp = rules.sort_values('lift', ascending = 0)\n",
    "rules_imp.head(20)"
   ]
  },
  {
   "cell_type": "code",
   "execution_count": 105,
   "metadata": {},
   "outputs": [
    {
     "data": {
      "image/png": "[encoded data removed]",
      "text/plain": [
       "<Figure size 1008x1008 with 1 Axes>"
      ]
     },
     "metadata": {},
     "output_type": "display_data"
    }
   ],
   "source": [
    "# network analysis\n",
    "import networkx as nx\n",
    "fig, ax = plt.subplots(figsize = (14, 14))\n",
    "GA = nx.from_pandas_edgelist(rules_imp.head(20), source = 'antecedents', target = 'consequents')\n",
    "nx.draw(GA, with_labels = True)\n",
    "plt.show()"
   ]
  },
  {
   "cell_type": "code",
   "execution_count": null,
   "metadata": {},
   "outputs": [],
   "source": []
  }
 ],
 "metadata": {
  "kernelspec": {
   "display_name": "Python 3",
   "language": "python",
   "name": "python3"
  },
  "language_info": {
   "codemirror_mode": {
    "name": "ipython",
    "version": 3
   },
   "file_extension": ".py",
   "mimetype": "text/x-python",
   "name": "python",
   "nbconvert_exporter": "python",
   "pygments_lexer": "ipython3",
   "version": "3.7.1"
  }
 },
 "nbformat": 4,
 "nbformat_minor": 2
}
